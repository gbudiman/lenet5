{
 "cells": [
  {
   "cell_type": "code",
   "execution_count": 1,
   "metadata": {
    "collapsed": false
   },
   "outputs": [],
   "source": [
    "require 'nn'\n",
    "require 'optim'\n",
    "require 'mnist'\n",
    "require 'dataset-mnist'"
   ]
  },
  {
   "cell_type": "code",
   "execution_count": 2,
   "metadata": {
    "collapsed": true
   },
   "outputs": [],
   "source": [
    "torch.manualSeed(0)\n",
    "torch.setnumthreads(4)"
   ]
  },
  {
   "cell_type": "code",
   "execution_count": 3,
   "metadata": {
    "collapsed": false
   },
   "outputs": [],
   "source": [
    "classes = { 1, 2, 3, 4, 5, 6, 7, 8, 9, 10, 11, 12, 13, 14, 15, 16, 17, 18, 19, 20 }\n",
    "--classes = { 1, 2, 3, 4, 5, 6, 7, 8, 9, 10 }\n",
    "geometry = { 32, 32 }\n",
    "\n",
    "net = nn.Sequential()\n",
    "\n",
    "net:add(nn.SpatialConvolution(1, 6, 5, 5))\n",
    "net:add(nn.ReLU())\n",
    "net:add(nn.SpatialMaxPooling(2, 2, 2, 2))\n",
    "\n",
    "net:add(nn.SpatialConvolution(6, 16, 5, 5))\n",
    "net:add(nn.ReLU())\n",
    "net:add(nn.SpatialMaxPooling(2, 2, 2, 2))\n",
    "\n",
    "net:add(nn.View(16*5*5))\n",
    "net:add(nn.Linear(16*5*5, 120))\n",
    "net:add(nn.ReLU())\n",
    "net:add(nn.Linear(120, 84))\n",
    "net:add(nn.ReLU())\n",
    "net:add(nn.Linear(84, #classes))\n",
    "net:add(nn.LogSoftMax())"
   ]
  },
  {
   "cell_type": "code",
   "execution_count": 4,
   "metadata": {
    "collapsed": false
   },
   "outputs": [],
   "source": [
    "parameters, gradParameters = net:getParameters()"
   ]
  },
  {
   "cell_type": "code",
   "execution_count": 5,
   "metadata": {
    "collapsed": true
   },
   "outputs": [],
   "source": [
    "criterion = nn.ClassNLLCriterion()"
   ]
  },
  {
   "cell_type": "code",
   "execution_count": 6,
   "metadata": {
    "collapsed": false
   },
   "outputs": [],
   "source": [
    "n_training_patches = 60000--60000\n",
    "n_testing_patches = 10000--10000"
   ]
  },
  {
   "cell_type": "code",
   "execution_count": 12,
   "metadata": {
    "collapsed": false
   },
   "outputs": [
    {
     "data": {
      "text/plain": [
       "<mnist> done\t\n"
      ]
     },
     "execution_count": 12,
     "metadata": {},
     "output_type": "execute_result"
    },
    {
     "data": {
      "text/plain": [
       "<mnist> done\t\n"
      ]
     },
     "execution_count": 12,
     "metadata": {},
     "output_type": "execute_result"
    },
    {
     "data": {
      "text/plain": [
       "127.5\t123.80376034192\t\n"
      ]
     },
     "execution_count": 12,
     "metadata": {},
     "output_type": "execute_result"
    },
    {
     "data": {
      "text/plain": [
       " 120000\n",
       "     32\n",
       "     32\n",
       "[torch.LongStorage of size 3]\n",
       "\n"
      ]
     },
     "execution_count": 12,
     "metadata": {},
     "output_type": "execute_result"
    }
   ],
   "source": [
    "pad = torch.zeros(10)\n",
    "\n",
    "train_data = mnist.loadTrainSet(n_training_patches, geometry)\n",
    "train_combined = torch.Tensor(n_training_patches * 2, 32, 32)\n",
    "class_combined = torch.Tensor(n_training_patches * 2, 20)\n",
    "\n",
    "for i = 1, n_training_patches do\n",
    "    train_combined[i] = train_data[i][1]:clone()\n",
    "    \n",
    "    combined = torch.cat(train_data[i][2]:clone(), pad)\n",
    "    class_combined[i] = combined\n",
    "end\n",
    "\n",
    "train_data = mnist.loadTrainSet(n_training_patches, geometry)\n",
    "\n",
    "for i = 1, n_training_patches do\n",
    "    k = 255 - train_data[i][1]\n",
    "    \n",
    "    combined = torch.cat(pad, train_data[i][2]:clone())\n",
    "    train_combined[n_training_patches + i] = k\n",
    "    class_combined[n_training_patches + i] = combined\n",
    "end\n",
    "\n",
    "mean = train_combined:mean()\n",
    "stdev = train_combined:std()\n",
    "print(mean, stdev)\n",
    "\n",
    "train_combined:add(-mean)\n",
    "train_combined:div(stdev)\n",
    "print(#train_combined)"
   ]
  },
  {
   "cell_type": "code",
   "execution_count": 13,
   "metadata": {
    "collapsed": false
   },
   "outputs": [
    {
     "data": {
      "text/plain": [
       "<mnist> done\t\n"
      ]
     },
     "execution_count": 13,
     "metadata": {},
     "output_type": "execute_result"
    },
    {
     "data": {
      "text/plain": [
       "<mnist> done\t\n"
      ]
     },
     "execution_count": 13,
     "metadata": {},
     "output_type": "execute_result"
    },
    {
     "data": {
      "text/plain": [
       "127.5\t123.82414832818\t\n"
      ]
     },
     "execution_count": 13,
     "metadata": {},
     "output_type": "execute_result"
    },
    {
     "data": {
      "text/plain": [
       " 20000\n",
       "    32\n",
       "    32\n",
       "[torch.LongStorage of size 3]\n",
       "\n"
      ]
     },
     "execution_count": 13,
     "metadata": {},
     "output_type": "execute_result"
    }
   ],
   "source": [
    "test_data = mnist.loadTestSet(n_testing_patches, geometry)\n",
    "test_combined = torch.Tensor(n_testing_patches * 2, 32, 32)\n",
    "tclass_combined = torch.Tensor(n_testing_patches * 2, 20)\n",
    "\n",
    "for i = 1, n_testing_patches do\n",
    "    test_combined[i] = test_data[i][1]:clone()\n",
    "    \n",
    "    combined = torch.cat(test_data[i][2]:clone(), pad)\n",
    "    tclass_combined[i] = combined\n",
    "end\n",
    "\n",
    "test_data = mnist.loadTestSet(n_testing_patches, geometry)\n",
    "\n",
    "for i = 1, n_testing_patches do\n",
    "    k = 255 - test_data[i][1]\n",
    "    \n",
    "    combined = torch.cat(pad, test_data[i][2]:clone())\n",
    "    test_combined[n_testing_patches + i] = k\n",
    "    tclass_combined[n_testing_patches + i] = combined\n",
    "end\n",
    "\n",
    "mean = test_combined:mean()\n",
    "stdev = test_combined:std()\n",
    "print(mean, stdev)\n",
    "\n",
    "test_combined:add(-mean)\n",
    "test_combined:div(stdev)\n",
    "print(#test_combined)"
   ]
  },
  {
   "cell_type": "code",
   "execution_count": 14,
   "metadata": {
    "collapsed": false
   },
   "outputs": [],
   "source": [
    "confusion = optim.ConfusionMatrix(classes)\n",
    "epoch_limit = 5"
   ]
  },
  {
   "cell_type": "code",
   "execution_count": 15,
   "metadata": {
    "collapsed": false
   },
   "outputs": [],
   "source": [
    "actual_train = train_combined\n",
    "actual_test = test_combined"
   ]
  },
  {
   "cell_type": "code",
   "execution_count": 16,
   "metadata": {
    "collapsed": false
   },
   "outputs": [
    {
     "data": {
      "text/plain": [
       "Epoch: 1\t\n"
      ]
     },
     "execution_count": 16,
     "metadata": {},
     "output_type": "execute_result"
    },
    {
     "data": {
      "text/plain": [
       "ConfusionMatrix:\n",
       "[[    1098     449      93      46      14      30     200    3904      85       4       0       0       0       0       0       0       0       0       0       0]   18.538% \t[class: 1]\n",
       " [    1034    1863      11      47       9       0       9    3717      48       4       0       0       0       0       0       0       0       0       0       0]   27.633% \t[class: 2]\n",
       " [     925     918     266     140      35       9     302    3077     264      22       0       0       0       0       0       0       0       0       0       0]   4.465% \t[class: 3]\n",
       " [     856     759      83     421      12      14      35    3686     211      54       0       0       0       0       0       0       0       0       0       0]   6.867% \t[class: 4]\n",
       " [     891     854       1      63     234       0     172    3414     115      98       0       0       0       0       0       0       0       0       0       0]   4.005% \t[class: 5]\n",
       " [     752     774      49     141      18      35      46    3460     138       8       0       0       0       0       0       0       0       0       0       0]   0.646% \t[class: 6]\n",
       " [    1065     820      30      25      61       4     660    3155      96       2       0       0       0       0       0       0       0       0       0       0]   11.152% \t[class: 7]\n",
       " [     779     760      15     138      10       0       8    4480      45      30       0       0       0       0       0       0       0       0       0       0]   71.508% \t[class: 8]\n",
       " [     864     755      81     186      42      11     118    3141     634      19       0       0       0       0       0       0       0       0       0       0]   10.836% \t[class: 9]\n",
       " [     857     850       3     107     107       0      46    3745     122     112       0       0       0       0       0       0       0       0       0       0]   1.883% \t[class: 10]\n",
       " [       0       1       0       0       0       0      47    1940       0       0     616     673      60     108      15     296     118     396    1642      11]   10.400% \t[class: 11]\n",
       " [       0       0       0       0       0       0      90    1604       0       0       0    2006       4     330       8      42       2      89    2567       0]   29.754% \t[class: 12]\n",
       " [       0       0       0       0       0       0       8    1706       0       0      67     826     445     251      40     225     225     137    2021       7]   7.469% \t[class: 13]\n",
       " [       0       0       0       0       0       0       3    1879       0       0      51     946      23     619      42     193      45     327    1997       6]   10.096% \t[class: 14]\n",
       " [       0       0       0       0       0       0       8    1732       0       0      11    1047      26      66     210     261     189     338    1890      64]   3.595% \t[class: 15]\n",
       " [       0       0       0       0       0       0       8    1447       0       0      58    1194      37     323      32     131      58     218    1913       2]   2.417% \t[class: 16]\n",
       " [       0       0       0       0       0       0       7    1649       0       0       7     991     184      52      52     173     645      81    2074       3]   10.899% \t[class: 17]\n",
       " [       0       0       0       0       0       0      12    1693       0       0      34    1135      11     150      30     247      19     757    2166      11]   12.083% \t[class: 18]\n",
       " [       0       0       0       0       0       0      44    1568       0       0      45    1060     106     392      53     166      85     140    2171      21]   37.105% \t[class: 19]\n",
       " [       0       0       0       0       0       0       7    1773       0       0      25    1179       1     136      68     186      60     404    2059      51]]  0.857% \t[class: 20]\n",
       " + average row correct: 14.110330427065% \n",
       " + average rowUcol correct (VOC measure): 6.7773214844055% \n",
       " + global correct: 14.545%\n",
       "{\n",
       "  _mat_flat : LongTensor - size: 400\n",
       "  valids : FloatTensor - size: 20\n",
       "  mat : LongTensor - size: 20x20\n",
       "  averageUnionValid : 0.067773214844055\n",
       "  _targ_idx : LongTensor - empty\n",
       "  averageValid : 0.14110330427065\n",
       "  classes : \n",
       "  "
      ]
     },
     "execution_count": 16,
     "metadata": {},
     "output_type": "execute_result"
    },
    {
     "data": {
      "text/plain": [
       "  {\n",
       "      1 : 1\n",
       "      2 : 2\n",
       "      3 : 3\n",
       "      4 : 4\n",
       "      5 : 5\n",
       "      6 : 6\n",
       "      7 : 7\n",
       "      8 : 8\n",
       "      9 : 9\n",
       "      10 : 10\n",
       "      11 : 11\n",
       "      12 : 12\n",
       "      13 : 13\n",
       "      14 : 14\n",
       "      15 : 15\n",
       "      16 : 16\n",
       "      17 : 17\n",
       "      18 : 18\n",
       "      19 : 19\n",
       "      20 : 20\n",
       "    }\n",
       "  _prediction : FloatTensor - size: 20\n",
       "  _pred_idx : LongTensor - size: 1\n",
       "  nclasses : 20\n",
       "  _max : FloatTensor - size: 1\n",
       "  _target : FloatTensor - empty\n",
       "  unionvalids : FloatTensor - size: 20\n",
       "  totalValid : 0.14545\n",
       "}\n",
       "Epoch: 2\t\n"
      ]
     },
     "execution_count": 16,
     "metadata": {},
     "output_type": "execute_result"
    },
    {
     "data": {
      "text/plain": [
       "ConfusionMatrix:\n",
       "[[    4976     118      84      43      14     197      99     226     155      11       0       0       0       0       0       0       0       0       0       0]   84.011% \t[class: 1]\n",
       " [       1    6132      88      56       9      53      15      38     327      23       0       0       0       0       0       0       0       0       0       0]   90.952% \t[class: 2]\n",
       " [     103     476    4179     166     156      57     631      68      96      26       0       0       0       0       0       0       0       0       0       0]   70.141% \t[class: 3]\n",
       " [      73     581     287    4050      29     262      29     329     298     192       1       0       0       0       0       0       0       0       0       0]   66.058% \t[class: 4]\n",
       " [      18     272      10       6    4315       2     382      76      52     708       1       0       0       0       0       0       0       0       0       0]   73.862% \t[class: 5]\n",
       " [     172     709     170     525     108    2540     197     500     368     132       0       0       0       0       0       0       0       0       0       0]   46.855% \t[class: 6]\n",
       " [      62     389      60       1     193      79    5051      17      64       0       1       0       0       1       0       0       0       0       0       0]   85.350% \t[class: 7]\n",
       " [      25     404      58     278      77      14      12    4937      64     396       0       0       0       0       0       0       0       0       0       0]   78.803% \t[class: 8]\n",
       " [      79     874     206     374     125     223     188     113    3457     212       0       0       0       0       0       0       0       0       0       0]   59.084% \t[class: 9]\n",
       " [     107     383      11     117     769      18      49     595     155    3744       0       0       0       1       0       0       0       0       0       0]   62.935% \t[class: 10]\n",
       " [       0       0       0       0       0       1       0       0       0       0    5004     235     118      67      13     105      51     210     102      17]   84.484% \t[class: 11]\n",
       " [       0       0       0       0       0       0       0       0       0       0       2    6037      88     176      13      28       7      50     328      13]   89.543% \t[class: 12]\n",
       " [       0       0       0       0       0       0       0       0       0       0     178     421    4169     303     165      43     511      56      71      41]   69.973% \t[class: 13]\n",
       " [       0       0       0       0       0       0       0       0       0       0     215     693     215    3961      51     250      15     415     219      97]   64.606% \t[class: 14]\n",
       " [       0       0       0       1       0       1       0       0       0       0      21     377      15       4    4048      12     538     123      41     661]   69.291% \t[class: 15]\n",
       " [       0       0       0       0       0       0       0       0       0       0     247     970     270     633     232    2181     149     287     269     183]   40.232% \t[class: 16]\n",
       " [       0       0       0       0       0       2       0       0       0       0      48     426     289       6     198      79    4763      16      79      12]   80.483% \t[class: 17]\n",
       " [       0       0       0       0       0       0       0       0       0       0      73     555      43     159     118      34      18    4776      95     394]   76.233% \t[class: 18]\n",
       " [       0       0       1       0       0       3       0       0       0       0      90    1132     324     490     186     251     133      87    2905     249]   49.650% \t[class: 19]\n",
       " [       0       0       0       1       0       0       0       0       0       0      95     582      14      60     609      40      54     816     125    3553]]  59.724% \t[class: 20]\n",
       " + average row correct: 70.113557130098% \n",
       " + average rowUcol correct (VOC measure): 54.656242877245% \n",
       " + global correct: 70.648333333333%\n",
       "{\n",
       "  _mat_flat : LongTensor - size: 400\n",
       "  valids : FloatTensor - size: 20\n",
       "  mat : LongTensor - size: 20x20\n",
       "  averageUnionValid : 0.54656242877245\n",
       "  _targ_idx : LongTensor - empty\n",
       "  averageValid : 0.7011355713009"
      ]
     },
     "execution_count": 16,
     "metadata": {},
     "output_type": "execute_result"
    },
    {
     "data": {
      "text/plain": [
       "8\n",
       "  classes : \n",
       "    {\n",
       "      1 : 1\n",
       "      2 : 2\n",
       "      3 : 3\n",
       "      4 : 4\n",
       "      5 : 5\n",
       "      6 : 6\n",
       "      7 : 7\n",
       "      8 : 8\n",
       "      9 : 9\n",
       "      10 : 10\n",
       "      11 : 11\n",
       "      12 : 12\n",
       "      13 : 13\n",
       "      14 : 14\n",
       "      15 : 15\n",
       "      16 : 16\n",
       "      17 : 17\n",
       "      18 : 18\n",
       "      19 : 19\n",
       "      20 : 20\n",
       "    }\n",
       "  _prediction : FloatTensor - size: 20\n",
       "  _pred_idx : LongTensor - size: 1\n",
       "  nclasses : 20\n",
       "  _max : FloatTensor - size: 1\n",
       "  _target : FloatTensor - empty\n",
       "  unionvalids : FloatTensor - size: 20\n",
       "  totalValid : 0.70648333333333\n",
       "}\n",
       "Epoch: 3\t\n"
      ]
     },
     "execution_count": 16,
     "metadata": {},
     "output_type": "execute_result"
    },
    {
     "data": {
      "text/plain": [
       "ConfusionMatrix:\n",
       "[[    5593       8      31      14      11      64      49      18     118       8       0       0       0       8       0       1       0       0       0       0]   94.428% \t[class: 1]\n",
       " [       1    6439      58      40       5      40       6      15     123      15       0       0       0       0       0       0       0       0       0       0]   95.506% \t[class: 2]\n",
       " [      62      74    5132      98     132      30     157      73     156      44       0       0       0       0       0       0       0       0       0       0]   86.136% \t[class: 3]\n",
       " [      34     101     165    5199       6     243      10     109     151     113       0       0       0       0       0       0       0       0       0       0]   84.799% \t[class: 4]\n",
       " [       8      26      48       3    5134       6     131       8      30     446       0       0       0       2       0       0       0       0       0       0]   87.881% \t[class: 5]\n",
       " [      76     114      59     221      48    4543     115      33     147      65       0       0       0       0       0       0       0       0       0       0]   83.804% \t[class: 6]\n",
       " [      65      60      57       0     100     109    5500       5      17       2       0       0       0       3       0       0       0       0       0       0]   92.937% \t[class: 7]\n",
       " [      11      75      93      45      58      26       1    5599      21     336       0       0       0       0       0       0       0       0       0       0]   89.370% \t[class: 8]\n",
       " [      54     294      85     277      27     175      89      37    4700     112       0       0       0       1       0       0       0       0       0       0]   80.328% \t[class: 9]\n",
       " [      61      57      31      94     383      39       6     304      74    4897       0       0       0       3       0       0       0       0       0       0]   82.316% \t[class: 10]\n",
       " [       0       0       0       2       0       2       0       0       0       0    5599      19      41       7       6      78      32      27      97      13]   94.530% \t[class: 11]\n",
       " [       0       0       0       0       0       0       0       0       0       0       0    6458      50      52       3      45       7      18      98      11]   95.788% \t[class: 12]\n",
       " [       0       0       0       0       0       3       0       0       0       0      63      76    5106     147     130      53     153      74     120      33]   85.700% \t[class: 13]\n",
       " [       0       0       0       0       0       0       0       0       0       0      50      70     199    5144      12     322       7     134     127      66]   83.901% \t[class: 14]\n",
       " [       0       0       0       5       0       3       0       0       0       0      11      30      48       2    5088       7     165       7      34     442]   87.093% \t[class: 15]\n",
       " [       0       0       0       0       0       0       0       0       0       0     102      67      81     289      71    4464     127      41     120      59]   82.346% \t[class: 16]\n",
       " [       0       0       0       0       0       4       0       0       0       0      47      66      51       0     115     109    5474      10      39       3]   92.497% \t[class: 17]\n",
       " [       0       0       0       0       0       0       0       0       0       0      10      87      86      34      89      44       1    5602      31     281]   89.417% \t[class: 18]\n",
       " [       0       0       0       0       0       2       0       0       0       0      25     352      88     187      45     188      83      25    4705     151]   80.414% \t[class: 19]\n",
       " [       0       0       0       0       0       2       0       0       0       0      69      67      24      78     359      43      10     319      96    4882]]  82.064% \t[class: 20]\n",
       " + average row correct: 87.562794983387% \n",
       " + average rowUcol correct (VOC measure): 78.11424434185% \n",
       " + global correct: 87.715%\n",
       "{\n",
       "  _mat_flat : LongTensor - size: 400\n",
       "  valids : FloatTensor - size: 20\n",
       "  mat : LongTensor - size: 20x20\n",
       "  averageUnionValid : 0.7811424434185\n",
       "  _targ_idx : LongTensor - empty\n",
       "  averageValid : 0.87562794983387\n",
       "  classes"
      ]
     },
     "execution_count": 16,
     "metadata": {},
     "output_type": "execute_result"
    },
    {
     "data": {
      "text/plain": [
       " : \n",
       "    {\n",
       "      1 : 1\n",
       "      2 : 2\n",
       "      3 : 3\n",
       "      4 : 4\n",
       "      5 : 5\n",
       "      6 : 6\n",
       "      7 : 7\n",
       "      8 : 8\n",
       "      9 : 9\n",
       "      10 : 10\n",
       "      11 : 11\n",
       "      12 : 12\n",
       "      13 : 13\n",
       "      14 : 14\n",
       "      15 : 15\n",
       "      16 : 16\n",
       "      17 : 17\n",
       "      18 : 18\n",
       "      19 : 19\n",
       "      20 : 20\n",
       "    }\n",
       "  _prediction : FloatTensor - size: 20\n",
       "  _pred_idx : LongTensor - size: 1\n",
       "  nclasses : 20\n",
       "  _max : FloatTensor - size: 1\n",
       "  _target : FloatTensor - empty\n",
       "  unionvalids : FloatTensor - size: 20\n",
       "  totalValid : 0.87715\n",
       "}\n",
       "Epoch: 4\t\n"
      ]
     },
     "execution_count": 16,
     "metadata": {},
     "output_type": "execute_result"
    },
    {
     "data": {
      "text/plain": [
       "ConfusionMatrix:\n",
       "[[    5666       7      28      12       8      31      54      15      90      11       0       0       0       1       0       0       0       0       0       0]   95.661% \t[class: 1]\n",
       " [       2    6526      53      24       9      20       8      14      70      16       0       0       0       0       0       0       0       0       0       0]   96.796% \t[class: 2]\n",
       " [      48      48    5286      90     104      14     109      79     145      35       0       0       0       0       0       0       0       0       0       0]   88.721% \t[class: 3]\n",
       " [      19      44     129    5461       5     179      11      84     112      87       0       0       0       0       0       0       0       0       0       0]   89.072% \t[class: 4]\n",
       " [       6      25      45       1    5296       2      86      11      24     344       0       0       0       2       0       0       0       0       0       0]   90.654% \t[class: 5]\n",
       " [      52      40      39     148      43    4857      83      15      94      50       0       0       0       0       0       0       0       0       0       0]   89.596% \t[class: 6]\n",
       " [      64      35      34       1      85      86    5590       4      16       3       0       0       0       0       0       0       0       0       0       0]   94.458% \t[class: 7]\n",
       " [      10      34     100      31      58      19       1    5705      21     286       0       0       0       0       0       0       0       0       0       0]   91.061% \t[class: 8]\n",
       " [      45     176      66     195      18     110      64      26    5059      91       0       0       0       1       0       0       0       0       0       0]   86.464% \t[class: 9]\n",
       " [      43      42      25      89     292      41       6     230      64    5114       0       0       0       3       0       0       0       0       0       0]   85.964% \t[class: 10]\n",
       " [       0       0       0       1       0       0       0       0       0       0    5662       8      37      11       7      54      33      13      72      25]   95.593% \t[class: 11]\n",
       " [       0       0       0       0       0       0       0       0       0       0       1    6550      49      28       4      34       7      17      42      10]   97.152% \t[class: 12]\n",
       " [       0       0       0       0       0       5       0       0       0       0      44      63    5307     106     110      46      79      76     106      16]   89.074% \t[class: 13]\n",
       " [       0       0       0       0       0       0       0       0       0       0      34      34     167    5369       2     263       8     103      95      56]   87.571% \t[class: 14]\n",
       " [       0       0       0       3       0       1       0       0       0       0       7      23      45       1    5274       6     101       9      31     341]   90.277% \t[class: 15]\n",
       " [       0       0       0       0       0       0       0       0       0       0      81      26      60     214      38    4736     107      24      79      56]   87.364% \t[class: 16]\n",
       " [       0       0       0       0       0       0       0       0       0       0      48      38      32       1      81      71    5599      10      34       4]   94.610% \t[class: 17]\n",
       " [       0       0       0       0       0       0       0       0       0       0       7      44      87      21      71      32       0    5790      21     192]   92.418% \t[class: 18]\n",
       " [       0       0       0       0       0       1       0       0       0       0      26     182      75     137      27     130      58      18    5073     124]   86.703% \t[class: 19]\n",
       " [       0       0       0       0       0       2       0       0       0       0      52      40      25      68     290      35       5     211      82    5139]]  86.384% \t[class: 20]\n",
       " + average row correct: 90.779699683189% \n",
       " + average rowUcol correct (VOC measure): 83.271072804928% \n",
       " + global correct: 90.8825%\n",
       "{\n",
       "  _mat_flat : LongTensor - size: 400\n",
       "  valids : FloatTensor - size: 20\n",
       "  mat : LongTensor - size: 20x20\n",
       "  averageUnionValid : 0.83271072804928\n",
       "  _targ_idx : LongTensor - empty\n",
       "  averageValid : 0.90779699683189\n",
       "  clas"
      ]
     },
     "execution_count": 16,
     "metadata": {},
     "output_type": "execute_result"
    },
    {
     "data": {
      "text/plain": [
       "ses : \n",
       "    {\n",
       "      1 : 1\n",
       "      2 : 2\n",
       "      3 : 3\n",
       "      4 : 4\n",
       "      5 : 5\n",
       "      6 : 6\n",
       "      7 : 7\n",
       "      8 : 8\n",
       "      9 : 9\n",
       "      10 : 10\n",
       "      11 : 11\n",
       "      12 : 12\n",
       "      13 : 13\n",
       "      14 : 14\n",
       "      15 : 15\n",
       "      16 : 16\n",
       "      17 : 17\n",
       "      18 : 18\n",
       "      19 : 19\n",
       "      20 : 20\n",
       "    }\n",
       "  _prediction : FloatTensor - size: 20\n",
       "  _pred_idx : LongTensor - size: 1\n",
       "  nclasses : 20\n",
       "  _max : FloatTensor - size: 1\n",
       "  _target : FloatTensor - empty\n",
       "  unionvalids : FloatTensor - size: 20\n",
       "  totalValid : 0.908825\n",
       "}\n",
       "Epoch: 5\t\n"
      ]
     },
     "execution_count": 16,
     "metadata": {},
     "output_type": "execute_result"
    },
    {
     "data": {
      "text/plain": [
       "ConfusionMatrix:\n",
       "[[    5703       4      23       7       7      23      53      15      74      13       0       0       0       1       0       0       0       0       0       0]   96.286% \t[class: 1]\n",
       " [       3    6579      51      18      11       8       5      10      38      19       0       0       0       0       0       0       0       0       0       0]   97.582% \t[class: 2]\n",
       " [      38      40    5417      79      88       9      69      83     115      20       0       0       0       0       0       0       0       0       0       0]   90.920% \t[class: 3]\n",
       " [      16      29     110    5602       5     140       7      71      81      70       0       0       0       0       0       0       0       0       0       0]   91.372% \t[class: 4]\n",
       " [       6      17      45       0    5402       2      69      11      17     272       0       0       0       1       0       0       0       0       0       0]   92.468% \t[class: 5]\n",
       " [      34      29      26     109      29    5018      64       8      64      40       0       0       0       0       0       0       0       0       0       0]   92.566% \t[class: 6]\n",
       " [      53      26      20       1      72      60    5655       3      25       3       0       0       0       0       0       0       0       0       0       0]   95.556% \t[class: 7]\n",
       " [      11      22      92      23      54      13       3    5807      20     220       0       0       0       0       0       0       0       0       0       0]   92.690% \t[class: 8]\n",
       " [      33     125      52     135      12      78      45      23    5264      84       0       0       0       0       0       0       0       0       0       0]   89.968% \t[class: 9]\n",
       " [      35      36      16      87     227      40       5     165      47    5291       0       0       0       0       0       0       0       0       0       0]   88.939% \t[class: 10]\n",
       " [       0       0       0       2       0       0       0       0       0       0    5700       4      29      10       8      42      38       7      57      26]   96.235% \t[class: 11]\n",
       " [       0       0       0       0       0       0       0       0       0       0       1    6576      50      27       5      18       6      14      30      15]   97.538% \t[class: 12]\n",
       " [       0       0       0       0       0       3       0       0       0       0      32      53    5468      80      68      27      47      72      90      18]   91.776% \t[class: 13]\n",
       " [       0       0       0       0       0       0       0       0       0       0      24      29     139    5527       0     194       5      77      87      49]   90.148% \t[class: 14]\n",
       " [       0       0       0       2       0       0       0       0       0       0       6      20      44       1    5386       4      65      13      21     280]   92.194% \t[class: 15]\n",
       " [       0       0       0       0       0       0       0       1       0       0      55      13      37     143      22    4951      81      18      51      49]   91.330% \t[class: 16]\n",
       " [       0       0       0       0       0       1       0       0       0       0      44      27      15       0      63      60    5667      10      30       1]   95.759% \t[class: 17]\n",
       " [       0       0       0       0       0       0       0       0       0       0       7      23      91      26      48      21       0    5878      17     154]   93.823% \t[class: 18]\n",
       " [       0       0       0       0       0       1       0       0       0       0      28     128      56     106      19      89      44      16    5251     113]   89.745% \t[class: 19]\n",
       " [       0       0       0       0       0       1       0       0       0       0      40      30      18      61     236      39       5     174      76    5269]]  88.570% \t[class: 20]\n",
       " + average row correct: 92.773197293282% \n",
       " + average rowUcol correct (VOC measure): 86.625884473324% \n",
       " + global correct: 92.8425%\n",
       "{\n",
       "  _mat_flat : LongTensor - size: 400\n",
       "  valids : FloatTensor - size: 20\n",
       "  mat : LongTensor - size: 20x20\n",
       "  averageUnionValid : 0.86625884473324\n",
       "  _targ_idx : LongTensor - empty\n",
       "  averageValid : 0.92773197293282\n",
       "  clas"
      ]
     },
     "execution_count": 16,
     "metadata": {},
     "output_type": "execute_result"
    },
    {
     "data": {
      "text/plain": [
       "ses : \n",
       "    {\n",
       "      1 : 1\n",
       "      2 : 2\n",
       "      3 : 3\n",
       "      4 : 4\n",
       "      5 : 5\n",
       "      6 : 6\n",
       "      7 : 7\n",
       "      8 : 8\n",
       "      9 : 9\n",
       "      10 : 10\n",
       "      11 : 11\n",
       "      12 : 12\n",
       "      13 : 13\n",
       "      14 : 14\n",
       "      15 : 15\n",
       "      16 : 16\n",
       "      17 : 17\n",
       "      18 : 18\n",
       "      19 : 19\n",
       "      20 : 20\n",
       "    }\n",
       "  _prediction : FloatTensor - size: 20\n",
       "  _pred_idx : LongTensor - size: 1\n",
       "  nclasses : 20\n",
       "  _max : FloatTensor - size: 1\n",
       "  _target : FloatTensor - empty\n",
       "  unionvalids : FloatTensor - size: 20\n",
       "  totalValid : 0.928425\n",
       "}\n"
      ]
     },
     "execution_count": 16,
     "metadata": {},
     "output_type": "execute_result"
    }
   ],
   "source": [
    "batch_size = 10\n",
    "for epoch = 1, epoch_limit do\n",
    "    print(\"Epoch: \" .. epoch)\n",
    "    for t = 1, n_training_patches, batch_size do\n",
    "        local inputs = torch.Tensor(batch_size * 2, 1, geometry[1], geometry[2])\n",
    "        local targets = torch.Tensor(batch_size * 2)\n",
    "        local k = 1\n",
    "\n",
    "        for i = t, math.min(t + batch_size - 1, n_training_patches) do\n",
    "            local input_normal = actual_train[i]:clone()\n",
    "            local input_invert = actual_train[i + n_training_patches]:clone()\n",
    "            \n",
    "            local _, target_normal = class_combined[i]:clone():max(1)\n",
    "            local _, target_invert = class_combined[i + n_training_patches]:clone():max(1)\n",
    "\n",
    "            \n",
    "            target_normal = target_normal:squeeze()\n",
    "            target_invert = target_invert:squeeze()\n",
    "            \n",
    "            inputs[k] = input_normal\n",
    "            inputs[k + 1] = input_invert\n",
    "            \n",
    "            targets[k] = target_normal\n",
    "            targets[k + 1] = target_invert\n",
    "            k = k + 2\n",
    "        end\n",
    "\n",
    "        local feval = function(x)\n",
    "            collectgarbage()\n",
    "\n",
    "            if x ~= parameters then\n",
    "                parameters:copy(x)\n",
    "            end\n",
    "            gradParameters:zero()\n",
    "\n",
    "            local outputs = net:forward(inputs)\n",
    "            local f = criterion:forward(outputs, targets)\n",
    "            local df_do = criterion:backward(outputs, targets)\n",
    "            net:backward(inputs, df_do)\n",
    "\n",
    "            for i = 1, batch_size * 2 do\n",
    "                confusion:add(outputs[i], targets[i])\n",
    "            end\n",
    "\n",
    "            return f, gradParameters\n",
    "        end\n",
    "\n",
    "        sgd_state = sgd_state or {\n",
    "            learning_rate = 0.06,\n",
    "            momentum = 0,\n",
    "            learning_rate_decay = 5e-7\n",
    "        }\n",
    "        optim.sgd(feval, parameters, sgd_state)\n",
    "    end\n",
    "    \n",
    "    print(confusion)\n",
    "    confusion:zero()\n",
    "end\n"
   ]
  },
  {
   "cell_type": "code",
   "execution_count": 19,
   "metadata": {
    "collapsed": false
   },
   "outputs": [
    {
     "data": {
      "text/plain": [
       "ConfusionMatrix:\n",
       "[[     967       1       1       0       0       1       2       1       7       0       0       0       0       0       0       0       0       0       0       0]   98.673% \t[class: 1]\n",
       " [       0    1126       3       2       0       0       1       0       2       1       0       0       0       0       0       0       0       0       0       0]   99.207% \t[class: 2]\n",
       " [      13       8     949      12      14       1       3       7      21       4       0       0       0       0       0       0       0       0       0       0]   91.957% \t[class: 3]\n",
       " [       3       7       8     962       1       3       0       7       6      13       0       0       0       0       0       0       0       0       0       0]   95.248% \t[class: 4]\n",
       " [       3       3       8       0     908       0       4       0       1      55       0       0       0       0       0       0       0       0       0       0]   92.464% \t[class: 5]\n",
       " [       8       5       1      35       3     812       3       2      13      10       0       0       0       0       0       0       0       0       0       0]   91.031% \t[class: 6]\n",
       " [      24      11       4       0      26      18     871       0       4       0       0       0       0       0       0       0       0       0       0       0]   90.919% \t[class: 7]\n",
       " [       1      13      30       6       6       3       0     879       0      90       0       0       0       0       0       0       0       0       0       0]   85.506% \t[class: 8]\n",
       " [      12      18       2      28       5      10       2      10     867      19       0       0       0       1       0       0       0       0       0       0]   89.014% \t[class: 9]\n",
       " [       7       9       0      13      23       4       0       3       3     946       0       0       0       1       0       0       0       0       0       0]   93.756% \t[class: 10]\n",
       " [       0       0       0       0       0       0       0       0       0       0     960       1       2       0       0       2       6       1       7       1]   97.959% \t[class: 11]\n",
       " [       0       0       0       0       0       0       0       0       0       0       0    1127       4       1       0       0       2       0       1       0]   99.295% \t[class: 12]\n",
       " [       0       0       0       0       0       0       0       0       0       0       8      25     951      10      11       1       2       6      12       6]   92.151% \t[class: 13]\n",
       " [       0       0       0       0       0       0       0       0       0       0       0       9      20     932       0      14       0      10       9      16]   92.277% \t[class: 14]\n",
       " [       0       0       0       0       0       0       0       0       0       0       1       4       3       0     898       0       7       0       3      66]   91.446% \t[class: 15]\n",
       " [       0       0       0       0       0       0       0       0       0       0       9       5       4      37       5     795       7       1      13      16]   89.126% \t[class: 16]\n",
       " [       0       0       0       0       0       0       0       0       0       0      14      12       2       0      19      10     894       1       6       0]   93.319% \t[class: 17]\n",
       " [       0       0       0       0       0       0       0       0       0       0       2      20      36       3       5       1       0     868       7      86]   84.436% \t[class: 18]\n",
       " [       0       0       0       0       0       0       0       0       0       0       7      17       3      14       8       4       5       5     883      28]   90.657% \t[class: 19]\n",
       " [       0       0       0       0       0       0       0       0       0       0       5       9       2       5      23       4       0       1       4     956]]  94.747% \t[class: 20]\n",
       " + average row correct: 92.659502029419% \n",
       " + average rowUcol correct (VOC measure): 86.555712223053% \n",
       " + global correct: 92.755%\n",
       "{\n",
       "  _mat_flat : LongTensor - size: 400\n",
       "  valids : FloatTensor - size: 20\n",
       "  mat : LongTensor - size: 20x20\n",
       "  averageUnionValid : 0.86555712223053\n",
       "  _targ_idx : LongTensor - empty\n",
       "  averageValid : 0.92659502029419\n",
       "  class"
      ]
     },
     "execution_count": 19,
     "metadata": {},
     "output_type": "execute_result"
    },
    {
     "data": {
      "text/plain": [
       "es : \n",
       "    {\n",
       "      1 : 1\n",
       "      2 : 2\n",
       "      3 : 3\n",
       "      4 : 4\n",
       "      5 : 5\n",
       "      6 : 6\n",
       "      7 : 7\n",
       "      8 : 8\n",
       "      9 : 9\n",
       "      10 : 10\n",
       "      11 : 11\n",
       "      12 : 12\n",
       "      13 : 13\n",
       "      14 : 14\n",
       "      15 : 15\n",
       "      16 : 16\n",
       "      17 : 17\n",
       "      18 : 18\n",
       "      19 : 19\n",
       "      20 : 20\n",
       "    }\n",
       "  _prediction : FloatTensor - size: 20\n",
       "  _pred_idx : LongTensor - size: 1\n",
       "  nclasses : 20\n",
       "  _max : FloatTensor - size: 1\n",
       "  _target : FloatTensor - empty\n",
       "  unionvalids : FloatTensor - size: 20\n",
       "  totalValid : 0.92755\n",
       "}\n"
      ]
     },
     "execution_count": 19,
     "metadata": {},
     "output_type": "execute_result"
    }
   ],
   "source": [
    "confusion:zero()\n",
    "\n",
    "for t = 1, n_testing_patches, 10 do\n",
    "    local inputs = torch.Tensor(batch_size * 2, 1, geometry[1], geometry[2])\n",
    "    local targets = torch.Tensor(batch_size * 2)\n",
    "    local k = 1\n",
    "    \n",
    "    for i = t, math.min(t + batch_size - 1, n_testing_patches) do\n",
    "        --local sample = actual_test[i]\n",
    "        local input_normal = actual_test[i]:clone()\n",
    "        local input_invert = actual_test[i + n_testing_patches]:clone()\n",
    "        \n",
    "        \n",
    "        local _, target_normal = tclass_combined[i]:clone():max(1)\n",
    "        local _, target_invert = tclass_combined[i + n_testing_patches]:clone():max(1)\n",
    "        \n",
    "        target_normal = target_normal:squeeze()\n",
    "        target_invert = target_invert:squeeze()\n",
    "        \n",
    "        inputs[k] = input_normal\n",
    "        inputs[k + 1] = input_invert\n",
    "        \n",
    "        targets[k] = target_normal\n",
    "        targets[k + 1] = target_invert\n",
    "        k = k + 2\n",
    "    end\n",
    "    \n",
    "    local preds = net:forward(inputs)\n",
    "    \n",
    "    for i = 1, batch_size * 2 do\n",
    "        confusion:add(preds[i], targets[i])\n",
    "    end\n",
    "end\n",
    "\n",
    "print(confusion)"
   ]
  },
  {
   "cell_type": "code",
   "execution_count": null,
   "metadata": {
    "collapsed": true
   },
   "outputs": [],
   "source": []
  }
 ],
 "metadata": {
  "anaconda-cloud": {},
  "kernelspec": {
   "display_name": "iTorch",
   "language": "lua",
   "name": "itorch"
  },
  "language_info": {
   "name": "lua",
   "version": "5.1"
  }
 },
 "nbformat": 4,
 "nbformat_minor": 1
}
