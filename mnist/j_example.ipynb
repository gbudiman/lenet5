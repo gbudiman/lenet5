{
 "cells": [
  {
   "cell_type": "code",
   "execution_count": 1,
   "metadata": {
    "collapsed": false
   },
   "outputs": [
    {
     "data": {
      "text/plain": [
       "Creating the network and the criterion...\t\n"
      ]
     },
     "execution_count": 1,
     "metadata": {},
     "output_type": "execute_result"
    },
    {
     "data": {
      "text/plain": [
       "Training...\t\n",
       " 10\n",
       "  1\n",
       "  4\n",
       "  4\n",
       "[torch.LongStorage of size 4]\n",
       "\n"
      ]
     },
     "execution_count": 1,
     "metadata": {},
     "output_type": "execute_result"
    },
    {
     "data": {
      "text/plain": [
       "progress:    1/ 100\r",
       " 10\n",
       "  1\n",
       "  4\n",
       "  4\n",
       "[torch.LongStorage of size 4]\n",
       "\n",
       "progress:   11/ 100\r",
       " 10\n",
       "  1\n",
       "  4\n",
       "  4\n",
       "[torch.LongStorage of size 4]\n",
       "\n"
      ]
     },
     "execution_count": 1,
     "metadata": {},
     "output_type": "execute_result"
    },
    {
     "data": {
      "text/plain": [
       "progress:   21/ 100\r",
       " 10\n",
       "  1\n",
       "  4\n",
       "  4\n",
       "[torch.LongStorage of size 4]\n",
       "\n",
       "progress:   31/ 100\r",
       " 10\n",
       "  1\n",
       "  4\n",
       "  4\n",
       "[torch.LongStorage of size 4]\n",
       "\n",
       "progress:   41/ 100\r",
       " 10\n",
       "  1\n",
       "  4\n",
       "  4\n",
       "[torch.LongStorage of size 4]\n",
       "\n"
      ]
     },
     "execution_count": 1,
     "metadata": {},
     "output_type": "execute_result"
    },
    {
     "data": {
      "text/plain": [
       "progress:   51/ 100\r",
       " 10\n",
       "  1\n",
       "  4\n",
       "  4\n",
       "[torch.LongStorage of size 4]\n",
       "\n",
       "progress:   61/ 100\r",
       " 10\n",
       "  1\n",
       "  4\n",
       "  4\n",
       "[torch.LongStorage of size 4]\n",
       "\n"
      ]
     },
     "execution_count": 1,
     "metadata": {},
     "output_type": "execute_result"
    },
    {
     "data": {
      "text/plain": [
       "progress:   71/ 100\r",
       " 10\n",
       "  1\n",
       "  4\n",
       "  4\n",
       "[torch.LongStorage of size 4]\n",
       "\n",
       "progress:   81/ 100\r",
       " 10\n",
       "  1\n",
       "  4\n",
       "  4\n",
       "[torch.LongStorage of size 4]\n",
       "\n"
      ]
     },
     "execution_count": 1,
     "metadata": {},
     "output_type": "execute_result"
    },
    {
     "data": {
      "text/plain": [
       "progress:   91/ 100\r",
       "epoch =  1/20  loss = 0.74 accuracy = 50.00\t\n",
       " 10\n",
       "  1\n",
       "  4\n",
       "  4\n",
       "[torch.LongStorage of size 4]\n",
       "\n",
       "progress:    1/ 100\r",
       " 10\n",
       "  1\n",
       "  4\n",
       "  4\n",
       "[torch.LongStorage of size 4]\n",
       "\n",
       "progress:   11/ 100\r"
      ]
     },
     "execution_count": 1,
     "metadata": {},
     "output_type": "execute_result"
    },
    {
     "data": {
      "text/plain": [
       " 10\n",
       "  1\n",
       "  4\n",
       "  4\n",
       "[torch.LongStorage of size 4]\n",
       "\n",
       "progress:   21/ 100\r",
       " 10\n",
       "  1\n",
       "  4\n",
       "  4\n",
       "[torch.LongStorage of size 4]\n",
       "\n",
       "progress:   31/ 100\r",
       " 10\n",
       "  1\n",
       "  4\n",
       "  4\n",
       "[torch.LongStorage of size 4]\n",
       "\n",
       "progress:   41/ 100\r",
       " 10\n",
       "  1\n",
       "  4\n",
       "  4\n",
       "[torch.LongStorage of size 4]\n",
       "\n"
      ]
     },
     "execution_count": 1,
     "metadata": {},
     "output_type": "execute_result"
    },
    {
     "data": {
      "text/plain": [
       "progress:   51/ 100\r",
       " 10\n",
       "  1\n",
       "  4\n",
       "  4\n",
       "[torch.LongStorage of size 4]\n",
       "\n",
       "progress:   61/ 100\r",
       " 10\n",
       "  1\n",
       "  4\n",
       "  4\n",
       "[torch.LongStorage of size 4]\n",
       "\n",
       "progress:   71/ 100\r",
       " 10\n",
       "  1\n",
       "  4\n",
       "  4\n",
       "[torch.LongStorage of size 4]\n",
       "\n",
       "progress:   81/ 100\r",
       " 10\n",
       "  1\n",
       "  4\n",
       "  4\n",
       "[torch.LongStorage of size 4]\n",
       "\n"
      ]
     },
     "execution_count": 1,
     "metadata": {},
     "output_type": "execute_result"
    },
    {
     "data": {
      "text/plain": [
       "progress:   91/ 100\r",
       "epoch =  2/20  loss = 0.69 accuracy = 46.00\t\n",
       " 10\n",
       "  1\n",
       "  4\n",
       "  4\n",
       "[torch.LongStorage of size 4]\n",
       "\n",
       "progress:    1/ 100\r",
       " 10\n",
       "  1\n",
       "  4\n",
       "  4\n",
       "[torch.LongStorage of size 4]\n",
       "\n",
       "progress:   11/ 100\r",
       " 10\n",
       "  1\n",
       "  4\n",
       "  4\n",
       "[torch.LongStorage of size 4]\n",
       "\n"
      ]
     },
     "execution_count": 1,
     "metadata": {},
     "output_type": "execute_result"
    },
    {
     "data": {
      "text/plain": [
       "progress:   21/ 100\r",
       " 10\n",
       "  1\n",
       "  4\n",
       "  4\n",
       "[torch.LongStorage of size 4]\n",
       "\n",
       "progress:   31/ 100\r",
       " 10\n",
       "  1\n",
       "  4\n",
       "  4\n",
       "[torch.LongStorage of size 4]\n",
       "\n"
      ]
     },
     "execution_count": 1,
     "metadata": {},
     "output_type": "execute_result"
    },
    {
     "data": {
      "text/plain": [
       "progress:   41/ 100\r",
       " 10\n",
       "  1\n",
       "  4\n",
       "  4\n",
       "[torch.LongStorage of size 4]\n",
       "\n",
       "progress:   51/ 100\r",
       " 10\n",
       "  1\n",
       "  4\n",
       "  4\n",
       "[torch.LongStorage of size 4]\n",
       "\n",
       "progress:   61/ 100\r",
       " 10\n",
       "  1\n",
       "  4\n",
       "  4\n",
       "[torch.LongStorage of size 4]\n",
       "\n"
      ]
     },
     "execution_count": 1,
     "metadata": {},
     "output_type": "execute_result"
    },
    {
     "data": {
      "text/plain": [
       "progress:   71/ 100\r",
       " 10\n",
       "  1\n",
       "  4\n",
       "  4\n",
       "[torch.LongStorage of size 4]\n",
       "\n",
       "progress:   81/ 100\r",
       " 10\n",
       "  1\n",
       "  4\n",
       "  4\n",
       "[torch.LongStorage of size 4]\n",
       "\n",
       "progress:   91/ 100\r",
       "epoch =  3/20  loss = 0.68 accuracy = 58.00\t\n",
       " 10\n",
       "  1\n",
       "  4\n",
       "  4\n",
       "[torch.LongStorage of size 4]\n",
       "\n"
      ]
     },
     "execution_count": 1,
     "metadata": {},
     "output_type": "execute_result"
    },
    {
     "data": {
      "text/plain": [
       "progress:    1/ 100\r",
       " 10\n",
       "  1\n",
       "  4\n",
       "  4\n",
       "[torch.LongStorage of size 4]\n",
       "\n",
       "progress:   11/ 100\r",
       " 10\n",
       "  1\n",
       "  4\n",
       "  4\n",
       "[torch.LongStorage of size 4]\n",
       "\n",
       "progress:   21/ 100\r",
       " 10\n",
       "  1\n",
       "  4\n",
       "  4\n",
       "[torch.LongStorage of size 4]\n",
       "\n",
       "progress:   31/ 100\r",
       " 10\n",
       "  1\n",
       "  4\n",
       "  4\n",
       "[torch.LongStorage of size 4]\n",
       "\n"
      ]
     },
     "execution_count": 1,
     "metadata": {},
     "output_type": "execute_result"
    },
    {
     "data": {
      "text/plain": [
       "progress:   41/ 100\r",
       " 10\n",
       "  1\n",
       "  4\n",
       "  4\n",
       "[torch.LongStorage of size 4]\n",
       "\n",
       "progress:   51/ 100\r",
       " 10\n",
       "  1\n",
       "  4\n",
       "  4\n",
       "[torch.LongStorage of size 4]\n",
       "\n",
       "progress:   61/ 100\r",
       " 10\n",
       "  1\n",
       "  4\n",
       "  4\n",
       "[torch.LongStorage of size 4]\n",
       "\n"
      ]
     },
     "execution_count": 1,
     "metadata": {},
     "output_type": "execute_result"
    },
    {
     "data": {
      "text/plain": [
       "progress:   71/ 100\r",
       " 10\n",
       "  1\n",
       "  4\n",
       "  4\n",
       "[torch.LongStorage of size 4]\n",
       "\n",
       "progress:   81/ 100\r",
       " 10\n",
       "  1\n",
       "  4\n",
       "  4\n",
       "[torch.LongStorage of size 4]\n",
       "\n",
       "progress:   91/ 100\r",
       "epoch =  4/20  loss = 0.66 accuracy = 69.00\t\n",
       " 10\n",
       "  1\n",
       "  4\n",
       "  4\n",
       "[torch.LongStorage of size 4]\n",
       "\n"
      ]
     },
     "execution_count": 1,
     "metadata": {},
     "output_type": "execute_result"
    },
    {
     "data": {
      "text/plain": [
       "progress:    1/ 100\r",
       " 10\n",
       "  1\n",
       "  4\n",
       "  4\n",
       "[torch.LongStorage of size 4]\n",
       "\n",
       "progress:   11/ 100\r",
       " 10\n",
       "  1\n",
       "  4\n",
       "  4\n",
       "[torch.LongStorage of size 4]\n",
       "\n"
      ]
     },
     "execution_count": 1,
     "metadata": {},
     "output_type": "execute_result"
    },
    {
     "data": {
      "text/plain": [
       "progress:   21/ 100\r",
       " 10\n",
       "  1\n",
       "  4\n",
       "  4\n",
       "[torch.LongStorage of size 4]\n",
       "\n",
       "progress:   31/ 100\r",
       " 10\n",
       "  1\n",
       "  4\n",
       "  4\n",
       "[torch.LongStorage of size 4]\n",
       "\n",
       "progress:   41/ 100\r",
       " 10\n",
       "  1\n",
       "  4\n",
       "  4\n",
       "[torch.LongStorage of size 4]\n",
       "\n",
       "progress:   51/ 100\r",
       " 10\n",
       "  1\n",
       "  4\n",
       "  4\n",
       "[torch.LongStorage of size 4]\n",
       "\n"
      ]
     },
     "execution_count": 1,
     "metadata": {},
     "output_type": "execute_result"
    },
    {
     "data": {
      "text/plain": [
       "progress:   61/ 100\r",
       " 10\n",
       "  1\n",
       "  4\n",
       "  4\n",
       "[torch.LongStorage of size 4]\n",
       "\n",
       "progress:   71/ 100\r",
       " 10\n",
       "  1\n",
       "  4\n",
       "  4\n",
       "[torch.LongStorage of size 4]\n",
       "\n",
       "progress:   81/ 100\r",
       " 10\n",
       "  1\n",
       "  4\n",
       "  4\n",
       "[torch.LongStorage of size 4]\n",
       "\n"
      ]
     },
     "execution_count": 1,
     "metadata": {},
     "output_type": "execute_result"
    },
    {
     "data": {
      "text/plain": [
       "progress:   91/ 100\r",
       "epoch =  5/20  loss = 0.64 accuracy = 72.00\t\n",
       " 10\n",
       "  1\n",
       "  4\n",
       "  4\n",
       "[torch.LongStorage of size 4]\n",
       "\n",
       "progress:    1/ 100\r",
       " 10\n",
       "  1\n",
       "  4\n",
       "  4\n",
       "[torch.LongStorage of size 4]\n",
       "\n"
      ]
     },
     "execution_count": 1,
     "metadata": {},
     "output_type": "execute_result"
    },
    {
     "data": {
      "text/plain": [
       "progress:   11/ 100\r",
       " 10\n",
       "  1\n",
       "  4\n",
       "  4\n",
       "[torch.LongStorage of size 4]\n",
       "\n",
       "progress:   21/ 100\r",
       " 10\n",
       "  1\n",
       "  4\n",
       "  4\n",
       "[torch.LongStorage of size 4]\n",
       "\n",
       "progress:   31/ 100\r",
       " 10\n",
       "  1\n",
       "  4\n",
       "  4\n",
       "[torch.LongStorage of size 4]\n",
       "\n"
      ]
     },
     "execution_count": 1,
     "metadata": {},
     "output_type": "execute_result"
    },
    {
     "data": {
      "text/plain": [
       "progress:   41/ 100\r",
       " 10\n",
       "  1\n",
       "  4\n",
       "  4\n",
       "[torch.LongStorage of size 4]\n",
       "\n",
       "progress:   51/ 100\r",
       " 10\n",
       "  1\n",
       "  4\n",
       "  4\n",
       "[torch.LongStorage of size 4]\n",
       "\n",
       "progress:   61/ 100\r",
       " 10\n",
       "  1\n",
       "  4\n",
       "  4\n",
       "[torch.LongStorage of size 4]\n",
       "\n",
       "progress:   71/ 100\r",
       " 10\n",
       "  1\n",
       "  4\n",
       "  4\n",
       "[torch.LongStorage of size 4]\n",
       "\n"
      ]
     },
     "execution_count": 1,
     "metadata": {},
     "output_type": "execute_result"
    },
    {
     "data": {
      "text/plain": [
       "progress:   81/ 100\r",
       " 10\n",
       "  1\n",
       "  4\n",
       "  4\n",
       "[torch.LongStorage of size 4]\n",
       "\n",
       "progress:   91/ 100\r",
       "epoch =  6/20  loss = 0.62 accuracy = 82.00\t\n",
       " 10\n",
       "  1\n",
       "  4\n",
       "  4\n",
       "[torch.LongStorage of size 4]\n",
       "\n"
      ]
     },
     "execution_count": 1,
     "metadata": {},
     "output_type": "execute_result"
    },
    {
     "data": {
      "text/plain": [
       "progress:    1/ 100\r",
       " 10\n",
       "  1\n",
       "  4\n",
       "  4\n",
       "[torch.LongStorage of size 4]\n",
       "\n",
       "progress:   11/ 100\r",
       " 10\n",
       "  1\n",
       "  4\n",
       "  4\n",
       "[torch.LongStorage of size 4]\n",
       "\n",
       "progress:   21/ 100\r",
       " 10\n",
       "  1\n",
       "  4\n",
       "  4\n",
       "[torch.LongStorage of size 4]\n",
       "\n",
       "progress:   31/ 100\r",
       " 10\n",
       "  1\n",
       "  4\n",
       "  4\n",
       "[torch.LongStorage of size 4]\n",
       "\n"
      ]
     },
     "execution_count": 1,
     "metadata": {},
     "output_type": "execute_result"
    },
    {
     "data": {
      "text/plain": [
       "progress:   41/ 100\r",
       " 10\n",
       "  1\n",
       "  4\n",
       "  4\n",
       "[torch.LongStorage of size 4]\n",
       "\n",
       "progress:   51/ 100\r",
       " 10\n",
       "  1\n",
       "  4\n",
       "  4\n",
       "[torch.LongStorage of size 4]\n",
       "\n",
       "progress:   61/ 100\r",
       " 10\n",
       "  1\n",
       "  4\n",
       "  4\n",
       "[torch.LongStorage of size 4]\n",
       "\n"
      ]
     },
     "execution_count": 1,
     "metadata": {},
     "output_type": "execute_result"
    },
    {
     "data": {
      "text/plain": [
       "progress:   71/ 100\r",
       " 10\n",
       "  1\n",
       "  4\n",
       "  4\n",
       "[torch.LongStorage of size 4]\n",
       "\n",
       "progress:   81/ 100\r",
       " 10\n",
       "  1\n",
       "  4\n",
       "  4\n",
       "[torch.LongStorage of size 4]\n",
       "\n",
       "progress:   91/ 100\r",
       "epoch =  7/20  loss = 0.59 accuracy = 90.00\t\n",
       " 10\n",
       "  1\n",
       "  4\n",
       "  4\n",
       "[torch.LongStorage of size 4]\n",
       "\n"
      ]
     },
     "execution_count": 1,
     "metadata": {},
     "output_type": "execute_result"
    },
    {
     "data": {
      "text/plain": [
       "progress:    1/ 100\r",
       " 10\n",
       "  1\n",
       "  4\n",
       "  4\n",
       "[torch.LongStorage of size 4]\n",
       "\n",
       "progress:   11/ 100\r",
       " 10\n",
       "  1\n",
       "  4\n",
       "  4\n",
       "[torch.LongStorage of size 4]\n",
       "\n"
      ]
     },
     "execution_count": 1,
     "metadata": {},
     "output_type": "execute_result"
    },
    {
     "data": {
      "text/plain": [
       "progress:   21/ 100\r",
       " 10\n",
       "  1\n",
       "  4\n",
       "  4\n",
       "[torch.LongStorage of size 4]\n",
       "\n",
       "progress:   31/ 100\r",
       " 10\n",
       "  1\n",
       "  4\n",
       "  4\n",
       "[torch.LongStorage of size 4]\n",
       "\n",
       "progress:   41/ 100\r",
       " 10\n",
       "  1\n",
       "  4\n",
       "  4\n",
       "[torch.LongStorage of size 4]\n",
       "\n"
      ]
     },
     "execution_count": 1,
     "metadata": {},
     "output_type": "execute_result"
    },
    {
     "data": {
      "text/plain": [
       "progress:   51/ 100\r",
       " 10\n",
       "  1\n",
       "  4\n",
       "  4\n",
       "[torch.LongStorage of size 4]\n",
       "\n",
       "progress:   61/ 100\r",
       " 10\n",
       "  1\n",
       "  4\n",
       "  4\n",
       "[torch.LongStorage of size 4]\n",
       "\n",
       "progress:   71/ 100\r",
       " 10\n",
       "  1\n",
       "  4\n",
       "  4\n",
       "[torch.LongStorage of size 4]\n",
       "\n"
      ]
     },
     "execution_count": 1,
     "metadata": {},
     "output_type": "execute_result"
    },
    {
     "data": {
      "text/plain": [
       "progress:   81/ 100\r",
       " 10\n",
       "  1\n",
       "  4\n",
       "  4\n",
       "[torch.LongStorage of size 4]\n",
       "\n",
       "progress:   91/ 100\r",
       "epoch =  8/20  loss = 0.55 accuracy = 97.00\t\n",
       " 10\n",
       "  1\n",
       "  4\n",
       "  4\n",
       "[torch.LongStorage of size 4]\n",
       "\n"
      ]
     },
     "execution_count": 1,
     "metadata": {},
     "output_type": "execute_result"
    },
    {
     "data": {
      "text/plain": [
       "progress:    1/ 100\r",
       " 10\n",
       "  1\n",
       "  4\n",
       "  4\n",
       "[torch.LongStorage of size 4]\n",
       "\n",
       "progress:   11/ 100\r",
       " 10\n",
       "  1\n",
       "  4\n",
       "  4\n",
       "[torch.LongStorage of size 4]\n",
       "\n",
       "progress:   21/ 100\r"
      ]
     },
     "execution_count": 1,
     "metadata": {},
     "output_type": "execute_result"
    },
    {
     "data": {
      "text/plain": [
       " 10\n",
       "  1\n",
       "  4\n",
       "  4\n",
       "[torch.LongStorage of size 4]\n",
       "\n",
       "progress:   31/ 100\r",
       " 10\n",
       "  1\n",
       "  4\n",
       "  4\n",
       "[torch.LongStorage of size 4]\n",
       "\n",
       "progress:   41/ 100\r",
       " 10\n",
       "  1\n",
       "  4\n",
       "  4\n",
       "[torch.LongStorage of size 4]\n",
       "\n"
      ]
     },
     "execution_count": 1,
     "metadata": {},
     "output_type": "execute_result"
    },
    {
     "data": {
      "text/plain": [
       "progress:   51/ 100\r",
       " 10\n",
       "  1\n",
       "  4\n",
       "  4\n",
       "[torch.LongStorage of size 4]\n",
       "\n",
       "progress:   61/ 100\r",
       " 10\n",
       "  1\n",
       "  4\n",
       "  4\n",
       "[torch.LongStorage of size 4]\n",
       "\n",
       "progress:   71/ 100\r",
       " 10\n",
       "  1\n",
       "  4\n",
       "  4\n",
       "[torch.LongStorage of size 4]\n",
       "\n"
      ]
     },
     "execution_count": 1,
     "metadata": {},
     "output_type": "execute_result"
    },
    {
     "data": {
      "text/plain": [
       "progress:   81/ 100\r",
       " 10\n",
       "  1\n",
       "  4\n",
       "  4\n",
       "[torch.LongStorage of size 4]\n",
       "\n",
       "progress:   91/ 100\r",
       "epoch =  9/20  loss = 0.51 accuracy = 99.00\t\n",
       " 10\n",
       "  1\n",
       "  4\n",
       "  4\n",
       "[torch.LongStorage of size 4]\n",
       "\n"
      ]
     },
     "execution_count": 1,
     "metadata": {},
     "output_type": "execute_result"
    },
    {
     "data": {
      "text/plain": [
       "progress:    1/ 100\r",
       " 10\n",
       "  1\n",
       "  4\n",
       "  4\n",
       "[torch.LongStorage of size 4]\n",
       "\n",
       "progress:   11/ 100\r",
       " 10\n",
       "  1\n",
       "  4\n",
       "  4\n",
       "[torch.LongStorage of size 4]\n",
       "\n",
       "progress:   21/ 100\r",
       " 10\n",
       "  1\n",
       "  4\n",
       "  4\n",
       "[torch.LongStorage of size 4]\n",
       "\n"
      ]
     },
     "execution_count": 1,
     "metadata": {},
     "output_type": "execute_result"
    },
    {
     "data": {
      "text/plain": [
       "progress:   31/ 100\r",
       " 10\n",
       "  1\n",
       "  4\n",
       "  4\n",
       "[torch.LongStorage of size 4]\n",
       "\n",
       "progress:   41/ 100\r",
       " 10\n",
       "  1\n",
       "  4\n",
       "  4\n",
       "[torch.LongStorage of size 4]\n",
       "\n",
       "progress:   51/ 100\r",
       " 10\n",
       "  1\n",
       "  4\n",
       "  4\n",
       "[torch.LongStorage of size 4]\n",
       "\n"
      ]
     },
     "execution_count": 1,
     "metadata": {},
     "output_type": "execute_result"
    },
    {
     "data": {
      "text/plain": [
       "progress:   61/ 100\r",
       " 10\n",
       "  1\n",
       "  4\n",
       "  4\n",
       "[torch.LongStorage of size 4]\n",
       "\n",
       "progress:   71/ 100\r",
       " 10\n",
       "  1\n",
       "  4\n",
       "  4\n",
       "[torch.LongStorage of size 4]\n",
       "\n",
       "progress:   81/ 100\r",
       " 10\n",
       "  1\n",
       "  4\n",
       "  4\n",
       "[torch.LongStorage of size 4]\n",
       "\n"
      ]
     },
     "execution_count": 1,
     "metadata": {},
     "output_type": "execute_result"
    },
    {
     "data": {
      "text/plain": [
       "progress:   91/ 100\r",
       "epoch = 10/20  loss = 0.47 accuracy = 99.00\t\n",
       " 10\n",
       "  1\n",
       "  4\n",
       "  4\n",
       "[torch.LongStorage of size 4]\n",
       "\n",
       "progress:    1/ 100\r",
       " 10\n",
       "  1\n",
       "  4\n",
       "  4\n",
       "[torch.LongStorage of size 4]\n",
       "\n",
       "progress:   11/ 100\r",
       " 10\n",
       "  1\n",
       "  4\n",
       "  4\n",
       "[torch.LongStorage of size 4]\n",
       "\n"
      ]
     },
     "execution_count": 1,
     "metadata": {},
     "output_type": "execute_result"
    },
    {
     "data": {
      "text/plain": [
       "progress:   21/ 100\r",
       " 10\n",
       "  1\n",
       "  4\n",
       "  4\n",
       "[torch.LongStorage of size 4]\n",
       "\n",
       "progress:   31/ 100\r",
       " 10\n",
       "  1\n",
       "  4\n",
       "  4\n",
       "[torch.LongStorage of size 4]\n",
       "\n",
       "progress:   41/ 100\r",
       " 10\n",
       "  1\n",
       "  4\n",
       "  4\n",
       "[torch.LongStorage of size 4]\n",
       "\n"
      ]
     },
     "execution_count": 1,
     "metadata": {},
     "output_type": "execute_result"
    },
    {
     "data": {
      "text/plain": [
       "progress:   51/ 100\r",
       " 10\n",
       "  1\n",
       "  4\n",
       "  4\n",
       "[torch.LongStorage of size 4]\n",
       "\n",
       "progress:   61/ 100\r",
       " 10\n",
       "  1\n",
       "  4\n",
       "  4\n",
       "[torch.LongStorage of size 4]\n",
       "\n"
      ]
     },
     "execution_count": 1,
     "metadata": {},
     "output_type": "execute_result"
    },
    {
     "data": {
      "text/plain": [
       "progress:   71/ 100\r",
       " 10\n",
       "  1\n",
       "  4\n",
       "  4\n",
       "[torch.LongStorage of size 4]\n",
       "\n",
       "progress:   81/ 100\r",
       " 10\n",
       "  1\n",
       "  4\n",
       "  4\n",
       "[torch.LongStorage of size 4]\n",
       "\n",
       "progress:   91/ 100\r",
       "epoch = 11/20  loss = 0.42 accuracy = 100.00\t\n",
       " 10\n",
       "  1\n",
       "  4\n",
       "  4\n",
       "[torch.LongStorage of size 4]\n",
       "\n"
      ]
     },
     "execution_count": 1,
     "metadata": {},
     "output_type": "execute_result"
    },
    {
     "data": {
      "text/plain": [
       "progress:    1/ 100\r",
       " 10\n",
       "  1\n",
       "  4\n",
       "  4\n",
       "[torch.LongStorage of size 4]\n",
       "\n",
       "progress:   11/ 100\r",
       " 10\n",
       "  1\n",
       "  4\n",
       "  4\n",
       "[torch.LongStorage of size 4]\n",
       "\n"
      ]
     },
     "execution_count": 1,
     "metadata": {},
     "output_type": "execute_result"
    },
    {
     "data": {
      "text/plain": [
       "progress:   21/ 100\r",
       " 10\n",
       "  1\n",
       "  4\n",
       "  4\n",
       "[torch.LongStorage of size 4]\n",
       "\n",
       "progress:   31/ 100\r",
       " 10\n",
       "  1\n",
       "  4\n",
       "  4\n",
       "[torch.LongStorage of size 4]\n",
       "\n",
       "progress:   41/ 100\r",
       " 10\n",
       "  1\n",
       "  4\n",
       "  4\n",
       "[torch.LongStorage of size 4]\n",
       "\n",
       "progress:   51/ 100\r"
      ]
     },
     "execution_count": 1,
     "metadata": {},
     "output_type": "execute_result"
    },
    {
     "data": {
      "text/plain": [
       " 10\n",
       "  1\n",
       "  4\n",
       "  4\n",
       "[torch.LongStorage of size 4]\n",
       "\n",
       "progress:   61/ 100\r",
       " 10\n",
       "  1\n",
       "  4\n",
       "  4\n",
       "[torch.LongStorage of size 4]\n",
       "\n",
       "progress:   71/ 100\r",
       " 10\n",
       "  1\n",
       "  4\n",
       "  4\n",
       "[torch.LongStorage of size 4]\n",
       "\n",
       "progress:   81/ 100\r",
       " 10\n",
       "  1\n",
       "  4\n",
       "  4\n",
       "[torch.LongStorage of size 4]\n",
       "\n"
      ]
     },
     "execution_count": 1,
     "metadata": {},
     "output_type": "execute_result"
    },
    {
     "data": {
      "text/plain": [
       "progress:   91/ 100\r",
       "epoch = 12/20  loss = 0.38 accuracy = 100.00\t\n",
       " 10\n",
       "  1\n",
       "  4\n",
       "  4\n",
       "[torch.LongStorage of size 4]\n",
       "\n",
       "progress:    1/ 100\r",
       " 10\n",
       "  1\n",
       "  4\n",
       "  4\n",
       "[torch.LongStorage of size 4]\n",
       "\n",
       "progress:   11/ 100\r",
       " 10\n",
       "  1\n",
       "  4\n",
       "  4\n",
       "[torch.LongStorage of size 4]\n",
       "\n"
      ]
     },
     "execution_count": 1,
     "metadata": {},
     "output_type": "execute_result"
    },
    {
     "data": {
      "text/plain": [
       "progress:   21/ 100\r",
       " 10\n",
       "  1\n",
       "  4\n",
       "  4\n",
       "[torch.LongStorage of size 4]\n",
       "\n",
       "progress:   31/ 100\r",
       " 10\n",
       "  1\n",
       "  4\n",
       "  4\n",
       "[torch.LongStorage of size 4]\n",
       "\n",
       "progress:   41/ 100\r",
       " 10\n",
       "  1\n",
       "  4\n",
       "  4\n",
       "[torch.LongStorage of size 4]\n",
       "\n",
       "progress:   51/ 100\r",
       " 10\n",
       "  1\n",
       "  4\n",
       "  4\n",
       "[torch.LongStorage of size 4]\n",
       "\n",
       "progress:   61/ 100\r",
       " 10\n",
       "  1\n",
       "  4\n",
       "  4\n",
       "[torch.LongStorage of size 4]\n",
       "\n",
       "progress:   71/ 100\r",
       " 10\n",
       "  1\n",
       "  4\n",
       "  4\n",
       "[torch.LongStorage of size 4]\n",
       "\n"
      ]
     },
     "execution_count": 1,
     "metadata": {},
     "output_type": "execute_result"
    },
    {
     "data": {
      "text/plain": [
       "progress:   81/ 100\r",
       " 10\n",
       "  1\n",
       "  4\n",
       "  4\n",
       "[torch.LongStorage of size 4]\n",
       "\n"
      ]
     },
     "execution_count": 1,
     "metadata": {},
     "output_type": "execute_result"
    },
    {
     "data": {
      "text/plain": [
       "progress:   91/ 100\r",
       "epoch = 13/20  loss = 0.34 accuracy = 100.00\t\n",
       " 10\n",
       "  1\n",
       "  4\n",
       "  4\n",
       "[torch.LongStorage of size 4]\n",
       "\n",
       "progress:    1/ 100\r",
       " 10\n",
       "  1\n",
       "  4\n",
       "  4\n",
       "[torch.LongStorage of size 4]\n",
       "\n"
      ]
     },
     "execution_count": 1,
     "metadata": {},
     "output_type": "execute_result"
    },
    {
     "data": {
      "text/plain": [
       "progress:   11/ 100\r",
       " 10\n",
       "  1\n",
       "  4\n",
       "  4\n",
       "[torch.LongStorage of size 4]\n",
       "\n",
       "progress:   21/ 100\r",
       " 10\n",
       "  1\n",
       "  4\n",
       "  4\n",
       "[torch.LongStorage of size 4]\n",
       "\n",
       "progress:   31/ 100\r",
       " 10\n",
       "  1\n",
       "  4\n",
       "  4\n",
       "[torch.LongStorage of size 4]\n",
       "\n"
      ]
     },
     "execution_count": 1,
     "metadata": {},
     "output_type": "execute_result"
    },
    {
     "data": {
      "text/plain": [
       "progress:   41/ 100\r",
       " 10\n",
       "  1\n",
       "  4\n",
       "  4\n",
       "[torch.LongStorage of size 4]\n",
       "\n",
       "progress:   51/ 100\r",
       " 10\n",
       "  1\n",
       "  4\n",
       "  4\n",
       "[torch.LongStorage of size 4]\n",
       "\n",
       "progress:   61/ 100\r",
       " 10\n",
       "  1\n",
       "  4\n",
       "  4\n",
       "[torch.LongStorage of size 4]\n",
       "\n",
       "progress:   71/ 100\r",
       " 10\n",
       "  1\n",
       "  4\n",
       "  4\n",
       "[torch.LongStorage of size 4]\n",
       "\n",
       "progress:   81/ 100\r"
      ]
     },
     "execution_count": 1,
     "metadata": {},
     "output_type": "execute_result"
    },
    {
     "data": {
      "text/plain": [
       " 10\n",
       "  1\n",
       "  4\n",
       "  4\n",
       "[torch.LongStorage of size 4]\n",
       "\n",
       "progress:   91/ 100\r",
       "epoch = 14/20  loss = 0.30 accuracy = 100.00\t\n",
       " 10\n",
       "  1\n",
       "  4\n",
       "  4\n",
       "[torch.LongStorage of size 4]\n",
       "\n",
       "progress:    1/ 100\r"
      ]
     },
     "execution_count": 1,
     "metadata": {},
     "output_type": "execute_result"
    },
    {
     "data": {
      "text/plain": [
       " 10\n",
       "  1\n",
       "  4\n",
       "  4\n",
       "[torch.LongStorage of size 4]\n",
       "\n",
       "progress:   11/ 100\r",
       " 10\n",
       "  1\n",
       "  4\n",
       "  4\n",
       "[torch.LongStorage of size 4]\n",
       "\n",
       "progress:   21/ 100\r",
       " 10\n",
       "  1\n",
       "  4\n",
       "  4\n",
       "[torch.LongStorage of size 4]\n",
       "\n"
      ]
     },
     "execution_count": 1,
     "metadata": {},
     "output_type": "execute_result"
    },
    {
     "data": {
      "text/plain": [
       "progress:   31/ 100\r",
       " 10\n",
       "  1\n",
       "  4\n",
       "  4\n",
       "[torch.LongStorage of size 4]\n",
       "\n"
      ]
     },
     "execution_count": 1,
     "metadata": {},
     "output_type": "execute_result"
    },
    {
     "data": {
      "text/plain": [
       "progress:   41/ 100\r",
       " 10\n",
       "  1\n",
       "  4\n",
       "  4\n",
       "[torch.LongStorage of size 4]\n",
       "\n",
       "progress:   51/ 100\r",
       " 10\n",
       "  1\n",
       "  4\n",
       "  4\n",
       "[torch.LongStorage of size 4]\n",
       "\n"
      ]
     },
     "execution_count": 1,
     "metadata": {},
     "output_type": "execute_result"
    },
    {
     "data": {
      "text/plain": [
       "progress:   61/ 100\r",
       " 10\n",
       "  1\n",
       "  4\n",
       "  4\n",
       "[torch.LongStorage of size 4]\n",
       "\n",
       "progress:   71/ 100\r",
       " 10\n",
       "  1\n",
       "  4\n",
       "  4\n",
       "[torch.LongStorage of size 4]\n",
       "\n"
      ]
     },
     "execution_count": 1,
     "metadata": {},
     "output_type": "execute_result"
    },
    {
     "data": {
      "text/plain": [
       "progress:   81/ 100\r",
       " 10\n",
       "  1\n",
       "  4\n",
       "  4\n",
       "[torch.LongStorage of size 4]\n",
       "\n",
       "progress:   91/ 100\r",
       "epoch = 15/20  loss = 0.27 accuracy = 100.00\t\n",
       " 10\n",
       "  1\n",
       "  4\n",
       "  4\n",
       "[torch.LongStorage of size 4]\n",
       "\n"
      ]
     },
     "execution_count": 1,
     "metadata": {},
     "output_type": "execute_result"
    },
    {
     "data": {
      "text/plain": [
       "progress:    1/ 100\r",
       " 10\n",
       "  1\n",
       "  4\n",
       "  4\n",
       "[torch.LongStorage of size 4]\n",
       "\n",
       "progress:   11/ 100\r",
       " 10\n",
       "  1\n",
       "  4\n",
       "  4\n",
       "[torch.LongStorage of size 4]\n",
       "\n"
      ]
     },
     "execution_count": 1,
     "metadata": {},
     "output_type": "execute_result"
    },
    {
     "data": {
      "text/plain": [
       "progress:   21/ 100\r",
       " 10\n",
       "  1\n",
       "  4\n",
       "  4\n",
       "[torch.LongStorage of size 4]\n",
       "\n"
      ]
     },
     "execution_count": 1,
     "metadata": {},
     "output_type": "execute_result"
    },
    {
     "data": {
      "text/plain": [
       "progress:   31/ 100\r",
       " 10\n",
       "  1\n",
       "  4\n",
       "  4\n",
       "[torch.LongStorage of size 4]\n",
       "\n",
       "progress:   41/ 100\r",
       " 10\n",
       "  1\n",
       "  4\n",
       "  4\n",
       "[torch.LongStorage of size 4]\n",
       "\n"
      ]
     },
     "execution_count": 1,
     "metadata": {},
     "output_type": "execute_result"
    },
    {
     "data": {
      "text/plain": [
       "progress:   51/ 100\r",
       " 10\n",
       "  1\n",
       "  4\n",
       "  4\n",
       "[torch.LongStorage of size 4]\n",
       "\n",
       "progress:   61/ 100\r",
       " 10\n",
       "  1\n",
       "  4\n",
       "  4\n",
       "[torch.LongStorage of size 4]\n",
       "\n",
       "progress:   71/ 100\r",
       " 10\n",
       "  1\n",
       "  4\n",
       "  4\n",
       "[torch.LongStorage of size 4]\n",
       "\n"
      ]
     },
     "execution_count": 1,
     "metadata": {},
     "output_type": "execute_result"
    },
    {
     "data": {
      "text/plain": [
       "progress:   81/ 100\r",
       " 10\n",
       "  1\n",
       "  4\n",
       "  4\n",
       "[torch.LongStorage of size 4]\n",
       "\n",
       "progress:   91/ 100\r",
       "epoch = 16/20  loss = 0.24 accuracy = 100.00\t\n",
       " 10\n",
       "  1\n",
       "  4\n",
       "  4\n",
       "[torch.LongStorage of size 4]\n",
       "\n",
       "progress:    1/ 100\r"
      ]
     },
     "execution_count": 1,
     "metadata": {},
     "output_type": "execute_result"
    },
    {
     "data": {
      "text/plain": [
       " 10\n",
       "  1\n",
       "  4\n",
       "  4\n",
       "[torch.LongStorage of size 4]\n",
       "\n",
       "progress:   11/ 100\r",
       " 10\n",
       "  1\n",
       "  4\n",
       "  4\n",
       "[torch.LongStorage of size 4]\n",
       "\n",
       "progress:   21/ 100\r",
       " 10\n",
       "  1\n",
       "  4\n",
       "  4\n",
       "[torch.LongStorage of size 4]\n",
       "\n"
      ]
     },
     "execution_count": 1,
     "metadata": {},
     "output_type": "execute_result"
    },
    {
     "data": {
      "text/plain": [
       "progress:   31/ 100\r",
       " 10\n",
       "  1\n",
       "  4\n",
       "  4\n",
       "[torch.LongStorage of size 4]\n",
       "\n",
       "progress:   41/ 100\r",
       " 10\n",
       "  1\n",
       "  4\n",
       "  4\n",
       "[torch.LongStorage of size 4]\n",
       "\n",
       "progress:   51/ 100\r",
       " 10\n",
       "  1\n",
       "  4\n",
       "  4\n",
       "[torch.LongStorage of size 4]\n",
       "\n",
       "progress:   61/ 100\r",
       " 10\n",
       "  1\n",
       "  4\n",
       "  4\n",
       "[torch.LongStorage of size 4]\n",
       "\n"
      ]
     },
     "execution_count": 1,
     "metadata": {},
     "output_type": "execute_result"
    },
    {
     "data": {
      "text/plain": [
       "progress:   71/ 100\r",
       " 10\n",
       "  1\n",
       "  4\n",
       "  4\n",
       "[torch.LongStorage of size 4]\n",
       "\n",
       "progress:   81/ 100\r",
       " 10\n",
       "  1\n",
       "  4\n",
       "  4\n",
       "[torch.LongStorage of size 4]\n",
       "\n",
       "progress:   91/ 100\r",
       "epoch = 17/20  loss = 0.21 accuracy = 100.00\t\n",
       " 10\n",
       "  1\n",
       "  4\n",
       "  4\n",
       "[torch.LongStorage of size 4]\n",
       "\n"
      ]
     },
     "execution_count": 1,
     "metadata": {},
     "output_type": "execute_result"
    },
    {
     "data": {
      "text/plain": [
       "progress:    1/ 100\r",
       " 10\n",
       "  1\n",
       "  4\n",
       "  4\n",
       "[torch.LongStorage of size 4]\n",
       "\n",
       "progress:   11/ 100\r",
       " 10\n",
       "  1\n",
       "  4\n",
       "  4\n",
       "[torch.LongStorage of size 4]\n",
       "\n",
       "progress:   21/ 100\r",
       " 10\n",
       "  1\n",
       "  4\n",
       "  4\n",
       "[torch.LongStorage of size 4]\n",
       "\n"
      ]
     },
     "execution_count": 1,
     "metadata": {},
     "output_type": "execute_result"
    },
    {
     "data": {
      "text/plain": [
       "progress:   31/ 100\r",
       " 10\n",
       "  1\n",
       "  4\n",
       "  4\n",
       "[torch.LongStorage of size 4]\n",
       "\n",
       "progress:   41/ 100\r",
       " 10\n",
       "  1\n",
       "  4\n",
       "  4\n",
       "[torch.LongStorage of size 4]\n",
       "\n",
       "progress:   51/ 100\r",
       " 10\n",
       "  1\n",
       "  4\n",
       "  4\n",
       "[torch.LongStorage of size 4]\n",
       "\n"
      ]
     },
     "execution_count": 1,
     "metadata": {},
     "output_type": "execute_result"
    },
    {
     "data": {
      "text/plain": [
       "progress:   61/ 100\r",
       " 10\n",
       "  1\n",
       "  4\n",
       "  4\n",
       "[torch.LongStorage of size 4]\n",
       "\n",
       "progress:   71/ 100\r",
       " 10\n",
       "  1\n",
       "  4\n",
       "  4\n",
       "[torch.LongStorage of size 4]\n",
       "\n",
       "progress:   81/ 100\r",
       " 10\n",
       "  1\n",
       "  4\n",
       "  4\n",
       "[torch.LongStorage of size 4]\n",
       "\n"
      ]
     },
     "execution_count": 1,
     "metadata": {},
     "output_type": "execute_result"
    },
    {
     "data": {
      "text/plain": [
       "progress:   91/ 100\r",
       "epoch = 18/20  loss = 0.19 accuracy = 100.00\t\n",
       " 10\n",
       "  1\n",
       "  4\n",
       "  4\n",
       "[torch.LongStorage of size 4]\n",
       "\n",
       "progress:    1/ 100\r",
       " 10\n",
       "  1\n",
       "  4\n",
       "  4\n",
       "[torch.LongStorage of size 4]\n",
       "\n",
       "progress:   11/ 100\r",
       " 10\n",
       "  1\n",
       "  4\n",
       "  4\n",
       "[torch.LongStorage of size 4]\n",
       "\n",
       "progress:   21/ 100\r",
       " 10\n",
       "  1\n",
       "  4\n",
       "  4\n",
       "[torch.LongStorage of size 4]\n",
       "\n"
      ]
     },
     "execution_count": 1,
     "metadata": {},
     "output_type": "execute_result"
    },
    {
     "data": {
      "text/plain": [
       "progress:   31/ 100\r",
       " 10\n",
       "  1\n",
       "  4\n",
       "  4\n",
       "[torch.LongStorage of size 4]\n",
       "\n"
      ]
     },
     "execution_count": 1,
     "metadata": {},
     "output_type": "execute_result"
    },
    {
     "data": {
      "text/plain": [
       "progress:   41/ 100\r",
       " 10\n",
       "  1\n",
       "  4\n",
       "  4\n",
       "[torch.LongStorage of size 4]\n",
       "\n"
      ]
     },
     "execution_count": 1,
     "metadata": {},
     "output_type": "execute_result"
    },
    {
     "data": {
      "text/plain": [
       "progress:   51/ 100\r",
       " 10\n",
       "  1\n",
       "  4\n",
       "  4\n",
       "[torch.LongStorage of size 4]\n",
       "\n",
       "progress:   61/ 100\r",
       " 10\n",
       "  1\n",
       "  4\n",
       "  4\n",
       "[torch.LongStorage of size 4]\n",
       "\n"
      ]
     },
     "execution_count": 1,
     "metadata": {},
     "output_type": "execute_result"
    },
    {
     "data": {
      "text/plain": [
       "progress:   71/ 100\r",
       " 10\n",
       "  1\n",
       "  4\n",
       "  4\n",
       "[torch.LongStorage of size 4]\n",
       "\n",
       "progress:   81/ 100\r",
       " 10\n",
       "  1\n",
       "  4\n",
       "  4\n",
       "[torch.LongStorage of size 4]\n",
       "\n"
      ]
     },
     "execution_count": 1,
     "metadata": {},
     "output_type": "execute_result"
    },
    {
     "data": {
      "text/plain": [
       "progress:   91/ 100\r",
       "epoch = 19/20  loss = 0.17 accuracy = 100.00\t\n",
       " 10\n",
       "  1\n",
       "  4\n",
       "  4\n",
       "[torch.LongStorage of size 4]\n",
       "\n",
       "progress:    1/ 100\r",
       " 10\n",
       "  1\n",
       "  4\n",
       "  4\n",
       "[torch.LongStorage of size 4]\n",
       "\n"
      ]
     },
     "execution_count": 1,
     "metadata": {},
     "output_type": "execute_result"
    },
    {
     "data": {
      "text/plain": [
       "progress:   11/ 100\r",
       " 10\n",
       "  1\n",
       "  4\n",
       "  4\n",
       "[torch.LongStorage of size 4]\n",
       "\n",
       "progress:   21/ 100\r",
       " 10\n",
       "  1\n",
       "  4\n",
       "  4\n",
       "[torch.LongStorage of size 4]\n",
       "\n",
       "progress:   31/ 100\r",
       " 10\n",
       "  1\n",
       "  4\n",
       "  4\n",
       "[torch.LongStorage of size 4]\n",
       "\n",
       "progress:   41/ 100\r",
       " 10\n",
       "  1\n",
       "  4\n",
       "  4\n",
       "[torch.LongStorage of size 4]\n",
       "\n"
      ]
     },
     "execution_count": 1,
     "metadata": {},
     "output_type": "execute_result"
    },
    {
     "data": {
      "text/plain": [
       "progress:   51/ 100\r",
       " 10\n",
       "  1\n",
       "  4\n",
       "  4\n",
       "[torch.LongStorage of size 4]\n",
       "\n",
       "progress:   61/ 100\r",
       " 10\n",
       "  1\n",
       "  4\n",
       "  4\n",
       "[torch.LongStorage of size 4]\n",
       "\n",
       "progress:   71/ 100\r"
      ]
     },
     "execution_count": 1,
     "metadata": {},
     "output_type": "execute_result"
    },
    {
     "data": {
      "text/plain": [
       " 10\n",
       "  1\n",
       "  4\n",
       "  4\n",
       "[torch.LongStorage of size 4]\n",
       "\n",
       "progress:   81/ 100\r",
       " 10\n",
       "  1\n",
       "  4\n",
       "  4\n",
       "[torch.LongStorage of size 4]\n",
       "\n",
       "progress:   91/ 100\r"
      ]
     },
     "execution_count": 1,
     "metadata": {},
     "output_type": "execute_result"
    },
    {
     "data": {
      "text/plain": [
       "epoch = 20/20  loss = 0.15 accuracy = 100.00\t\n"
      ]
     },
     "execution_count": 1,
     "metadata": {},
     "output_type": "execute_result"
    }
   ],
   "source": [
    "-- This program provides you an example of how to use torch.\n",
    "-- It is not yet a complete machine learning program.\n",
    "-- For example, you need to evaluate on the testing dataset\n",
    "-- to know the true performance of your network when applied\n",
    "-- to unseen data. You also need to write code to compute \n",
    "-- the classification accuracy.\n",
    "    \n",
    "-- Training on the full dataset costs a pretty long time.\n",
    "-- Make sure your program works well everywhere before make such training.\n",
    "-- Use small amount of samples for debugging.\n",
    "-- You should also print some information to get the statistics.\n",
    "\n",
    "-- 10/28/2016 Created By Zhehang Ding\n",
    "\n",
    "require \"nn\"\n",
    "require \"optim\"\n",
    "require \"image\"\n",
    "\n",
    "function main()\n",
    "  -- Fix the random seed for debugging.\n",
    "  torch.manualSeed(0)\n",
    "  \n",
    "  -- Let us create some 8x8 gray-level images.\n",
    "  -- Each image belongs to one of two patterns: \"x\" or \"+\".\n",
    "  -- Each image has its pattern on a noisy background.\n",
    "  -- You don't have to understand this part of code.\n",
    "  -- In your homework you just load the MNIST data and do preprocessing.\n",
    "  -- ( dataset = torch.load('XXX.t7') )\n",
    "  do\n",
    "  local N = 100\n",
    "  -- In this example, only training set is created.\n",
    "  -- In your homework, there are training and testing datasets.\n",
    "  -- You should use the training dataset to train the network,\n",
    "  -- and use testing dataset to see the true performance of it.\n",
    "  local perm = torch.randperm(N):long()\n",
    "  local pat1=torch.Tensor({{{{1,0,0,1},{0,1,1,0},{0,1,1,0},{1,0,0,1}}}}):expand(N/2,1,4,4);\n",
    "  local pat2=torch.Tensor({{{{0,1,0,1},{0,1,0,0},{1,1,1,1},{0,1,0,0}}}}):expand(N/2,1,4,4);\n",
    "  local pattern = torch.cat(pat1,pat2,1):index(1,perm)\n",
    "  trainset = {}\n",
    "  trainset.data  = torch.randn(N,1,4,4) * 0.15 + pattern\n",
    "  trainset.label = torch.cat(torch.zeros(N/2),torch.ones(N/2)):index(1,perm)+1\n",
    "  -- Preview the dataset if you want.\n",
    "  --image.save('patterns.png',image.toDisplayTensor(trainset.data:narrow(1,1,20),1,10))\n",
    "  end\n",
    "  \n",
    "  -- Create the network and the criterion.\n",
    "  -- This is just an example which contains all layers you will be using.\n",
    "  -- However, the architecture and the parameters we should use are different.\n",
    "  print('Creating the network and the criterion...')\n",
    "  local network   = nn.Sequential()\n",
    "  local criterion = nn.ClassNLLCriterion()\n",
    "\n",
    "  -- A view layer so the network recognize a batch.\n",
    "  -- View layers do not perform any computation.\n",
    "  -- They tell the network how to look at the data.\n",
    "  network:add(nn.View(1,4,4):setNumInputDims(3))\n",
    "  -- A 5x5 conv Layer with 3 kernels.\n",
    "  network:add(nn.SpatialConvolution(1,3,2,2,1,1))\n",
    "  -- A ReLU activation layer.\n",
    "  network:add(nn.ReLU())\n",
    "  -- A maxpooling layer.\n",
    "  network:add(nn.SpatialMaxPooling(2,2,2,2))\n",
    "  -- A view layer that convert 2D images to 1D vectors.\n",
    "  -- Also we tell it to recognize a batch.\n",
    "  network:add(nn.View(-1):setNumInputDims(3))\n",
    "  -- A linear transformation layer.\n",
    "  network:add(nn.Linear(1*1*3,2))\n",
    "  -- A log-softmax layer produces the log probabilities.\n",
    "  network:add(nn.LogSoftMax())\n",
    "  \n",
    "  -- Extract the parameters and arrange them linearly in memory.\n",
    "  -- So we have a large vector containing all the parameters.\n",
    "  parameters,gradParameters = network:getParameters()\n",
    "  \n",
    "  --\n",
    "  print('Training...')\n",
    "  local nEpoch = 20\n",
    "  for e = 1,nEpoch do\n",
    "    -- Number of training samples.\n",
    "    local size  = trainset.data:size()[1]\n",
    "    -- Batch size. We use a batch of samples to \"smooth\" the gradients.\n",
    "    local bsize = 10\n",
    "    -- Total loss.\n",
    "    local tloss = 0\n",
    "\n",
    "    -- Confusion matrix. This is a helpful tool.\n",
    "    local classes = {'x','+'}\n",
    "    local confusion = optim.ConfusionMatrix(classes)\n",
    "    \n",
    "    for t  = 1,size,10 do\n",
    "      local bsize = math.min(bsize,size-t+1)\n",
    "      local input  = trainset.data:narrow(1,t,bsize)\n",
    "      local target = trainset.label:narrow(1,t,bsize)\n",
    "            \n",
    "      print(#input)\n",
    "      -- Reset the gradients to zero.\n",
    "      gradParameters:zero()\n",
    "      -- Forward the data and compute the loss.\n",
    "      local output = network:forward(input)\n",
    "      local loss   = criterion:forward(output,target)\n",
    "      -- Collect Statistics\n",
    "      tloss = tloss + loss * bsize\n",
    "      confusion:batchAdd(output,target)\n",
    "      -- Backward. The gradient wrt the parameters are internally computed.\n",
    "      local gradOutput = criterion:backward(output,target)\n",
    "      local gradInput  = network:backward(input,gradOutput)\n",
    "      -- The optim module accepts a function for evaluation.\n",
    "      -- For simplicity I made the computation outside, and\n",
    "      -- this function is used only to return the result.\n",
    "      local function feval()\n",
    "        return loss,gradParameters\n",
    "      end\n",
    "      -- Specify the training parameters.\n",
    "      local config = {\n",
    "        learningRate = 0.06,\n",
    "      }\n",
    "      -- We use the SGD method.\n",
    "      optim.sgd(feval, parameters, config)\n",
    "      -- Show the progress.\n",
    "      io.write(string.format(\"progress: %4d/%4d\\r\",t,size))\n",
    "      io.flush()\n",
    "    end\n",
    "    -- Compute the average loss.\n",
    "    tloss = tloss / size\n",
    "    -- Update the confusion matrix.\n",
    "    confusion:updateValids()\n",
    "    -- Let us print the loss and the accuracy.\n",
    "    -- You should see the loss decreases and the accuracy increases as the training progresses.\n",
    "    print(string.format('epoch = %2d/%2d  loss = %.2f accuracy = %.2f',e,nEpoch,tloss,100*confusion.totalValid))\n",
    "    -- You can print the confusion matrix if you want.\n",
    "    --print(confusion)\n",
    "  end\n",
    "  \n",
    "  -- Clean temporary data to reduce the size of the network file.\n",
    "  network:clearState()\n",
    "  -- Save the network.\n",
    "  torch.save('output.t7',network)\n",
    "end\n",
    "\n",
    "main()\n"
   ]
  },
  {
   "cell_type": "code",
   "execution_count": null,
   "metadata": {
    "collapsed": true
   },
   "outputs": [],
   "source": []
  }
 ],
 "metadata": {
  "anaconda-cloud": {},
  "kernelspec": {
   "display_name": "iTorch",
   "language": "lua",
   "name": "itorch"
  },
  "language_info": {
   "name": "lua",
   "version": "5.1"
  }
 },
 "nbformat": 4,
 "nbformat_minor": 1
}
