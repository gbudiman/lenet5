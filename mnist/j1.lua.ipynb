{
 "cells": [
  {
   "cell_type": "code",
   "execution_count": 1,
   "metadata": {
    "collapsed": false
   },
   "outputs": [],
   "source": [
    "require 'nn'\n",
    "require 'optim'\n",
    "require 'mnist'\n",
    "require 'dataset-mnist'"
   ]
  },
  {
   "cell_type": "code",
   "execution_count": 2,
   "metadata": {
    "collapsed": true
   },
   "outputs": [],
   "source": [
    "torch.manualSeed(0)\n",
    "torch.setnumthreads(4)"
   ]
  },
  {
   "cell_type": "code",
   "execution_count": 3,
   "metadata": {
    "collapsed": false
   },
   "outputs": [],
   "source": [
    "classes = { 1, 2, 3, 4, 5, 6, 7, 8, 9, 10 }\n",
    "geometry = { 32, 32 }\n",
    "\n",
    "net = nn.Sequential()\n",
    "\n",
    "net:add(nn.SpatialConvolution(1, 6, 5, 5))\n",
    "net:add(nn.ReLU())\n",
    "net:add(nn.SpatialMaxPooling(2, 2, 2, 2))\n",
    "\n",
    "net:add(nn.SpatialConvolution(6, 16, 5, 5))\n",
    "net:add(nn.ReLU())\n",
    "net:add(nn.SpatialMaxPooling(2, 2, 2, 2))\n",
    "\n",
    "net:add(nn.View(16*5*5))\n",
    "net:add(nn.Linear(16*5*5, 120))\n",
    "net:add(nn.ReLU())\n",
    "net:add(nn.Linear(120, 84))\n",
    "net:add(nn.ReLU())\n",
    "net:add(nn.Linear(84, #classes))\n",
    "net:add(nn.LogSoftMax())"
   ]
  },
  {
   "cell_type": "code",
   "execution_count": 4,
   "metadata": {
    "collapsed": false
   },
   "outputs": [],
   "source": [
    "parameters, gradParameters = net:getParameters()"
   ]
  },
  {
   "cell_type": "code",
   "execution_count": 5,
   "metadata": {
    "collapsed": true
   },
   "outputs": [],
   "source": [
    "criterion = nn.ClassNLLCriterion()"
   ]
  },
  {
   "cell_type": "code",
   "execution_count": 6,
   "metadata": {
    "collapsed": false
   },
   "outputs": [
    {
     "data": {
      "text/plain": [
       "<mnist> done\t\n"
      ]
     },
     "execution_count": 6,
     "metadata": {},
     "output_type": "execute_result"
    },
    {
     "data": {
      "text/plain": [
       "<mnist> done\t\n"
      ]
     },
     "execution_count": 6,
     "metadata": {},
     "output_type": "execute_result"
    }
   ],
   "source": [
    "n_training_patches = 60000\n",
    "n_testing_patches = 10000\n",
    "\n",
    "train_data = mnist.loadTrainSet(n_training_patches, geometry)\n",
    "train_data:normalizeGlobal(mean, std)\n",
    "\n",
    "test_data = mnist.loadTestSet(n_testing_patches, geometry)\n",
    "test_data:normalizeGlobal(mean, std)"
   ]
  },
  {
   "cell_type": "code",
   "execution_count": 7,
   "metadata": {
    "collapsed": true
   },
   "outputs": [],
   "source": [
    "confusion = optim.ConfusionMatrix(classes)\n",
    "epoch_limit = 5"
   ]
  },
  {
   "cell_type": "code",
   "execution_count": 8,
   "metadata": {
    "collapsed": false
   },
   "outputs": [
    {
     "data": {
      "text/plain": [
       "Epoch: 1\t\n"
      ]
     },
     "execution_count": 8,
     "metadata": {},
     "output_type": "execute_result"
    },
    {
     "data": {
      "text/plain": [
       "ConfusionMatrix:\n",
       "[[    4794       4      35      15       7      56      42     701      76     193]   80.939% \t[class: 1]\n",
       " [       8    5287     312      34       4      12      14     976      85      10]   78.419% \t[class: 2]\n",
       " [     389      42    3799      88      91      18     181    1190      76      84]   63.763% \t[class: 3]\n",
       " [     325      76     216    3571      10     138      18    1575     106      96]   58.245% \t[class: 4]\n",
       " [     343      52      68       5    3343       3     102    1528      31     367]   57.224% \t[class: 5]\n",
       " [     931      47     207     229      61    2352      88    1115     275     116]   43.387% \t[class: 6]\n",
       " [     898     156     451       1      47      66    3400     837      37      25]   57.452% \t[class: 7]\n",
       " [      66      81      97      24      53      12       5    5707      26     194]   91.093% \t[class: 8]\n",
       " [     435     202     474     283      55     176      67    1416    2652      91]   45.326% \t[class: 9]\n",
       " [     346      55      36      61     476       6       8    2064      68    2829]]  47.554% \t[class: 10]\n",
       " + average row correct: 62.340097427368% \n",
       " + average rowUcol correct (VOC measure): 47.573313117027% \n",
       " + global correct: 62.89%\n",
       "{\n",
       "  _mat_flat : LongTensor - size: 100\n",
       "  valids : FloatTensor - size: 10\n",
       "  mat : LongTensor - size: 10x10\n",
       "  averageUnionValid : 0.47573313117027\n",
       "  _targ_idx : LongTensor - empty\n",
       "  averageValid : 0.62340097427368\n",
       "  classes : \n",
       "    {\n",
       "      1 : 1\n",
       "      2 : 2\n",
       "      3 : 3\n",
       "      4 : 4\n",
       "      5 : 5\n",
       "      6 : 6\n",
       "      7 : 7\n",
       "      8 : 8\n",
       "      9 : 9\n",
       "      10 : 10\n",
       "    }\n",
       "  _prediction : FloatTensor - size: 10\n",
       "  _pred_idx : LongTensor - size: 1\n",
       "  nclasses : 10\n",
       "  _max : FloatTensor - size: 1\n",
       "  _target : FloatTensor - empty\n",
       "  unionvalids : FloatTensor - size: 10\n",
       "  totalValid : 0.6289\n",
       "}\n",
       "Epoch: 2\t\n"
      ]
     },
     "execution_count": 8,
     "metadata": {},
     "output_type": "execute_result"
    },
    {
     "data": {
      "text/plain": [
       "ConfusionMatrix:\n",
       "[[    5688       1      26       7       7      42      61      11      61      19]   96.032% \t[class: 1]\n",
       " [       1    6539      44      31       5      24      10       6      65      17]   96.989% \t[class: 2]\n",
       " [      35      36    5411      94      77      24      68      95      92      26]   90.819% \t[class: 3]\n",
       " [      18      41     113    5556       4     161       9      79      92      58]   90.621% \t[class: 4]\n",
       " [       5      18      34       4    5373       6      91      14      30     267]   91.972% \t[class: 5]\n",
       " [      40      38      31     141      22    4956      68       8      69      48]   91.422% \t[class: 6]\n",
       " [      44      36      45       0      70      65    5622       0      35       1]   94.998% \t[class: 7]\n",
       " [      27      36      83      39      47      12       0    5782      17     222]   92.291% \t[class: 8]\n",
       " [      25     129      71     131      26      80      52      28    5197     112]   88.822% \t[class: 9]\n",
       " [      41      33      20      87     232      33       4     163      77    5259]]  88.401% \t[class: 10]\n",
       " + average row correct: 92.236876487732% \n",
       " + average rowUcol correct (VOC measure): 85.703443288803% \n",
       " + global correct: 92.305%\n",
       "{\n",
       "  _mat_flat : LongTensor - size: 100\n",
       "  valids : FloatTensor - size: 10\n",
       "  mat : LongTensor - size: 10x10\n",
       "  averageUnionValid : 0.85703443288803\n",
       "  _targ_idx : LongTensor - empty\n",
       "  averageValid : 0.92236876487732\n",
       "  classes : \n",
       "    {\n",
       "      1 : 1\n",
       "      2 : 2\n",
       "      3 : 3\n",
       "      4 : 4\n",
       "      5 : 5\n",
       "      6 : 6\n",
       "      7 : 7\n",
       "      8 : 8\n",
       "      9 : 9\n",
       "      10 : 10\n",
       "    }\n",
       "  _prediction : FloatTensor - size: 10\n",
       "  _pred_idx : LongTensor - size: 1\n",
       "  nclasses : 10\n",
       "  _max : FloatTensor - size: 1\n",
       "  _target : FloatTensor - empty\n",
       "  unionvalids : FloatTensor - size: 10\n",
       "  totalValid : 0.92305\n",
       "}\n",
       "Epoch: 3\t\n"
      ]
     },
     "execution_count": 8,
     "metadata": {},
     "output_type": "execute_result"
    },
    {
     "data": {
      "text/plain": [
       "ConfusionMatrix:\n",
       "[[    5772       1      16       3       8      25      35      12      37      14]   97.451% \t[class: 1]\n",
       " [       1    6606      38      18       8       4       3       8      43      13]   97.983% \t[class: 2]\n",
       " [      21      34    5616      67      36      13      27      70      58      16]   94.260% \t[class: 3]\n",
       " [      11      19      96    5740       3     103       7      50      59      43]   93.623% \t[class: 4]\n",
       " [       6      18      18       1    5547       3      47       9      19     174]   94.950% \t[class: 5]\n",
       " [      27      20      16      74       8    5156      36       8      46      30]   95.112% \t[class: 6]\n",
       " [      38      22      15       0      41      39    5735       0      27       1]   96.908% \t[class: 7]\n",
       " [      15      20      75      30      30      13       1    5943      11     127]   94.860% \t[class: 8]\n",
       " [      18      91      43      62      22      49      46      23    5421      76]   92.651% \t[class: 9]\n",
       " [      29      23       5      74     149      32       3     120      47    5467]]  91.898% \t[class: 10]\n",
       " + average row correct: 94.969446063042% \n",
       " + average rowUcol correct (VOC measure): 90.474935770035% \n",
       " + global correct: 95.005%\n",
       "{\n",
       "  _mat_flat : LongTensor - size: 100\n",
       "  valids : FloatTensor - size: 10\n",
       "  mat : LongTensor - size: 10x10\n",
       "  averageUnionValid : 0.90474935770035\n",
       "  _targ_idx : LongTensor - empty\n",
       "  averageValid : 0.94969446063042\n",
       "  classes : \n",
       "    {\n",
       "      1 : 1\n",
       "      2 : 2\n",
       "      3 : 3\n",
       "      4 : 4\n",
       "      5 : 5\n",
       "      6 : 6\n",
       "      7 : 7\n",
       "      8 : 8\n",
       "      9 : 9\n",
       "      10 : 10\n",
       "    }\n",
       "  _prediction : FloatTensor - size: 10\n",
       "  _pred_idx : LongTensor - size: 1\n",
       "  nclasses : 10\n",
       "  _max : FloatTensor - size: 1\n",
       "  _target : FloatTensor - empty\n",
       "  unionvalids : FloatTensor - size: 10\n",
       "  totalValid : 0.95005\n",
       "}\n",
       "Epoch: 4\t\n"
      ]
     },
     "execution_count": 8,
     "metadata": {},
     "output_type": "execute_result"
    },
    {
     "data": {
      "text/plain": [
       "ConfusionMatrix:\n",
       "[[    5809       1      13       0       6      16      27       8      30      13]   98.075% \t[class: 1]\n",
       " [       1    6624      38      13       8       0       5       8      34      11]   98.250% \t[class: 2]\n",
       " [      18      26    5713      45      15       9      14      56      50      12]   95.888% \t[class: 3]\n",
       " [       6      10      72    5835       2      78       4      39      48      37]   95.172% \t[class: 4]\n",
       " [       5      15      14       2    5620       2      33       8      14     129]   96.200% \t[class: 5]\n",
       " [      21      12       9      56       8    5210      28       7      39      31]   96.108% \t[class: 6]\n",
       " [      29      21       9       1      29      36    5772       0      20       1]   97.533% \t[class: 7]\n",
       " [      10      18      56      22      19       7       1    6032      10      90]   96.281% \t[class: 8]\n",
       " [      18      62      38      55      16      38      36      15    5516      57]   94.274% \t[class: 9]\n",
       " [      21      17       3      56     116      34       1      85      42    5574]]  93.696% \t[class: 10]\n",
       " + average row correct: 96.147747635841% \n",
       " + average rowUcol correct (VOC measure): 92.616523504257% \n",
       " + global correct: 96.175%\n",
       "{\n",
       "  _mat_flat : LongTensor - size: 100\n",
       "  valids : FloatTensor - size: 10\n",
       "  mat : LongTensor - size: 10x10\n",
       "  averageUnionValid : 0.92616523504257\n",
       "  _targ_idx : LongTensor - empty\n",
       "  averageValid : 0.96147747635841\n",
       "  classes : \n",
       "    {\n",
       "      1 : 1\n",
       "      2 : 2\n",
       "      3 : 3\n",
       "      4 : 4\n",
       "      5 : 5\n",
       "      6 : 6\n",
       "      7 : 7\n",
       "      8 : 8\n",
       "      9 : 9\n",
       "      10 : 10\n",
       "    }\n",
       "  _prediction : FloatTensor - size: 10\n",
       "  _pred_idx : LongTensor - size: 1\n",
       "  nclasses : 10\n",
       "  _max : FloatTensor - size: 1\n",
       "  _target : FloatTensor - empty\n",
       "  unionvalids : FloatTensor - size: 10\n",
       "  totalValid : 0.96175\n",
       "}\n",
       "Epoch: 5\t\n"
      ]
     },
     "execution_count": 8,
     "metadata": {},
     "output_type": "execute_result"
    },
    {
     "data": {
      "text/plain": [
       "ConfusionMatrix:\n",
       "[[    5835       1       9       0       4      12      22       6      21      13]   98.514% \t[class: 1]\n",
       " [       2    6638      32      13       7       0       5       9      28       8]   98.457% \t[class: 2]\n",
       " [      15      26    5758      35      12       4      10      49      42       7]   96.643% \t[class: 3]\n",
       " [       7       7      57    5879       2      69       3      33      42      32]   95.890% \t[class: 4]\n",
       " [       7      11       9       1    5675       1      21       8      11      98]   97.141% \t[class: 5]\n",
       " [      16       9       5      50       5    5235      26       7      41      27]   96.569% \t[class: 6]\n",
       " [      20      16       5       1      20      30    5805       0      20       1]   98.091% \t[class: 7]\n",
       " [       7      17      50      14      16       6       1    6074      12      68]   96.951% \t[class: 8]\n",
       " [      15      54      31      50      17      31      28      14    5563      48]   95.078% \t[class: 9]\n",
       " [      20      15       2      51      94      29       1      69      37    5631]]  94.655% \t[class: 10]\n",
       " + average row correct: 96.798911690712% \n",
       " + average rowUcol correct (VOC measure): 93.824443221092% \n",
       " + global correct: 96.821666666667%\n",
       "{\n",
       "  _mat_flat : LongTensor - size: 100\n",
       "  valids : FloatTensor - size: 10\n",
       "  mat : LongTensor - size: 10x10\n",
       "  averageUnionValid : 0.93824443221092\n",
       "  _targ_idx : LongTensor - empty\n",
       "  averageValid : 0.96798911690712\n",
       "  classes : \n",
       "    {\n",
       "      1 : 1\n",
       "      2 : 2\n",
       "      3 : 3\n",
       "      4 : 4\n",
       "      5 : 5\n",
       "      6 : 6\n",
       "      7 : 7\n",
       "      8 : 8\n",
       "      9 : 9\n",
       "      10 : 10\n",
       "    }\n",
       "  _prediction : FloatTensor - size: 10\n",
       "  _pred_idx : LongTensor - size: 1\n",
       "  nclasses : 10\n",
       "  _max : FloatTensor - size: 1\n",
       "  _target : FloatTensor - empty\n",
       "  unionvalids : FloatTensor - size: 10\n",
       "  totalValid : 0.96821666666667\n",
       "}\n"
      ]
     },
     "execution_count": 8,
     "metadata": {},
     "output_type": "execute_result"
    }
   ],
   "source": [
    "batch_size = 10\n",
    "for epoch = 1, epoch_limit do\n",
    "    print(\"Epoch: \" .. epoch)\n",
    "    for t = 1, train_data:size(), batch_size do\n",
    "        local inputs = torch.Tensor(batch_size, 1, geometry[1], geometry[2])\n",
    "        local targets = torch.Tensor(batch_size)\n",
    "        local k = 1\n",
    "\n",
    "        for i = t, math.min(t + batch_size - 1, train_data:size()) do\n",
    "            local sample = train_data[i]\n",
    "            local input = sample[1]:clone()\n",
    "            local _, target = sample[2]:clone():max(1)\n",
    "\n",
    "            target = target:squeeze()\n",
    "            inputs[k] = input\n",
    "            targets[k] = target\n",
    "            k = k + 1\n",
    "        end\n",
    "\n",
    "        local feval = function(x)\n",
    "            collectgarbage()\n",
    "\n",
    "            if x ~= parameters then\n",
    "                parameters:copy(x)\n",
    "            end\n",
    "            gradParameters:zero()\n",
    "\n",
    "            local outputs = net:forward(inputs)\n",
    "            local f = criterion:forward(outputs, targets)\n",
    "            local df_do = criterion:backward(outputs, targets)\n",
    "            net:backward(inputs, df_do)\n",
    "\n",
    "            for i = 1, batch_size do\n",
    "                confusion:add(outputs[i], targets[i])\n",
    "            end\n",
    "\n",
    "            return f, gradParameters\n",
    "        end\n",
    "\n",
    "        sgd_state = sgd_state or {\n",
    "            learning_rate = 0.06,\n",
    "            momentum = 0,\n",
    "            learning_rate_decay = 5e-7\n",
    "        }\n",
    "        optim.sgd(feval, parameters, sgd_state)\n",
    "\n",
    "    end\n",
    "    \n",
    "    print(confusion)\n",
    "    confusion:zero()\n",
    "end\n",
    "\n"
   ]
  },
  {
   "cell_type": "code",
   "execution_count": 9,
   "metadata": {
    "collapsed": false
   },
   "outputs": [
    {
     "data": {
      "text/plain": [
       "ConfusionMatrix:\n",
       "[[     971       0       1       0       1       3       0       1       3       0]   99.082% \t[class: 1]\n",
       " [       0    1127       3       1       0       0       1       0       3       0]   99.295% \t[class: 2]\n",
       " [       5       5     995      11       1       1       0       5       9       0]   96.415% \t[class: 3]\n",
       " [       1       1       2     982       0       7       0       7       4       6]   97.228% \t[class: 4]\n",
       " [       1       0       3       0     959       0       1       1       2      15]   97.658% \t[class: 5]\n",
       " [       2       3       0       6       0     874       2       1       1       3]   97.982% \t[class: 6]\n",
       " [      16       4       1       0       5      25     904       0       3       0]   94.363% \t[class: 7]\n",
       " [       1       6      15       2       0       0       0     981       2      21]   95.428% \t[class: 8]\n",
       " [       7       4       2      13       6      10       0      10     910      12]   93.429% \t[class: 9]\n",
       " [       4       8       0       5       9       3       0       4       0     976]]  96.729% \t[class: 10]\n",
       " + average row correct: 96.760900020599% \n",
       " + average rowUcol correct (VOC measure): 93.743587136269% \n",
       " + global correct: 96.79%\n",
       "{\n",
       "  _mat_flat : LongTensor - size: 100\n",
       "  valids : FloatTensor - size: 10\n",
       "  mat : LongTensor - size: 10x10\n",
       "  averageUnionValid : 0.93743587136269\n",
       "  _targ_idx : LongTensor - empty\n",
       "  averageValid : 0.96760900020599\n",
       "  classes : \n",
       "    {\n",
       "      1 : 1\n",
       "      2 : 2\n",
       "      3 : 3\n",
       "      4 : 4\n",
       "      5 : 5\n",
       "      6 : 6\n",
       "      7 : 7\n",
       "      8 : 8\n",
       "      9 : 9\n",
       "      10 : 10\n",
       "    }\n",
       "  _prediction : FloatTensor - size: 10"
      ]
     },
     "execution_count": 9,
     "metadata": {},
     "output_type": "execute_result"
    },
    {
     "data": {
      "text/plain": [
       "\n",
       "  _pred_idx : LongTensor - size: 1\n",
       "  nclasses : 10\n",
       "  _max : FloatTensor - size: 1\n",
       "  _target : FloatTensor - empty\n",
       "  unionvalids : FloatTensor - size: 10\n",
       "  totalValid : 0.9679\n",
       "}\n"
      ]
     },
     "execution_count": 9,
     "metadata": {},
     "output_type": "execute_result"
    }
   ],
   "source": [
    "confusion:zero()\n",
    "\n",
    "for t = 1, test_data:size(), 10 do\n",
    "    local inputs = torch.Tensor(batch_size, 1, geometry[1], geometry[2])\n",
    "    local targets = torch.Tensor(batch_size)\n",
    "    local k = 1\n",
    "    \n",
    "    for i = t, math.min(t + batch_size - 1, test_data:size()) do\n",
    "        local sample = test_data[i]\n",
    "        local input = sample[1]:clone()\n",
    "        local _, target = sample[2]:clone():max(1)\n",
    "        target = target:squeeze()\n",
    "        inputs[k] = input\n",
    "        targets[k] = target\n",
    "        k = k + 1\n",
    "    end\n",
    "    \n",
    "    local preds = net:forward(inputs)\n",
    "    \n",
    "    for i = 1, batch_size do\n",
    "        confusion:add(preds[i], targets[i])\n",
    "    end\n",
    "end\n",
    "\n",
    "print(confusion)"
   ]
  },
  {
   "cell_type": "code",
   "execution_count": null,
   "metadata": {
    "collapsed": true
   },
   "outputs": [],
   "source": []
  }
 ],
 "metadata": {
  "anaconda-cloud": {},
  "kernelspec": {
   "display_name": "iTorch",
   "language": "lua",
   "name": "itorch"
  },
  "language_info": {
   "name": "lua",
   "version": "5.1"
  }
 },
 "nbformat": 4,
 "nbformat_minor": 1
}
