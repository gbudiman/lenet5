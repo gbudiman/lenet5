{
 "cells": [
  {
   "cell_type": "code",
   "execution_count": 1,
   "metadata": {
    "collapsed": true
   },
   "outputs": [],
   "source": [
    "subset = 100 -- use -1 for full training set"
   ]
  },
  {
   "cell_type": "code",
   "execution_count": 2,
   "metadata": {
    "collapsed": false
   },
   "outputs": [],
   "source": [
    "trainset = torch.load('mnist-p1b-train.t7')\n",
    "setmetatable(trainset, \n",
    "  {__index = function(t, i)\n",
    "               return {t.data[i], t.label[i]}\n",
    "             end}\n",
    ")"
   ]
  },
  {
   "cell_type": "code",
   "execution_count": 5,
   "metadata": {
    "collapsed": false
   },
   "outputs": [
    {
     "data": {
      "text/plain": [
       " 100\n",
       "   1\n",
       "  32\n",
       "  32\n",
       "[torch.LongStorage of size 4]\n",
       "\n"
      ]
     },
     "execution_count": 5,
     "metadata": {},
     "output_type": "execute_result"
    },
    {
     "ename": "stack overflow\nstack traceback:\n\t[C]: in function '__index'\n\t[string \"sub_trainset = {} ...\"]:4: in function '__index'\n\t[string \"sub_trainset = {} ...\"]:4: in function '__index'\n\t[string \"sub_trainset = {} ...\"]:4: in function '__index'\n\t[string \"sub_trainset = {} ...\"]:4: in function '__index'\n\t[string \"sub_trainset = {} ...\"]:4: in function '__index'\n\t[string \"sub_trainset = {} ...\"]:4: in function '__index'\n\t[string \"sub_trainset = {} ...\"]:4: in function '__index'\n\t[string \"sub_trainset = {} ...\"]:4: in function '__index'\n\t[string \"sub_trainset = {} ...\"]:4: in function '__index'\n\t[string \"sub_trainset = {} ...\"]:4: in function '__index'\n\t...\n\t[C]: in function 'xpcall'\n\t/Users/gbudiman/torch/install/share/lua/5.1/itorch/main.lua:210: in function </Users/gbudiman/torch/install/share/lua/5.1/itorch/main.lua:174>\n\t/Users/gbudiman/torch/install/share/lua/5.1/lzmq/poller.lua:75: in function 'poll'\n\t.../gbudiman/torch/install/share/lua/5.1/lzmq/impl/loop.lua:307: in function 'poll'\n\t.../gbudiman/torch/install/share/lua/5.1/lzmq/impl/loop.lua:325: in function 'sleep_ex'\n\t.../gbudiman/torch/install/share/lua/5.1/lzmq/impl/loop.lua:370: in function 'start'\n\t/Users/gbudiman/torch/install/share/lua/5.1/itorch/main.lua:389: in main chunk\n\t[C]: in function 'require'\n\t(command line):1: in main chunk\n\t[C]: at 0x010d8cfd00",
     "evalue": "",
     "output_type": "error",
     "traceback": [
      "stack overflow\nstack traceback:\n\t[C]: in function '__index'\n\t[string \"sub_trainset = {} ...\"]:4: in function '__index'\n\t[string \"sub_trainset = {} ...\"]:4: in function '__index'\n\t[string \"sub_trainset = {} ...\"]:4: in function '__index'\n\t[string \"sub_trainset = {} ...\"]:4: in function '__index'\n\t[string \"sub_trainset = {} ...\"]:4: in function '__index'\n\t[string \"sub_trainset = {} ...\"]:4: in function '__index'\n\t[string \"sub_trainset = {} ...\"]:4: in function '__index'\n\t[string \"sub_trainset = {} ...\"]:4: in function '__index'\n\t[string \"sub_trainset = {} ...\"]:4: in function '__index'\n\t[string \"sub_trainset = {} ...\"]:4: in function '__index'\n\t...\n\t[C]: in function 'xpcall'\n\t/Users/gbudiman/torch/install/share/lua/5.1/itorch/main.lua:210: in function </Users/gbudiman/torch/install/share/lua/5.1/itorch/main.lua:174>\n\t/Users/gbudiman/torch/install/share/lua/5.1/lzmq/poller.lua:75: in function 'poll'\n\t.../gbudiman/torch/install/share/lua/5.1/lzmq/impl/loop.lua:307: in function 'poll'\n\t.../gbudiman/torch/install/share/lua/5.1/lzmq/impl/loop.lua:325: in function 'sleep_ex'\n\t.../gbudiman/torch/install/share/lua/5.1/lzmq/impl/loop.lua:370: in function 'start'\n\t/Users/gbudiman/torch/install/share/lua/5.1/itorch/main.lua:389: in main chunk\n\t[C]: in function 'require'\n\t(command line):1: in main chunk\n\t[C]: at 0x010d8cfd00"
     ]
    }
   ],
   "source": [
    "sub_trainset = {} \n",
    "setmetatable(sub_trainset, \n",
    "  {__index = function(t, i)\n",
    "               return {t.data[i], t.label[i]}\n",
    "             end}\n",
    ")\n",
    "\n",
    "sub_trainset.data = trainset.data[{ {1,subset}, {}, {}, {} }]\n",
    "\n",
    "print(#sub_trainset.data)\n",
    "print(sub_trainset[1])"
   ]
  },
  {
   "cell_type": "code",
   "execution_count": null,
   "metadata": {
    "collapsed": false
   },
   "outputs": [],
   "source": []
  },
  {
   "cell_type": "code",
   "execution_count": null,
   "metadata": {
    "collapsed": true
   },
   "outputs": [],
   "source": []
  }
 ],
 "metadata": {
  "anaconda-cloud": {},
  "kernelspec": {
   "display_name": "iTorch",
   "language": "lua",
   "name": "itorch"
  },
  "language_info": {
   "name": "lua",
   "version": "5.1"
  }
 },
 "nbformat": 4,
 "nbformat_minor": 1
}
