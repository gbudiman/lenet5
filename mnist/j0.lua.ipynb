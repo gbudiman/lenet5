{
 "cells": [
  {
   "cell_type": "code",
   "execution_count": 1,
   "metadata": {
    "collapsed": true
   },
   "outputs": [],
   "source": [
    "subset = 100 -- use -1 for full training set"
   ]
  },
  {
   "cell_type": "code",
   "execution_count": 2,
   "metadata": {
    "collapsed": false
   },
   "outputs": [],
   "source": [
    "trainset = torch.load('mnist-p1b-train.t7')\n",
    "setmetatable(trainset, \n",
    "  {__index = function(t, i)\n",
    "               return {t.data[i], t.label[i]}\n",
    "             end}\n",
    ")"
   ]
  },
  {
   "cell_type": "code",
   "execution_count": 3,
   "metadata": {
    "collapsed": false
   },
   "outputs": [],
   "source": [
    "sub_trainset = {} \n",
    "\n",
    "\n",
    "sub_trainset.data = trainset.data[{ {1,subset}, {}, {}, {} }]\n",
    "sub_trainset.label = trainset.label[{ {1,subset} }]\n",
    "\n",
    "setmetatable(sub_trainset, \n",
    "  {__index = function(t, i)\n",
    "               return {t.data[i], t.label[i]}\n",
    "             end}\n",
    ")"
   ]
  },
  {
   "cell_type": "code",
   "execution_count": null,
   "metadata": {
    "collapsed": true
   },
   "outputs": [],
   "source": [
    "sub_trainset.data = sub_trainset.data:double()"
   ]
  },
  {
   "cell_type": "code",
   "execution_count": 10,
   "metadata": {
    "collapsed": false
   },
   "outputs": [
    {
     "data": {
      "text/plain": [
       "24.715693359375\t69.025317230048\t\n"
      ]
     },
     "execution_count": 10,
     "metadata": {},
     "output_type": "execute_result"
    }
   ],
   "source": [
    "mean = sub_trainset.data[{ {}, {}, {}, {} }]:mean()\n",
    "stdev = sub_trainset.data[{ {}, {}, {}, {} }]:std()\n",
    "\n",
    "sub_trainset.data[{ {}, {}, {}, {} }]:add(-mean)\n",
    "sub_trainset.data[{ {}, {}, {}, {} }]:div(stdev)"
   ]
  },
  {
   "cell_type": "code",
   "execution_count": null,
   "metadata": {
    "collapsed": true
   },
   "outputs": [],
   "source": [
    "net = nn.Sequential()\n",
    "\n",
    "net:add(nn.SpatialConvolution(3, 6, 5, 5))\n",
    "net:add(nn.ReLU())\n",
    "net:add(nn.SpatialMaxPooling(2, 2, 2, 2))\n",
    "\n",
    "net:add(nn.SpatialConvolution(6, 16, 5, 5))\n",
    "net:add(nn.ReLU())\n",
    "net:add(nn.SpatialMaxPooling(2, 2, 2, 2))\n",
    "\n",
    "net:add(nn.View(16*5*5))\n",
    "net:add(nn.Linear(16*5*5, 120))\n",
    "net:add(nn.ReLU())\n",
    "net:add(nn.Linear(120, 84))\n",
    "net:add(nn.ReLU())\n",
    "net:add(nn.Linear(84, 10))\n",
    "net:add(nn.LogSoftMax())"
   ]
  }
 ],
 "metadata": {
  "anaconda-cloud": {},
  "kernelspec": {
   "display_name": "iTorch",
   "language": "lua",
   "name": "itorch"
  },
  "language_info": {
   "name": "lua",
   "version": "5.1"
  }
 },
 "nbformat": 4,
 "nbformat_minor": 1
}
