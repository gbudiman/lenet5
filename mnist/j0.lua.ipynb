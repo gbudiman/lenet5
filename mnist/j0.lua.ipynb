{
 "cells": [
  {
   "cell_type": "code",
   "execution_count": 1,
   "metadata": {
    "collapsed": true
   },
   "outputs": [],
   "source": [
    "require 'nn'\n",
    "require 'optim'"
   ]
  },
  {
   "cell_type": "code",
   "execution_count": 2,
   "metadata": {
    "collapsed": true
   },
   "outputs": [],
   "source": [
    "subset = 100 -- use -1 for full training set"
   ]
  },
  {
   "cell_type": "code",
   "execution_count": 3,
   "metadata": {
    "collapsed": false
   },
   "outputs": [],
   "source": [
    "trainset = torch.load('mnist-p1b-train.t7')\n",
    "setmetatable(trainset, \n",
    "  {__index = function(t, i)\n",
    "               return {t.data[i], t.label[i]}\n",
    "             end}\n",
    ")"
   ]
  },
  {
   "cell_type": "code",
   "execution_count": 4,
   "metadata": {
    "collapsed": false
   },
   "outputs": [],
   "source": [
    "sub_trainset = {} \n",
    "\n",
    "\n",
    "sub_trainset.data = trainset.data[{ {1,subset}, {}, {}, {} }]\n",
    "sub_trainset.label = trainset.label[{ {1,subset} }]\n",
    "\n",
    "setmetatable(sub_trainset, \n",
    "  {__index = function(t, i)\n",
    "               return {t.data[i], t.label[i]}\n",
    "             end}\n",
    ")"
   ]
  },
  {
   "cell_type": "code",
   "execution_count": 5,
   "metadata": {
    "collapsed": true
   },
   "outputs": [],
   "source": [
    "sub_trainset.data = sub_trainset.data:double()"
   ]
  },
  {
   "cell_type": "code",
   "execution_count": 6,
   "metadata": {
    "collapsed": false
   },
   "outputs": [],
   "source": [
    "mean = sub_trainset.data[{ {}, {}, {}, {} }]:mean()\n",
    "stdev = sub_trainset.data[{ {}, {}, {}, {} }]:std()\n",
    "\n",
    "sub_trainset.data[{ {}, {}, {}, {} }]:add(-mean)\n",
    "sub_trainset.data[{ {}, {}, {}, {} }]:div(stdev)"
   ]
  },
  {
   "cell_type": "code",
   "execution_count": 7,
   "metadata": {
    "collapsed": false
   },
   "outputs": [],
   "source": [
    "net = nn.Sequential()\n",
    "\n",
    "net:add(nn.SpatialConvolution(3, 6, 5, 5))\n",
    "net:add(nn.ReLU())\n",
    "net:add(nn.SpatialMaxPooling(2, 2, 2, 2))\n",
    "\n",
    "net:add(nn.SpatialConvolution(6, 16, 5, 5))\n",
    "net:add(nn.ReLU())\n",
    "net:add(nn.SpatialMaxPooling(2, 2, 2, 2))\n",
    "\n",
    "net:add(nn.View(16*5*5))\n",
    "net:add(nn.Linear(16*5*5, 120))\n",
    "net:add(nn.ReLU())\n",
    "net:add(nn.Linear(120, 84))\n",
    "net:add(nn.ReLU())\n",
    "net:add(nn.Linear(84, 10))\n",
    "net:add(nn.LogSoftMax())"
   ]
  },
  {
   "cell_type": "code",
   "execution_count": 8,
   "metadata": {
    "collapsed": false
   },
   "outputs": [],
   "source": [
    "parameters, grad_parameters = net:getParameters()"
   ]
  },
  {
   "cell_type": "code",
   "execution_count": 7,
   "metadata": {
    "collapsed": false
   },
   "outputs": [
    {
     "data": {
      "text/plain": [
       " 10\n",
       "  1\n",
       " 32\n",
       " 32\n",
       "[torch.LongStorage of size 4]\n",
       "\n",
       "10\t\n"
      ]
     },
     "execution_count": 7,
     "metadata": {},
     "output_type": "execute_result"
    },
    {
     "ename": "...rs/gbudiman/torch/install/share/lua/5.1/nn/Container.lua:67: \nIn 1 module of nn.Sequential:\n/Users/gbudiman/torch/install/share/lua/5.1/nn/THNN.lua:110: Need input of dimension 4 and input.size[1] == 3 but got input to be of shape: [10 x 1 x 32 x 32] at /Users/gbudiman/torch/extra/nn/lib/THNN/generic/SpatialConvolutionMM.c:47\nstack traceback:\n\t[C]: in function 'v'\n\t/Users/gbudiman/torch/install/share/lua/5.1/nn/THNN.lua:110: in function 'SpatialConvolutionMM_updateOutput'\n\t...an/torch/install/share/lua/5.1/nn/SpatialConvolution.lua:96: in function <...an/torch/install/share/lua/5.1/nn/SpatialConvolution.lua:92>\n\t[C]: in function 'xpcall'\n\t...rs/gbudiman/torch/install/share/lua/5.1/nn/Container.lua:63: in function 'rethrowErrors'\n\t...s/gbudiman/torch/install/share/lua/5.1/nn/Sequential.lua:44: in function 'forward'\n\t[string \"local n_epoch = 20...\"]:20: in main chunk\n\t[C]: in function 'xpcall'\n\t/Users/gbudiman/torch/install/share/lua/5.1/itorch/main.lua:210: in function </Users/gbudiman/torch/install/share/lua/5.1/itorch/main.lua:174>\n\t/Users/gbudiman/torch/install/share/lua/5.1/lzmq/poller.lua:75: in function 'poll'\n\t.../gbudiman/torch/install/share/lua/5.1/lzmq/impl/loop.lua:307: in function 'poll'\n\t.../gbudiman/torch/install/share/lua/5.1/lzmq/impl/loop.lua:325: in function 'sleep_ex'\n\t.../gbudiman/torch/install/share/lua/5.1/lzmq/impl/loop.lua:370: in function 'start'\n\t/Users/gbudiman/torch/install/share/lua/5.1/itorch/main.lua:389: in main chunk\n\t[C]: in function 'require'\n\t(command line):1: in main chunk\n\t[C]: at 0x010de6cd00\n\nWARNING: If you see a stack trace below, it doesn't point to the place where this error occurred. Please use only the one above.\nstack traceback:\n\t[C]: in function 'error'\n\t...rs/gbudiman/torch/install/share/lua/5.1/nn/Container.lua:67: in function 'rethrowErrors'\n\t...s/gbudiman/torch/install/share/lua/5.1/nn/Sequential.lua:44: in function 'forward'\n\t[string \"local n_epoch = 20...\"]:20: in main chunk\n\t[C]: in function 'xpcall'\n\t/Users/gbudiman/torch/install/share/lua/5.1/itorch/main.lua:210: in function </Users/gbudiman/torch/install/share/lua/5.1/itorch/main.lua:174>\n\t/Users/gbudiman/torch/install/share/lua/5.1/lzmq/poller.lua:75: in function 'poll'\n\t.../gbudiman/torch/install/share/lua/5.1/lzmq/impl/loop.lua:307: in function 'poll'\n\t.../gbudiman/torch/install/share/lua/5.1/lzmq/impl/loop.lua:325: in function 'sleep_ex'\n\t.../gbudiman/torch/install/share/lua/5.1/lzmq/impl/loop.lua:370: in function 'start'\n\t/Users/gbudiman/torch/install/share/lua/5.1/itorch/main.lua:389: in main chunk\n\t[C]: in function 'require'\n\t(command line):1: in main chunk\n\t[C]: at 0x010de6cd00",
     "evalue": "",
     "output_type": "error",
     "traceback": [
      "...rs/gbudiman/torch/install/share/lua/5.1/nn/Container.lua:67: \nIn 1 module of nn.Sequential:\n/Users/gbudiman/torch/install/share/lua/5.1/nn/THNN.lua:110: Need input of dimension 4 and input.size[1] == 3 but got input to be of shape: [10 x 1 x 32 x 32] at /Users/gbudiman/torch/extra/nn/lib/THNN/generic/SpatialConvolutionMM.c:47\nstack traceback:\n\t[C]: in function 'v'\n\t/Users/gbudiman/torch/install/share/lua/5.1/nn/THNN.lua:110: in function 'SpatialConvolutionMM_updateOutput'\n\t...an/torch/install/share/lua/5.1/nn/SpatialConvolution.lua:96: in function <...an/torch/install/share/lua/5.1/nn/SpatialConvolution.lua:92>\n\t[C]: in function 'xpcall'\n\t...rs/gbudiman/torch/install/share/lua/5.1/nn/Container.lua:63: in function 'rethrowErrors'\n\t...s/gbudiman/torch/install/share/lua/5.1/nn/Sequential.lua:44: in function 'forward'\n\t[string \"local n_epoch = 20...\"]:20: in main chunk\n\t[C]: in function 'xpcall'\n\t/Users/gbudiman/torch/install/share/lua/5.1/itorch/main.lua:210: in function </Users/gbudiman/torch/install/share/lua/5.1/itorch/main.lua:174>\n\t/Users/gbudiman/torch/install/share/lua/5.1/lzmq/poller.lua:75: in function 'poll'\n\t.../gbudiman/torch/install/share/lua/5.1/lzmq/impl/loop.lua:307: in function 'poll'\n\t.../gbudiman/torch/install/share/lua/5.1/lzmq/impl/loop.lua:325: in function 'sleep_ex'\n\t.../gbudiman/torch/install/share/lua/5.1/lzmq/impl/loop.lua:370: in function 'start'\n\t/Users/gbudiman/torch/install/share/lua/5.1/itorch/main.lua:389: in main chunk\n\t[C]: in function 'require'\n\t(command line):1: in main chunk\n\t[C]: at 0x010de6cd00\n\nWARNING: If you see a stack trace below, it doesn't point to the place where this error occurred. Please use only the one above.\nstack traceback:\n\t[C]: in function 'error'\n\t...rs/gbudiman/torch/install/share/lua/5.1/nn/Container.lua:67: in function 'rethrowErrors'\n\t...s/gbudiman/torch/install/share/lua/5.1/nn/Sequential.lua:44: in function 'forward'\n\t[string \"local n_epoch = 20...\"]:20: in main chunk\n\t[C]: in function 'xpcall'\n\t/Users/gbudiman/torch/install/share/lua/5.1/itorch/main.lua:210: in function </Users/gbudiman/torch/install/share/lua/5.1/itorch/main.lua:174>\n\t/Users/gbudiman/torch/install/share/lua/5.1/lzmq/poller.lua:75: in function 'poll'\n\t.../gbudiman/torch/install/share/lua/5.1/lzmq/impl/loop.lua:307: in function 'poll'\n\t.../gbudiman/torch/install/share/lua/5.1/lzmq/impl/loop.lua:325: in function 'sleep_ex'\n\t.../gbudiman/torch/install/share/lua/5.1/lzmq/impl/loop.lua:370: in function 'start'\n\t/Users/gbudiman/torch/install/share/lua/5.1/itorch/main.lua:389: in main chunk\n\t[C]: in function 'require'\n\t(command line):1: in main chunk\n\t[C]: at 0x010de6cd00"
     ]
    }
   ],
   "source": [
    "local n_epoch = 20\n",
    "\n",
    "for e = 1, n_epoch do\n",
    "    local size = sub_trainset.data:size()[1]\n",
    "    local batch_size = 10;\n",
    "    local tloss = 0\n",
    "    \n",
    "    local classes = { 1, 2, 3, 4, 5, 6, 7, 8, 9, 0 }\n",
    "    local confusion = optim.ConfusionMatrix(classes)\n",
    "    \n",
    "    for t = 1, size, 10 do\n",
    "        local batch_size = math.min(batch_size, size - t + 1)\n",
    "        local input = sub_trainset.data:narrow(1, t, batch_size)\n",
    "        local target = sub_trainset.label:narrow(1, t, batch_size)\n",
    "        \n",
    "        grad_parameters:zero()\n",
    "        \n",
    "        print(#input)\n",
    "        print(input:size()[1])\n",
    "        local output = net:forward(input)\n",
    "        \n",
    "        --local loss = criterion:forward(input)\n",
    "    end\n",
    "end"
   ]
  },
  {
   "cell_type": "code",
   "execution_count": null,
   "metadata": {
    "collapsed": true
   },
   "outputs": [],
   "source": []
  }
 ],
 "metadata": {
  "anaconda-cloud": {},
  "kernelspec": {
   "display_name": "iTorch",
   "language": "lua",
   "name": "itorch"
  },
  "language_info": {
   "name": "lua",
   "version": "5.1"
  }
 },
 "nbformat": 4,
 "nbformat_minor": 1
}
