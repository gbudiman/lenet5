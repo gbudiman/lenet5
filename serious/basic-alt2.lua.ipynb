{
 "cells": [
  {
   "cell_type": "code",
   "execution_count": 1,
   "metadata": {
    "collapsed": true
   },
   "outputs": [],
   "source": [
    "-- Gloria Budiman\n",
    "-- EE569 HW4\n",
    "-- 6528-1836-50\n",
    "-- 11/25/2016\n",
    "\n",
    "require 'nn'\n",
    "require 'optim'\n",
    "\n",
    "torch.manualSeed(0)\n",
    "torch.setnumthreads(4)"
   ]
  },
  {
   "cell_type": "code",
   "execution_count": 2,
   "metadata": {
    "collapsed": true
   },
   "outputs": [],
   "source": [
    "function setup() \n",
    "    classes = { 1, 2, 3, 4, 5, 6, 7, 8, 9, 10 }\n",
    "    geometry = { 32, 32 }\n",
    "\n",
    "    net = nn.Sequential()\n",
    "\n",
    "    net:add(nn.SpatialConvolution(1, 6, 5, 5))\n",
    "    net:add(nn.ReLU())\n",
    "    net:add(nn.SpatialMaxPooling(2, 2, 2, 2))\n",
    "\n",
    "    net:add(nn.SpatialConvolution(6, 16, 5, 5))\n",
    "    net:add(nn.ReLU())\n",
    "    net:add(nn.SpatialMaxPooling(2, 2, 2, 2))\n",
    "\n",
    "    net:add(nn.View(16*5*5))\n",
    "    net:add(nn.Linear(16*5*5, 120))\n",
    "    net:add(nn.ReLU())\n",
    "    net:add(nn.Linear(120, 84))\n",
    "    net:add(nn.ReLU())\n",
    "    net:add(nn.Linear(84, #classes))\n",
    "    net:add(nn.LogSoftMax())\n",
    "    \n",
    "    parameters, gradParameters = net:getParameters()\n",
    "    criterion = nn.ClassNLLCriterion()\n",
    "    confusion = optim.ConfusionMatrix(classes)\n",
    "end"
   ]
  },
  {
   "cell_type": "code",
   "execution_count": 3,
   "metadata": {
    "collapsed": true
   },
   "outputs": [],
   "source": [
    "function normalize(input, n_channels)\n",
    "    local mean = {}\n",
    "    local stdev = {}\n",
    "    \n",
    "    for channel = 1, n_channels do\n",
    "        mean[channel] = input.data[{ {}, {channel}, {}, {} }]:mean()\n",
    "        stdev[channel] = input.data[{ {}, {channel}, {}, {} }]:std()\n",
    "        \n",
    "        print('Channel ' .. channel .. ' mean: ' .. mean[channel] .. ' stdev: ' .. stdev[channel])\n",
    "        \n",
    "        input.data[{ {}, {channel}, {}, {} }]:add(-mean[channel])\n",
    "        input.data[{ {}, {channel}, {}, {} }]:div(stdev[channel])\n",
    "    end\n",
    "end"
   ]
  },
  {
   "cell_type": "code",
   "execution_count": 4,
   "metadata": {
    "collapsed": true
   },
   "outputs": [],
   "source": [
    "function load_data()    \n",
    "    train = torch.load('mnist-p1b-train.t7')\n",
    "    test = torch.load('mnist-p1b-test.t7')\n",
    "    \n",
    "    n_train = train.data:size()[1]\n",
    "    n_test = test.data:size()[1]\n",
    "    \n",
    "    train.data = train.data:double()\n",
    "    test.data = test.data:double()\n",
    "end"
   ]
  },
  {
   "cell_type": "code",
   "execution_count": 5,
   "metadata": {
    "collapsed": false
   },
   "outputs": [],
   "source": [
    "function exec_training(obj, n_channels, current_epoch) \n",
    "    confusion:zero()\n",
    "    \n",
    "    for t = 1, n_train, batch_size do\n",
    "        local limit = math.min(t + batch_size - 1, n_train)\n",
    "        \n",
    "        local limited_batch_size = limit - t + 1\n",
    "        local inputs = torch.Tensor(limited_batch_size, n_channels, geometry[1], geometry[2])\n",
    "        local targets = torch.Tensor(limited_batch_size)\n",
    "        local k = 1\n",
    "        \n",
    "        for i = t, limit do\n",
    "            local input = obj.data[i]:clone()\n",
    "            local target = obj.label[i]\n",
    "            \n",
    "            inputs[k] = input\n",
    "            targets[k] = target\n",
    "            k = k + 1\n",
    "        end\n",
    "        \n",
    "        local feval = function(x)\n",
    "            collectgarbage()\n",
    "            \n",
    "            if x ~= parameters then\n",
    "                parameters:copy(x)\n",
    "            end\n",
    "            gradParameters:zero()\n",
    "            \n",
    "            local outputs = net:forward(inputs)\n",
    "            local f = criterion:forward(outputs, targets)\n",
    "            local df_do = criterion:backward(outputs, targets)\n",
    "            net:backward(inputs, df_do)\n",
    "            \n",
    "            for i = 1, limited_batch_size do\n",
    "                confusion:add(outputs[i], targets[i])\n",
    "            end\n",
    "            \n",
    "            return f, gradParameters\n",
    "        end\n",
    "        \n",
    "        sgd_state = sgd_state or {\n",
    "            learningRate = 0.03,\n",
    "            learningRateDecay = 1e-7,\n",
    "            momentum = 0.5\n",
    "        }\n",
    "        optim.sgd(feval, parameters, sgd_state)\n",
    "    end\n",
    "    \n",
    "    confusion:updateValids()\n",
    "    return confusion.averageValid\n",
    "end"
   ]
  },
  {
   "cell_type": "code",
   "execution_count": 6,
   "metadata": {
    "collapsed": true
   },
   "outputs": [],
   "source": [
    "function exec_testing(obj, n_channels, current_epoch)\n",
    "    confusion:zero()\n",
    "    \n",
    "    for t = 1, n_test, batch_size do\n",
    "        local limit = math.min(t + batch_size - 1, n_test)\n",
    "        \n",
    "        local limited_batch_size = limit - t + 1\n",
    "        local inputs = torch.Tensor(limited_batch_size, n_channels, geometry[1], geometry[2])\n",
    "        local targets = torch.Tensor(limited_batch_size)\n",
    "        local k = 1\n",
    "        \n",
    "        for i = t, limit do\n",
    "            local input = obj.data[i]:clone()\n",
    "            local target = obj.label[i]\n",
    "            \n",
    "            inputs[k] = input\n",
    "            targets[k] = target\n",
    "            k = k + 1\n",
    "        end\n",
    "        \n",
    "        local preds = net:forward(inputs)\n",
    "        \n",
    "        for i = 1, limited_batch_size do\n",
    "            confusion:add(preds[i], targets[i])\n",
    "        end\n",
    "    end \n",
    "    \n",
    "    confusion:updateValids()\n",
    "    return confusion.averageValid\n",
    "end"
   ]
  },
  {
   "cell_type": "code",
   "execution_count": 7,
   "metadata": {
    "collapsed": false,
    "scrolled": false
   },
   "outputs": [
    {
     "data": {
      "text/plain": [
       "Channel 1 mean: 25.509416422526 stdev: 70.180423838273\t\n"
      ]
     },
     "execution_count": 7,
     "metadata": {},
     "output_type": "execute_result"
    },
    {
     "data": {
      "text/plain": [
       "Channel 1 mean: 25.87140625 stdev: 70.739298703524\t\n"
      ]
     },
     "execution_count": 7,
     "metadata": {},
     "output_type": "execute_result"
    },
    {
     "data": {
      "text/plain": [
       "Epoch   1: 63.1956% | 86.4350%\n"
      ]
     },
     "execution_count": 7,
     "metadata": {},
     "output_type": "execute_result"
    },
    {
     "data": {
      "text/plain": [
       "Epoch   2: 92.3765% | 93.5962%\n"
      ]
     },
     "execution_count": 7,
     "metadata": {},
     "output_type": "execute_result"
    },
    {
     "data": {
      "text/plain": [
       "Epoch   3: 95.1587% | 96.0699%\n"
      ]
     },
     "execution_count": 7,
     "metadata": {},
     "output_type": "execute_result"
    },
    {
     "data": {
      "text/plain": [
       "Epoch   4: 96.3743% | 96.9199%\n"
      ]
     },
     "execution_count": 7,
     "metadata": {},
     "output_type": "execute_result"
    },
    {
     "data": {
      "text/plain": [
       "Epoch   5: 97.0129% | 97.1292%\n"
      ]
     },
     "execution_count": 7,
     "metadata": {},
     "output_type": "execute_result"
    },
    {
     "data": {
      "text/plain": [
       "Epoch   6: 97.4392% | 97.4085%\n"
      ]
     },
     "execution_count": 7,
     "metadata": {},
     "output_type": "execute_result"
    },
    {
     "data": {
      "text/plain": [
       "Epoch   7: 97.6867% | 97.6602%\n"
      ]
     },
     "execution_count": 7,
     "metadata": {},
     "output_type": "execute_result"
    },
    {
     "data": {
      "text/plain": [
       "Epoch   8: 97.9385% | 97.9020%\n"
      ]
     },
     "execution_count": 7,
     "metadata": {},
     "output_type": "execute_result"
    },
    {
     "data": {
      "text/plain": [
       "Epoch   9: 98.1291% | 97.9627%\n"
      ]
     },
     "execution_count": 7,
     "metadata": {},
     "output_type": "execute_result"
    },
    {
     "data": {
      "text/plain": [
       "Epoch  10: 98.2964% | 98.1358%\n"
      ]
     },
     "execution_count": 7,
     "metadata": {},
     "output_type": "execute_result"
    },
    {
     "data": {
      "text/plain": [
       "Epoch  11: 98.4244% | 98.1959%\n"
      ]
     },
     "execution_count": 7,
     "metadata": {},
     "output_type": "execute_result"
    },
    {
     "data": {
      "text/plain": [
       "Epoch  12: 98.5664% | 98.2574%\n"
      ]
     },
     "execution_count": 7,
     "metadata": {},
     "output_type": "execute_result"
    },
    {
     "data": {
      "text/plain": [
       "Epoch  13: 98.6806% | 98.3067%\n"
      ]
     },
     "execution_count": 7,
     "metadata": {},
     "output_type": "execute_result"
    },
    {
     "data": {
      "text/plain": [
       "Epoch  14: 98.7761% | 98.3976%\n"
      ]
     },
     "execution_count": 7,
     "metadata": {},
     "output_type": "execute_result"
    },
    {
     "data": {
      "text/plain": [
       "Epoch  15: 98.8579% | 98.4463%\n"
      ]
     },
     "execution_count": 7,
     "metadata": {},
     "output_type": "execute_result"
    },
    {
     "data": {
      "text/plain": [
       "Epoch  16: 98.9098% | 98.5261%\n"
      ]
     },
     "execution_count": 7,
     "metadata": {},
     "output_type": "execute_result"
    },
    {
     "data": {
      "text/plain": [
       "Epoch  17: 98.9797% | 98.5465%\n"
      ]
     },
     "execution_count": 7,
     "metadata": {},
     "output_type": "execute_result"
    },
    {
     "data": {
      "text/plain": [
       "Epoch  18: 99.0350% | 98.6451%\n"
      ]
     },
     "execution_count": 7,
     "metadata": {},
     "output_type": "execute_result"
    },
    {
     "data": {
      "text/plain": [
       "Epoch  19: 99.0952% | 98.6856%\n"
      ]
     },
     "execution_count": 7,
     "metadata": {},
     "output_type": "execute_result"
    },
    {
     "data": {
      "text/plain": [
       "Epoch  20: 99.1404% | 98.6849%\n"
      ]
     },
     "execution_count": 7,
     "metadata": {},
     "output_type": "execute_result"
    },
    {
     "data": {
      "text/plain": [
       "Epoch  21: 99.1847% | 98.7160%\n"
      ]
     },
     "execution_count": 7,
     "metadata": {},
     "output_type": "execute_result"
    },
    {
     "data": {
      "text/plain": [
       "Epoch  22: 99.2302% | 98.7065%\n"
      ]
     },
     "execution_count": 7,
     "metadata": {},
     "output_type": "execute_result"
    },
    {
     "data": {
      "text/plain": [
       "Epoch  23: 99.2753% | 98.7150%\n"
      ]
     },
     "execution_count": 7,
     "metadata": {},
     "output_type": "execute_result"
    },
    {
     "data": {
      "text/plain": [
       "Epoch  24: 99.3147% | 98.7555%\n"
      ]
     },
     "execution_count": 7,
     "metadata": {},
     "output_type": "execute_result"
    },
    {
     "data": {
      "text/plain": [
       "Epoch  25: 99.3561% | 98.7669%\n"
      ]
     },
     "execution_count": 7,
     "metadata": {},
     "output_type": "execute_result"
    },
    {
     "data": {
      "text/plain": [
       "Epoch  26: 99.3915% | 98.7490%\n"
      ]
     },
     "execution_count": 7,
     "metadata": {},
     "output_type": "execute_result"
    },
    {
     "data": {
      "text/plain": [
       "Epoch  27: 99.4496% | 98.7391%\n"
      ]
     },
     "execution_count": 7,
     "metadata": {},
     "output_type": "execute_result"
    },
    {
     "data": {
      "text/plain": [
       "Epoch  28: 99.4955% | 98.7257%\n"
      ]
     },
     "execution_count": 7,
     "metadata": {},
     "output_type": "execute_result"
    },
    {
     "data": {
      "text/plain": [
       "Epoch  29: 99.5299% | 98.6764%\n"
      ]
     },
     "execution_count": 7,
     "metadata": {},
     "output_type": "execute_result"
    },
    {
     "data": {
      "text/plain": [
       "Epoch  30: 99.5589% | 98.7265%\n"
      ]
     },
     "execution_count": 7,
     "metadata": {},
     "output_type": "execute_result"
    },
    {
     "data": {
      "text/plain": [
       "Epoch  31: 99.5971% | 98.7584%\n"
      ]
     },
     "execution_count": 7,
     "metadata": {},
     "output_type": "execute_result"
    },
    {
     "data": {
      "text/plain": [
       "Epoch  32: 99.6036% | 98.7486%\n",
       "ConfusionMatrix:\n",
       "[[    5912       1       4       0       1       0       2       0       1       2]   99.814% \t[class: 1]\n",
       " [       1    6725       0       0       0       1       3      10       2       0]   99.748% \t[class: 2]\n",
       " [       2       3    5941       1       1       1       0       6       3       0]   99.715% \t[class: 3]\n",
       " [       0       0       2    6107       0       7       0       4       7       4]   99.609% \t[class: 4]\n",
       " [       1       2       0       0    5821       0       4       2       1      11]   99.641% \t[class: 5]\n",
       " [       0       1       1       6       1    5395       8       0       5       4]   99.520% \t[class: 6]\n",
       " [       4       1       0       0       4       6    5900       0       3       0]   99.696% \t[class: 7]\n",
       " [       0       8       4       0       1       0       0    6242       2       8]   99.633% \t[class: 8]\n",
       " [       3       6       2       6       2       5       3       2    5813       9]   99.351% \t[class: 9]\n",
       " [       3       1       0       5      14       2       1      10       5    5908]]  99.311% \t[class: 10]\n",
       " + average row correct: 99.603633880615% \n",
       " + average rowUcol correct (VOC measure): 99.213260412216% \n",
       " + global correct: 99.606666666667%\t\n",
       "ConfusionMatrix:\n",
       "[[     977       0       0       0       0       0       0       0       2       1]   99.694% \t[class: 1]\n",
       " [       0    1131       0       1       0       1       0       1       1       0]   99.648% \t[class: 2]\n",
       " [       2       0    1028       0       0       0       0       1       1       0]   99.612% \t[class: 3]\n",
       " [       0       0       1    1003       0       2       0       0       2       2]   99.307% \t[class: 4]\n",
       " [       0       0       1       0     969       0       1       0       1      10]   98.676% \t[class: 5]\n",
       " [       2       0       0       6       0     879       1       0       2       2]   98.543% \t[class: 6]\n",
       " [       8       3       2       1       2      11     930       0       1       0]   97.077% \t[class: 7]\n",
       " [       0       2      10       1       0       0       0    1006       1       8]   97.860% \t[class: 8]\n",
       " [       4       0       3       4       0       2       0       1     958       2]   98.357% \t[class: 9]\n",
       " [       0       2       0       2       3       3       0       3       0     996]]  98.712% \t[class: 10]\n",
       " + average row correct: 98.748561143875% \n",
       " + average rowUcol correct (VOC measure): 97.539548277855% \n",
       " + global correct: 98.77%\t\n"
      ]
     },
     "execution_count": 7,
     "metadata": {},
     "output_type": "execute_result"
    }
   ],
   "source": [
    "setup()\n",
    "load_data()\n",
    "normalize(train, 1)\n",
    "normalize(test, 1)\n",
    "\n",
    "n_epoch = 32\n",
    "batch_size = 256\n",
    "local last_train_conf\n",
    "local last_test_conf\n",
    "for epoch = 1, n_epoch do\n",
    "    local acc_train = exec_training(train, 1, epoch)\n",
    "    \n",
    "    if (epoch == n_epoch) then\n",
    "        last_train_conf = confusion:__tostring__()\n",
    "    end\n",
    "    \n",
    "    local acc_test = exec_testing(test, 1, epoch)\n",
    "    \n",
    "    if (epoch == n_epoch) then\n",
    "        last_test_conf = confusion:__tostring__()\n",
    "    end\n",
    "    \n",
    "    io.write(string.format('Epoch %3d: %.4f%% | %.4f%%\\n', epoch, acc_train * 100, acc_test * 100))\n",
    "end\n",
    "\n",
    "print(last_train_conf)\n",
    "print(last_test_conf)"
   ]
  },
  {
   "cell_type": "code",
   "execution_count": null,
   "metadata": {
    "collapsed": true
   },
   "outputs": [],
   "source": []
  }
 ],
 "metadata": {
  "anaconda-cloud": {},
  "kernelspec": {
   "display_name": "iTorch",
   "language": "lua",
   "name": "itorch"
  },
  "language_info": {
   "name": "lua",
   "version": "5.1"
  }
 },
 "nbformat": 4,
 "nbformat_minor": 1
}
