{
 "cells": [
  {
   "cell_type": "code",
   "execution_count": 129,
   "metadata": {
    "collapsed": true
   },
   "outputs": [],
   "source": [
    "require 'nn'\n",
    "require 'optim'\n",
    "\n",
    "torch.manualSeed(0)\n",
    "torch.setnumthreads(4)"
   ]
  },
  {
   "cell_type": "code",
   "execution_count": 130,
   "metadata": {
    "collapsed": true
   },
   "outputs": [],
   "source": [
    "function setup() \n",
    "    classes = { 1, 2, 3, 4, 5, 6, 7, 8, 9, 10 }\n",
    "    geometry = { 32, 32 }\n",
    "\n",
    "    net = nn.Sequential()\n",
    "\n",
    "    net:add(nn.SpatialConvolution(1, 6, 5, 5))\n",
    "    net:add(nn.ReLU())\n",
    "    net:add(nn.SpatialMaxPooling(3, 3, 3, 3))\n",
    "\n",
    "    net:add(nn.SpatialConvolution(6, 16, 5, 5))\n",
    "    net:add(nn.ReLU())\n",
    "    net:add(nn.SpatialMaxPooling(3, 3, 3, 3))\n",
    "\n",
    "    -- net:add(nn.View(16*5*5))\n",
    "    net:add(nn.View(16*5*5))\n",
    "    net:add(nn.Linear(16*5*5, 120))\n",
    "    net:add(nn.ReLU())\n",
    "    net:add(nn.Linear(120, 84))\n",
    "    net:add(nn.ReLU())\n",
    "    net:add(nn.Linear(84, #classes))\n",
    "    net:add(nn.LogSoftMax())\n",
    "    \n",
    "    parameters, gradParameters = net:getParameters()\n",
    "    criterion = nn.ClassNLLCriterion()\n",
    "    confusion = optim.ConfusionMatrix(classes)\n",
    "end"
   ]
  },
  {
   "cell_type": "code",
   "execution_count": 131,
   "metadata": {
    "collapsed": true
   },
   "outputs": [],
   "source": [
    "function random_translate(obj) \n",
    "    n = torch.Tensor(1, 40, 40):zero()\n",
    "    n[{ {1}, {5, 36}, {5, 36 }}] = obj\n",
    "    \n",
    "    rand_x = torch.random(-6, 6)\n",
    "    rand_y = torch.random(-6, 6)\n",
    "    \n",
    "    n = image.translate(n, rand_x, rand_y)\n",
    "    n = image.crop(n, 4, 4, 36, 36)\n",
    "    return n\n",
    "end"
   ]
  },
  {
   "cell_type": "code",
   "execution_count": 132,
   "metadata": {
    "collapsed": true
   },
   "outputs": [],
   "source": [
    "function normalize(input, n_channels)\n",
    "    local mean = {}\n",
    "    local stdev = {}\n",
    "    \n",
    "    for channel = 1, n_channels do\n",
    "        mean[channel] = input.data[{ {}, {channel}, {}, {} }]:mean()\n",
    "        stdev[channel] = input.data[{ {}, {channel}, {}, {} }]:std()\n",
    "        \n",
    "        print('Channel ' .. channel .. ' mean: ' .. mean[channel] .. ' stdev: ' .. stdev[channel])\n",
    "        \n",
    "        input.data[{ {}, {channel}, {}, {} }]:add(-mean[channel])\n",
    "        input.data[{ {}, {channel}, {}, {} }]:div(stdev[channel])\n",
    "    end\n",
    "end"
   ]
  },
  {
   "cell_type": "code",
   "execution_count": 133,
   "metadata": {
    "collapsed": true
   },
   "outputs": [],
   "source": [
    "function load_data()    \n",
    "    train = torch.load('mnist-p1b-train.t7')\n",
    "    test = torch.load('mnist-p1b-test.t7')\n",
    "    \n",
    "    n_train = train.data:size()[1]\n",
    "    n_test = test.data:size()[1]\n",
    "    \n",
    "    for i = 1, n_test do\n",
    "        test.data[i] = random_translate(test.data[i])\n",
    "    end\n",
    "    \n",
    "    train.data = train.data:double()\n",
    "    test.data = test.data:double()\n",
    "    \n",
    "    n_train = 1000\n",
    "    n_test = 1000\n",
    "end"
   ]
  },
  {
   "cell_type": "code",
   "execution_count": 134,
   "metadata": {
    "collapsed": false
   },
   "outputs": [],
   "source": [
    "function exec_training(obj, n_channels, current_epoch) \n",
    "    confusion:zero()\n",
    "    \n",
    "    for t = 1, n_train, batch_size do\n",
    "        local limit = math.min(t + batch_size - 1, n_train)\n",
    "        \n",
    "        local limited_batch_size = limit - t + 1\n",
    "        local inputs = torch.Tensor(limited_batch_size, n_channels, geometry[1], geometry[2])\n",
    "        local targets = torch.Tensor(limited_batch_size)\n",
    "        local k = 1\n",
    "        \n",
    "        for i = t, limit do\n",
    "            local input = obj.data[i]:clone()\n",
    "            local target = obj.label[i]\n",
    "            \n",
    "            inputs[k] = input\n",
    "            targets[k] = target\n",
    "            k = k + 1\n",
    "        end\n",
    "        \n",
    "        local feval = function(x)\n",
    "            collectgarbage()\n",
    "            \n",
    "            if x ~= parameters then\n",
    "                parameters:copy(x)\n",
    "            end\n",
    "            gradParameters:zero()\n",
    "            \n",
    "            local outputs = net:forward(inputs)\n",
    "            local f = criterion:forward(outputs, targets)\n",
    "            local df_do = criterion:backward(outputs, targets)\n",
    "            net:backward(inputs, df_do)\n",
    "            \n",
    "            for i = 1, limited_batch_size do\n",
    "                confusion:add(outputs[i], targets[i])\n",
    "            end\n",
    "            \n",
    "            return f, gradParameters\n",
    "        end\n",
    "        \n",
    "        sgd_state = sgd_state or {\n",
    "            learningRate = 0.03,\n",
    "            learningRateDecay = 1e-7,\n",
    "            momentum = 0.5\n",
    "        }\n",
    "        optim.sgd(feval, parameters, sgd_state)\n",
    "    end\n",
    "    \n",
    "    confusion:updateValids()\n",
    "    return confusion.averageValid\n",
    "end"
   ]
  },
  {
   "cell_type": "code",
   "execution_count": 135,
   "metadata": {
    "collapsed": true
   },
   "outputs": [],
   "source": [
    "function exec_testing(obj, n_channels, current_epoch)\n",
    "    confusion:zero()\n",
    "    \n",
    "    for t = 1, n_test, batch_size do\n",
    "        local limit = math.min(t + batch_size - 1, n_test)\n",
    "        \n",
    "        local limited_batch_size = limit - t + 1\n",
    "        local inputs = torch.Tensor(limited_batch_size, n_channels, geometry[1], geometry[2])\n",
    "        local targets = torch.Tensor(limited_batch_size)\n",
    "        local k = 1\n",
    "        \n",
    "        for i = t, limit do\n",
    "            local input = obj.data[i]:clone()\n",
    "            local target = obj.label[i]\n",
    "            \n",
    "            inputs[k] = input\n",
    "            targets[k] = target\n",
    "            k = k + 1\n",
    "        end\n",
    "        \n",
    "        local preds = net:forward(inputs)\n",
    "        \n",
    "        for i = 1, limited_batch_size do\n",
    "            confusion:add(preds[i], targets[i])\n",
    "        end\n",
    "    end \n",
    "    \n",
    "    confusion:updateValids()\n",
    "    return confusion.averageValid\n",
    "end"
   ]
  },
  {
   "cell_type": "code",
   "execution_count": 136,
   "metadata": {
    "collapsed": false,
    "scrolled": false
   },
   "outputs": [
    {
     "data": {
      "text/plain": [
       "Channel 1 mean: 25.509416422526 stdev: 70.180423838273\t\n"
      ]
     },
     "execution_count": 136,
     "metadata": {},
     "output_type": "execute_result"
    },
    {
     "data": {
      "text/plain": [
       "Channel 1 mean: 25.781723046875 stdev: 70.645559945625\t\n"
      ]
     },
     "execution_count": 136,
     "metadata": {},
     "output_type": "execute_result"
    },
    {
     "ename": "...rs/gbudiman/torch/install/share/lua/5.1/nn/Container.lua:67: \nIn 7 module of nn.Sequential:\n/Users/gbudiman/torch/install/share/lua/5.1/nn/View.lua:47: input view (256x16x1x1) and desired view (400) do not match\nstack traceback:\n\t[C]: in function 'error'\n\t/Users/gbudiman/torch/install/share/lua/5.1/nn/View.lua:47: in function 'batchsize'\n\t/Users/gbudiman/torch/install/share/lua/5.1/nn/View.lua:79: in function </Users/gbudiman/torch/install/share/lua/5.1/nn/View.lua:77>\n\t[C]: in function 'xpcall'\n\t...rs/gbudiman/torch/install/share/lua/5.1/nn/Container.lua:63: in function 'rethrowErrors'\n\t...s/gbudiman/torch/install/share/lua/5.1/nn/Sequential.lua:44: in function 'forward'\n\t[string \"function exec_training(obj, n_channels, curre...\"]:29: in function 'opfunc'\n\t/Users/gbudiman/torch/install/share/lua/5.1/optim/sgd.lua:44: in function 'sgd'\n\t[string \"function exec_training(obj, n_channels, curre...\"]:46: in function 'exec_training'\n\t[string \"setup()...\"]:11: in main chunk\n\t[C]: in function 'xpcall'\n\t/Users/gbudiman/torch/install/share/lua/5.1/itorch/main.lua:210: in function </Users/gbudiman/torch/install/share/lua/5.1/itorch/main.lua:174>\n\t/Users/gbudiman/torch/install/share/lua/5.1/lzmq/poller.lua:75: in function 'poll'\n\t.../gbudiman/torch/install/share/lua/5.1/lzmq/impl/loop.lua:307: in function 'poll'\n\t.../gbudiman/torch/install/share/lua/5.1/lzmq/impl/loop.lua:325: in function 'sleep_ex'\n\t.../gbudiman/torch/install/share/lua/5.1/lzmq/impl/loop.lua:370: in function 'start'\n\t/Users/gbudiman/torch/install/share/lua/5.1/itorch/main.lua:389: in main chunk\n\t[C]: in function 'require'\n\t(command line):1: in main chunk\n\t[C]: at 0x01041b2d00\n\nWARNING: If you see a stack trace below, it doesn't point to the place where this error occurred. Please use only the one above.\nstack traceback:\n\t[C]: in function 'error'\n\t...rs/gbudiman/torch/install/share/lua/5.1/nn/Container.lua:67: in function 'rethrowErrors'\n\t...s/gbudiman/torch/install/share/lua/5.1/nn/Sequential.lua:44: in function 'forward'\n\t[string \"function exec_training(obj, n_channels, curre...\"]:29: in function 'opfunc'\n\t/Users/gbudiman/torch/install/share/lua/5.1/optim/sgd.lua:44: in function 'sgd'\n\t[string \"function exec_training(obj, n_channels, curre...\"]:46: in function 'exec_training'\n\t[string \"setup()...\"]:11: in main chunk\n\t[C]: in function 'xpcall'\n\t/Users/gbudiman/torch/install/share/lua/5.1/itorch/main.lua:210: in function </Users/gbudiman/torch/install/share/lua/5.1/itorch/main.lua:174>\n\t/Users/gbudiman/torch/install/share/lua/5.1/lzmq/poller.lua:75: in function 'poll'\n\t.../gbudiman/torch/install/share/lua/5.1/lzmq/impl/loop.lua:307: in function 'poll'\n\t.../gbudiman/torch/install/share/lua/5.1/lzmq/impl/loop.lua:325: in function 'sleep_ex'\n\t.../gbudiman/torch/install/share/lua/5.1/lzmq/impl/loop.lua:370: in function 'start'\n\t/Users/gbudiman/torch/install/share/lua/5.1/itorch/main.lua:389: in main chunk\n\t[C]: in function 'require'\n\t(command line):1: in main chunk\n\t[C]: at 0x01041b2d00",
     "evalue": "",
     "output_type": "error",
     "traceback": [
      "...rs/gbudiman/torch/install/share/lua/5.1/nn/Container.lua:67: \nIn 7 module of nn.Sequential:\n/Users/gbudiman/torch/install/share/lua/5.1/nn/View.lua:47: input view (256x16x1x1) and desired view (400) do not match\nstack traceback:\n\t[C]: in function 'error'\n\t/Users/gbudiman/torch/install/share/lua/5.1/nn/View.lua:47: in function 'batchsize'\n\t/Users/gbudiman/torch/install/share/lua/5.1/nn/View.lua:79: in function </Users/gbudiman/torch/install/share/lua/5.1/nn/View.lua:77>\n\t[C]: in function 'xpcall'\n\t...rs/gbudiman/torch/install/share/lua/5.1/nn/Container.lua:63: in function 'rethrowErrors'\n\t...s/gbudiman/torch/install/share/lua/5.1/nn/Sequential.lua:44: in function 'forward'\n\t[string \"function exec_training(obj, n_channels, curre...\"]:29: in function 'opfunc'\n\t/Users/gbudiman/torch/install/share/lua/5.1/optim/sgd.lua:44: in function 'sgd'\n\t[string \"function exec_training(obj, n_channels, curre...\"]:46: in function 'exec_training'\n\t[string \"setup()...\"]:11: in main chunk\n\t[C]: in function 'xpcall'\n\t/Users/gbudiman/torch/install/share/lua/5.1/itorch/main.lua:210: in function </Users/gbudiman/torch/install/share/lua/5.1/itorch/main.lua:174>\n\t/Users/gbudiman/torch/install/share/lua/5.1/lzmq/poller.lua:75: in function 'poll'\n\t.../gbudiman/torch/install/share/lua/5.1/lzmq/impl/loop.lua:307: in function 'poll'\n\t.../gbudiman/torch/install/share/lua/5.1/lzmq/impl/loop.lua:325: in function 'sleep_ex'\n\t.../gbudiman/torch/install/share/lua/5.1/lzmq/impl/loop.lua:370: in function 'start'\n\t/Users/gbudiman/torch/install/share/lua/5.1/itorch/main.lua:389: in main chunk\n\t[C]: in function 'require'\n\t(command line):1: in main chunk\n\t[C]: at 0x01041b2d00\n\nWARNING: If you see a stack trace below, it doesn't point to the place where this error occurred. Please use only the one above.\nstack traceback:\n\t[C]: in function 'error'\n\t...rs/gbudiman/torch/install/share/lua/5.1/nn/Container.lua:67: in function 'rethrowErrors'\n\t...s/gbudiman/torch/install/share/lua/5.1/nn/Sequential.lua:44: in function 'forward'\n\t[string \"function exec_training(obj, n_channels, curre...\"]:29: in function 'opfunc'\n\t/Users/gbudiman/torch/install/share/lua/5.1/optim/sgd.lua:44: in function 'sgd'\n\t[string \"function exec_training(obj, n_channels, curre...\"]:46: in function 'exec_training'\n\t[string \"setup()...\"]:11: in main chunk\n\t[C]: in function 'xpcall'\n\t/Users/gbudiman/torch/install/share/lua/5.1/itorch/main.lua:210: in function </Users/gbudiman/torch/install/share/lua/5.1/itorch/main.lua:174>\n\t/Users/gbudiman/torch/install/share/lua/5.1/lzmq/poller.lua:75: in function 'poll'\n\t.../gbudiman/torch/install/share/lua/5.1/lzmq/impl/loop.lua:307: in function 'poll'\n\t.../gbudiman/torch/install/share/lua/5.1/lzmq/impl/loop.lua:325: in function 'sleep_ex'\n\t.../gbudiman/torch/install/share/lua/5.1/lzmq/impl/loop.lua:370: in function 'start'\n\t/Users/gbudiman/torch/install/share/lua/5.1/itorch/main.lua:389: in main chunk\n\t[C]: in function 'require'\n\t(command line):1: in main chunk\n\t[C]: at 0x01041b2d00"
     ]
    }
   ],
   "source": [
    "setup()\n",
    "load_data()\n",
    "normalize(train, 1)\n",
    "normalize(test, 1)\n",
    "\n",
    "n_epoch = 1\n",
    "batch_size = 256\n",
    "local last_train_conf\n",
    "local last_test_conf\n",
    "for epoch = 1, n_epoch do\n",
    "    local acc_train = exec_training(train, 1, epoch)\n",
    "    \n",
    "    if (epoch == n_epoch) then\n",
    "        last_train_conf = confusion:__tostring__()\n",
    "    end\n",
    "    \n",
    "    local acc_test = exec_testing(test, 1, epoch)\n",
    "    \n",
    "    if (epoch == n_epoch) then\n",
    "        last_test_conf = confusion:__tostring__()\n",
    "    end\n",
    "    \n",
    "    io.write(string.format('Epoch %3d: %.4f%% | %.4f%%\\n', epoch, acc_train * 100, acc_test * 100))\n",
    "end\n",
    "\n",
    "print(last_train_conf)\n",
    "print(last_test_conf)"
   ]
  },
  {
   "cell_type": "code",
   "execution_count": null,
   "metadata": {
    "collapsed": true
   },
   "outputs": [],
   "source": []
  }
 ],
 "metadata": {
  "anaconda-cloud": {},
  "kernelspec": {
   "display_name": "iTorch",
   "language": "lua",
   "name": "itorch"
  },
  "language_info": {
   "name": "lua",
   "version": "5.1"
  }
 },
 "nbformat": 4,
 "nbformat_minor": 1
}
