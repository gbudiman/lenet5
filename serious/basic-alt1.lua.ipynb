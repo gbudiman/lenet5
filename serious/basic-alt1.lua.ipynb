{
 "cells": [
  {
   "cell_type": "code",
   "execution_count": 1,
   "metadata": {
    "collapsed": true
   },
   "outputs": [],
   "source": [
    "require 'nn'\n",
    "require 'optim'\n",
    "\n",
    "torch.manualSeed(0)\n",
    "torch.setnumthreads(4)"
   ]
  },
  {
   "cell_type": "code",
   "execution_count": 2,
   "metadata": {
    "collapsed": true
   },
   "outputs": [],
   "source": [
    "function setup() \n",
    "    classes = { 1, 2, 3, 4, 5, 6, 7, 8, 9, 10 }\n",
    "    geometry = { 32, 32 }\n",
    "\n",
    "    net = nn.Sequential()\n",
    "\n",
    "    net:add(nn.SpatialConvolution(1, 6, 5, 5))\n",
    "    net:add(nn.ReLU())\n",
    "    net:add(nn.SpatialMaxPooling(2, 2, 2, 2))\n",
    "\n",
    "    net:add(nn.SpatialConvolution(6, 16, 5, 5))\n",
    "    net:add(nn.ReLU())\n",
    "    net:add(nn.SpatialMaxPooling(2, 2, 2, 2))\n",
    "\n",
    "    net:add(nn.View(16*5*5))\n",
    "    net:add(nn.Linear(16*5*5, 120))\n",
    "    net:add(nn.ReLU())\n",
    "    net:add(nn.Linear(120, 84))\n",
    "    net:add(nn.ReLU())\n",
    "    net:add(nn.Linear(84, #classes))\n",
    "    net:add(nn.LogSoftMax())\n",
    "    \n",
    "    parameters, gradParameters = net:getParameters()\n",
    "    criterion = nn.ClassNLLCriterion()\n",
    "    confusion = optim.ConfusionMatrix(classes)\n",
    "end"
   ]
  },
  {
   "cell_type": "code",
   "execution_count": 3,
   "metadata": {
    "collapsed": true
   },
   "outputs": [],
   "source": [
    "function normalize(input, n_channels)\n",
    "    local mean = {}\n",
    "    local stdev = {}\n",
    "    \n",
    "    for channel = 1, n_channels do\n",
    "        mean[channel] = input.data[{ {}, {channel}, {}, {} }]:mean()\n",
    "        stdev[channel] = input.data[{ {}, {channel}, {}, {} }]:std()\n",
    "        \n",
    "        print('Channel ' .. channel .. ' mean: ' .. mean[channel] .. ' stdev: ' .. stdev[channel])\n",
    "        \n",
    "        input.data[{ {}, {channel}, {}, {} }]:add(-mean[channel])\n",
    "        input.data[{ {}, {channel}, {}, {} }]:div(stdev[channel])\n",
    "    end\n",
    "end"
   ]
  },
  {
   "cell_type": "code",
   "execution_count": 4,
   "metadata": {
    "collapsed": true
   },
   "outputs": [],
   "source": [
    "function load_data()    \n",
    "    train = torch.load('mnist-p1b-train.t7')\n",
    "    test = torch.load('mnist-p1b-test.t7')\n",
    "    \n",
    "    n_train = train.data:size()[1]\n",
    "    n_test = test.data:size()[1]\n",
    "    \n",
    "    train.data = train.data:double()\n",
    "    test.data = test.data:double()\n",
    "end"
   ]
  },
  {
   "cell_type": "code",
   "execution_count": 5,
   "metadata": {
    "collapsed": false
   },
   "outputs": [],
   "source": [
    "function exec_training(obj, n_channels, current_epoch) \n",
    "    confusion:zero()\n",
    "    \n",
    "    for t = 1, n_train, batch_size do\n",
    "        local limit = math.min(t + batch_size - 1, n_train)\n",
    "        \n",
    "        local limited_batch_size = limit - t + 1\n",
    "        local inputs = torch.Tensor(limited_batch_size, n_channels, geometry[1], geometry[2])\n",
    "        local targets = torch.Tensor(limited_batch_size)\n",
    "        local k = 1\n",
    "        \n",
    "        for i = t, limit do\n",
    "            local input = obj.data[i]:clone()\n",
    "            local target = obj.label[i]\n",
    "            \n",
    "            inputs[k] = input\n",
    "            targets[k] = target\n",
    "            k = k + 1\n",
    "        end\n",
    "        \n",
    "        local feval = function(x)\n",
    "            collectgarbage()\n",
    "            \n",
    "            if x ~= parameters then\n",
    "                parameters:copy(x)\n",
    "            end\n",
    "            gradParameters:zero()\n",
    "            \n",
    "            local outputs = net:forward(inputs)\n",
    "            local f = criterion:forward(outputs, targets)\n",
    "            local df_do = criterion:backward(outputs, targets)\n",
    "            net:backward(inputs, df_do)\n",
    "            \n",
    "            for i = 1, limited_batch_size do\n",
    "                confusion:add(outputs[i], targets[i])\n",
    "            end\n",
    "            \n",
    "            return f, gradParameters\n",
    "        end\n",
    "        \n",
    "        sgd_state = sgd_state or {\n",
    "            learningRate = 0.03,\n",
    "            learningRateDecay = 1e-7\n",
    "        }\n",
    "        optim.sgd(feval, parameters, sgd_state)\n",
    "    end\n",
    "    \n",
    "    confusion:updateValids()\n",
    "    return confusion.averageValid\n",
    "end"
   ]
  },
  {
   "cell_type": "code",
   "execution_count": 6,
   "metadata": {
    "collapsed": true
   },
   "outputs": [],
   "source": [
    "function exec_testing(obj, n_channels, current_epoch)\n",
    "    confusion:zero()\n",
    "    \n",
    "    for t = 1, n_test, batch_size do\n",
    "        local limit = math.min(t + batch_size - 1, n_test)\n",
    "        \n",
    "        local limited_batch_size = limit - t + 1\n",
    "        local inputs = torch.Tensor(limited_batch_size, n_channels, geometry[1], geometry[2])\n",
    "        local targets = torch.Tensor(limited_batch_size)\n",
    "        local k = 1\n",
    "        \n",
    "        for i = t, limit do\n",
    "            local input = obj.data[i]:clone()\n",
    "            local target = obj.label[i]\n",
    "            \n",
    "            inputs[k] = input\n",
    "            targets[k] = target\n",
    "            k = k + 1\n",
    "        end\n",
    "        \n",
    "        local preds = net:forward(inputs)\n",
    "        \n",
    "        for i = 1, limited_batch_size do\n",
    "            confusion:add(preds[i], targets[i])\n",
    "        end\n",
    "    end \n",
    "    \n",
    "    confusion:updateValids()\n",
    "    return confusion.averageValid\n",
    "end"
   ]
  },
  {
   "cell_type": "code",
   "execution_count": 7,
   "metadata": {
    "collapsed": false
   },
   "outputs": [
    {
     "data": {
      "text/plain": [
       "Channel 1 mean: 25.509416422526 stdev: 70.180423838273\t\n"
      ]
     },
     "execution_count": 7,
     "metadata": {},
     "output_type": "execute_result"
    },
    {
     "data": {
      "text/plain": [
       "Channel 1 mean: 25.87140625 stdev: 70.739298703524\t\n"
      ]
     },
     "execution_count": 7,
     "metadata": {},
     "output_type": "execute_result"
    },
    {
     "data": {
      "text/plain": [
       "Epoch   1: 60.8162% | 86.9976%\n"
      ]
     },
     "execution_count": 7,
     "metadata": {},
     "output_type": "execute_result"
    },
    {
     "data": {
      "text/plain": [
       "Epoch   2: 92.2206% | 93.0819%\n"
      ]
     },
     "execution_count": 7,
     "metadata": {},
     "output_type": "execute_result"
    },
    {
     "data": {
      "text/plain": [
       "Epoch   3: 95.3835% | 95.5764%\n"
      ]
     },
     "execution_count": 7,
     "metadata": {},
     "output_type": "execute_result"
    },
    {
     "data": {
      "text/plain": [
       "Epoch   4: 96.5018% | 96.6748%\n"
      ]
     },
     "execution_count": 7,
     "metadata": {},
     "output_type": "execute_result"
    },
    {
     "data": {
      "text/plain": [
       "Epoch   5: 97.1415% | 97.2236%\n"
      ]
     },
     "execution_count": 7,
     "metadata": {},
     "output_type": "execute_result"
    },
    {
     "data": {
      "text/plain": [
       "Epoch   6: 97.5372% | 97.5017%\n"
      ]
     },
     "execution_count": 7,
     "metadata": {},
     "output_type": "execute_result"
    },
    {
     "data": {
      "text/plain": [
       "Epoch   7: 97.7907% | 97.6612%\n"
      ]
     },
     "execution_count": 7,
     "metadata": {},
     "output_type": "execute_result"
    },
    {
     "data": {
      "text/plain": [
       "Epoch   8: 98.0383% | 97.8737%\n"
      ]
     },
     "execution_count": 7,
     "metadata": {},
     "output_type": "execute_result"
    },
    {
     "data": {
      "text/plain": [
       "Epoch   9: 98.2182% | 97.9834%\n"
      ]
     },
     "execution_count": 7,
     "metadata": {},
     "output_type": "execute_result"
    },
    {
     "data": {
      "text/plain": [
       "Epoch  10: 98.3844% | 98.1237%\n"
      ]
     },
     "execution_count": 7,
     "metadata": {},
     "output_type": "execute_result"
    },
    {
     "data": {
      "text/plain": [
       "Epoch  11: 98.5074% | 98.1816%\n"
      ]
     },
     "execution_count": 7,
     "metadata": {},
     "output_type": "execute_result"
    },
    {
     "data": {
      "text/plain": [
       "Epoch  12: 98.6112% | 98.2490%\n"
      ]
     },
     "execution_count": 7,
     "metadata": {},
     "output_type": "execute_result"
    },
    {
     "data": {
      "text/plain": [
       "Epoch  13: 98.7007% | 98.3500%\n"
      ]
     },
     "execution_count": 7,
     "metadata": {},
     "output_type": "execute_result"
    },
    {
     "data": {
      "text/plain": [
       "Epoch  14: 98.7899% | 98.3779%\n"
      ]
     },
     "execution_count": 7,
     "metadata": {},
     "output_type": "execute_result"
    },
    {
     "data": {
      "text/plain": [
       "Epoch  15: 98.8908% | 98.3866%\n"
      ]
     },
     "execution_count": 7,
     "metadata": {},
     "output_type": "execute_result"
    },
    {
     "data": {
      "text/plain": [
       "Epoch  16: 98.9473% | 98.3673%\n"
      ]
     },
     "execution_count": 7,
     "metadata": {},
     "output_type": "execute_result"
    },
    {
     "data": {
      "text/plain": [
       "Epoch  17: 98.9982% | 98.4675%\n"
      ]
     },
     "execution_count": 7,
     "metadata": {},
     "output_type": "execute_result"
    },
    {
     "data": {
      "text/plain": [
       "Epoch  18: 99.0488% | 98.4237%\n"
      ]
     },
     "execution_count": 7,
     "metadata": {},
     "output_type": "execute_result"
    },
    {
     "data": {
      "text/plain": [
       "Epoch  19: 99.1130% | 98.4976%\n"
      ]
     },
     "execution_count": 7,
     "metadata": {},
     "output_type": "execute_result"
    },
    {
     "data": {
      "text/plain": [
       "Epoch  20: 99.1491% | 98.5169%\n"
      ]
     },
     "execution_count": 7,
     "metadata": {},
     "output_type": "execute_result"
    },
    {
     "data": {
      "text/plain": [
       "Epoch  21: 99.2112% | 98.5487%\n"
      ]
     },
     "execution_count": 7,
     "metadata": {},
     "output_type": "execute_result"
    },
    {
     "data": {
      "text/plain": [
       "Epoch  22: 99.2635% | 98.5370%\n"
      ]
     },
     "execution_count": 7,
     "metadata": {},
     "output_type": "execute_result"
    },
    {
     "data": {
      "text/plain": [
       "Epoch  23: 99.2871% | 98.5870%\n"
      ]
     },
     "execution_count": 7,
     "metadata": {},
     "output_type": "execute_result"
    },
    {
     "data": {
      "text/plain": [
       "Epoch  24: 99.3360% | 98.5261%\n"
      ]
     },
     "execution_count": 7,
     "metadata": {},
     "output_type": "execute_result"
    },
    {
     "data": {
      "text/plain": [
       "Epoch  25: 99.3640% | 98.5074%\n"
      ]
     },
     "execution_count": 7,
     "metadata": {},
     "output_type": "execute_result"
    },
    {
     "data": {
      "text/plain": [
       "Epoch  26: 99.4107% | 98.5483%\n"
      ]
     },
     "execution_count": 7,
     "metadata": {},
     "output_type": "execute_result"
    },
    {
     "data": {
      "text/plain": [
       "Epoch  27: 99.4597% | 98.5684%\n"
      ]
     },
     "execution_count": 7,
     "metadata": {},
     "output_type": "execute_result"
    },
    {
     "data": {
      "text/plain": [
       "Epoch  28: 99.4882% | 98.5494%\n"
      ]
     },
     "execution_count": 7,
     "metadata": {},
     "output_type": "execute_result"
    },
    {
     "data": {
      "text/plain": [
       "Epoch  29: 99.5149% | 98.5782%\n"
      ]
     },
     "execution_count": 7,
     "metadata": {},
     "output_type": "execute_result"
    },
    {
     "data": {
      "text/plain": [
       "Epoch  30: 99.5434% | 98.5310%\n"
      ]
     },
     "execution_count": 7,
     "metadata": {},
     "output_type": "execute_result"
    },
    {
     "data": {
      "text/plain": [
       "Epoch  31: 99.5673% | 98.5723%\n"
      ]
     },
     "execution_count": 7,
     "metadata": {},
     "output_type": "execute_result"
    },
    {
     "data": {
      "text/plain": [
       "Epoch  32: 99.6026% | 98.5315%\n",
       "ConfusionMatrix:\n",
       "[[    5913       1       2       1       1       0       2       0       1       2]   99.831% \t[class: 1]\n",
       " [       0    6723       1       0       1       0       3      10       4       0]   99.718% \t[class: 2]\n",
       " [       3       3    5943       0       1       1       0       6       1       0]   99.748% \t[class: 3]\n",
       " [       0       0       3    6102       0       7       0       2      13       4]   99.527% \t[class: 4]\n",
       " [       0       2       0       0    5824       0       4       2       1       9]   99.692% \t[class: 5]\n",
       " [       1       1       1       5       1    5393      11       0       2       6]   99.483% \t[class: 6]\n",
       " [       3       5       0       0       1       5    5900       0       4       0]   99.696% \t[class: 7]\n",
       " [       0       9       7       0       2       0       0    6240       1       6]   99.601% \t[class: 8]\n",
       " [       1       4       4       6       2       3       4       3    5816       8]   99.402% \t[class: 9]\n",
       " [       4       1       0       1      15       3       0      13       3    5909]]  99.328% \t[class: 10]\n",
       " + average row correct: 99.602618813515% \n",
       " + average rowUcol correct (VOC measure): 99.211513400078% \n",
       " + global correct: 99.605%\t\n",
       "ConfusionMatrix:\n",
       "[[     977       0       0       0       0       0       0       0       2       1]   99.694% \t[class: 1]\n",
       " [       0    1130       0       0       0       1       1       1       2       0]   99.559% \t[class: 2]\n",
       " [       2       1    1027       0       0       0       0       1       1       0]   99.516% \t[class: 3]\n",
       " [       0       0       1    1000       0       4       0       0       2       3]   99.010% \t[class: 4]\n",
       " [       0       0       1       0     972       0       0       0       0       9]   98.982% \t[class: 5]\n",
       " [       2       1       0       6       0     875       1       0       2       5]   98.094% \t[class: 6]\n",
       " [       8       1       2       1       3      14     928       0       1       0]   96.868% \t[class: 7]\n",
       " [       0       4      15       0       0       0       0     984       4      21]   95.720% \t[class: 8]\n",
       " [       4       0       4       1       0       1       0       0     961       3]   98.665% \t[class: 9]\n",
       " [       0       2       0       1       4       1       0       0       0    1001]]  99.207% \t[class: 10]\n",
       " + average row correct: 98.531534671783% \n",
       " + average rowUcol correct (VOC measure): 97.117945551872% \n",
       " + global correct: 98.55%\t\n"
      ]
     },
     "execution_count": 7,
     "metadata": {},
     "output_type": "execute_result"
    }
   ],
   "source": [
    "setup()\n",
    "load_data()\n",
    "normalize(train, 1)\n",
    "normalize(test, 1)\n",
    "\n",
    "n_epoch = 32\n",
    "batch_size = 256\n",
    "local last_train_conf\n",
    "local last_test_conf\n",
    "for epoch = 1, n_epoch do\n",
    "    local acc_train = exec_training(train, 1, epoch)\n",
    "    \n",
    "    if (epoch == n_epoch) then\n",
    "        last_train_conf = confusion:__tostring__()\n",
    "    end\n",
    "    \n",
    "    local acc_test = exec_testing(test, 1, epoch)\n",
    "    \n",
    "    if (epoch == n_epoch) then\n",
    "        last_test_conf = confusion:__tostring__()\n",
    "    end\n",
    "    \n",
    "    io.write(string.format('Epoch %3d: %.4f%% | %.4f%%\\n', epoch, acc_train * 100, acc_test * 100))\n",
    "end\n",
    "\n",
    "print(last_train_conf)\n",
    "print(last_test_conf)"
   ]
  },
  {
   "cell_type": "code",
   "execution_count": null,
   "metadata": {
    "collapsed": true
   },
   "outputs": [],
   "source": []
  }
 ],
 "metadata": {
  "anaconda-cloud": {},
  "kernelspec": {
   "display_name": "iTorch",
   "language": "lua",
   "name": "itorch"
  },
  "language_info": {
   "name": "lua",
   "version": "5.1"
  }
 },
 "nbformat": 4,
 "nbformat_minor": 1
}
