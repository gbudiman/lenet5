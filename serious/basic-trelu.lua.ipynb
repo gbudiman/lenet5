{
 "cells": [
  {
   "cell_type": "code",
   "execution_count": 1,
   "metadata": {
    "collapsed": true
   },
   "outputs": [],
   "source": [
    "-- Gloria Budiman\n",
    "-- EE569 HW4\n",
    "-- 6528-1836-50\n",
    "-- 11/25/2016\n",
    "\n",
    "require 'nn'\n",
    "require 'optim'\n",
    "\n",
    "torch.manualSeed(0)\n",
    "torch.setnumthreads(4)"
   ]
  },
  {
   "cell_type": "code",
   "execution_count": 2,
   "metadata": {
    "collapsed": true
   },
   "outputs": [],
   "source": [
    "function setup(threshold) \n",
    "    classes = { 1, 2, 3, 4, 5, 6, 7, 8, 9, 10 }\n",
    "    geometry = { 32, 32 }\n",
    "\n",
    "    net = nn.Sequential()\n",
    "\n",
    "    net:add(nn.SpatialConvolution(1, 6, 5, 5))\n",
    "    \n",
    "    net:add(nn.AddConstant(threshold))\n",
    "    net:add(nn.ReLU())\n",
    "    net:add(nn.AddConstant(-threshold))\n",
    "    \n",
    "    net:add(nn.SpatialMaxPooling(2, 2, 2, 2))\n",
    "\n",
    "    net:add(nn.SpatialConvolution(6, 16, 5, 5))\n",
    "    \n",
    "    net:add(nn.AddConstant(threshold))\n",
    "    net:add(nn.ReLU())\n",
    "    net:add(nn.AddConstant(-threshold))\n",
    "    \n",
    "    net:add(nn.SpatialMaxPooling(2, 2, 2, 2))\n",
    "\n",
    "    net:add(nn.View(16*5*5))\n",
    "    net:add(nn.Linear(16*5*5, 120))\n",
    "    \n",
    "    net:add(nn.AddConstant(threshold))\n",
    "    net:add(nn.ReLU())\n",
    "    net:add(nn.AddConstant(-threshold))\n",
    "    \n",
    "    net:add(nn.Linear(120, 84))\n",
    "    \n",
    "    net:add(nn.AddConstant(threshold))\n",
    "    net:add(nn.ReLU())\n",
    "    net:add(nn.AddConstant(-threshold))\n",
    "    \n",
    "    net:add(nn.Linear(84, #classes))\n",
    "    net:add(nn.LogSoftMax())\n",
    "    \n",
    "    parameters, gradParameters = net:getParameters()\n",
    "    criterion = nn.ClassNLLCriterion()\n",
    "    confusion = optim.ConfusionMatrix(classes)\n",
    "end"
   ]
  },
  {
   "cell_type": "code",
   "execution_count": 3,
   "metadata": {
    "collapsed": true
   },
   "outputs": [],
   "source": [
    "function normalize(input, n_channels)\n",
    "    local mean = {}\n",
    "    local stdev = {}\n",
    "    \n",
    "    for channel = 1, n_channels do\n",
    "        mean[channel] = input.data[{ {}, {channel}, {}, {} }]:mean()\n",
    "        stdev[channel] = input.data[{ {}, {channel}, {}, {} }]:std()\n",
    "        \n",
    "        print('Channel ' .. channel .. ' mean: ' .. mean[channel] .. ' stdev: ' .. stdev[channel])\n",
    "        \n",
    "        input.data[{ {}, {channel}, {}, {} }]:add(-mean[channel])\n",
    "        input.data[{ {}, {channel}, {}, {} }]:div(stdev[channel])\n",
    "    end\n",
    "end"
   ]
  },
  {
   "cell_type": "code",
   "execution_count": 4,
   "metadata": {
    "collapsed": true
   },
   "outputs": [],
   "source": [
    "function load_data()    \n",
    "    train = torch.load('mnist-p1b-train.t7')\n",
    "    test = torch.load('mnist-p1b-test.t7')\n",
    "    \n",
    "    n_train = train.data:size()[1]\n",
    "    n_test = test.data:size()[1]\n",
    "    \n",
    "    train.data = train.data:double()\n",
    "    test.data = test.data:double()\n",
    "end"
   ]
  },
  {
   "cell_type": "code",
   "execution_count": 5,
   "metadata": {
    "collapsed": false
   },
   "outputs": [],
   "source": [
    "function exec_training(obj, n_channels, current_epoch) \n",
    "    confusion:zero()\n",
    "    \n",
    "    for t = 1, n_train, batch_size do\n",
    "        local limit = math.min(t + batch_size - 1, n_train)\n",
    "        \n",
    "        local limited_batch_size = limit - t + 1\n",
    "        local inputs = torch.Tensor(limited_batch_size, n_channels, geometry[1], geometry[2])\n",
    "        local targets = torch.Tensor(limited_batch_size)\n",
    "        local k = 1\n",
    "        \n",
    "        for i = t, limit do\n",
    "            local input = obj.data[i]:clone()\n",
    "            local target = obj.label[i]\n",
    "            \n",
    "            inputs[k] = input\n",
    "            targets[k] = target\n",
    "            k = k + 1\n",
    "        end\n",
    "        \n",
    "        local feval = function(x)\n",
    "            collectgarbage()\n",
    "            \n",
    "            if x ~= parameters then\n",
    "                parameters:copy(x)\n",
    "            end\n",
    "            gradParameters:zero()\n",
    "            \n",
    "            local outputs = net:forward(inputs)\n",
    "            local f = criterion:forward(outputs, targets)\n",
    "            local df_do = criterion:backward(outputs, targets)\n",
    "            net:backward(inputs, df_do)\n",
    "            \n",
    "            for i = 1, limited_batch_size do\n",
    "                confusion:add(outputs[i], targets[i])\n",
    "            end\n",
    "            \n",
    "            return f, gradParameters\n",
    "        end\n",
    "        \n",
    "        sgd_state = sgd_state or {\n",
    "            -- default parameter\n",
    "        }\n",
    "        optim.sgd(feval, parameters, sgd_state)\n",
    "    end\n",
    "    \n",
    "    confusion:updateValids()\n",
    "    return confusion.averageValid\n",
    "end"
   ]
  },
  {
   "cell_type": "code",
   "execution_count": 6,
   "metadata": {
    "collapsed": true
   },
   "outputs": [],
   "source": [
    "function exec_testing(obj, n_channels, current_epoch)\n",
    "    confusion:zero()\n",
    "    \n",
    "    for t = 1, n_test, batch_size do\n",
    "        local limit = math.min(t + batch_size - 1, n_test)\n",
    "        \n",
    "        local limited_batch_size = limit - t + 1\n",
    "        local inputs = torch.Tensor(limited_batch_size, n_channels, geometry[1], geometry[2])\n",
    "        local targets = torch.Tensor(limited_batch_size)\n",
    "        local k = 1\n",
    "        \n",
    "        for i = t, limit do\n",
    "            local input = obj.data[i]:clone()\n",
    "            local target = obj.label[i]\n",
    "            \n",
    "            inputs[k] = input\n",
    "            targets[k] = target\n",
    "            k = k + 1\n",
    "        end\n",
    "        \n",
    "        local preds = net:forward(inputs)\n",
    "        \n",
    "        for i = 1, limited_batch_size do\n",
    "            confusion:add(preds[i], targets[i])\n",
    "        end\n",
    "    end \n",
    "    \n",
    "    confusion:updateValids()\n",
    "    return confusion.averageValid\n",
    "end"
   ]
  },
  {
   "cell_type": "code",
   "execution_count": 7,
   "metadata": {
    "collapsed": true
   },
   "outputs": [],
   "source": [
    "function cycle(threshold)\n",
    "    io.write(string.format('Cycling with threshold %.1f', threshold))\n",
    "    setup(threshold)\n",
    "    load_data()\n",
    "    normalize(train, 1)\n",
    "    normalize(test, 1)\n",
    "\n",
    "    n_epoch = 32\n",
    "    batch_size = 256\n",
    "    local last_train_conf\n",
    "    local last_test_conf\n",
    "    for epoch = 1, n_epoch do\n",
    "        local acc_train = exec_training(train, 1, epoch)\n",
    "\n",
    "        if (epoch == n_epoch) then\n",
    "            last_train_conf = confusion:__tostring__()\n",
    "        end\n",
    "\n",
    "        local acc_test = exec_testing(test, 1, epoch)\n",
    "\n",
    "        if (epoch == n_epoch) then\n",
    "            last_test_conf = confusion:__tostring__()\n",
    "        end\n",
    "\n",
    "        io.write(string.format('Epoch %3d: %.4f%% | %.4f%%\\n', epoch, acc_train * 100, acc_test * 100))\n",
    "    end\n",
    "\n",
    "    print(last_train_conf)\n",
    "    print(last_test_conf)\n",
    "end"
   ]
  },
  {
   "cell_type": "code",
   "execution_count": 8,
   "metadata": {
    "collapsed": false
   },
   "outputs": [
    {
     "data": {
      "text/plain": [
       "Cycling with threshold -1.0"
      ]
     },
     "execution_count": 8,
     "metadata": {},
     "output_type": "execute_result"
    },
    {
     "data": {
      "text/plain": [
       "Channel 1 mean: 25.509416422526 stdev: 70.180423838273\t\n"
      ]
     },
     "execution_count": 8,
     "metadata": {},
     "output_type": "execute_result"
    },
    {
     "data": {
      "text/plain": [
       "Channel 1 mean: 25.87140625 stdev: 70.739298703524\t\n"
      ]
     },
     "execution_count": 8,
     "metadata": {},
     "output_type": "execute_result"
    },
    {
     "data": {
      "text/plain": [
       "Epoch   1: 10.0626% | 10.0000%\n"
      ]
     },
     "execution_count": 8,
     "metadata": {},
     "output_type": "execute_result"
    },
    {
     "data": {
      "text/plain": [
       "Epoch   2: 10.0295% | 10.0000%\n"
      ]
     },
     "execution_count": 8,
     "metadata": {},
     "output_type": "execute_result"
    },
    {
     "data": {
      "text/plain": [
       "Epoch   3: 10.0000% | 10.0000%\n"
      ]
     },
     "execution_count": 8,
     "metadata": {},
     "output_type": "execute_result"
    },
    {
     "data": {
      "text/plain": [
       "Epoch   4: 10.0000% | 10.0000%\n"
      ]
     },
     "execution_count": 8,
     "metadata": {},
     "output_type": "execute_result"
    },
    {
     "data": {
      "text/plain": [
       "Epoch   5: 10.0000% | 10.0000%\n"
      ]
     },
     "execution_count": 8,
     "metadata": {},
     "output_type": "execute_result"
    },
    {
     "data": {
      "text/plain": [
       "Epoch   6: 10.0000% | 10.0000%\n"
      ]
     },
     "execution_count": 8,
     "metadata": {},
     "output_type": "execute_result"
    },
    {
     "data": {
      "text/plain": [
       "Epoch   7: 10.0000% | 10.0000%\n"
      ]
     },
     "execution_count": 8,
     "metadata": {},
     "output_type": "execute_result"
    },
    {
     "data": {
      "text/plain": [
       "Epoch   8: 10.0000% | 10.0000%\n"
      ]
     },
     "execution_count": 8,
     "metadata": {},
     "output_type": "execute_result"
    },
    {
     "data": {
      "text/plain": [
       "Epoch   9: 10.0000% | 10.0000%\n"
      ]
     },
     "execution_count": 8,
     "metadata": {},
     "output_type": "execute_result"
    },
    {
     "data": {
      "text/plain": [
       "Epoch  10: 10.0000% | 10.0000%\n"
      ]
     },
     "execution_count": 8,
     "metadata": {},
     "output_type": "execute_result"
    },
    {
     "data": {
      "text/plain": [
       "Epoch  11: 10.0000% | 10.0000%\n"
      ]
     },
     "execution_count": 8,
     "metadata": {},
     "output_type": "execute_result"
    },
    {
     "data": {
      "text/plain": [
       "Epoch  12: 10.0000% | 10.0000%\n"
      ]
     },
     "execution_count": 8,
     "metadata": {},
     "output_type": "execute_result"
    },
    {
     "data": {
      "text/plain": [
       "Epoch  13: 10.0000% | 10.0000%\n"
      ]
     },
     "execution_count": 8,
     "metadata": {},
     "output_type": "execute_result"
    },
    {
     "data": {
      "text/plain": [
       "Epoch  14: 10.0000% | 10.0000%\n"
      ]
     },
     "execution_count": 8,
     "metadata": {},
     "output_type": "execute_result"
    },
    {
     "data": {
      "text/plain": [
       "Epoch  15: 10.0000% | 10.0000%\n"
      ]
     },
     "execution_count": 8,
     "metadata": {},
     "output_type": "execute_result"
    },
    {
     "data": {
      "text/plain": [
       "Epoch  16: 10.0000% | 10.0000%\n"
      ]
     },
     "execution_count": 8,
     "metadata": {},
     "output_type": "execute_result"
    },
    {
     "data": {
      "text/plain": [
       "Epoch  17: 10.0000% | 10.0000%\n"
      ]
     },
     "execution_count": 8,
     "metadata": {},
     "output_type": "execute_result"
    },
    {
     "data": {
      "text/plain": [
       "Epoch  18: 10.0000% | 10.0000%\n"
      ]
     },
     "execution_count": 8,
     "metadata": {},
     "output_type": "execute_result"
    },
    {
     "data": {
      "text/plain": [
       "Epoch  19: 10.0000% | 10.0000%\n"
      ]
     },
     "execution_count": 8,
     "metadata": {},
     "output_type": "execute_result"
    },
    {
     "data": {
      "text/plain": [
       "Epoch  20: 10.0000% | 10.0000%\n"
      ]
     },
     "execution_count": 8,
     "metadata": {},
     "output_type": "execute_result"
    },
    {
     "data": {
      "text/plain": [
       "Epoch  21: 10.0000% | 10.0000%\n"
      ]
     },
     "execution_count": 8,
     "metadata": {},
     "output_type": "execute_result"
    },
    {
     "data": {
      "text/plain": [
       "Epoch  22: 10.0000% | 10.0000%\n"
      ]
     },
     "execution_count": 8,
     "metadata": {},
     "output_type": "execute_result"
    },
    {
     "data": {
      "text/plain": [
       "Epoch  23: 10.0000% | 10.0000%\n"
      ]
     },
     "execution_count": 8,
     "metadata": {},
     "output_type": "execute_result"
    },
    {
     "data": {
      "text/plain": [
       "Epoch  24: 10.0000% | 10.0000%\n"
      ]
     },
     "execution_count": 8,
     "metadata": {},
     "output_type": "execute_result"
    },
    {
     "data": {
      "text/plain": [
       "Epoch  25: 10.0000% | 10.0000%\n"
      ]
     },
     "execution_count": 8,
     "metadata": {},
     "output_type": "execute_result"
    },
    {
     "data": {
      "text/plain": [
       "Epoch  26: 10.0000% | 10.0000%\n"
      ]
     },
     "execution_count": 8,
     "metadata": {},
     "output_type": "execute_result"
    },
    {
     "data": {
      "text/plain": [
       "Epoch  27: 10.0000% | 10.0000%\n"
      ]
     },
     "execution_count": 8,
     "metadata": {},
     "output_type": "execute_result"
    },
    {
     "data": {
      "text/plain": [
       "Epoch  28: 10.0000% | 10.0000%\n"
      ]
     },
     "execution_count": 8,
     "metadata": {},
     "output_type": "execute_result"
    },
    {
     "data": {
      "text/plain": [
       "Epoch  29: 10.0000% | 10.0000%\n"
      ]
     },
     "execution_count": 8,
     "metadata": {},
     "output_type": "execute_result"
    },
    {
     "data": {
      "text/plain": [
       "Epoch  30: 10.0000% | 10.0000%\n"
      ]
     },
     "execution_count": 8,
     "metadata": {},
     "output_type": "execute_result"
    },
    {
     "data": {
      "text/plain": [
       "Epoch  31: 10.0000% | 10.0000%\n"
      ]
     },
     "execution_count": 8,
     "metadata": {},
     "output_type": "execute_result"
    },
    {
     "data": {
      "text/plain": [
       "Epoch  32: 10.0000% | 10.0000%\n",
       "ConfusionMatrix:\n",
       "[[       0    5923       0       0       0       0       0       0       0       0]   0.000% \t[class: 1]\n",
       " [       0    6742       0       0       0       0       0       0       0       0]   100.000% \t[class: 2]\n",
       " [       0    5958       0       0       0       0       0       0       0       0]   0.000% \t[class: 3]\n",
       " [       0    6131       0       0       0       0       0       0       0       0]   0.000% \t[class: 4]\n",
       " [       0    5842       0       0       0       0       0       0       0       0]   0.000% \t[class: 5]\n",
       " [       0    5421       0       0       0       0       0       0       0       0]   0.000% \t[class: 6]\n",
       " [       0    5918       0       0       0       0       0       0       0       0]   0.000% \t[class: 7]\n",
       " [       0    6265       0       0       0       0       0       0       0       0]   0.000% \t[class: 8]\n",
       " [       0    5851       0       0       0       0       0       0       0       0]   0.000% \t[class: 9]\n",
       " [       0    5949       0       0       0       0       0       0       0       0]]  0.000% \t[class: 10]\n",
       " + average row correct: 10% \n",
       " + average rowUcol correct (VOC measure): 1.1236666887999% \n",
       " + global correct: 11.236666666667%\t\n",
       "ConfusionMatrix:\n",
       "[[       0     980       0       0       0       0       0       0       0       0]   0.000% \t[class: 1]\n",
       " [       0    1135       0       0       0       0       0       0       0       0]   100.000% \t[class: 2]\n",
       " [       0    1032       0       0       0       0       0       0       0       0]   0.000% \t[class: 3]\n",
       " [       0    1010       0       0       0       0       0       0       0       0]   0.000% \t[class: 4]\n",
       " [       0     982       0       0       0       0       0       0       0       0]   0.000% \t[class: 5]\n",
       " [       0     892       0       0       0       0       0       0       0       0]   0.000% \t[class: 6]\n",
       " [       0     958       0       0       0       0       0       0       0       0]   0.000% \t[class: 7]\n",
       " [       0    1028       0       0       0       0       0       0       0       0]   0.000% \t[class: 8]\n",
       " [       0     974       0       0       0       0       0       0       0       0]   0.000% \t[class: 9]\n",
       " [       0    1009       0       0       0       0       0       0       0       0]]  0.000% \t[class: 10]\n",
       " + average row correct: 10% \n",
       " + average rowUcol correct (VOC measure): 1.1349999904633% \n",
       " + global correct: 11.35%\t\n",
       "Cycling with threshold -0.9"
      ]
     },
     "execution_count": 8,
     "metadata": {},
     "output_type": "execute_result"
    },
    {
     "data": {
      "text/plain": [
       "Channel 1 mean: 25.509416422526 stdev: 70.180423838273\t\n"
      ]
     },
     "execution_count": 8,
     "metadata": {},
     "output_type": "execute_result"
    },
    {
     "data": {
      "text/plain": [
       "Channel 1 mean: 25.87140625 stdev: 70.739298703524\t\n"
      ]
     },
     "execution_count": 8,
     "metadata": {},
     "output_type": "execute_result"
    },
    {
     "data": {
      "text/plain": [
       "Epoch   1: 9.9132% | 10.0000%\n"
      ]
     },
     "execution_count": 8,
     "metadata": {},
     "output_type": "execute_result"
    },
    {
     "data": {
      "text/plain": [
       "Epoch   2: 10.0000% | 10.0000%\n"
      ]
     },
     "execution_count": 8,
     "metadata": {},
     "output_type": "execute_result"
    },
    {
     "data": {
      "text/plain": [
       "Epoch   3: 10.0000% | 10.0000%\n"
      ]
     },
     "execution_count": 8,
     "metadata": {},
     "output_type": "execute_result"
    },
    {
     "data": {
      "text/plain": [
       "Epoch   4: 10.0000% | 10.0000%\n"
      ]
     },
     "execution_count": 8,
     "metadata": {},
     "output_type": "execute_result"
    },
    {
     "data": {
      "text/plain": [
       "Epoch   5: 10.0000% | 10.0000%\n"
      ]
     },
     "execution_count": 8,
     "metadata": {},
     "output_type": "execute_result"
    },
    {
     "data": {
      "text/plain": [
       "Epoch   6: 10.0000% | 10.0000%\n"
      ]
     },
     "execution_count": 8,
     "metadata": {},
     "output_type": "execute_result"
    },
    {
     "data": {
      "text/plain": [
       "Epoch   7: 10.0000% | 10.0000%\n"
      ]
     },
     "execution_count": 8,
     "metadata": {},
     "output_type": "execute_result"
    },
    {
     "data": {
      "text/plain": [
       "Epoch   8: 10.0000% | 10.0000%\n"
      ]
     },
     "execution_count": 8,
     "metadata": {},
     "output_type": "execute_result"
    },
    {
     "data": {
      "text/plain": [
       "Epoch   9: 10.0000% | 10.0000%\n"
      ]
     },
     "execution_count": 8,
     "metadata": {},
     "output_type": "execute_result"
    },
    {
     "data": {
      "text/plain": [
       "Epoch  10: 10.0000% | 10.0000%\n"
      ]
     },
     "execution_count": 8,
     "metadata": {},
     "output_type": "execute_result"
    },
    {
     "data": {
      "text/plain": [
       "Epoch  11: 10.0000% | 10.0000%\n"
      ]
     },
     "execution_count": 8,
     "metadata": {},
     "output_type": "execute_result"
    },
    {
     "data": {
      "text/plain": [
       "Epoch  12: 10.0000% | 10.0000%\n"
      ]
     },
     "execution_count": 8,
     "metadata": {},
     "output_type": "execute_result"
    },
    {
     "data": {
      "text/plain": [
       "Epoch  13: 10.0000% | 10.0000%\n"
      ]
     },
     "execution_count": 8,
     "metadata": {},
     "output_type": "execute_result"
    },
    {
     "data": {
      "text/plain": [
       "Epoch  14: 10.0000% | 10.0000%\n"
      ]
     },
     "execution_count": 8,
     "metadata": {},
     "output_type": "execute_result"
    },
    {
     "data": {
      "text/plain": [
       "Epoch  15: 10.0000% | 10.0000%\n"
      ]
     },
     "execution_count": 8,
     "metadata": {},
     "output_type": "execute_result"
    },
    {
     "data": {
      "text/plain": [
       "Epoch  16: 10.0000% | 10.0000%\n"
      ]
     },
     "execution_count": 8,
     "metadata": {},
     "output_type": "execute_result"
    },
    {
     "data": {
      "text/plain": [
       "Epoch  17: 10.0000% | 10.0000%\n"
      ]
     },
     "execution_count": 8,
     "metadata": {},
     "output_type": "execute_result"
    },
    {
     "data": {
      "text/plain": [
       "Epoch  18: 10.0000% | 10.0000%\n"
      ]
     },
     "execution_count": 8,
     "metadata": {},
     "output_type": "execute_result"
    },
    {
     "data": {
      "text/plain": [
       "Epoch  19: 10.0000% | 10.0000%\n"
      ]
     },
     "execution_count": 8,
     "metadata": {},
     "output_type": "execute_result"
    },
    {
     "data": {
      "text/plain": [
       "Epoch  20: 10.0000% | 10.0000%\n"
      ]
     },
     "execution_count": 8,
     "metadata": {},
     "output_type": "execute_result"
    },
    {
     "data": {
      "text/plain": [
       "Epoch  21: 10.0000% | 10.0000%\n"
      ]
     },
     "execution_count": 8,
     "metadata": {},
     "output_type": "execute_result"
    },
    {
     "data": {
      "text/plain": [
       "Epoch  22: 10.0000% | 10.0000%\n"
      ]
     },
     "execution_count": 8,
     "metadata": {},
     "output_type": "execute_result"
    },
    {
     "data": {
      "text/plain": [
       "Epoch  23: 10.0000% | 10.0000%\n"
      ]
     },
     "execution_count": 8,
     "metadata": {},
     "output_type": "execute_result"
    },
    {
     "data": {
      "text/plain": [
       "Epoch  24: 10.0000% | 10.0000%\n"
      ]
     },
     "execution_count": 8,
     "metadata": {},
     "output_type": "execute_result"
    },
    {
     "data": {
      "text/plain": [
       "Epoch  25: 10.0000% | 10.0000%\n"
      ]
     },
     "execution_count": 8,
     "metadata": {},
     "output_type": "execute_result"
    },
    {
     "data": {
      "text/plain": [
       "Epoch  26: 10.0000% | 10.0000%\n"
      ]
     },
     "execution_count": 8,
     "metadata": {},
     "output_type": "execute_result"
    },
    {
     "data": {
      "text/plain": [
       "Epoch  27: 10.0000% | 10.0000%\n"
      ]
     },
     "execution_count": 8,
     "metadata": {},
     "output_type": "execute_result"
    },
    {
     "data": {
      "text/plain": [
       "Epoch  28: 10.0000% | 10.0000%\n"
      ]
     },
     "execution_count": 8,
     "metadata": {},
     "output_type": "execute_result"
    },
    {
     "data": {
      "text/plain": [
       "Epoch  29: 10.0000% | 10.0000%\n"
      ]
     },
     "execution_count": 8,
     "metadata": {},
     "output_type": "execute_result"
    },
    {
     "data": {
      "text/plain": [
       "Epoch  30: 10.0000% | 10.0000%\n"
      ]
     },
     "execution_count": 8,
     "metadata": {},
     "output_type": "execute_result"
    },
    {
     "data": {
      "text/plain": [
       "Epoch  31: 10.0000% | 10.0000%\n"
      ]
     },
     "execution_count": 8,
     "metadata": {},
     "output_type": "execute_result"
    },
    {
     "data": {
      "text/plain": [
       "Epoch  32: 10.0000% | 10.0000%\n",
       "ConfusionMatrix:\n",
       "[[       0    5923       0       0       0       0       0       0       0       0]   0.000% \t[class: 1]\n",
       " [       0    6742       0       0       0       0       0       0       0       0]   100.000% \t[class: 2]\n",
       " [       0    5958       0       0       0       0       0       0       0       0]   0.000% \t[class: 3]\n",
       " [       0    6131       0       0       0       0       0       0       0       0]   0.000% \t[class: 4]\n",
       " [       0    5842       0       0       0       0       0       0       0       0]   0.000% \t[class: 5]\n",
       " [       0    5421       0       0       0       0       0       0       0       0]   0.000% \t[class: 6]\n",
       " [       0    5918       0       0       0       0       0       0       0       0]   0.000% \t[class: 7]\n",
       " [       0    6265       0       0       0       0       0       0       0       0]   0.000% \t[class: 8]\n",
       " [       0    5851       0       0       0       0       0       0       0       0]   0.000% \t[class: 9]\n",
       " [       0    5949       0       0       0       0       0       0       0       0]]  0.000% \t[class: 10]\n",
       " + average row correct: 10% \n",
       " + average rowUcol correct (VOC measure): 1.1236666887999% \n",
       " + global correct: 11.236666666667%\t\n",
       "ConfusionMatrix:\n",
       "[[       0     980       0       0       0       0       0       0       0       0]   0.000% \t[class: 1]\n",
       " [       0    1135       0       0       0       0       0       0       0       0]   100.000% \t[class: 2]\n",
       " [       0    1032       0       0       0       0       0       0       0       0]   0.000% \t[class: 3]\n",
       " [       0    1010       0       0       0       0       0       0       0       0]   0.000% \t[class: 4]\n",
       " [       0     982       0       0       0       0       0       0       0       0]   0.000% \t[class: 5]\n",
       " [       0     892       0       0       0       0       0       0       0       0]   0.000% \t[class: 6]\n",
       " [       0     958       0       0       0       0       0       0       0       0]   0.000% \t[class: 7]\n",
       " [       0    1028       0       0       0       0       0       0       0       0]   0.000% \t[class: 8]\n",
       " [       0     974       0       0       0       0       0       0       0       0]   0.000% \t[class: 9]\n",
       " [       0    1009       0       0       0       0       0       0       0       0]]  0.000% \t[class: 10]\n",
       " + average row correct: 10% \n",
       " + average rowUcol correct (VOC measure): 1.1349999904633% \n",
       " + global correct: 11.35%\t\n",
       "Cycling with threshold -0.8"
      ]
     },
     "execution_count": 8,
     "metadata": {},
     "output_type": "execute_result"
    },
    {
     "data": {
      "text/plain": [
       "Channel 1 mean: 25.509416422526 stdev: 70.180423838273\t\n"
      ]
     },
     "execution_count": 8,
     "metadata": {},
     "output_type": "execute_result"
    },
    {
     "data": {
      "text/plain": [
       "Channel 1 mean: 25.87140625 stdev: 70.739298703524\t\n"
      ]
     },
     "execution_count": 8,
     "metadata": {},
     "output_type": "execute_result"
    },
    {
     "data": {
      "text/plain": [
       "Epoch   1: 10.0000% | 10.0000%\n"
      ]
     },
     "execution_count": 8,
     "metadata": {},
     "output_type": "execute_result"
    },
    {
     "data": {
      "text/plain": [
       "Epoch   2: 9.9676% | 10.0000%\n"
      ]
     },
     "execution_count": 8,
     "metadata": {},
     "output_type": "execute_result"
    },
    {
     "data": {
      "text/plain": [
       "Epoch   3: 10.0000% | 10.0000%\n"
      ]
     },
     "execution_count": 8,
     "metadata": {},
     "output_type": "execute_result"
    },
    {
     "data": {
      "text/plain": [
       "Epoch   4: 10.0000% | 10.0000%\n"
      ]
     },
     "execution_count": 8,
     "metadata": {},
     "output_type": "execute_result"
    },
    {
     "data": {
      "text/plain": [
       "Epoch   5: 10.0000% | 10.0000%\n"
      ]
     },
     "execution_count": 8,
     "metadata": {},
     "output_type": "execute_result"
    },
    {
     "data": {
      "text/plain": [
       "Epoch   6: 10.0000% | 10.0000%\n"
      ]
     },
     "execution_count": 8,
     "metadata": {},
     "output_type": "execute_result"
    },
    {
     "data": {
      "text/plain": [
       "Epoch   7: 10.0000% | 10.0000%\n"
      ]
     },
     "execution_count": 8,
     "metadata": {},
     "output_type": "execute_result"
    },
    {
     "data": {
      "text/plain": [
       "Epoch   8: 10.0000% | 10.0000%\n"
      ]
     },
     "execution_count": 8,
     "metadata": {},
     "output_type": "execute_result"
    },
    {
     "data": {
      "text/plain": [
       "Epoch   9: 10.0000% | 10.0000%\n"
      ]
     },
     "execution_count": 8,
     "metadata": {},
     "output_type": "execute_result"
    },
    {
     "data": {
      "text/plain": [
       "Epoch  10: 10.0000% | 10.0000%\n"
      ]
     },
     "execution_count": 8,
     "metadata": {},
     "output_type": "execute_result"
    },
    {
     "data": {
      "text/plain": [
       "Epoch  11: 10.0000% | 10.0000%\n"
      ]
     },
     "execution_count": 8,
     "metadata": {},
     "output_type": "execute_result"
    },
    {
     "data": {
      "text/plain": [
       "Epoch  12: 10.0000% | 10.0000%\n"
      ]
     },
     "execution_count": 8,
     "metadata": {},
     "output_type": "execute_result"
    },
    {
     "data": {
      "text/plain": [
       "Epoch  13: 10.0000% | 10.0000%\n"
      ]
     },
     "execution_count": 8,
     "metadata": {},
     "output_type": "execute_result"
    },
    {
     "data": {
      "text/plain": [
       "Epoch  14: 10.0000% | 10.0000%\n"
      ]
     },
     "execution_count": 8,
     "metadata": {},
     "output_type": "execute_result"
    },
    {
     "data": {
      "text/plain": [
       "Epoch  15: 10.0000% | 10.0000%\n"
      ]
     },
     "execution_count": 8,
     "metadata": {},
     "output_type": "execute_result"
    },
    {
     "data": {
      "text/plain": [
       "Epoch  16: 10.0000% | 10.0000%\n"
      ]
     },
     "execution_count": 8,
     "metadata": {},
     "output_type": "execute_result"
    },
    {
     "data": {
      "text/plain": [
       "Epoch  17: 10.0000% | 10.0000%\n"
      ]
     },
     "execution_count": 8,
     "metadata": {},
     "output_type": "execute_result"
    },
    {
     "data": {
      "text/plain": [
       "Epoch  18: 10.0000% | 10.0000%\n"
      ]
     },
     "execution_count": 8,
     "metadata": {},
     "output_type": "execute_result"
    },
    {
     "data": {
      "text/plain": [
       "Epoch  19: 10.0000% | 10.0000%\n"
      ]
     },
     "execution_count": 8,
     "metadata": {},
     "output_type": "execute_result"
    },
    {
     "data": {
      "text/plain": [
       "Epoch  20: 10.0000% | 10.0000%\n"
      ]
     },
     "execution_count": 8,
     "metadata": {},
     "output_type": "execute_result"
    },
    {
     "data": {
      "text/plain": [
       "Epoch  21: 10.0000% | 10.0000%\n"
      ]
     },
     "execution_count": 8,
     "metadata": {},
     "output_type": "execute_result"
    },
    {
     "data": {
      "text/plain": [
       "Epoch  22: 10.0000% | 10.0000%\n"
      ]
     },
     "execution_count": 8,
     "metadata": {},
     "output_type": "execute_result"
    },
    {
     "data": {
      "text/plain": [
       "Epoch  23: 10.0000% | 10.0000%\n"
      ]
     },
     "execution_count": 8,
     "metadata": {},
     "output_type": "execute_result"
    },
    {
     "data": {
      "text/plain": [
       "Epoch  24: 10.0000% | 10.0000%\n"
      ]
     },
     "execution_count": 8,
     "metadata": {},
     "output_type": "execute_result"
    },
    {
     "data": {
      "text/plain": [
       "Epoch  25: 10.0000% | 10.0000%\n"
      ]
     },
     "execution_count": 8,
     "metadata": {},
     "output_type": "execute_result"
    },
    {
     "data": {
      "text/plain": [
       "Epoch  26: 10.0000% | 10.0000%\n"
      ]
     },
     "execution_count": 8,
     "metadata": {},
     "output_type": "execute_result"
    },
    {
     "data": {
      "text/plain": [
       "Epoch  27: 10.0000% | 10.0000%\n"
      ]
     },
     "execution_count": 8,
     "metadata": {},
     "output_type": "execute_result"
    },
    {
     "data": {
      "text/plain": [
       "Epoch  28: 10.0000% | 10.0000%\n"
      ]
     },
     "execution_count": 8,
     "metadata": {},
     "output_type": "execute_result"
    },
    {
     "data": {
      "text/plain": [
       "Epoch  29: 10.0000% | 10.0000%\n"
      ]
     },
     "execution_count": 8,
     "metadata": {},
     "output_type": "execute_result"
    },
    {
     "data": {
      "text/plain": [
       "Epoch  30: 10.0000% | 10.0000%\n"
      ]
     },
     "execution_count": 8,
     "metadata": {},
     "output_type": "execute_result"
    },
    {
     "data": {
      "text/plain": [
       "Epoch  31: 10.0000% | 10.0000%\n"
      ]
     },
     "execution_count": 8,
     "metadata": {},
     "output_type": "execute_result"
    },
    {
     "data": {
      "text/plain": [
       "Epoch  32: 10.0000% | 10.0000%\n",
       "ConfusionMatrix:\n",
       "[[       0    5923       0       0       0       0       0       0       0       0]   0.000% \t[class: 1]\n",
       " [       0    6742       0       0       0       0       0       0       0       0]   100.000% \t[class: 2]\n",
       " [       0    5958       0       0       0       0       0       0       0       0]   0.000% \t[class: 3]\n",
       " [       0    6131       0       0       0       0       0       0       0       0]   0.000% \t[class: 4]\n",
       " [       0    5842       0       0       0       0       0       0       0       0]   0.000% \t[class: 5]\n",
       " [       0    5421       0       0       0       0       0       0       0       0]   0.000% \t[class: 6]\n",
       " [       0    5918       0       0       0       0       0       0       0       0]   0.000% \t[class: 7]\n",
       " [       0    6265       0       0       0       0       0       0       0       0]   0.000% \t[class: 8]\n",
       " [       0    5851       0       0       0       0       0       0       0       0]   0.000% \t[class: 9]\n",
       " [       0    5949       0       0       0       0       0       0       0       0]]  0.000% \t[class: 10]\n",
       " + average row correct: 10% \n",
       " + average rowUcol correct (VOC measure): 1.1236666887999% \n",
       " + global correct: 11.236666666667%\t\n",
       "ConfusionMatrix:\n",
       "[[       0     980       0       0       0       0       0       0       0       0]   0.000% \t[class: 1]\n",
       " [       0    1135       0       0       0       0       0       0       0       0]   100.000% \t[class: 2]\n",
       " [       0    1032       0       0       0       0       0       0       0       0]   0.000% \t[class: 3]\n",
       " [       0    1010       0       0       0       0       0       0       0       0]   0.000% \t[class: 4]\n",
       " [       0     982       0       0       0       0       0       0       0       0]   0.000% \t[class: 5]\n",
       " [       0     892       0       0       0       0       0       0       0       0]   0.000% \t[class: 6]\n",
       " [       0     958       0       0       0       0       0       0       0       0]   0.000% \t[class: 7]\n",
       " [       0    1028       0       0       0       0       0       0       0       0]   0.000% \t[class: 8]\n",
       " [       0     974       0       0       0       0       0       0       0       0]   0.000% \t[class: 9]\n",
       " [       0    1009       0       0       0       0       0       0       0       0]]  0.000% \t[class: 10]\n",
       " + average row correct: 10% \n",
       " + average rowUcol correct (VOC measure): 1.1349999904633% \n",
       " + global correct: 11.35%\t\n",
       "Cycling with threshold -0.7"
      ]
     },
     "execution_count": 8,
     "metadata": {},
     "output_type": "execute_result"
    },
    {
     "data": {
      "text/plain": [
       "Channel 1 mean: 25.509416422526 stdev: 70.180423838273\t\n"
      ]
     },
     "execution_count": 8,
     "metadata": {},
     "output_type": "execute_result"
    },
    {
     "data": {
      "text/plain": [
       "Channel 1 mean: 25.87140625 stdev: 70.739298703524\t\n"
      ]
     },
     "execution_count": 8,
     "metadata": {},
     "output_type": "execute_result"
    },
    {
     "data": {
      "text/plain": [
       "Epoch   1: 9.9264% | 10.0000%\n"
      ]
     },
     "execution_count": 8,
     "metadata": {},
     "output_type": "execute_result"
    },
    {
     "data": {
      "text/plain": [
       "Epoch   2: 10.0121% | 10.0000%\n"
      ]
     },
     "execution_count": 8,
     "metadata": {},
     "output_type": "execute_result"
    },
    {
     "data": {
      "text/plain": [
       "Epoch   3: 10.0000% | 10.0000%\n"
      ]
     },
     "execution_count": 8,
     "metadata": {},
     "output_type": "execute_result"
    },
    {
     "data": {
      "text/plain": [
       "Epoch   4: 10.0000% | 10.0000%\n"
      ]
     },
     "execution_count": 8,
     "metadata": {},
     "output_type": "execute_result"
    },
    {
     "data": {
      "text/plain": [
       "Epoch   5: 10.0000% | 10.0000%\n"
      ]
     },
     "execution_count": 8,
     "metadata": {},
     "output_type": "execute_result"
    },
    {
     "data": {
      "text/plain": [
       "Epoch   6: 10.0000% | 10.0000%\n"
      ]
     },
     "execution_count": 8,
     "metadata": {},
     "output_type": "execute_result"
    },
    {
     "data": {
      "text/plain": [
       "Epoch   7: 10.0000% | 10.0000%\n"
      ]
     },
     "execution_count": 8,
     "metadata": {},
     "output_type": "execute_result"
    },
    {
     "data": {
      "text/plain": [
       "Epoch   8: 10.0000% | 10.0000%\n"
      ]
     },
     "execution_count": 8,
     "metadata": {},
     "output_type": "execute_result"
    },
    {
     "data": {
      "text/plain": [
       "Epoch   9: 10.0000% | 10.0000%\n"
      ]
     },
     "execution_count": 8,
     "metadata": {},
     "output_type": "execute_result"
    },
    {
     "data": {
      "text/plain": [
       "Epoch  10: 10.0000% | 10.0000%\n"
      ]
     },
     "execution_count": 8,
     "metadata": {},
     "output_type": "execute_result"
    },
    {
     "data": {
      "text/plain": [
       "Epoch  11: 10.0000% | 10.0000%\n"
      ]
     },
     "execution_count": 8,
     "metadata": {},
     "output_type": "execute_result"
    },
    {
     "data": {
      "text/plain": [
       "Epoch  12: 10.0000% | 10.0000%\n"
      ]
     },
     "execution_count": 8,
     "metadata": {},
     "output_type": "execute_result"
    },
    {
     "data": {
      "text/plain": [
       "Epoch  13: 10.0000% | 10.0000%\n"
      ]
     },
     "execution_count": 8,
     "metadata": {},
     "output_type": "execute_result"
    },
    {
     "data": {
      "text/plain": [
       "Epoch  14: 10.0000% | 10.0000%\n"
      ]
     },
     "execution_count": 8,
     "metadata": {},
     "output_type": "execute_result"
    },
    {
     "data": {
      "text/plain": [
       "Epoch  15: 10.0000% | 10.0000%\n"
      ]
     },
     "execution_count": 8,
     "metadata": {},
     "output_type": "execute_result"
    },
    {
     "data": {
      "text/plain": [
       "Epoch  16: 10.0000% | 10.0000%\n"
      ]
     },
     "execution_count": 8,
     "metadata": {},
     "output_type": "execute_result"
    },
    {
     "data": {
      "text/plain": [
       "Epoch  17: 10.0000% | 10.0000%\n"
      ]
     },
     "execution_count": 8,
     "metadata": {},
     "output_type": "execute_result"
    },
    {
     "data": {
      "text/plain": [
       "Epoch  18: 10.0000% | 10.0000%\n"
      ]
     },
     "execution_count": 8,
     "metadata": {},
     "output_type": "execute_result"
    },
    {
     "data": {
      "text/plain": [
       "Epoch  19: 10.0000% | 10.0000%\n"
      ]
     },
     "execution_count": 8,
     "metadata": {},
     "output_type": "execute_result"
    },
    {
     "data": {
      "text/plain": [
       "Epoch  20: 10.0000% | 10.0000%\n"
      ]
     },
     "execution_count": 8,
     "metadata": {},
     "output_type": "execute_result"
    },
    {
     "data": {
      "text/plain": [
       "Epoch  21: 10.0000% | 10.0000%\n"
      ]
     },
     "execution_count": 8,
     "metadata": {},
     "output_type": "execute_result"
    },
    {
     "data": {
      "text/plain": [
       "Epoch  22: 10.0000% | 10.0000%\n"
      ]
     },
     "execution_count": 8,
     "metadata": {},
     "output_type": "execute_result"
    },
    {
     "data": {
      "text/plain": [
       "Epoch  23: 10.0000% | 10.0000%\n"
      ]
     },
     "execution_count": 8,
     "metadata": {},
     "output_type": "execute_result"
    },
    {
     "data": {
      "text/plain": [
       "Epoch  24: 10.0000% | 10.0000%\n"
      ]
     },
     "execution_count": 8,
     "metadata": {},
     "output_type": "execute_result"
    },
    {
     "data": {
      "text/plain": [
       "Epoch  25: 10.0000% | 10.0000%\n"
      ]
     },
     "execution_count": 8,
     "metadata": {},
     "output_type": "execute_result"
    },
    {
     "data": {
      "text/plain": [
       "Epoch  26: 10.0000% | 10.0000%\n"
      ]
     },
     "execution_count": 8,
     "metadata": {},
     "output_type": "execute_result"
    },
    {
     "data": {
      "text/plain": [
       "Epoch  27: 10.0000% | 10.0000%\n"
      ]
     },
     "execution_count": 8,
     "metadata": {},
     "output_type": "execute_result"
    },
    {
     "data": {
      "text/plain": [
       "Epoch  28: 10.0000% | 10.0000%\n"
      ]
     },
     "execution_count": 8,
     "metadata": {},
     "output_type": "execute_result"
    },
    {
     "data": {
      "text/plain": [
       "Epoch  29: 10.0000% | 10.0000%\n"
      ]
     },
     "execution_count": 8,
     "metadata": {},
     "output_type": "execute_result"
    },
    {
     "data": {
      "text/plain": [
       "Epoch  30: 10.0000% | 10.0000%\n"
      ]
     },
     "execution_count": 8,
     "metadata": {},
     "output_type": "execute_result"
    },
    {
     "data": {
      "text/plain": [
       "Epoch  31: 10.0000% | 10.0000%\n"
      ]
     },
     "execution_count": 8,
     "metadata": {},
     "output_type": "execute_result"
    },
    {
     "data": {
      "text/plain": [
       "Epoch  32: 10.0000% | 10.0000%\n",
       "ConfusionMatrix:\n",
       "[[       0    5923       0       0       0       0       0       0       0       0]   0.000% \t[class: 1]\n",
       " [       0    6742       0       0       0       0       0       0       0       0]   100.000% \t[class: 2]\n",
       " [       0    5958       0       0       0       0       0       0       0       0]   0.000% \t[class: 3]\n",
       " [       0    6131       0       0       0       0       0       0       0       0]   0.000% \t[class: 4]\n",
       " [       0    5842       0       0       0       0       0       0       0       0]   0.000% \t[class: 5]\n",
       " [       0    5421       0       0       0       0       0       0       0       0]   0.000% \t[class: 6]\n",
       " [       0    5918       0       0       0       0       0       0       0       0]   0.000% \t[class: 7]\n",
       " [       0    6265       0       0       0       0       0       0       0       0]   0.000% \t[class: 8]\n",
       " [       0    5851       0       0       0       0       0       0       0       0]   0.000% \t[class: 9]\n",
       " [       0    5949       0       0       0       0       0       0       0       0]]  0.000% \t[class: 10]\n",
       " + average row correct: 10% \n",
       " + average rowUcol correct (VOC measure): 1.1236666887999% \n",
       " + global correct: 11.236666666667%\t\n",
       "ConfusionMatrix:\n",
       "[[       0     980       0       0       0       0       0       0       0       0]   0.000% \t[class: 1]\n",
       " [       0    1135       0       0       0       0       0       0       0       0]   100.000% \t[class: 2]\n",
       " [       0    1032       0       0       0       0       0       0       0       0]   0.000% \t[class: 3]\n",
       " [       0    1010       0       0       0       0       0       0       0       0]   0.000% \t[class: 4]\n",
       " [       0     982       0       0       0       0       0       0       0       0]   0.000% \t[class: 5]\n",
       " [       0     892       0       0       0       0       0       0       0       0]   0.000% \t[class: 6]\n",
       " [       0     958       0       0       0       0       0       0       0       0]   0.000% \t[class: 7]\n",
       " [       0    1028       0       0       0       0       0       0       0       0]   0.000% \t[class: 8]\n",
       " [       0     974       0       0       0       0       0       0       0       0]   0.000% \t[class: 9]\n",
       " [       0    1009       0       0       0       0       0       0       0       0]]  0.000% \t[class: 10]\n",
       " + average row correct: 10% \n",
       " + average rowUcol correct (VOC measure): 1.1349999904633% \n",
       " + global correct: 11.35%\t\n",
       "Cycling with threshold -0.6"
      ]
     },
     "execution_count": 8,
     "metadata": {},
     "output_type": "execute_result"
    },
    {
     "data": {
      "text/plain": [
       "Channel 1 mean: 25.509416422526 stdev: 70.180423838273\t\n"
      ]
     },
     "execution_count": 8,
     "metadata": {},
     "output_type": "execute_result"
    },
    {
     "data": {
      "text/plain": [
       "Channel 1 mean: 25.87140625 stdev: 70.739298703524\t\n"
      ]
     },
     "execution_count": 8,
     "metadata": {},
     "output_type": "execute_result"
    },
    {
     "data": {
      "text/plain": [
       "Epoch   1: 10.0000% | 10.0000%\n"
      ]
     },
     "execution_count": 8,
     "metadata": {},
     "output_type": "execute_result"
    },
    {
     "data": {
      "text/plain": [
       "Epoch   2: 10.0000% | 10.0000%\n"
      ]
     },
     "execution_count": 8,
     "metadata": {},
     "output_type": "execute_result"
    },
    {
     "data": {
      "text/plain": [
       "Epoch   3: 10.0000% | 10.0000%\n"
      ]
     },
     "execution_count": 8,
     "metadata": {},
     "output_type": "execute_result"
    },
    {
     "data": {
      "text/plain": [
       "Epoch   4: 10.0000% | 10.0000%\n"
      ]
     },
     "execution_count": 8,
     "metadata": {},
     "output_type": "execute_result"
    },
    {
     "data": {
      "text/plain": [
       "Epoch   5: 10.0000% | 10.0000%\n"
      ]
     },
     "execution_count": 8,
     "metadata": {},
     "output_type": "execute_result"
    },
    {
     "data": {
      "text/plain": [
       "Epoch   6: 10.0000% | 10.0000%\n"
      ]
     },
     "execution_count": 8,
     "metadata": {},
     "output_type": "execute_result"
    },
    {
     "data": {
      "text/plain": [
       "Epoch   7: 10.0000% | 10.0000%\n"
      ]
     },
     "execution_count": 8,
     "metadata": {},
     "output_type": "execute_result"
    },
    {
     "data": {
      "text/plain": [
       "Epoch   8: 10.0000% | 10.0000%\n"
      ]
     },
     "execution_count": 8,
     "metadata": {},
     "output_type": "execute_result"
    },
    {
     "data": {
      "text/plain": [
       "Epoch   9: 10.0000% | 10.0000%\n"
      ]
     },
     "execution_count": 8,
     "metadata": {},
     "output_type": "execute_result"
    },
    {
     "data": {
      "text/plain": [
       "Epoch  10: 10.0000% | 10.0000%\n"
      ]
     },
     "execution_count": 8,
     "metadata": {},
     "output_type": "execute_result"
    },
    {
     "data": {
      "text/plain": [
       "Epoch  11: 10.0000% | 10.0000%\n"
      ]
     },
     "execution_count": 8,
     "metadata": {},
     "output_type": "execute_result"
    },
    {
     "data": {
      "text/plain": [
       "Epoch  12: 10.0000% | 10.0000%\n"
      ]
     },
     "execution_count": 8,
     "metadata": {},
     "output_type": "execute_result"
    },
    {
     "data": {
      "text/plain": [
       "Epoch  13: 10.0000% | 10.0000%\n"
      ]
     },
     "execution_count": 8,
     "metadata": {},
     "output_type": "execute_result"
    },
    {
     "data": {
      "text/plain": [
       "Epoch  14: 10.0000% | 10.0000%\n"
      ]
     },
     "execution_count": 8,
     "metadata": {},
     "output_type": "execute_result"
    },
    {
     "data": {
      "text/plain": [
       "Epoch  15: 10.0000% | 10.0000%\n"
      ]
     },
     "execution_count": 8,
     "metadata": {},
     "output_type": "execute_result"
    },
    {
     "data": {
      "text/plain": [
       "Epoch  16: 10.0000% | 10.0000%\n"
      ]
     },
     "execution_count": 8,
     "metadata": {},
     "output_type": "execute_result"
    },
    {
     "data": {
      "text/plain": [
       "Epoch  17: 10.0000% | 10.0000%\n"
      ]
     },
     "execution_count": 8,
     "metadata": {},
     "output_type": "execute_result"
    },
    {
     "data": {
      "text/plain": [
       "Epoch  18: 10.0000% | 10.0000%\n"
      ]
     },
     "execution_count": 8,
     "metadata": {},
     "output_type": "execute_result"
    },
    {
     "data": {
      "text/plain": [
       "Epoch  19: 10.0000% | 10.0000%\n"
      ]
     },
     "execution_count": 8,
     "metadata": {},
     "output_type": "execute_result"
    },
    {
     "data": {
      "text/plain": [
       "Epoch  20: 10.0000% | 10.0000%\n"
      ]
     },
     "execution_count": 8,
     "metadata": {},
     "output_type": "execute_result"
    },
    {
     "data": {
      "text/plain": [
       "Epoch  21: 10.0000% | 10.0000%\n"
      ]
     },
     "execution_count": 8,
     "metadata": {},
     "output_type": "execute_result"
    },
    {
     "data": {
      "text/plain": [
       "Epoch  22: 10.0000% | 10.0000%\n"
      ]
     },
     "execution_count": 8,
     "metadata": {},
     "output_type": "execute_result"
    },
    {
     "data": {
      "text/plain": [
       "Epoch  23: 10.0000% | 10.0000%\n"
      ]
     },
     "execution_count": 8,
     "metadata": {},
     "output_type": "execute_result"
    },
    {
     "data": {
      "text/plain": [
       "Epoch  24: 10.0000% | 10.0000%\n"
      ]
     },
     "execution_count": 8,
     "metadata": {},
     "output_type": "execute_result"
    },
    {
     "data": {
      "text/plain": [
       "Epoch  25: 10.0000% | 10.0000%\n"
      ]
     },
     "execution_count": 8,
     "metadata": {},
     "output_type": "execute_result"
    },
    {
     "data": {
      "text/plain": [
       "Epoch  26: 10.0000% | 10.0000%\n"
      ]
     },
     "execution_count": 8,
     "metadata": {},
     "output_type": "execute_result"
    },
    {
     "data": {
      "text/plain": [
       "Epoch  27: 10.0000% | 10.0000%\n"
      ]
     },
     "execution_count": 8,
     "metadata": {},
     "output_type": "execute_result"
    },
    {
     "data": {
      "text/plain": [
       "Epoch  28: 10.0000% | 10.0000%\n"
      ]
     },
     "execution_count": 8,
     "metadata": {},
     "output_type": "execute_result"
    },
    {
     "data": {
      "text/plain": [
       "Epoch  29: 10.0000% | 10.0000%\n"
      ]
     },
     "execution_count": 8,
     "metadata": {},
     "output_type": "execute_result"
    },
    {
     "data": {
      "text/plain": [
       "Epoch  30: 10.0000% | 10.0000%\n"
      ]
     },
     "execution_count": 8,
     "metadata": {},
     "output_type": "execute_result"
    },
    {
     "data": {
      "text/plain": [
       "Epoch  31: 10.0000% | 10.0000%\n"
      ]
     },
     "execution_count": 8,
     "metadata": {},
     "output_type": "execute_result"
    },
    {
     "data": {
      "text/plain": [
       "Epoch  32: 10.0000% | 10.0000%\n",
       "ConfusionMatrix:\n",
       "[[       0    5923       0       0       0       0       0       0       0       0]   0.000% \t[class: 1]\n",
       " [       0    6742       0       0       0       0       0       0       0       0]   100.000% \t[class: 2]\n",
       " [       0    5958       0       0       0       0       0       0       0       0]   0.000% \t[class: 3]\n",
       " [       0    6131       0       0       0       0       0       0       0       0]   0.000% \t[class: 4]\n",
       " [       0    5842       0       0       0       0       0       0       0       0]   0.000% \t[class: 5]\n",
       " [       0    5421       0       0       0       0       0       0       0       0]   0.000% \t[class: 6]\n",
       " [       0    5918       0       0       0       0       0       0       0       0]   0.000% \t[class: 7]\n",
       " [       0    6265       0       0       0       0       0       0       0       0]   0.000% \t[class: 8]\n",
       " [       0    5851       0       0       0       0       0       0       0       0]   0.000% \t[class: 9]\n",
       " [       0    5949       0       0       0       0       0       0       0       0]]  0.000% \t[class: 10]\n",
       " + average row correct: 10% \n",
       " + average rowUcol correct (VOC measure): 1.1236666887999% \n",
       " + global correct: 11.236666666667%\t\n",
       "ConfusionMatrix:\n",
       "[[       0     980       0       0       0       0       0       0       0       0]   0.000% \t[class: 1]\n",
       " [       0    1135       0       0       0       0       0       0       0       0]   100.000% \t[class: 2]\n",
       " [       0    1032       0       0       0       0       0       0       0       0]   0.000% \t[class: 3]\n",
       " [       0    1010       0       0       0       0       0       0       0       0]   0.000% \t[class: 4]\n",
       " [       0     982       0       0       0       0       0       0       0       0]   0.000% \t[class: 5]\n",
       " [       0     892       0       0       0       0       0       0       0       0]   0.000% \t[class: 6]\n",
       " [       0     958       0       0       0       0       0       0       0       0]   0.000% \t[class: 7]\n",
       " [       0    1028       0       0       0       0       0       0       0       0]   0.000% \t[class: 8]\n",
       " [       0     974       0       0       0       0       0       0       0       0]   0.000% \t[class: 9]\n",
       " [       0    1009       0       0       0       0       0       0       0       0]]  0.000% \t[class: 10]\n",
       " + average row correct: 10% \n",
       " + average rowUcol correct (VOC measure): 1.1349999904633% \n",
       " + global correct: 11.35%\t\n",
       "Cycling with threshold -0.5"
      ]
     },
     "execution_count": 8,
     "metadata": {},
     "output_type": "execute_result"
    },
    {
     "data": {
      "text/plain": [
       "Channel 1 mean: 25.509416422526 stdev: 70.180423838273\t\n"
      ]
     },
     "execution_count": 8,
     "metadata": {},
     "output_type": "execute_result"
    },
    {
     "data": {
      "text/plain": [
       "Channel 1 mean: 25.87140625 stdev: 70.739298703524\t\n"
      ]
     },
     "execution_count": 8,
     "metadata": {},
     "output_type": "execute_result"
    },
    {
     "data": {
      "text/plain": [
       "Epoch   1: 10.0000% | 10.0000%\n"
      ]
     },
     "execution_count": 8,
     "metadata": {},
     "output_type": "execute_result"
    },
    {
     "data": {
      "text/plain": [
       "Epoch   2: 10.0000% | 10.0000%\n"
      ]
     },
     "execution_count": 8,
     "metadata": {},
     "output_type": "execute_result"
    },
    {
     "data": {
      "text/plain": [
       "Epoch   3: 10.0000% | 10.0584%\n"
      ]
     },
     "execution_count": 8,
     "metadata": {},
     "output_type": "execute_result"
    },
    {
     "data": {
      "text/plain": [
       "Epoch   4: 10.8806% | 10.0000%\n"
      ]
     },
     "execution_count": 8,
     "metadata": {},
     "output_type": "execute_result"
    },
    {
     "data": {
      "text/plain": [
       "Epoch   5: 9.9725% | 10.0000%\n"
      ]
     },
     "execution_count": 8,
     "metadata": {},
     "output_type": "execute_result"
    },
    {
     "data": {
      "text/plain": [
       "Epoch   6: 10.0000% | 10.0000%\n"
      ]
     },
     "execution_count": 8,
     "metadata": {},
     "output_type": "execute_result"
    },
    {
     "data": {
      "text/plain": [
       "Epoch   7: 10.0000% | 10.0000%\n"
      ]
     },
     "execution_count": 8,
     "metadata": {},
     "output_type": "execute_result"
    },
    {
     "data": {
      "text/plain": [
       "Epoch   8: 10.0000% | 10.0000%\n"
      ]
     },
     "execution_count": 8,
     "metadata": {},
     "output_type": "execute_result"
    },
    {
     "data": {
      "text/plain": [
       "Epoch   9: 10.0000% | 10.0000%\n"
      ]
     },
     "execution_count": 8,
     "metadata": {},
     "output_type": "execute_result"
    },
    {
     "data": {
      "text/plain": [
       "Epoch  10: 10.0000% | 10.0000%\n"
      ]
     },
     "execution_count": 8,
     "metadata": {},
     "output_type": "execute_result"
    },
    {
     "data": {
      "text/plain": [
       "Epoch  11: 10.0000% | 10.0000%\n"
      ]
     },
     "execution_count": 8,
     "metadata": {},
     "output_type": "execute_result"
    },
    {
     "data": {
      "text/plain": [
       "Epoch  12: 10.0000% | 10.0000%\n"
      ]
     },
     "execution_count": 8,
     "metadata": {},
     "output_type": "execute_result"
    },
    {
     "data": {
      "text/plain": [
       "Epoch  13: 10.0000% | 10.0000%\n"
      ]
     },
     "execution_count": 8,
     "metadata": {},
     "output_type": "execute_result"
    },
    {
     "data": {
      "text/plain": [
       "Epoch  14: 10.0000% | 10.0000%\n"
      ]
     },
     "execution_count": 8,
     "metadata": {},
     "output_type": "execute_result"
    },
    {
     "data": {
      "text/plain": [
       "Epoch  15: 10.0000% | 10.0000%\n"
      ]
     },
     "execution_count": 8,
     "metadata": {},
     "output_type": "execute_result"
    },
    {
     "data": {
      "text/plain": [
       "Epoch  16: 10.0000% | 10.0000%\n"
      ]
     },
     "execution_count": 8,
     "metadata": {},
     "output_type": "execute_result"
    },
    {
     "data": {
      "text/plain": [
       "Epoch  17: 10.0000% | 10.0000%\n"
      ]
     },
     "execution_count": 8,
     "metadata": {},
     "output_type": "execute_result"
    },
    {
     "data": {
      "text/plain": [
       "Epoch  18: 10.0000% | 10.0000%\n"
      ]
     },
     "execution_count": 8,
     "metadata": {},
     "output_type": "execute_result"
    },
    {
     "data": {
      "text/plain": [
       "Epoch  19: 10.0000% | 10.0000%\n"
      ]
     },
     "execution_count": 8,
     "metadata": {},
     "output_type": "execute_result"
    },
    {
     "data": {
      "text/plain": [
       "Epoch  20: 10.0000% | 10.0000%\n"
      ]
     },
     "execution_count": 8,
     "metadata": {},
     "output_type": "execute_result"
    },
    {
     "data": {
      "text/plain": [
       "Epoch  21: 10.0000% | 10.0000%\n"
      ]
     },
     "execution_count": 8,
     "metadata": {},
     "output_type": "execute_result"
    },
    {
     "data": {
      "text/plain": [
       "Epoch  22: 10.0000% | 10.0000%\n"
      ]
     },
     "execution_count": 8,
     "metadata": {},
     "output_type": "execute_result"
    },
    {
     "data": {
      "text/plain": [
       "Epoch  23: 10.0000% | 10.0000%\n"
      ]
     },
     "execution_count": 8,
     "metadata": {},
     "output_type": "execute_result"
    },
    {
     "data": {
      "text/plain": [
       "Epoch  24: 10.0000% | 10.0000%\n"
      ]
     },
     "execution_count": 8,
     "metadata": {},
     "output_type": "execute_result"
    },
    {
     "data": {
      "text/plain": [
       "Epoch  25: 10.0000% | 10.0000%\n"
      ]
     },
     "execution_count": 8,
     "metadata": {},
     "output_type": "execute_result"
    },
    {
     "data": {
      "text/plain": [
       "Epoch  26: 10.0000% | 10.0000%\n"
      ]
     },
     "execution_count": 8,
     "metadata": {},
     "output_type": "execute_result"
    },
    {
     "data": {
      "text/plain": [
       "Epoch  27: 10.0000% | 10.0000%\n"
      ]
     },
     "execution_count": 8,
     "metadata": {},
     "output_type": "execute_result"
    },
    {
     "data": {
      "text/plain": [
       "Epoch  28: 10.0000% | 10.0000%\n"
      ]
     },
     "execution_count": 8,
     "metadata": {},
     "output_type": "execute_result"
    },
    {
     "data": {
      "text/plain": [
       "Epoch  29: 10.0000% | 10.0000%\n"
      ]
     },
     "execution_count": 8,
     "metadata": {},
     "output_type": "execute_result"
    },
    {
     "data": {
      "text/plain": [
       "Epoch  30: 10.0000% | 10.0000%\n"
      ]
     },
     "execution_count": 8,
     "metadata": {},
     "output_type": "execute_result"
    },
    {
     "data": {
      "text/plain": [
       "Epoch  31: 10.0000% | 10.0000%\n"
      ]
     },
     "execution_count": 8,
     "metadata": {},
     "output_type": "execute_result"
    },
    {
     "data": {
      "text/plain": [
       "Epoch  32: 10.0000% | 10.0000%\n",
       "ConfusionMatrix:\n",
       "[[       0    5923       0       0       0       0       0       0       0       0]   0.000% \t[class: 1]\n",
       " [       0    6742       0       0       0       0       0       0       0       0]   100.000% \t[class: 2]\n",
       " [       0    5958       0       0       0       0       0       0       0       0]   0.000% \t[class: 3]\n",
       " [       0    6131       0       0       0       0       0       0       0       0]   0.000% \t[class: 4]\n",
       " [       0    5842       0       0       0       0       0       0       0       0]   0.000% \t[class: 5]\n",
       " [       0    5421       0       0       0       0       0       0       0       0]   0.000% \t[class: 6]\n",
       " [       0    5918       0       0       0       0       0       0       0       0]   0.000% \t[class: 7]\n",
       " [       0    6265       0       0       0       0       0       0       0       0]   0.000% \t[class: 8]\n",
       " [       0    5851       0       0       0       0       0       0       0       0]   0.000% \t[class: 9]\n",
       " [       0    5949       0       0       0       0       0       0       0       0]]  0.000% \t[class: 10]\n",
       " + average row correct: 10% \n",
       " + average rowUcol correct (VOC measure): 1.1236666887999% \n",
       " + global correct: 11.236666666667%\t\n",
       "ConfusionMatrix:\n",
       "[[       0     980       0       0       0       0       0       0       0       0]   0.000% \t[class: 1]\n",
       " [       0    1135       0       0       0       0       0       0       0       0]   100.000% \t[class: 2]\n",
       " [       0    1032       0       0       0       0       0       0       0       0]   0.000% \t[class: 3]\n",
       " [       0    1010       0       0       0       0       0       0       0       0]   0.000% \t[class: 4]\n",
       " [       0     982       0       0       0       0       0       0       0       0]   0.000% \t[class: 5]\n",
       " [       0     892       0       0       0       0       0       0       0       0]   0.000% \t[class: 6]\n",
       " [       0     958       0       0       0       0       0       0       0       0]   0.000% \t[class: 7]\n",
       " [       0    1028       0       0       0       0       0       0       0       0]   0.000% \t[class: 8]\n",
       " [       0     974       0       0       0       0       0       0       0       0]   0.000% \t[class: 9]\n",
       " [       0    1009       0       0       0       0       0       0       0       0]]  0.000% \t[class: 10]\n",
       " + average row correct: 10% \n",
       " + average rowUcol correct (VOC measure): 1.1349999904633% \n",
       " + global correct: 11.35%\t\n",
       "Cycling with threshold -0.4"
      ]
     },
     "execution_count": 8,
     "metadata": {},
     "output_type": "execute_result"
    },
    {
     "data": {
      "text/plain": [
       "Channel 1 mean: 25.509416422526 stdev: 70.180423838273\t\n"
      ]
     },
     "execution_count": 8,
     "metadata": {},
     "output_type": "execute_result"
    },
    {
     "data": {
      "text/plain": [
       "Channel 1 mean: 25.87140625 stdev: 70.739298703524\t\n"
      ]
     },
     "execution_count": 8,
     "metadata": {},
     "output_type": "execute_result"
    },
    {
     "data": {
      "text/plain": [
       "Epoch   1: 10.0000% | 10.0000%\n"
      ]
     },
     "execution_count": 8,
     "metadata": {},
     "output_type": "execute_result"
    },
    {
     "data": {
      "text/plain": [
       "Epoch   2: 10.0000% | 10.0000%\n"
      ]
     },
     "execution_count": 8,
     "metadata": {},
     "output_type": "execute_result"
    },
    {
     "data": {
      "text/plain": [
       "Epoch   3: 10.0000% | 10.0000%\n"
      ]
     },
     "execution_count": 8,
     "metadata": {},
     "output_type": "execute_result"
    },
    {
     "data": {
      "text/plain": [
       "Epoch   4: 10.0000% | 10.0000%\n"
      ]
     },
     "execution_count": 8,
     "metadata": {},
     "output_type": "execute_result"
    },
    {
     "data": {
      "text/plain": [
       "Epoch   5: 10.1854% | 10.0000%\n"
      ]
     },
     "execution_count": 8,
     "metadata": {},
     "output_type": "execute_result"
    },
    {
     "data": {
      "text/plain": [
       "Epoch   6: 10.0000% | 10.0000%\n"
      ]
     },
     "execution_count": 8,
     "metadata": {},
     "output_type": "execute_result"
    },
    {
     "data": {
      "text/plain": [
       "Epoch   7: 10.0000% | 10.0000%\n"
      ]
     },
     "execution_count": 8,
     "metadata": {},
     "output_type": "execute_result"
    },
    {
     "data": {
      "text/plain": [
       "Epoch   8: 10.0000% | 10.0000%\n"
      ]
     },
     "execution_count": 8,
     "metadata": {},
     "output_type": "execute_result"
    },
    {
     "data": {
      "text/plain": [
       "Epoch   9: 10.0000% | 10.0000%\n"
      ]
     },
     "execution_count": 8,
     "metadata": {},
     "output_type": "execute_result"
    },
    {
     "data": {
      "text/plain": [
       "Epoch  10: 10.0000% | 10.0000%\n"
      ]
     },
     "execution_count": 8,
     "metadata": {},
     "output_type": "execute_result"
    },
    {
     "data": {
      "text/plain": [
       "Epoch  11: 10.0000% | 10.0000%\n"
      ]
     },
     "execution_count": 8,
     "metadata": {},
     "output_type": "execute_result"
    },
    {
     "data": {
      "text/plain": [
       "Epoch  12: 10.0000% | 10.0000%\n"
      ]
     },
     "execution_count": 8,
     "metadata": {},
     "output_type": "execute_result"
    },
    {
     "data": {
      "text/plain": [
       "Epoch  13: 10.0000% | 10.0000%\n"
      ]
     },
     "execution_count": 8,
     "metadata": {},
     "output_type": "execute_result"
    },
    {
     "data": {
      "text/plain": [
       "Epoch  14: 10.0000% | 10.0000%\n"
      ]
     },
     "execution_count": 8,
     "metadata": {},
     "output_type": "execute_result"
    },
    {
     "data": {
      "text/plain": [
       "Epoch  15: 10.0000% | 10.0000%\n"
      ]
     },
     "execution_count": 8,
     "metadata": {},
     "output_type": "execute_result"
    },
    {
     "data": {
      "text/plain": [
       "Epoch  16: 10.0000% | 10.0000%\n"
      ]
     },
     "execution_count": 8,
     "metadata": {},
     "output_type": "execute_result"
    },
    {
     "data": {
      "text/plain": [
       "Epoch  17: 10.0000% | 10.0000%\n"
      ]
     },
     "execution_count": 8,
     "metadata": {},
     "output_type": "execute_result"
    },
    {
     "data": {
      "text/plain": [
       "Epoch  18: 10.0000% | 10.0000%\n"
      ]
     },
     "execution_count": 8,
     "metadata": {},
     "output_type": "execute_result"
    },
    {
     "data": {
      "text/plain": [
       "Epoch  19: 10.0000% | 10.0000%\n"
      ]
     },
     "execution_count": 8,
     "metadata": {},
     "output_type": "execute_result"
    },
    {
     "data": {
      "text/plain": [
       "Epoch  20: 10.0000% | 10.0000%\n"
      ]
     },
     "execution_count": 8,
     "metadata": {},
     "output_type": "execute_result"
    },
    {
     "data": {
      "text/plain": [
       "Epoch  21: 10.0000% | 10.0000%\n"
      ]
     },
     "execution_count": 8,
     "metadata": {},
     "output_type": "execute_result"
    },
    {
     "data": {
      "text/plain": [
       "Epoch  22: 10.0000% | 10.0000%\n"
      ]
     },
     "execution_count": 8,
     "metadata": {},
     "output_type": "execute_result"
    },
    {
     "data": {
      "text/plain": [
       "Epoch  23: 10.0000% | 10.0000%\n"
      ]
     },
     "execution_count": 8,
     "metadata": {},
     "output_type": "execute_result"
    },
    {
     "data": {
      "text/plain": [
       "Epoch  24: 10.0000% | 10.0000%\n"
      ]
     },
     "execution_count": 8,
     "metadata": {},
     "output_type": "execute_result"
    },
    {
     "data": {
      "text/plain": [
       "Epoch  25: 10.0000% | 10.0000%\n"
      ]
     },
     "execution_count": 8,
     "metadata": {},
     "output_type": "execute_result"
    },
    {
     "data": {
      "text/plain": [
       "Epoch  26: 10.0000% | 10.0000%\n"
      ]
     },
     "execution_count": 8,
     "metadata": {},
     "output_type": "execute_result"
    },
    {
     "data": {
      "text/plain": [
       "Epoch  27: 10.0000% | 10.0000%\n"
      ]
     },
     "execution_count": 8,
     "metadata": {},
     "output_type": "execute_result"
    },
    {
     "data": {
      "text/plain": [
       "Epoch  28: 10.0000% | 10.0000%\n"
      ]
     },
     "execution_count": 8,
     "metadata": {},
     "output_type": "execute_result"
    },
    {
     "data": {
      "text/plain": [
       "Epoch  29: 10.0000% | 10.0000%\n"
      ]
     },
     "execution_count": 8,
     "metadata": {},
     "output_type": "execute_result"
    },
    {
     "data": {
      "text/plain": [
       "Epoch  30: 10.0000% | 10.0000%\n"
      ]
     },
     "execution_count": 8,
     "metadata": {},
     "output_type": "execute_result"
    },
    {
     "data": {
      "text/plain": [
       "Epoch  31: 10.0000% | 10.0000%\n"
      ]
     },
     "execution_count": 8,
     "metadata": {},
     "output_type": "execute_result"
    },
    {
     "data": {
      "text/plain": [
       "Epoch  32: 10.0000% | 10.0000%\n"
      ]
     },
     "execution_count": 8,
     "metadata": {},
     "output_type": "execute_result"
    },
    {
     "data": {
      "text/plain": [
       "ConfusionMatrix:\n",
       "[[       0    5923       0       0       0       0       0       0       0       0]   0.000% \t[class: 1]\n",
       " [       0    6742       0       0       0       0       0       0       0       0]   100.000% \t[class: 2]\n",
       " [       0    5958       0       0       0       0       0       0       0       0]   0.000% \t[class: 3]\n",
       " [       0    6131       0       0       0       0       0       0       0       0]   0.000% \t[class: 4]\n",
       " [       0    5842       0       0       0       0       0       0       0       0]   0.000% \t[class: 5]\n",
       " [       0    5421       0       0       0       0       0       0       0       0]   0.000% \t[class: 6]\n",
       " [       0    5918       0       0       0       0       0       0       0       0]   0.000% \t[class: 7]\n",
       " [       0    6265       0       0       0       0       0       0       0       0]   0.000% \t[class: 8]\n",
       " [       0    5851       0       0       0       0       0       0       0       0]   0.000% \t[class: 9]\n",
       " [       0    5949       0       0       0       0       0       0       0       0]]  0.000% \t[class: 10]\n",
       " + average row correct: 10% \n",
       " + average rowUcol correct (VOC measure): 1.1236666887999% \n",
       " + global correct: 11.236666666667%\t\n",
       "ConfusionMatrix:\n",
       "[[       0     980       0       0       0       0       0       0       0       0]   0.000% \t[class: 1]\n",
       " [       0    1135       0       0       0       0       0       0       0       0]   100.000% \t[class: 2]\n",
       " [       0    1032       0       0       0       0       0       0       0       0]   0.000% \t[class: 3]\n",
       " [       0    1010       0       0       0       0       0       0       0       0]   0.000% \t[class: 4]\n",
       " [       0     982       0       0       0       0       0       0       0       0]   0.000% \t[class: 5]\n",
       " [       0     892       0       0       0       0       0       0       0       0]   0.000% \t[class: 6]\n",
       " [       0     958       0       0       0       0       0       0       0       0]   0.000% \t[class: 7]\n",
       " [       0    1028       0       0       0       0       0       0       0       0]   0.000% \t[class: 8]\n",
       " [       0     974       0       0       0       0       0       0       0       0]   0.000% \t[class: 9]\n",
       " [       0    1009       0       0       0       0       0       0       0       0]]  0.000% \t[class: 10]\n",
       " + average row correct: 10% \n",
       " + average rowUcol correct (VOC measure): 1.1349999904633% \n",
       " + global correct: 11.35%\t\n",
       "Cycling with threshold -0.3"
      ]
     },
     "execution_count": 8,
     "metadata": {},
     "output_type": "execute_result"
    },
    {
     "data": {
      "text/plain": [
       "Channel 1 mean: 25.509416422526 stdev: 70.180423838273\t\n"
      ]
     },
     "execution_count": 8,
     "metadata": {},
     "output_type": "execute_result"
    },
    {
     "data": {
      "text/plain": [
       "Channel 1 mean: 25.87140625 stdev: 70.739298703524\t\n"
      ]
     },
     "execution_count": 8,
     "metadata": {},
     "output_type": "execute_result"
    },
    {
     "data": {
      "text/plain": [
       "Epoch   1: 10.0000% | 10.0000%\n"
      ]
     },
     "execution_count": 8,
     "metadata": {},
     "output_type": "execute_result"
    },
    {
     "data": {
      "text/plain": [
       "Epoch   2: 10.6187% | 15.3027%\n"
      ]
     },
     "execution_count": 8,
     "metadata": {},
     "output_type": "execute_result"
    },
    {
     "data": {
      "text/plain": [
       "Epoch   3: 10.1642% | 10.0000%\n"
      ]
     },
     "execution_count": 8,
     "metadata": {},
     "output_type": "execute_result"
    },
    {
     "data": {
      "text/plain": [
       "Epoch   4: 10.0000% | 10.0000%\n"
      ]
     },
     "execution_count": 8,
     "metadata": {},
     "output_type": "execute_result"
    },
    {
     "data": {
      "text/plain": [
       "Epoch   5: 10.0000% | 10.0000%\n"
      ]
     },
     "execution_count": 8,
     "metadata": {},
     "output_type": "execute_result"
    },
    {
     "data": {
      "text/plain": [
       "Epoch   6: 10.0000% | 10.0000%\n"
      ]
     },
     "execution_count": 8,
     "metadata": {},
     "output_type": "execute_result"
    },
    {
     "data": {
      "text/plain": [
       "Epoch   7: 10.0000% | 10.0000%\n"
      ]
     },
     "execution_count": 8,
     "metadata": {},
     "output_type": "execute_result"
    },
    {
     "data": {
      "text/plain": [
       "Epoch   8: 10.0000% | 10.0000%\n"
      ]
     },
     "execution_count": 8,
     "metadata": {},
     "output_type": "execute_result"
    },
    {
     "data": {
      "text/plain": [
       "Epoch   9: 10.0000% | 10.0000%\n"
      ]
     },
     "execution_count": 8,
     "metadata": {},
     "output_type": "execute_result"
    },
    {
     "data": {
      "text/plain": [
       "Epoch  10: 10.0000% | 10.0000%\n"
      ]
     },
     "execution_count": 8,
     "metadata": {},
     "output_type": "execute_result"
    },
    {
     "data": {
      "text/plain": [
       "Epoch  11: 10.0000% | 10.0000%\n"
      ]
     },
     "execution_count": 8,
     "metadata": {},
     "output_type": "execute_result"
    },
    {
     "data": {
      "text/plain": [
       "Epoch  12: 10.0000% | 10.0000%\n"
      ]
     },
     "execution_count": 8,
     "metadata": {},
     "output_type": "execute_result"
    },
    {
     "data": {
      "text/plain": [
       "Epoch  13: 10.0000% | 10.0000%\n"
      ]
     },
     "execution_count": 8,
     "metadata": {},
     "output_type": "execute_result"
    },
    {
     "data": {
      "text/plain": [
       "Epoch  14: 10.0000% | 10.0000%\n"
      ]
     },
     "execution_count": 8,
     "metadata": {},
     "output_type": "execute_result"
    },
    {
     "data": {
      "text/plain": [
       "Epoch  15: 10.0000% | 10.0000%\n"
      ]
     },
     "execution_count": 8,
     "metadata": {},
     "output_type": "execute_result"
    },
    {
     "data": {
      "text/plain": [
       "Epoch  16: 10.0000% | 10.0000%\n"
      ]
     },
     "execution_count": 8,
     "metadata": {},
     "output_type": "execute_result"
    },
    {
     "data": {
      "text/plain": [
       "Epoch  17: 10.0000% | 10.0000%\n"
      ]
     },
     "execution_count": 8,
     "metadata": {},
     "output_type": "execute_result"
    },
    {
     "data": {
      "text/plain": [
       "Epoch  18: 10.0000% | 10.0000%\n"
      ]
     },
     "execution_count": 8,
     "metadata": {},
     "output_type": "execute_result"
    },
    {
     "data": {
      "text/plain": [
       "Epoch  19: 10.0000% | 10.0000%\n"
      ]
     },
     "execution_count": 8,
     "metadata": {},
     "output_type": "execute_result"
    },
    {
     "data": {
      "text/plain": [
       "Epoch  20: 10.0000% | 10.0000%\n"
      ]
     },
     "execution_count": 8,
     "metadata": {},
     "output_type": "execute_result"
    },
    {
     "data": {
      "text/plain": [
       "Epoch  21: 10.0000% | 10.0000%\n"
      ]
     },
     "execution_count": 8,
     "metadata": {},
     "output_type": "execute_result"
    },
    {
     "data": {
      "text/plain": [
       "Epoch  22: 10.0000% | 10.0000%\n"
      ]
     },
     "execution_count": 8,
     "metadata": {},
     "output_type": "execute_result"
    },
    {
     "data": {
      "text/plain": [
       "Epoch  23: 10.0000% | 10.0000%\n"
      ]
     },
     "execution_count": 8,
     "metadata": {},
     "output_type": "execute_result"
    },
    {
     "data": {
      "text/plain": [
       "Epoch  24: 10.0000% | 10.0000%\n"
      ]
     },
     "execution_count": 8,
     "metadata": {},
     "output_type": "execute_result"
    },
    {
     "data": {
      "text/plain": [
       "Epoch  25: 10.0000% | 10.0000%\n"
      ]
     },
     "execution_count": 8,
     "metadata": {},
     "output_type": "execute_result"
    },
    {
     "data": {
      "text/plain": [
       "Epoch  26: 10.0000% | 10.0000%\n"
      ]
     },
     "execution_count": 8,
     "metadata": {},
     "output_type": "execute_result"
    },
    {
     "data": {
      "text/plain": [
       "Epoch  27: 10.0000% | 10.0000%\n"
      ]
     },
     "execution_count": 8,
     "metadata": {},
     "output_type": "execute_result"
    },
    {
     "data": {
      "text/plain": [
       "Epoch  28: 10.0000% | 10.0000%\n"
      ]
     },
     "execution_count": 8,
     "metadata": {},
     "output_type": "execute_result"
    },
    {
     "data": {
      "text/plain": [
       "Epoch  29: 10.0000% | 10.0000%\n"
      ]
     },
     "execution_count": 8,
     "metadata": {},
     "output_type": "execute_result"
    },
    {
     "data": {
      "text/plain": [
       "Epoch  30: 10.0000% | 10.0000%\n"
      ]
     },
     "execution_count": 8,
     "metadata": {},
     "output_type": "execute_result"
    },
    {
     "data": {
      "text/plain": [
       "Epoch  31: 10.0000% | 10.0000%\n"
      ]
     },
     "execution_count": 8,
     "metadata": {},
     "output_type": "execute_result"
    },
    {
     "data": {
      "text/plain": [
       "Epoch  32: 10.0000% | 10.0000%\n",
       "ConfusionMatrix:\n",
       "[[       0    5923       0       0       0       0       0       0       0       0]   0.000% \t[class: 1]\n",
       " [       0    6742       0       0       0       0       0       0       0       0]   100.000% \t[class: 2]\n",
       " [       0    5958       0       0       0       0       0       0       0       0]   0.000% \t[class: 3]\n",
       " [       0    6131       0       0       0       0       0       0       0       0]   0.000% \t[class: 4]\n",
       " [       0    5842       0       0       0       0       0       0       0       0]   0.000% \t[class: 5]\n",
       " [       0    5421       0       0       0       0       0       0       0       0]   0.000% \t[class: 6]\n",
       " [       0    5918       0       0       0       0       0       0       0       0]   0.000% \t[class: 7]\n",
       " [       0    6265       0       0       0       0       0       0       0       0]   0.000% \t[class: 8]\n",
       " [       0    5851       0       0       0       0       0       0       0       0]   0.000% \t[class: 9]\n",
       " [       0    5949       0       0       0       0       0       0       0       0]]  0.000% \t[class: 10]\n",
       " + average row correct: 10% \n",
       " + average rowUcol correct (VOC measure): 1.1236666887999% \n",
       " + global correct: 11.236666666667%\t\n",
       "ConfusionMatrix:\n",
       "[[       0     980       0       0       0       0       0       0       0       0]   0.000% \t[class: 1]\n",
       " [       0    1135       0       0       0       0       0       0       0       0]   100.000% \t[class: 2]\n",
       " [       0    1032       0       0       0       0       0       0       0       0]   0.000% \t[class: 3]\n",
       " [       0    1010       0       0       0       0       0       0       0       0]   0.000% \t[class: 4]\n",
       " [       0     982       0       0       0       0       0       0       0       0]   0.000% \t[class: 5]\n",
       " [       0     892       0       0       0       0       0       0       0       0]   0.000% \t[class: 6]\n",
       " [       0     958       0       0       0       0       0       0       0       0]   0.000% \t[class: 7]\n",
       " [       0    1028       0       0       0       0       0       0       0       0]   0.000% \t[class: 8]\n",
       " [       0     974       0       0       0       0       0       0       0       0]   0.000% \t[class: 9]\n",
       " [       0    1009       0       0       0       0       0       0       0       0]]  0.000% \t[class: 10]\n",
       " + average row correct: 10% \n",
       " + average rowUcol correct (VOC measure): 1.1349999904633% \n",
       " + global correct: 11.35%\t\n",
       "Cycling with threshold -0.2"
      ]
     },
     "execution_count": 8,
     "metadata": {},
     "output_type": "execute_result"
    },
    {
     "data": {
      "text/plain": [
       "Channel 1 mean: 25.509416422526 stdev: 70.180423838273\t\n"
      ]
     },
     "execution_count": 8,
     "metadata": {},
     "output_type": "execute_result"
    },
    {
     "data": {
      "text/plain": [
       "Channel 1 mean: 25.87140625 stdev: 70.739298703524\t\n"
      ]
     },
     "execution_count": 8,
     "metadata": {},
     "output_type": "execute_result"
    },
    {
     "data": {
      "text/plain": [
       "Epoch   1: 10.0000% | 10.0000%\n"
      ]
     },
     "execution_count": 8,
     "metadata": {},
     "output_type": "execute_result"
    },
    {
     "data": {
      "text/plain": [
       "Epoch   2: 10.0000% | 10.0000%\n"
      ]
     },
     "execution_count": 8,
     "metadata": {},
     "output_type": "execute_result"
    },
    {
     "data": {
      "text/plain": [
       "Epoch   3: 10.0000% | 10.0000%\n"
      ]
     },
     "execution_count": 8,
     "metadata": {},
     "output_type": "execute_result"
    },
    {
     "data": {
      "text/plain": [
       "Epoch   4: 10.0000% | 10.0000%\n"
      ]
     },
     "execution_count": 8,
     "metadata": {},
     "output_type": "execute_result"
    },
    {
     "data": {
      "text/plain": [
       "Epoch   5: 10.0000% | 10.0000%\n"
      ]
     },
     "execution_count": 8,
     "metadata": {},
     "output_type": "execute_result"
    },
    {
     "data": {
      "text/plain": [
       "Epoch   6: 10.0000% | 10.0000%\n"
      ]
     },
     "execution_count": 8,
     "metadata": {},
     "output_type": "execute_result"
    },
    {
     "data": {
      "text/plain": [
       "Epoch   7: 10.0000% | 10.0000%\n"
      ]
     },
     "execution_count": 8,
     "metadata": {},
     "output_type": "execute_result"
    },
    {
     "data": {
      "text/plain": [
       "Epoch   8: 10.1796% | 10.6696%\n"
      ]
     },
     "execution_count": 8,
     "metadata": {},
     "output_type": "execute_result"
    },
    {
     "data": {
      "text/plain": [
       "Epoch   9: 16.0478% | 18.3799%\n"
      ]
     },
     "execution_count": 8,
     "metadata": {},
     "output_type": "execute_result"
    },
    {
     "data": {
      "text/plain": [
       "Epoch  10: 20.0207% | 21.3888%\n"
      ]
     },
     "execution_count": 8,
     "metadata": {},
     "output_type": "execute_result"
    },
    {
     "data": {
      "text/plain": [
       "Epoch  11: 22.2637% | 23.9633%\n"
      ]
     },
     "execution_count": 8,
     "metadata": {},
     "output_type": "execute_result"
    },
    {
     "data": {
      "text/plain": [
       "Epoch  12: 25.2096% | 27.8900%\n"
      ]
     },
     "execution_count": 8,
     "metadata": {},
     "output_type": "execute_result"
    },
    {
     "data": {
      "text/plain": [
       "Epoch  13: 30.3511% | 34.1069%\n"
      ]
     },
     "execution_count": 8,
     "metadata": {},
     "output_type": "execute_result"
    },
    {
     "data": {
      "text/plain": [
       "Epoch  14: 36.9206% | 41.0709%\n"
      ]
     },
     "execution_count": 8,
     "metadata": {},
     "output_type": "execute_result"
    },
    {
     "data": {
      "text/plain": [
       "Epoch  15: 43.6700% | 47.1945%\n"
      ]
     },
     "execution_count": 8,
     "metadata": {},
     "output_type": "execute_result"
    },
    {
     "data": {
      "text/plain": [
       "Epoch  16: 50.4036% | 57.7997%\n"
      ]
     },
     "execution_count": 8,
     "metadata": {},
     "output_type": "execute_result"
    },
    {
     "data": {
      "text/plain": [
       "Epoch  17: 60.2608% | 65.4530%\n"
      ]
     },
     "execution_count": 8,
     "metadata": {},
     "output_type": "execute_result"
    },
    {
     "data": {
      "text/plain": [
       "Epoch  18: 65.7673% | 70.3143%\n"
      ]
     },
     "execution_count": 8,
     "metadata": {},
     "output_type": "execute_result"
    },
    {
     "data": {
      "text/plain": [
       "Epoch  19: 70.1853% | 74.6680%\n"
      ]
     },
     "execution_count": 8,
     "metadata": {},
     "output_type": "execute_result"
    },
    {
     "data": {
      "text/plain": [
       "Epoch  20: 74.6956% | 78.0860%\n"
      ]
     },
     "execution_count": 8,
     "metadata": {},
     "output_type": "execute_result"
    },
    {
     "data": {
      "text/plain": [
       "Epoch  21: 78.1629% | 80.3976%\n"
      ]
     },
     "execution_count": 8,
     "metadata": {},
     "output_type": "execute_result"
    },
    {
     "data": {
      "text/plain": [
       "Epoch  22: 80.5831% | 82.4630%\n"
      ]
     },
     "execution_count": 8,
     "metadata": {},
     "output_type": "execute_result"
    },
    {
     "data": {
      "text/plain": [
       "Epoch  23: 82.6194% | 84.0930%\n"
      ]
     },
     "execution_count": 8,
     "metadata": {},
     "output_type": "execute_result"
    },
    {
     "data": {
      "text/plain": [
       "Epoch  24: 84.0614% | 85.4733%\n"
      ]
     },
     "execution_count": 8,
     "metadata": {},
     "output_type": "execute_result"
    },
    {
     "data": {
      "text/plain": [
       "Epoch  25: 85.2390% | 86.4935%\n"
      ]
     },
     "execution_count": 8,
     "metadata": {},
     "output_type": "execute_result"
    },
    {
     "data": {
      "text/plain": [
       "Epoch  26: 86.1195% | 87.2731%\n"
      ]
     },
     "execution_count": 8,
     "metadata": {},
     "output_type": "execute_result"
    },
    {
     "data": {
      "text/plain": [
       "Epoch  27: 86.8966% | 87.7709%\n"
      ]
     },
     "execution_count": 8,
     "metadata": {},
     "output_type": "execute_result"
    },
    {
     "data": {
      "text/plain": [
       "Epoch  28: 87.5132% | 88.4301%\n"
      ]
     },
     "execution_count": 8,
     "metadata": {},
     "output_type": "execute_result"
    },
    {
     "data": {
      "text/plain": [
       "Epoch  29: 88.0776% | 88.8885%\n"
      ]
     },
     "execution_count": 8,
     "metadata": {},
     "output_type": "execute_result"
    },
    {
     "data": {
      "text/plain": [
       "Epoch  30: 88.5041% | 89.2390%\n"
      ]
     },
     "execution_count": 8,
     "metadata": {},
     "output_type": "execute_result"
    },
    {
     "data": {
      "text/plain": [
       "Epoch  31: 88.9435% | 89.5722%\n"
      ]
     },
     "execution_count": 8,
     "metadata": {},
     "output_type": "execute_result"
    },
    {
     "data": {
      "text/plain": [
       "Epoch  32: 89.2737% | 89.8986%\n",
       "ConfusionMatrix:\n",
       "[[    5664       0      20      27      11      52      37       5     101       6]   95.627% \t[class: 1]\n",
       " [       0    6495      49      43       4      39       9      11      81      11]   96.336% \t[class: 2]\n",
       " [      47      53    5275      87     123      17     108     104     118      26]   88.536% \t[class: 3]\n",
       " [      44      61     152    5252       4     236      35      94     158      95]   85.663% \t[class: 4]\n",
       " [       8      18      65       1    5181       8     115      12      31     403]   88.685% \t[class: 5]\n",
       " [     103      69      37     235      73    4561     143      16     130      54]   84.136% \t[class: 6]\n",
       " [      55      54      59       1      73     115    5519       4      36       2]   93.258% \t[class: 7]\n",
       " [      25      79     114      11      60      27       0    5637      19     293]   89.976% \t[class: 8]\n",
       " [      31     166      55     214      39     127      68      16    5024     111]   85.866% \t[class: 9]\n",
       " [      37      40      46      99     328      31       5     256      71    5036]]  84.653% \t[class: 10]\n",
       " + average row correct: 89.273668527603% \n",
       " + average rowUcol correct (VOC measure): 80.821561813354% \n",
       " + global correct: 89.406666666667%\t\n",
       "ConfusionMatrix:\n",
       "[[     958       0       1       1       0       6       5       1       8       0]   97.755% \t[class: 1]\n",
       " [       0    1107       3       4       1       1       4       0      15       0]   97.533% \t[class: 2]\n",
       " [      11       6     911      16      19       3      16      15      31       4]   88.275% \t[class: 3]\n",
       " [       6       5      17     893       0      40       1      16      21      11]   88.416% \t[class: 4]\n",
       " [       1       3       5       0     877       0      16       1       4      75]   89.308% \t[class: 5]\n",
       " [      15       5       5      44      13     763      20       2      15      10]   85.538% \t[class: 6]\n",
       " [      15       6       7       2      15      24     885       1       3       0]   92.380% \t[class: 7]\n",
       " [       1      19      29       5       8       2       0     896       6      62]   87.160% \t[class: 8]\n",
       " [       8      11       5      40      12      26      14      12     828      18]   85.010% \t[class: 9]\n",
       " [       5       6       9      10      50      13       0      22      10     884]]  87.611% \t[class: 10]\n",
       " + average row correct: 89.898608922958% \n",
       " + average rowUcol correct (VOC measure): 81.84457719326% \n",
       " + global correct: 90.02%\t\n",
       "Cycling with threshold -0.1"
      ]
     },
     "execution_count": 8,
     "metadata": {},
     "output_type": "execute_result"
    },
    {
     "data": {
      "text/plain": [
       "Channel 1 mean: 25.509416422526 stdev: 70.180423838273\t\n"
      ]
     },
     "execution_count": 8,
     "metadata": {},
     "output_type": "execute_result"
    },
    {
     "data": {
      "text/plain": [
       "Channel 1 mean: 25.87140625 stdev: 70.739298703524\t\n"
      ]
     },
     "execution_count": 8,
     "metadata": {},
     "output_type": "execute_result"
    },
    {
     "data": {
      "text/plain": [
       "Epoch   1: 10.0000% | 10.0000%\n"
      ]
     },
     "execution_count": 8,
     "metadata": {},
     "output_type": "execute_result"
    },
    {
     "data": {
      "text/plain": [
       "Epoch   2: 10.0000% | 10.0000%\n"
      ]
     },
     "execution_count": 8,
     "metadata": {},
     "output_type": "execute_result"
    },
    {
     "data": {
      "text/plain": [
       "Epoch   3: 10.0000% | 10.0000%\n"
      ]
     },
     "execution_count": 8,
     "metadata": {},
     "output_type": "execute_result"
    },
    {
     "data": {
      "text/plain": [
       "Epoch   4: 10.0000% | 10.0000%\n"
      ]
     },
     "execution_count": 8,
     "metadata": {},
     "output_type": "execute_result"
    },
    {
     "data": {
      "text/plain": [
       "Epoch   5: 10.0124% | 10.0325%\n"
      ]
     },
     "execution_count": 8,
     "metadata": {},
     "output_type": "execute_result"
    },
    {
     "data": {
      "text/plain": [
       "Epoch   6: 10.6093% | 11.4405%\n"
      ]
     },
     "execution_count": 8,
     "metadata": {},
     "output_type": "execute_result"
    },
    {
     "data": {
      "text/plain": [
       "Epoch   7: 13.7612% | 15.7534%\n"
      ]
     },
     "execution_count": 8,
     "metadata": {},
     "output_type": "execute_result"
    },
    {
     "data": {
      "text/plain": [
       "Epoch   8: 16.8186% | 17.0598%\n"
      ]
     },
     "execution_count": 8,
     "metadata": {},
     "output_type": "execute_result"
    },
    {
     "data": {
      "text/plain": [
       "Epoch   9: 16.5385% | 15.9296%\n"
      ]
     },
     "execution_count": 8,
     "metadata": {},
     "output_type": "execute_result"
    },
    {
     "data": {
      "text/plain": [
       "Epoch  10: 15.1299% | 14.4951%\n"
      ]
     },
     "execution_count": 8,
     "metadata": {},
     "output_type": "execute_result"
    },
    {
     "data": {
      "text/plain": [
       "Epoch  11: 13.8140% | 13.4436%\n"
      ]
     },
     "execution_count": 8,
     "metadata": {},
     "output_type": "execute_result"
    },
    {
     "data": {
      "text/plain": [
       "Epoch  12: 12.9342% | 12.7043%\n"
      ]
     },
     "execution_count": 8,
     "metadata": {},
     "output_type": "execute_result"
    },
    {
     "data": {
      "text/plain": [
       "Epoch  13: 12.3610% | 12.2763%\n"
      ]
     },
     "execution_count": 8,
     "metadata": {},
     "output_type": "execute_result"
    },
    {
     "data": {
      "text/plain": [
       "Epoch  14: 11.9811% | 12.0428%\n"
      ]
     },
     "execution_count": 8,
     "metadata": {},
     "output_type": "execute_result"
    },
    {
     "data": {
      "text/plain": [
       "Epoch  15: 11.8071% | 11.9163%\n"
      ]
     },
     "execution_count": 8,
     "metadata": {},
     "output_type": "execute_result"
    },
    {
     "data": {
      "text/plain": [
       "Epoch  16: 11.8329% | 11.9783%\n"
      ]
     },
     "execution_count": 8,
     "metadata": {},
     "output_type": "execute_result"
    },
    {
     "data": {
      "text/plain": [
       "Epoch  17: 12.0955% | 12.5516%\n"
      ]
     },
     "execution_count": 8,
     "metadata": {},
     "output_type": "execute_result"
    },
    {
     "data": {
      "text/plain": [
       "Epoch  18: 13.1966% | 14.6359%\n"
      ]
     },
     "execution_count": 8,
     "metadata": {},
     "output_type": "execute_result"
    },
    {
     "data": {
      "text/plain": [
       "Epoch  19: 16.4916% | 19.4188%\n"
      ]
     },
     "execution_count": 8,
     "metadata": {},
     "output_type": "execute_result"
    },
    {
     "data": {
      "text/plain": [
       "Epoch  20: 21.2961% | 23.6718%\n"
      ]
     },
     "execution_count": 8,
     "metadata": {},
     "output_type": "execute_result"
    },
    {
     "data": {
      "text/plain": [
       "Epoch  21: 24.8177% | 26.2736%\n"
      ]
     },
     "execution_count": 8,
     "metadata": {},
     "output_type": "execute_result"
    },
    {
     "data": {
      "text/plain": [
       "Epoch  22: 26.4387% | 27.0467%\n"
      ]
     },
     "execution_count": 8,
     "metadata": {},
     "output_type": "execute_result"
    },
    {
     "data": {
      "text/plain": [
       "Epoch  23: 27.3719% | 27.8351%\n"
      ]
     },
     "execution_count": 8,
     "metadata": {},
     "output_type": "execute_result"
    },
    {
     "data": {
      "text/plain": [
       "Epoch  24: 28.1691% | 28.5702%\n"
      ]
     },
     "execution_count": 8,
     "metadata": {},
     "output_type": "execute_result"
    },
    {
     "data": {
      "text/plain": [
       "Epoch  25: 28.7069% | 29.2789%\n"
      ]
     },
     "execution_count": 8,
     "metadata": {},
     "output_type": "execute_result"
    },
    {
     "data": {
      "text/plain": [
       "Epoch  26: 29.6417% | 30.3226%\n"
      ]
     },
     "execution_count": 8,
     "metadata": {},
     "output_type": "execute_result"
    },
    {
     "data": {
      "text/plain": [
       "Epoch  27: 30.9557% | 31.8861%\n"
      ]
     },
     "execution_count": 8,
     "metadata": {},
     "output_type": "execute_result"
    },
    {
     "data": {
      "text/plain": [
       "Epoch  28: 32.6200% | 34.3194%\n"
      ]
     },
     "execution_count": 8,
     "metadata": {},
     "output_type": "execute_result"
    },
    {
     "data": {
      "text/plain": [
       "Epoch  29: 35.7105% | 38.5665%\n"
      ]
     },
     "execution_count": 8,
     "metadata": {},
     "output_type": "execute_result"
    },
    {
     "data": {
      "text/plain": [
       "Epoch  30: 40.8474% | 44.7863%\n"
      ]
     },
     "execution_count": 8,
     "metadata": {},
     "output_type": "execute_result"
    },
    {
     "data": {
      "text/plain": [
       "Epoch  31: 47.5537% | 51.3544%\n"
      ]
     },
     "execution_count": 8,
     "metadata": {},
     "output_type": "execute_result"
    },
    {
     "data": {
      "text/plain": [
       "Epoch  32: 53.7317% | 59.7701%\n",
       "ConfusionMatrix:\n",
       "[[    5456      31       0      79      58       0     223       5      42      29]   92.115% \t[class: 1]\n",
       " [       0    6599       3      70       2       0      57       7       2       2]   97.879% \t[class: 2]\n",
       " [     488     890    1258    1522     132       0    1234     102     260      72]   21.114% \t[class: 3]\n",
       " [     418     961       5    4230      56       0     303     109      31      18]   68.994% \t[class: 4]\n",
       " [     711     329       0       5    3257       0     169     358      17     996]   55.751% \t[class: 5]\n",
       " [    2731     621       1     521     475       2     520     203      59     288]   0.037% \t[class: 6]\n",
       " [     982     420       6      49      21       0    4359      30      14      37]   73.657% \t[class: 7]\n",
       " [     350    1055      22      74     193       1      13    4396       8     153]   70.168% \t[class: 8]\n",
       " [     347    1750      40     964     120       0     627     307    1418     278]   24.235% \t[class: 9]\n",
       " [     552     551       0      48    1391       0      69    1344       9    1985]]  33.367% \t[class: 10]\n",
       " + average row correct: 53.73172683263% \n",
       " + average rowUcol correct (VOC measure): 34.393563014746% \n",
       " + global correct: 54.933333333333%\t\n",
       "ConfusionMatrix:\n",
       "[[     914       2       0       8       5       0      42       1       7       1]   93.265% \t[class: 1]\n",
       " [       0    1111       1      14       0       0       7       0       1       1]   97.885% \t[class: 2]\n",
       " [      65     126     464     169      16       0     118      22      42      10]   44.961% \t[class: 3]\n",
       " [      40     107       2     800       6       0      31      20       1       3]   79.208% \t[class: 4]\n",
       " [      70      37       1       1     674       0      23      35       6     135]   68.635% \t[class: 5]\n",
       " [     405      53       0     133      98       0      78      50      25      50]   0.000% \t[class: 6]\n",
       " [     205      42      11      11       1       0     667       8       5       8]   69.624% \t[class: 7]\n",
       " [      29     136      12      12      28       1       0     776       3      31]   75.486% \t[class: 8]\n",
       " [      59     166      27     170      14       0      87     109     293      49]   30.082% \t[class: 9]\n",
       " [      82      46       0       6     266       0       7     210       3     389]]  38.553% \t[class: 10]\n",
       " + average row correct: 59.770112335682% \n",
       " + average rowUcol correct (VOC measure): 40.891456305981% \n",
       " + global correct: 60.88%\t\n",
       "Cycling with threshold -0.0"
      ]
     },
     "execution_count": 8,
     "metadata": {},
     "output_type": "execute_result"
    },
    {
     "data": {
      "text/plain": [
       "Channel 1 mean: 25.509416422526 stdev: 70.180423838273\t\n"
      ]
     },
     "execution_count": 8,
     "metadata": {},
     "output_type": "execute_result"
    },
    {
     "data": {
      "text/plain": [
       "Channel 1 mean: 25.87140625 stdev: 70.739298703524\t\n"
      ]
     },
     "execution_count": 8,
     "metadata": {},
     "output_type": "execute_result"
    },
    {
     "data": {
      "text/plain": [
       "Epoch   1: 13.0386% | 14.2661%\n"
      ]
     },
     "execution_count": 8,
     "metadata": {},
     "output_type": "execute_result"
    },
    {
     "data": {
      "text/plain": [
       "Epoch   2: 16.3623% | 17.1936%\n"
      ]
     },
     "execution_count": 8,
     "metadata": {},
     "output_type": "execute_result"
    },
    {
     "data": {
      "text/plain": [
       "Epoch   3: 18.7997% | 18.9726%\n"
      ]
     },
     "execution_count": 8,
     "metadata": {},
     "output_type": "execute_result"
    },
    {
     "data": {
      "text/plain": [
       "Epoch   4: 19.9917% | 19.9123%\n"
      ]
     },
     "execution_count": 8,
     "metadata": {},
     "output_type": "execute_result"
    },
    {
     "data": {
      "text/plain": [
       "Epoch   5: 20.5758% | 20.9604%\n"
      ]
     },
     "execution_count": 8,
     "metadata": {},
     "output_type": "execute_result"
    },
    {
     "data": {
      "text/plain": [
       "Epoch   6: 21.6615% | 22.9089%\n"
      ]
     },
     "execution_count": 8,
     "metadata": {},
     "output_type": "execute_result"
    },
    {
     "data": {
      "text/plain": [
       "Epoch   7: 24.6353% | 27.8180%\n"
      ]
     },
     "execution_count": 8,
     "metadata": {},
     "output_type": "execute_result"
    },
    {
     "data": {
      "text/plain": [
       "Epoch   8: 32.7687% | 40.4150%\n"
      ]
     },
     "execution_count": 8,
     "metadata": {},
     "output_type": "execute_result"
    },
    {
     "data": {
      "text/plain": [
       "Epoch   9: 45.8867% | 51.8891%\n"
      ]
     },
     "execution_count": 8,
     "metadata": {},
     "output_type": "execute_result"
    },
    {
     "data": {
      "text/plain": [
       "Epoch  10: 55.4766% | 60.5348%\n"
      ]
     },
     "execution_count": 8,
     "metadata": {},
     "output_type": "execute_result"
    },
    {
     "data": {
      "text/plain": [
       "Epoch  11: 64.2432% | 68.5851%\n"
      ]
     },
     "execution_count": 8,
     "metadata": {},
     "output_type": "execute_result"
    },
    {
     "data": {
      "text/plain": [
       "Epoch  12: 70.0235% | 73.2453%\n"
      ]
     },
     "execution_count": 8,
     "metadata": {},
     "output_type": "execute_result"
    },
    {
     "data": {
      "text/plain": [
       "Epoch  13: 74.4384% | 77.1956%\n"
      ]
     },
     "execution_count": 8,
     "metadata": {},
     "output_type": "execute_result"
    },
    {
     "data": {
      "text/plain": [
       "Epoch  14: 77.6663% | 79.6031%\n"
      ]
     },
     "execution_count": 8,
     "metadata": {},
     "output_type": "execute_result"
    },
    {
     "data": {
      "text/plain": [
       "Epoch  15: 80.0201% | 81.8160%\n"
      ]
     },
     "execution_count": 8,
     "metadata": {},
     "output_type": "execute_result"
    },
    {
     "data": {
      "text/plain": [
       "Epoch  16: 82.0172% | 83.5027%\n"
      ]
     },
     "execution_count": 8,
     "metadata": {},
     "output_type": "execute_result"
    },
    {
     "data": {
      "text/plain": [
       "Epoch  17: 83.5315% | 84.8297%\n"
      ]
     },
     "execution_count": 8,
     "metadata": {},
     "output_type": "execute_result"
    },
    {
     "data": {
      "text/plain": [
       "Epoch  18: 84.6320% | 85.6455%\n"
      ]
     },
     "execution_count": 8,
     "metadata": {},
     "output_type": "execute_result"
    },
    {
     "data": {
      "text/plain": [
       "Epoch  19: 85.6490% | 86.4608%\n"
      ]
     },
     "execution_count": 8,
     "metadata": {},
     "output_type": "execute_result"
    },
    {
     "data": {
      "text/plain": [
       "Epoch  20: 86.4431% | 87.3075%\n"
      ]
     },
     "execution_count": 8,
     "metadata": {},
     "output_type": "execute_result"
    },
    {
     "data": {
      "text/plain": [
       "Epoch  21: 87.1547% | 87.8045%\n"
      ]
     },
     "execution_count": 8,
     "metadata": {},
     "output_type": "execute_result"
    },
    {
     "data": {
      "text/plain": [
       "Epoch  22: 87.8161% | 88.4320%\n"
      ]
     },
     "execution_count": 8,
     "metadata": {},
     "output_type": "execute_result"
    },
    {
     "data": {
      "text/plain": [
       "Epoch  23: 88.4131% | 89.0183%\n"
      ]
     },
     "execution_count": 8,
     "metadata": {},
     "output_type": "execute_result"
    },
    {
     "data": {
      "text/plain": [
       "Epoch  24: 88.9312% | 89.6087%\n"
      ]
     },
     "execution_count": 8,
     "metadata": {},
     "output_type": "execute_result"
    },
    {
     "data": {
      "text/plain": [
       "Epoch  25: 89.3381% | 90.0552%\n"
      ]
     },
     "execution_count": 8,
     "metadata": {},
     "output_type": "execute_result"
    },
    {
     "data": {
      "text/plain": [
       "Epoch  26: 89.7880% | 90.4133%\n"
      ]
     },
     "execution_count": 8,
     "metadata": {},
     "output_type": "execute_result"
    },
    {
     "data": {
      "text/plain": [
       "Epoch  27: 90.1949% | 90.7631%\n"
      ]
     },
     "execution_count": 8,
     "metadata": {},
     "output_type": "execute_result"
    },
    {
     "data": {
      "text/plain": [
       "Epoch  28: 90.5099% | 91.0894%\n"
      ]
     },
     "execution_count": 8,
     "metadata": {},
     "output_type": "execute_result"
    },
    {
     "data": {
      "text/plain": [
       "Epoch  29: 90.8063% | 91.3804%\n"
      ]
     },
     "execution_count": 8,
     "metadata": {},
     "output_type": "execute_result"
    },
    {
     "data": {
      "text/plain": [
       "Epoch  30: 91.1191% | 91.6596%\n"
      ]
     },
     "execution_count": 8,
     "metadata": {},
     "output_type": "execute_result"
    },
    {
     "data": {
      "text/plain": [
       "Epoch  31: 91.3948% | 91.8826%\n"
      ]
     },
     "execution_count": 8,
     "metadata": {},
     "output_type": "execute_result"
    },
    {
     "data": {
      "text/plain": [
       "Epoch  32: 91.6530% | 92.1405%\n",
       "ConfusionMatrix:\n",
       "[[    5707       4      20       9       9      40      57       7      60      10]   96.353% \t[class: 1]\n",
       " [       0    6530      56      29       8      33       7      14      54      11]   96.856% \t[class: 2]\n",
       " [      39      39    5389      90     111      22      77      81      87      23]   90.450% \t[class: 3]\n",
       " [      25      50     115    5452       6     199      28      77     115      64]   88.925% \t[class: 4]\n",
       " [       4      24      44       2    5341       4      95      15      30     283]   91.424% \t[class: 5]\n",
       " [      68      35      37     235      78    4719     111       8      89      41]   87.050% \t[class: 6]\n",
       " [      43      40      48       1      68      94    5599       1      23       1]   94.610% \t[class: 7]\n",
       " [      15      57      85      14      63       8       1    5820       8     194]   92.897% \t[class: 8]\n",
       " [      31     123      48     127      39     121      39      10    5201     112]   88.891% \t[class: 9]\n",
       " [      34      38      36      90     194      34       2     178      44    5299]]  89.074% \t[class: 10]\n",
       " + average row correct: 91.652950048447% \n",
       " + average rowUcol correct (VOC measure): 84.724546074867% \n",
       " + global correct: 91.761666666667%\t\n",
       "ConfusionMatrix:\n",
       "[[     960       0       2       0       1       5       8       1       3       0]   97.959% \t[class: 1]\n",
       " [       0    1115       3       3       0       1       4       1       8       0]   98.238% \t[class: 2]\n",
       " [      13       2     924      14      14       3      15      13      26       8]   89.535% \t[class: 3]\n",
       " [       5       5      13     918       1      27       3      11      18       9]   90.891% \t[class: 4]\n",
       " [       1       3       4       0     890       1      16       1       6      60]   90.631% \t[class: 5]\n",
       " [      11       2       2      31      12     797      12       1      16       8]   89.350% \t[class: 6]\n",
       " [      13       6       3       1      12      17     902       1       3       0]   94.154% \t[class: 7]\n",
       " [       0      12      24       6       6       2       0     909       4      65]   88.424% \t[class: 8]\n",
       " [       8       8       2      16      10      17       8       6     880      19]   90.349% \t[class: 9]\n",
       " [       9       8       4      10      25      13       0       6       7     927]]  91.873% \t[class: 10]\n",
       " + average row correct: 92.140501141548% \n",
       " + average rowUcol correct (VOC measure): 85.536931753159% \n",
       " + global correct: 92.22%\t\n",
       "Cycling with threshold 0.1"
      ]
     },
     "execution_count": 8,
     "metadata": {},
     "output_type": "execute_result"
    },
    {
     "data": {
      "text/plain": [
       "Channel 1 mean: 25.509416422526 stdev: 70.180423838273\t\n"
      ]
     },
     "execution_count": 8,
     "metadata": {},
     "output_type": "execute_result"
    },
    {
     "data": {
      "text/plain": [
       "Channel 1 mean: 25.87140625 stdev: 70.739298703524\t\n"
      ]
     },
     "execution_count": 8,
     "metadata": {},
     "output_type": "execute_result"
    },
    {
     "data": {
      "text/plain": [
       "Epoch   1: 14.9667% | 15.8958%\n"
      ]
     },
     "execution_count": 8,
     "metadata": {},
     "output_type": "execute_result"
    },
    {
     "data": {
      "text/plain": [
       "Epoch   2: 17.2557% | 18.0545%\n"
      ]
     },
     "execution_count": 8,
     "metadata": {},
     "output_type": "execute_result"
    },
    {
     "data": {
      "text/plain": [
       "Epoch   3: 20.1498% | 21.8882%\n"
      ]
     },
     "execution_count": 8,
     "metadata": {},
     "output_type": "execute_result"
    },
    {
     "data": {
      "text/plain": [
       "Epoch   4: 24.6939% | 29.0826%\n"
      ]
     },
     "execution_count": 8,
     "metadata": {},
     "output_type": "execute_result"
    },
    {
     "data": {
      "text/plain": [
       "Epoch   5: 35.6876% | 43.8763%\n"
      ]
     },
     "execution_count": 8,
     "metadata": {},
     "output_type": "execute_result"
    },
    {
     "data": {
      "text/plain": [
       "Epoch   6: 49.9504% | 55.5663%\n"
      ]
     },
     "execution_count": 8,
     "metadata": {},
     "output_type": "execute_result"
    },
    {
     "data": {
      "text/plain": [
       "Epoch   7: 57.7514% | 59.4732%\n"
      ]
     },
     "execution_count": 8,
     "metadata": {},
     "output_type": "execute_result"
    },
    {
     "data": {
      "text/plain": [
       "Epoch   8: 59.1182% | 59.8353%\n"
      ]
     },
     "execution_count": 8,
     "metadata": {},
     "output_type": "execute_result"
    },
    {
     "data": {
      "text/plain": [
       "Epoch   9: 60.3874% | 62.2062%\n"
      ]
     },
     "execution_count": 8,
     "metadata": {},
     "output_type": "execute_result"
    },
    {
     "data": {
      "text/plain": [
       "Epoch  10: 65.4150% | 69.6677%\n"
      ]
     },
     "execution_count": 8,
     "metadata": {},
     "output_type": "execute_result"
    },
    {
     "data": {
      "text/plain": [
       "Epoch  11: 73.6564% | 77.4460%\n"
      ]
     },
     "execution_count": 8,
     "metadata": {},
     "output_type": "execute_result"
    },
    {
     "data": {
      "text/plain": [
       "Epoch  12: 79.1103% | 81.3087%\n"
      ]
     },
     "execution_count": 8,
     "metadata": {},
     "output_type": "execute_result"
    },
    {
     "data": {
      "text/plain": [
       "Epoch  13: 82.0835% | 83.6457%\n"
      ]
     },
     "execution_count": 8,
     "metadata": {},
     "output_type": "execute_result"
    },
    {
     "data": {
      "text/plain": [
       "Epoch  14: 84.2136% | 85.4448%\n"
      ]
     },
     "execution_count": 8,
     "metadata": {},
     "output_type": "execute_result"
    },
    {
     "data": {
      "text/plain": [
       "Epoch  15: 85.7238% | 86.7773%\n"
      ]
     },
     "execution_count": 8,
     "metadata": {},
     "output_type": "execute_result"
    },
    {
     "data": {
      "text/plain": [
       "Epoch  16: 86.8320% | 87.7898%\n"
      ]
     },
     "execution_count": 8,
     "metadata": {},
     "output_type": "execute_result"
    },
    {
     "data": {
      "text/plain": [
       "Epoch  17: 87.6816% | 88.6213%\n"
      ]
     },
     "execution_count": 8,
     "metadata": {},
     "output_type": "execute_result"
    },
    {
     "data": {
      "text/plain": [
       "Epoch  18: 88.3105% | 89.0825%\n"
      ]
     },
     "execution_count": 8,
     "metadata": {},
     "output_type": "execute_result"
    },
    {
     "data": {
      "text/plain": [
       "Epoch  19: 88.9261% | 89.5830%\n"
      ]
     },
     "execution_count": 8,
     "metadata": {},
     "output_type": "execute_result"
    },
    {
     "data": {
      "text/plain": [
       "Epoch  20: 89.3897% | 89.9757%\n"
      ]
     },
     "execution_count": 8,
     "metadata": {},
     "output_type": "execute_result"
    },
    {
     "data": {
      "text/plain": [
       "Epoch  21: 89.8161% | 90.3541%\n"
      ]
     },
     "execution_count": 8,
     "metadata": {},
     "output_type": "execute_result"
    },
    {
     "data": {
      "text/plain": [
       "Epoch  22: 90.1824% | 90.6308%\n"
      ]
     },
     "execution_count": 8,
     "metadata": {},
     "output_type": "execute_result"
    },
    {
     "data": {
      "text/plain": [
       "Epoch  23: 90.5008% | 91.1416%\n"
      ]
     },
     "execution_count": 8,
     "metadata": {},
     "output_type": "execute_result"
    },
    {
     "data": {
      "text/plain": [
       "Epoch  24: 90.8111% | 91.4110%\n"
      ]
     },
     "execution_count": 8,
     "metadata": {},
     "output_type": "execute_result"
    },
    {
     "data": {
      "text/plain": [
       "Epoch  25: 91.0673% | 91.7081%\n"
      ]
     },
     "execution_count": 8,
     "metadata": {},
     "output_type": "execute_result"
    },
    {
     "data": {
      "text/plain": [
       "Epoch  26: 91.3090% | 92.0204%\n"
      ]
     },
     "execution_count": 8,
     "metadata": {},
     "output_type": "execute_result"
    },
    {
     "data": {
      "text/plain": [
       "Epoch  27: 91.5661% | 92.3234%\n"
      ]
     },
     "execution_count": 8,
     "metadata": {},
     "output_type": "execute_result"
    },
    {
     "data": {
      "text/plain": [
       "Epoch  28: 91.8032% | 92.5681%\n"
      ]
     },
     "execution_count": 8,
     "metadata": {},
     "output_type": "execute_result"
    },
    {
     "data": {
      "text/plain": [
       "Epoch  29: 92.0027% | 92.8447%\n"
      ]
     },
     "execution_count": 8,
     "metadata": {},
     "output_type": "execute_result"
    },
    {
     "data": {
      "text/plain": [
       "Epoch  30: 92.2320% | 93.0270%\n"
      ]
     },
     "execution_count": 8,
     "metadata": {},
     "output_type": "execute_result"
    },
    {
     "data": {
      "text/plain": [
       "Epoch  31: 92.4295% | 93.1399%\n"
      ]
     },
     "execution_count": 8,
     "metadata": {},
     "output_type": "execute_result"
    },
    {
     "data": {
      "text/plain": [
       "Epoch  32: 92.6403% | 93.3039%\n",
       "ConfusionMatrix:\n",
       "[[    5724       4      24      14       5      39      34      12      51      16]   96.640% \t[class: 1]\n",
       " [       3    6555      42      25       8      28       6      13      53       9]   97.226% \t[class: 2]\n",
       " [      45      37    5422      80      99      14      49      85     106      21]   91.004% \t[class: 3]\n",
       " [      20      35     102    5529       3     199      11      66     115      51]   90.181% \t[class: 4]\n",
       " [       5      21      48       3    5407       3      53      15      27     260]   92.554% \t[class: 5]\n",
       " [      58      38      14     146      45    4883     112      17      68      40]   90.076% \t[class: 6]\n",
       " [      41      29      25       1      45      83    5674       0      19       1]   95.877% \t[class: 7]\n",
       " [      13      43      94      10      56       8       0    5859      13     169]   93.520% \t[class: 8]\n",
       " [      33     110      57     138      30      89      28      11    5258      97]   89.865% \t[class: 9]\n",
       " [      30      34      21      81     189      34       3     175      60    5322]]  89.460% \t[class: 10]\n",
       " + average row correct: 92.64027774334% \n",
       " + average rowUcol correct (VOC measure): 86.394119858742% \n",
       " + global correct: 92.721666666667%\t\n",
       "ConfusionMatrix:\n",
       "[[     963       0       1       1       0       7       5       1       2       0]   98.265% \t[class: 1]\n",
       " [       0    1112       3       2       1       1       4       0      12       0]   97.974% \t[class: 2]\n",
       " [      14       3     938      10      14       2       9      15      25       2]   90.891% \t[class: 3]\n",
       " [       4       1      10     937       0      24       1      11      16       6]   92.772% \t[class: 4]\n",
       " [       1       3       4       0     911       0      10       1       3      49]   92.770% \t[class: 5]\n",
       " [      10       2       1      13       6     830      15       2      10       3]   93.049% \t[class: 6]\n",
       " [      11       3       2       1      11      22     905       1       2       0]   94.468% \t[class: 7]\n",
       " [       2      10      23       2       8       0       0     935       5      43]   90.953% \t[class: 8]\n",
       " [       8       6       4      20       9      26       6       5     872      18]   89.528% \t[class: 9]\n",
       " [      10       8       4       9      25       8       0       8       5     932]]  92.369% \t[class: 10]\n",
       " + average row correct: 93.303915858269% \n",
       " + average rowUcol correct (VOC measure): 87.482571005821% \n",
       " + global correct: 93.35%\t\n",
       "Cycling with threshold 0.2"
      ]
     },
     "execution_count": 8,
     "metadata": {},
     "output_type": "execute_result"
    },
    {
     "data": {
      "text/plain": [
       "Channel 1 mean: 25.509416422526 stdev: 70.180423838273\t\n"
      ]
     },
     "execution_count": 8,
     "metadata": {},
     "output_type": "execute_result"
    },
    {
     "data": {
      "text/plain": [
       "Channel 1 mean: 25.87140625 stdev: 70.739298703524\t\n"
      ]
     },
     "execution_count": 8,
     "metadata": {},
     "output_type": "execute_result"
    },
    {
     "data": {
      "text/plain": [
       "Epoch   1: 16.7748% | 19.3955%\n"
      ]
     },
     "execution_count": 8,
     "metadata": {},
     "output_type": "execute_result"
    },
    {
     "data": {
      "text/plain": [
       "Epoch   2: 19.7624% | 21.2605%\n"
      ]
     },
     "execution_count": 8,
     "metadata": {},
     "output_type": "execute_result"
    },
    {
     "data": {
      "text/plain": [
       "Epoch   3: 24.1819% | 27.1766%\n"
      ]
     },
     "execution_count": 8,
     "metadata": {},
     "output_type": "execute_result"
    },
    {
     "data": {
      "text/plain": [
       "Epoch   4: 32.2058% | 37.0847%\n"
      ]
     },
     "execution_count": 8,
     "metadata": {},
     "output_type": "execute_result"
    },
    {
     "data": {
      "text/plain": [
       "Epoch   5: 41.3280% | 45.6765%\n"
      ]
     },
     "execution_count": 8,
     "metadata": {},
     "output_type": "execute_result"
    },
    {
     "data": {
      "text/plain": [
       "Epoch   6: 48.5246% | 52.4489%\n"
      ]
     },
     "execution_count": 8,
     "metadata": {},
     "output_type": "execute_result"
    },
    {
     "data": {
      "text/plain": [
       "Epoch   7: 53.6079% | 57.4672%\n"
      ]
     },
     "execution_count": 8,
     "metadata": {},
     "output_type": "execute_result"
    },
    {
     "data": {
      "text/plain": [
       "Epoch   8: 57.5243% | 61.4843%\n"
      ]
     },
     "execution_count": 8,
     "metadata": {},
     "output_type": "execute_result"
    },
    {
     "data": {
      "text/plain": [
       "Epoch   9: 63.2261% | 68.6049%\n"
      ]
     },
     "execution_count": 8,
     "metadata": {},
     "output_type": "execute_result"
    },
    {
     "data": {
      "text/plain": [
       "Epoch  10: 71.2301% | 76.0912%\n"
      ]
     },
     "execution_count": 8,
     "metadata": {},
     "output_type": "execute_result"
    },
    {
     "data": {
      "text/plain": [
       "Epoch  11: 77.4171% | 80.7166%\n"
      ]
     },
     "execution_count": 8,
     "metadata": {},
     "output_type": "execute_result"
    },
    {
     "data": {
      "text/plain": [
       "Epoch  12: 81.2252% | 83.7176%\n"
      ]
     },
     "execution_count": 8,
     "metadata": {},
     "output_type": "execute_result"
    },
    {
     "data": {
      "text/plain": [
       "Epoch  13: 83.8151% | 85.5981%\n"
      ]
     },
     "execution_count": 8,
     "metadata": {},
     "output_type": "execute_result"
    },
    {
     "data": {
      "text/plain": [
       "Epoch  14: 85.6297% | 87.0381%\n"
      ]
     },
     "execution_count": 8,
     "metadata": {},
     "output_type": "execute_result"
    },
    {
     "data": {
      "text/plain": [
       "Epoch  15: 86.8283% | 88.1327%\n"
      ]
     },
     "execution_count": 8,
     "metadata": {},
     "output_type": "execute_result"
    },
    {
     "data": {
      "text/plain": [
       "Epoch  16: 87.6627% | 88.7812%\n"
      ]
     },
     "execution_count": 8,
     "metadata": {},
     "output_type": "execute_result"
    },
    {
     "data": {
      "text/plain": [
       "Epoch  17: 88.3310% | 89.2722%\n"
      ]
     },
     "execution_count": 8,
     "metadata": {},
     "output_type": "execute_result"
    },
    {
     "data": {
      "text/plain": [
       "Epoch  18: 88.8898% | 89.7138%\n"
      ]
     },
     "execution_count": 8,
     "metadata": {},
     "output_type": "execute_result"
    },
    {
     "data": {
      "text/plain": [
       "Epoch  19: 89.3742% | 90.0417%\n"
      ]
     },
     "execution_count": 8,
     "metadata": {},
     "output_type": "execute_result"
    },
    {
     "data": {
      "text/plain": [
       "Epoch  20: 89.7768% | 90.4037%\n"
      ]
     },
     "execution_count": 8,
     "metadata": {},
     "output_type": "execute_result"
    },
    {
     "data": {
      "text/plain": [
       "Epoch  21: 90.1430% | 90.7712%\n"
      ]
     },
     "execution_count": 8,
     "metadata": {},
     "output_type": "execute_result"
    },
    {
     "data": {
      "text/plain": [
       "Epoch  22: 90.4843% | 91.1020%\n"
      ]
     },
     "execution_count": 8,
     "metadata": {},
     "output_type": "execute_result"
    },
    {
     "data": {
      "text/plain": [
       "Epoch  23: 90.7471% | 91.4697%\n"
      ]
     },
     "execution_count": 8,
     "metadata": {},
     "output_type": "execute_result"
    },
    {
     "data": {
      "text/plain": [
       "Epoch  24: 90.9997% | 91.7381%\n"
      ]
     },
     "execution_count": 8,
     "metadata": {},
     "output_type": "execute_result"
    },
    {
     "data": {
      "text/plain": [
       "Epoch  25: 91.2513% | 91.9021%\n"
      ]
     },
     "execution_count": 8,
     "metadata": {},
     "output_type": "execute_result"
    },
    {
     "data": {
      "text/plain": [
       "Epoch  26: 91.4579% | 92.1228%\n"
      ]
     },
     "execution_count": 8,
     "metadata": {},
     "output_type": "execute_result"
    },
    {
     "data": {
      "text/plain": [
       "Epoch  27: 91.6768% | 92.2518%\n"
      ]
     },
     "execution_count": 8,
     "metadata": {},
     "output_type": "execute_result"
    },
    {
     "data": {
      "text/plain": [
       "Epoch  28: 91.9047% | 92.5132%\n"
      ]
     },
     "execution_count": 8,
     "metadata": {},
     "output_type": "execute_result"
    },
    {
     "data": {
      "text/plain": [
       "Epoch  29: 92.1272% | 92.7254%\n"
      ]
     },
     "execution_count": 8,
     "metadata": {},
     "output_type": "execute_result"
    },
    {
     "data": {
      "text/plain": [
       "Epoch  30: 92.2875% | 92.9223%\n"
      ]
     },
     "execution_count": 8,
     "metadata": {},
     "output_type": "execute_result"
    },
    {
     "data": {
      "text/plain": [
       "Epoch  31: 92.4436% | 93.0115%\n"
      ]
     },
     "execution_count": 8,
     "metadata": {},
     "output_type": "execute_result"
    },
    {
     "data": {
      "text/plain": [
       "Epoch  32: 92.5764% | 93.1842%\n",
       "ConfusionMatrix:\n",
       "[[    5749       0      14      18       8      28      32      10      51      13]   97.062% \t[class: 1]\n",
       " [       1    6554      46      23       9      35       6      11      45      12]   97.212% \t[class: 2]\n",
       " [      32      31    5405      67     116      19      69      92     114      13]   90.718% \t[class: 3]\n",
       " [      27      40      94    5518       4     187      11      55     137      58]   90.002% \t[class: 4]\n",
       " [       7      25      49       5    5365       2      58      12      33     286]   91.835% \t[class: 5]\n",
       " [      46      46      29     143      45    4898     101      10      72      31]   90.352% \t[class: 6]\n",
       " [      35      19      20       8      43      95    5672       2      24       0]   95.843% \t[class: 7]\n",
       " [      15      42      90      18      48      10       1    5845      11     185]   93.296% \t[class: 8]\n",
       " [      25      84      66     163      19      85      36       9    5259     105]   89.882% \t[class: 9]\n",
       " [      33      27      19      87     176      20       4     199      56    5328]]  89.561% \t[class: 10]\n",
       " + average row correct: 92.576374411583% \n",
       " + average rowUcol correct (VOC measure): 86.293397545815% \n",
       " + global correct: 92.655%\t\n",
       "ConfusionMatrix:\n",
       "[[     970       0       0       1       0       3       3       1       2       0]   98.980% \t[class: 1]\n",
       " [       0    1106       5       2       0       3       2       1      16       0]   97.445% \t[class: 2]\n",
       " [      12       2     931      11      15       2      14      15      28       2]   90.213% \t[class: 3]\n",
       " [       1       5      10     921       0      33       0       6      25       9]   91.188% \t[class: 4]\n",
       " [       2       1       5       3     894       0      17       3       5      52]   91.039% \t[class: 5]\n",
       " [       8       3       2      24       4     828       8       2      11       2]   92.825% \t[class: 6]\n",
       " [       8       3       4       4       6      19     912       1       1       0]   95.198% \t[class: 7]\n",
       " [       1       7      25       4       4       0       0     942       3      42]   91.634% \t[class: 8]\n",
       " [       8       3       6      25       5      17       4       4     882      20]   90.554% \t[class: 9]\n",
       " [       9       6       3       9      18      12       0      10       6     936]]  92.765% \t[class: 10]\n",
       " + average row correct: 93.18417429924% \n",
       " + average rowUcol correct (VOC measure): 87.294437885284% \n",
       " + global correct: 93.22%\t\n",
       "Cycling with threshold 0.3"
      ]
     },
     "execution_count": 8,
     "metadata": {},
     "output_type": "execute_result"
    },
    {
     "data": {
      "text/plain": [
       "Channel 1 mean: 25.509416422526 stdev: 70.180423838273\t\n"
      ]
     },
     "execution_count": 8,
     "metadata": {},
     "output_type": "execute_result"
    },
    {
     "data": {
      "text/plain": [
       "Channel 1 mean: 25.87140625 stdev: 70.739298703524\t\n"
      ]
     },
     "execution_count": 8,
     "metadata": {},
     "output_type": "execute_result"
    },
    {
     "data": {
      "text/plain": [
       "Epoch   1: 9.0859% | 10.0666%\n"
      ]
     },
     "execution_count": 8,
     "metadata": {},
     "output_type": "execute_result"
    },
    {
     "data": {
      "text/plain": [
       "Epoch   2: 11.4644% | 13.8143%\n"
      ]
     },
     "execution_count": 8,
     "metadata": {},
     "output_type": "execute_result"
    },
    {
     "data": {
      "text/plain": [
       "Epoch   3: 18.6179% | 25.9413%\n"
      ]
     },
     "execution_count": 8,
     "metadata": {},
     "output_type": "execute_result"
    },
    {
     "data": {
      "text/plain": [
       "Epoch   4: 34.7672% | 43.9726%\n"
      ]
     },
     "execution_count": 8,
     "metadata": {},
     "output_type": "execute_result"
    },
    {
     "data": {
      "text/plain": [
       "Epoch   5: 48.6048% | 54.9154%\n"
      ]
     },
     "execution_count": 8,
     "metadata": {},
     "output_type": "execute_result"
    },
    {
     "data": {
      "text/plain": [
       "Epoch   6: 57.0017% | 61.8061%\n"
      ]
     },
     "execution_count": 8,
     "metadata": {},
     "output_type": "execute_result"
    },
    {
     "data": {
      "text/plain": [
       "Epoch   7: 61.2285% | 63.5669%\n"
      ]
     },
     "execution_count": 8,
     "metadata": {},
     "output_type": "execute_result"
    },
    {
     "data": {
      "text/plain": [
       "Epoch   8: 62.1051% | 63.0904%\n"
      ]
     },
     "execution_count": 8,
     "metadata": {},
     "output_type": "execute_result"
    },
    {
     "data": {
      "text/plain": [
       "Epoch   9: 61.8134% | 62.9712%\n"
      ]
     },
     "execution_count": 8,
     "metadata": {},
     "output_type": "execute_result"
    },
    {
     "data": {
      "text/plain": [
       "Epoch  10: 62.9966% | 66.6536%\n"
      ]
     },
     "execution_count": 8,
     "metadata": {},
     "output_type": "execute_result"
    },
    {
     "data": {
      "text/plain": [
       "Epoch  11: 70.2765% | 75.8689%\n"
      ]
     },
     "execution_count": 8,
     "metadata": {},
     "output_type": "execute_result"
    },
    {
     "data": {
      "text/plain": [
       "Epoch  12: 78.0267% | 81.8547%\n"
      ]
     },
     "execution_count": 8,
     "metadata": {},
     "output_type": "execute_result"
    },
    {
     "data": {
      "text/plain": [
       "Epoch  13: 82.0473% | 84.7236%\n"
      ]
     },
     "execution_count": 8,
     "metadata": {},
     "output_type": "execute_result"
    },
    {
     "data": {
      "text/plain": [
       "Epoch  14: 84.4606% | 86.4845%\n"
      ]
     },
     "execution_count": 8,
     "metadata": {},
     "output_type": "execute_result"
    },
    {
     "data": {
      "text/plain": [
       "Epoch  15: 86.1661% | 87.8167%\n"
      ]
     },
     "execution_count": 8,
     "metadata": {},
     "output_type": "execute_result"
    },
    {
     "data": {
      "text/plain": [
       "Epoch  16: 87.3513% | 88.7053%\n"
      ]
     },
     "execution_count": 8,
     "metadata": {},
     "output_type": "execute_result"
    },
    {
     "data": {
      "text/plain": [
       "Epoch  17: 88.3375% | 89.5110%\n"
      ]
     },
     "execution_count": 8,
     "metadata": {},
     "output_type": "execute_result"
    },
    {
     "data": {
      "text/plain": [
       "Epoch  18: 89.0649% | 90.0945%\n"
      ]
     },
     "execution_count": 8,
     "metadata": {},
     "output_type": "execute_result"
    },
    {
     "data": {
      "text/plain": [
       "Epoch  19: 89.6641% | 90.6071%\n"
      ]
     },
     "execution_count": 8,
     "metadata": {},
     "output_type": "execute_result"
    },
    {
     "data": {
      "text/plain": [
       "Epoch  20: 90.1053% | 91.0335%\n"
      ]
     },
     "execution_count": 8,
     "metadata": {},
     "output_type": "execute_result"
    },
    {
     "data": {
      "text/plain": [
       "Epoch  21: 90.5131% | 91.5685%\n"
      ]
     },
     "execution_count": 8,
     "metadata": {},
     "output_type": "execute_result"
    },
    {
     "data": {
      "text/plain": [
       "Epoch  22: 90.9180% | 91.8167%\n"
      ]
     },
     "execution_count": 8,
     "metadata": {},
     "output_type": "execute_result"
    },
    {
     "data": {
      "text/plain": [
       "Epoch  23: 91.2584% | 92.0884%\n"
      ]
     },
     "execution_count": 8,
     "metadata": {},
     "output_type": "execute_result"
    },
    {
     "data": {
      "text/plain": [
       "Epoch  24: 91.5295% | 92.2986%\n"
      ]
     },
     "execution_count": 8,
     "metadata": {},
     "output_type": "execute_result"
    },
    {
     "data": {
      "text/plain": [
       "Epoch  25: 91.7513% | 92.5434%\n"
      ]
     },
     "execution_count": 8,
     "metadata": {},
     "output_type": "execute_result"
    },
    {
     "data": {
      "text/plain": [
       "Epoch  26: 92.0067% | 92.7394%\n"
      ]
     },
     "execution_count": 8,
     "metadata": {},
     "output_type": "execute_result"
    },
    {
     "data": {
      "text/plain": [
       "Epoch  27: 92.2381% | 92.9059%\n"
      ]
     },
     "execution_count": 8,
     "metadata": {},
     "output_type": "execute_result"
    },
    {
     "data": {
      "text/plain": [
       "Epoch  28: 92.4409% | 93.1285%\n"
      ]
     },
     "execution_count": 8,
     "metadata": {},
     "output_type": "execute_result"
    },
    {
     "data": {
      "text/plain": [
       "Epoch  29: 92.6323% | 93.3598%\n"
      ]
     },
     "execution_count": 8,
     "metadata": {},
     "output_type": "execute_result"
    },
    {
     "data": {
      "text/plain": [
       "Epoch  30: 92.8043% | 93.5928%\n"
      ]
     },
     "execution_count": 8,
     "metadata": {},
     "output_type": "execute_result"
    },
    {
     "data": {
      "text/plain": [
       "Epoch  31: 92.9902% | 93.7453%\n"
      ]
     },
     "execution_count": 8,
     "metadata": {},
     "output_type": "execute_result"
    },
    {
     "data": {
      "text/plain": [
       "Epoch  32: 93.1625% | 93.9132%\n",
       "ConfusionMatrix:\n",
       "[[    5759       2      15       7       8      23      43       7      51       8]   97.231% \t[class: 1]\n",
       " [       0    6552      53      20       8      23      10      12      53      11]   97.182% \t[class: 2]\n",
       " [      31      39    5443      78     100      16      50      89      94      18]   91.356% \t[class: 3]\n",
       " [      20      32     106    5612       2     130      12      64      99      54]   91.535% \t[class: 4]\n",
       " [       6      20      50       2    5420       2      65      23      23     231]   92.776% \t[class: 5]\n",
       " [      24      39      23     126      28    4979      67       5      91      39]   91.847% \t[class: 6]\n",
       " [      41      37      33       1      41      69    5673       0      22       1]   95.860% \t[class: 7]\n",
       " [      11      33      91      13      54       6       1    5849       7     200]   93.360% \t[class: 8]\n",
       " [      18      99      57     134      29      80      25      12    5293     104]   90.463% \t[class: 9]\n",
       " [      32      25      40      93     147      18       2     189      48    5355]]  90.015% \t[class: 10]\n",
       " + average row correct: 93.162525296211% \n",
       " + average rowUcol correct (VOC measure): 87.310192584991% \n",
       " + global correct: 93.225%\t\n",
       "ConfusionMatrix:\n",
       "[[     967       0       2       1       0       2       5       1       2       0]   98.673% \t[class: 1]\n",
       " [       0    1110       3       2       0       1       4       0      15       0]   97.797% \t[class: 2]\n",
       " [       8       1     944      13      13       2       8      19      21       3]   91.473% \t[class: 3]\n",
       " [       0       1      12     951       0      17       0       9      14       6]   94.158% \t[class: 4]\n",
       " [       1       3       3       0     921       0      10       2       4      38]   93.788% \t[class: 5]\n",
       " [       6       1       2      23       3     831       7       1      13       5]   93.161% \t[class: 6]\n",
       " [       9       4       3       3       9      17     910       0       3       0]   94.990% \t[class: 7]\n",
       " [       1       7      27       5       5       1       0     935       0      47]   90.953% \t[class: 8]\n",
       " [       8       3       6      20      10      10       6       7     889      15]   91.273% \t[class: 9]\n",
       " [       6       5       6      10      17       7       0      15       6     937]]  92.864% \t[class: 10]\n",
       " + average row correct: 93.913192749023% \n",
       " + average rowUcol correct (VOC measure): 88.595461845398% \n",
       " + global correct: 93.95%\t\n",
       "Cycling with threshold 0.4"
      ]
     },
     "execution_count": 8,
     "metadata": {},
     "output_type": "execute_result"
    },
    {
     "data": {
      "text/plain": [
       "Channel 1 mean: 25.509416422526 stdev: 70.180423838273\t\n"
      ]
     },
     "execution_count": 8,
     "metadata": {},
     "output_type": "execute_result"
    },
    {
     "data": {
      "text/plain": [
       "Channel 1 mean: 25.87140625 stdev: 70.739298703524\t\n"
      ]
     },
     "execution_count": 8,
     "metadata": {},
     "output_type": "execute_result"
    },
    {
     "data": {
      "text/plain": [
       "Epoch   1: 18.2653% | 28.8975%\n"
      ]
     },
     "execution_count": 8,
     "metadata": {},
     "output_type": "execute_result"
    },
    {
     "data": {
      "text/plain": [
       "Epoch   2: 34.8874% | 42.3527%\n"
      ]
     },
     "execution_count": 8,
     "metadata": {},
     "output_type": "execute_result"
    },
    {
     "data": {
      "text/plain": [
       "Epoch   3: 48.7906% | 54.6346%\n"
      ]
     },
     "execution_count": 8,
     "metadata": {},
     "output_type": "execute_result"
    },
    {
     "data": {
      "text/plain": [
       "Epoch   4: 57.6400% | 60.5193%\n"
      ]
     },
     "execution_count": 8,
     "metadata": {},
     "output_type": "execute_result"
    },
    {
     "data": {
      "text/plain": [
       "Epoch   5: 61.2030% | 62.5283%\n"
      ]
     },
     "execution_count": 8,
     "metadata": {},
     "output_type": "execute_result"
    },
    {
     "data": {
      "text/plain": [
       "Epoch   6: 62.9422% | 64.9693%\n"
      ]
     },
     "execution_count": 8,
     "metadata": {},
     "output_type": "execute_result"
    },
    {
     "data": {
      "text/plain": [
       "Epoch   7: 67.5929% | 71.5160%\n"
      ]
     },
     "execution_count": 8,
     "metadata": {},
     "output_type": "execute_result"
    },
    {
     "data": {
      "text/plain": [
       "Epoch   8: 74.8891% | 78.8984%\n"
      ]
     },
     "execution_count": 8,
     "metadata": {},
     "output_type": "execute_result"
    },
    {
     "data": {
      "text/plain": [
       "Epoch   9: 80.1887% | 82.7477%\n"
      ]
     },
     "execution_count": 8,
     "metadata": {},
     "output_type": "execute_result"
    },
    {
     "data": {
      "text/plain": [
       "Epoch  10: 83.0064% | 84.6751%\n"
      ]
     },
     "execution_count": 8,
     "metadata": {},
     "output_type": "execute_result"
    },
    {
     "data": {
      "text/plain": [
       "Epoch  11: 84.7615% | 86.3593%\n"
      ]
     },
     "execution_count": 8,
     "metadata": {},
     "output_type": "execute_result"
    },
    {
     "data": {
      "text/plain": [
       "Epoch  12: 86.1328% | 87.3682%\n"
      ]
     },
     "execution_count": 8,
     "metadata": {},
     "output_type": "execute_result"
    },
    {
     "data": {
      "text/plain": [
       "Epoch  13: 87.1350% | 88.3369%\n"
      ]
     },
     "execution_count": 8,
     "metadata": {},
     "output_type": "execute_result"
    },
    {
     "data": {
      "text/plain": [
       "Epoch  14: 87.8982% | 88.8696%\n"
      ]
     },
     "execution_count": 8,
     "metadata": {},
     "output_type": "execute_result"
    },
    {
     "data": {
      "text/plain": [
       "Epoch  15: 88.4800% | 89.4424%\n"
      ]
     },
     "execution_count": 8,
     "metadata": {},
     "output_type": "execute_result"
    },
    {
     "data": {
      "text/plain": [
       "Epoch  16: 88.9953% | 89.7873%\n"
      ]
     },
     "execution_count": 8,
     "metadata": {},
     "output_type": "execute_result"
    },
    {
     "data": {
      "text/plain": [
       "Epoch  17: 89.4212% | 90.2304%\n"
      ]
     },
     "execution_count": 8,
     "metadata": {},
     "output_type": "execute_result"
    },
    {
     "data": {
      "text/plain": [
       "Epoch  18: 89.8277% | 90.5815%\n"
      ]
     },
     "execution_count": 8,
     "metadata": {},
     "output_type": "execute_result"
    },
    {
     "data": {
      "text/plain": [
       "Epoch  19: 90.1374% | 90.8584%\n"
      ]
     },
     "execution_count": 8,
     "metadata": {},
     "output_type": "execute_result"
    },
    {
     "data": {
      "text/plain": [
       "Epoch  20: 90.4316% | 91.0361%\n"
      ]
     },
     "execution_count": 8,
     "metadata": {},
     "output_type": "execute_result"
    },
    {
     "data": {
      "text/plain": [
       "Epoch  21: 90.7269% | 91.3526%\n"
      ]
     },
     "execution_count": 8,
     "metadata": {},
     "output_type": "execute_result"
    },
    {
     "data": {
      "text/plain": [
       "Epoch  22: 91.0156% | 91.6074%\n"
      ]
     },
     "execution_count": 8,
     "metadata": {},
     "output_type": "execute_result"
    },
    {
     "data": {
      "text/plain": [
       "Epoch  23: 91.2727% | 91.8544%\n"
      ]
     },
     "execution_count": 8,
     "metadata": {},
     "output_type": "execute_result"
    },
    {
     "data": {
      "text/plain": [
       "Epoch  24: 91.4900% | 92.0826%\n"
      ]
     },
     "execution_count": 8,
     "metadata": {},
     "output_type": "execute_result"
    },
    {
     "data": {
      "text/plain": [
       "Epoch  25: 91.7101% | 92.3233%\n"
      ]
     },
     "execution_count": 8,
     "metadata": {},
     "output_type": "execute_result"
    },
    {
     "data": {
      "text/plain": [
       "Epoch  26: 91.9479% | 92.5065%\n"
      ]
     },
     "execution_count": 8,
     "metadata": {},
     "output_type": "execute_result"
    },
    {
     "data": {
      "text/plain": [
       "Epoch  27: 92.2109% | 92.6601%\n"
      ]
     },
     "execution_count": 8,
     "metadata": {},
     "output_type": "execute_result"
    },
    {
     "data": {
      "text/plain": [
       "Epoch  28: 92.4071% | 92.9262%\n"
      ]
     },
     "execution_count": 8,
     "metadata": {},
     "output_type": "execute_result"
    },
    {
     "data": {
      "text/plain": [
       "Epoch  29: 92.5980% | 93.0911%\n"
      ]
     },
     "execution_count": 8,
     "metadata": {},
     "output_type": "execute_result"
    },
    {
     "data": {
      "text/plain": [
       "Epoch  30: 92.8004% | 93.2562%\n"
      ]
     },
     "execution_count": 8,
     "metadata": {},
     "output_type": "execute_result"
    },
    {
     "data": {
      "text/plain": [
       "Epoch  31: 92.9595% | 93.4718%\n"
      ]
     },
     "execution_count": 8,
     "metadata": {},
     "output_type": "execute_result"
    },
    {
     "data": {
      "text/plain": [
       "Epoch  32: 93.1286% | 93.6478%\n",
       "ConfusionMatrix:\n",
       "[[    5742       3      22      16       7      34      45       6      39       9]   96.944% \t[class: 1]\n",
       " [       1    6577      40      23       7      16      10      14      46       8]   97.553% \t[class: 2]\n",
       " [      40      27    5429      63     100      15      73      86     104      21]   91.121% \t[class: 3]\n",
       " [      18      33      96    5574       3     160      20      55     113      59]   90.915% \t[class: 4]\n",
       " [       5      22      44       2    5415       2      52      13      33     254]   92.691% \t[class: 5]\n",
       " [      55      33      17     123      31    4939      85       8      88      42]   91.109% \t[class: 6]\n",
       " [      42      18      30       1      53      73    5678       0      20       3]   95.945% \t[class: 7]\n",
       " [      16      27      70      16      55      11       0    5896      11     163]   94.110% \t[class: 8]\n",
       " [      27      93      46     128      20      82      42      15    5293     105]   90.463% \t[class: 9]\n",
       " [      26      23      27      92     158      24       2     163      54    5380]]  90.435% \t[class: 10]\n",
       " + average row correct: 93.128573894501% \n",
       " + average rowUcol correct (VOC measure): 87.237216830254% \n",
       " + global correct: 93.205%\t\n",
       "ConfusionMatrix:\n",
       "[[     964       0       1       0       0       7       5       1       2       0]   98.367% \t[class: 1]\n",
       " [       0    1118       3       2       0       1       4       0       7       0]   98.502% \t[class: 2]\n",
       " [      10       1     943      13      11       1      13      16      22       2]   91.376% \t[class: 3]\n",
       " [       4       1      12     940       0      24       1      10      12       6]   93.069% \t[class: 4]\n",
       " [       1       2       5       0     911       0      12       1       6      44]   92.770% \t[class: 5]\n",
       " [       8       4       4      22       4     828       7       1      10       4]   92.825% \t[class: 6]\n",
       " [      11       3       3       2      10      18     910       0       1       0]   94.990% \t[class: 7]\n",
       " [       1       7      24       6       7       0       0     938       4      41]   91.245% \t[class: 8]\n",
       " [       6       2       5      18       7      21       6       7     886      16]   90.965% \t[class: 9]\n",
       " [       9       6       3      11      24       8       0       9       7     932]]  92.369% \t[class: 10]\n",
       " + average row correct: 93.647826910019% \n",
       " + average rowUcol correct (VOC measure): 88.104827404022% \n",
       " + global correct: 93.7%\t\n",
       "Cycling with threshold 0.5"
      ]
     },
     "execution_count": 8,
     "metadata": {},
     "output_type": "execute_result"
    },
    {
     "data": {
      "text/plain": [
       "Channel 1 mean: 25.509416422526 stdev: 70.180423838273\t\n"
      ]
     },
     "execution_count": 8,
     "metadata": {},
     "output_type": "execute_result"
    },
    {
     "data": {
      "text/plain": [
       "Channel 1 mean: 25.87140625 stdev: 70.739298703524\t\n"
      ]
     },
     "execution_count": 8,
     "metadata": {},
     "output_type": "execute_result"
    },
    {
     "data": {
      "text/plain": [
       "Epoch   1: 13.5878% | 19.8779%\n"
      ]
     },
     "execution_count": 8,
     "metadata": {},
     "output_type": "execute_result"
    },
    {
     "data": {
      "text/plain": [
       "Epoch   2: 27.3243% | 35.7718%\n"
      ]
     },
     "execution_count": 8,
     "metadata": {},
     "output_type": "execute_result"
    },
    {
     "data": {
      "text/plain": [
       "Epoch   3: 48.6442% | 56.9882%\n"
      ]
     },
     "execution_count": 8,
     "metadata": {},
     "output_type": "execute_result"
    },
    {
     "data": {
      "text/plain": [
       "Epoch   4: 62.7266% | 67.1227%\n"
      ]
     },
     "execution_count": 8,
     "metadata": {},
     "output_type": "execute_result"
    },
    {
     "data": {
      "text/plain": [
       "Epoch   5: 69.6136% | 72.7767%\n"
      ]
     },
     "execution_count": 8,
     "metadata": {},
     "output_type": "execute_result"
    },
    {
     "data": {
      "text/plain": [
       "Epoch   6: 73.4245% | 75.8486%\n"
      ]
     },
     "execution_count": 8,
     "metadata": {},
     "output_type": "execute_result"
    },
    {
     "data": {
      "text/plain": [
       "Epoch   7: 76.3078% | 79.1036%\n"
      ]
     },
     "execution_count": 8,
     "metadata": {},
     "output_type": "execute_result"
    },
    {
     "data": {
      "text/plain": [
       "Epoch   8: 80.0693% | 83.1790%\n"
      ]
     },
     "execution_count": 8,
     "metadata": {},
     "output_type": "execute_result"
    },
    {
     "data": {
      "text/plain": [
       "Epoch   9: 83.1626% | 85.4155%\n"
      ]
     },
     "execution_count": 8,
     "metadata": {},
     "output_type": "execute_result"
    },
    {
     "data": {
      "text/plain": [
       "Epoch  10: 85.1979% | 86.9583%\n"
      ]
     },
     "execution_count": 8,
     "metadata": {},
     "output_type": "execute_result"
    },
    {
     "data": {
      "text/plain": [
       "Epoch  11: 86.6584% | 88.2507%\n"
      ]
     },
     "execution_count": 8,
     "metadata": {},
     "output_type": "execute_result"
    },
    {
     "data": {
      "text/plain": [
       "Epoch  12: 87.7412% | 89.0465%\n"
      ]
     },
     "execution_count": 8,
     "metadata": {},
     "output_type": "execute_result"
    },
    {
     "data": {
      "text/plain": [
       "Epoch  13: 88.5213% | 89.6615%\n"
      ]
     },
     "execution_count": 8,
     "metadata": {},
     "output_type": "execute_result"
    },
    {
     "data": {
      "text/plain": [
       "Epoch  14: 89.1770% | 90.1785%\n"
      ]
     },
     "execution_count": 8,
     "metadata": {},
     "output_type": "execute_result"
    },
    {
     "data": {
      "text/plain": [
       "Epoch  15: 89.8041% | 90.6793%\n"
      ]
     },
     "execution_count": 8,
     "metadata": {},
     "output_type": "execute_result"
    },
    {
     "data": {
      "text/plain": [
       "Epoch  16: 90.3175% | 91.0531%\n"
      ]
     },
     "execution_count": 8,
     "metadata": {},
     "output_type": "execute_result"
    },
    {
     "data": {
      "text/plain": [
       "Epoch  17: 90.7083% | 91.3650%\n"
      ]
     },
     "execution_count": 8,
     "metadata": {},
     "output_type": "execute_result"
    },
    {
     "data": {
      "text/plain": [
       "Epoch  18: 91.0646% | 91.7756%\n"
      ]
     },
     "execution_count": 8,
     "metadata": {},
     "output_type": "execute_result"
    },
    {
     "data": {
      "text/plain": [
       "Epoch  19: 91.4334% | 92.1609%\n"
      ]
     },
     "execution_count": 8,
     "metadata": {},
     "output_type": "execute_result"
    },
    {
     "data": {
      "text/plain": [
       "Epoch  20: 91.7269% | 92.4767%\n"
      ]
     },
     "execution_count": 8,
     "metadata": {},
     "output_type": "execute_result"
    },
    {
     "data": {
      "text/plain": [
       "Epoch  21: 92.0121% | 92.7040%\n"
      ]
     },
     "execution_count": 8,
     "metadata": {},
     "output_type": "execute_result"
    },
    {
     "data": {
      "text/plain": [
       "Epoch  22: 92.2562% | 92.9177%\n"
      ]
     },
     "execution_count": 8,
     "metadata": {},
     "output_type": "execute_result"
    },
    {
     "data": {
      "text/plain": [
       "Epoch  23: 92.4774% | 93.1138%\n"
      ]
     },
     "execution_count": 8,
     "metadata": {},
     "output_type": "execute_result"
    },
    {
     "data": {
      "text/plain": [
       "Epoch  24: 92.7008% | 93.2663%\n"
      ]
     },
     "execution_count": 8,
     "metadata": {},
     "output_type": "execute_result"
    },
    {
     "data": {
      "text/plain": [
       "Epoch  25: 92.9409% | 93.4016%\n"
      ]
     },
     "execution_count": 8,
     "metadata": {},
     "output_type": "execute_result"
    },
    {
     "data": {
      "text/plain": [
       "Epoch  26: 93.1606% | 93.6664%\n"
      ]
     },
     "execution_count": 8,
     "metadata": {},
     "output_type": "execute_result"
    },
    {
     "data": {
      "text/plain": [
       "Epoch  27: 93.3289% | 93.8603%\n"
      ]
     },
     "execution_count": 8,
     "metadata": {},
     "output_type": "execute_result"
    },
    {
     "data": {
      "text/plain": [
       "Epoch  28: 93.5198% | 93.9814%\n"
      ]
     },
     "execution_count": 8,
     "metadata": {},
     "output_type": "execute_result"
    },
    {
     "data": {
      "text/plain": [
       "Epoch  29: 93.6978% | 94.1563%\n"
      ]
     },
     "execution_count": 8,
     "metadata": {},
     "output_type": "execute_result"
    },
    {
     "data": {
      "text/plain": [
       "Epoch  30: 93.8482% | 94.3570%\n"
      ]
     },
     "execution_count": 8,
     "metadata": {},
     "output_type": "execute_result"
    },
    {
     "data": {
      "text/plain": [
       "Epoch  31: 93.9808% | 94.4774%\n"
      ]
     },
     "execution_count": 8,
     "metadata": {},
     "output_type": "execute_result"
    },
    {
     "data": {
      "text/plain": [
       "Epoch  32: 94.1321% | 94.6882%\n",
       "ConfusionMatrix:\n",
       "[[    5761       3      25       4       4      24      37       8      42      15]   97.265% \t[class: 1]\n",
       " [       1    6580      51      17      10      14      13      13      32      11]   97.597% \t[class: 2]\n",
       " [      36      25    5511      65      78      15      46      75      88      19]   92.497% \t[class: 3]\n",
       " [      18      21      92    5656       1     136      11      53      91      52]   92.252% \t[class: 4]\n",
       " [       4      14      34       2    5505       1      57      12      25     188]   94.231% \t[class: 5]\n",
       " [      34      25      15      99      16    5056      79       7      54      36]   93.267% \t[class: 6]\n",
       " [      38      21      21       0      39      66    5703       2      28       0]   96.367% \t[class: 7]\n",
       " [      12      21      76      20      43       7       0    5922      14     150]   94.525% \t[class: 8]\n",
       " [      22      90      50      98      22      85      26      11    5351      96]   91.454% \t[class: 9]\n",
       " [      32      23      23      75     109      27       2     138      55    5465]]  91.864% \t[class: 10]\n",
       " + average row correct: 94.132115244865% \n",
       " + average rowUcol correct (VOC measure): 88.977163434029% \n",
       " + global correct: 94.183333333333%\t\n",
       "ConfusionMatrix:\n",
       "[[     966       0       2       1       0       3       5       1       2       0]   98.571% \t[class: 1]\n",
       " [       0    1115       3       2       0       1       4       0      10       0]   98.238% \t[class: 2]\n",
       " [      12       0     953      11      10       2      10      11      18       5]   92.345% \t[class: 3]\n",
       " [       1       1       8     954       0      16       0       6      18       6]   94.455% \t[class: 4]\n",
       " [       1       1       3       0     930       0       9       2       4      32]   94.705% \t[class: 5]\n",
       " [       7       2       0      20       1     841      10       1       6       4]   94.283% \t[class: 6]\n",
       " [      15       3       2       0       8      15     911       1       3       0]   95.094% \t[class: 7]\n",
       " [       2       6      23       6       4       0       0     948       3      36]   92.218% \t[class: 8]\n",
       " [       6       0       1      14       8      15       5       7     906      12]   93.018% \t[class: 9]\n",
       " [      10       6       4       6      14       8       0       7       6     948]]  93.954% \t[class: 10]\n",
       " + average row correct: 94.688164591789% \n",
       " + average rowUcol correct (VOC measure): 89.926064014435% \n",
       " + global correct: 94.72%\t\n",
       "Cycling with threshold 0.6"
      ]
     },
     "execution_count": 8,
     "metadata": {},
     "output_type": "execute_result"
    },
    {
     "data": {
      "text/plain": [
       "Channel 1 mean: 25.509416422526 stdev: 70.180423838273\t\n"
      ]
     },
     "execution_count": 8,
     "metadata": {},
     "output_type": "execute_result"
    },
    {
     "data": {
      "text/plain": [
       "Channel 1 mean: 25.87140625 stdev: 70.739298703524\t\n"
      ]
     },
     "execution_count": 8,
     "metadata": {},
     "output_type": "execute_result"
    },
    {
     "data": {
      "text/plain": [
       "Epoch   1: 20.7264% | 27.5556%\n"
      ]
     },
     "execution_count": 8,
     "metadata": {},
     "output_type": "execute_result"
    },
    {
     "data": {
      "text/plain": [
       "Epoch   2: 36.7903% | 44.9545%\n"
      ]
     },
     "execution_count": 8,
     "metadata": {},
     "output_type": "execute_result"
    },
    {
     "data": {
      "text/plain": [
       "Epoch   3: 49.3494% | 54.1178%\n"
      ]
     },
     "execution_count": 8,
     "metadata": {},
     "output_type": "execute_result"
    },
    {
     "data": {
      "text/plain": [
       "Epoch   4: 55.0165% | 58.4735%\n"
      ]
     },
     "execution_count": 8,
     "metadata": {},
     "output_type": "execute_result"
    },
    {
     "data": {
      "text/plain": [
       "Epoch   5: 59.1379% | 62.3361%\n"
      ]
     },
     "execution_count": 8,
     "metadata": {},
     "output_type": "execute_result"
    },
    {
     "data": {
      "text/plain": [
       "Epoch   6: 64.0032% | 68.1812%\n"
      ]
     },
     "execution_count": 8,
     "metadata": {},
     "output_type": "execute_result"
    },
    {
     "data": {
      "text/plain": [
       "Epoch   7: 70.7240% | 75.1952%\n"
      ]
     },
     "execution_count": 8,
     "metadata": {},
     "output_type": "execute_result"
    },
    {
     "data": {
      "text/plain": [
       "Epoch   8: 76.9319% | 80.1663%\n"
      ]
     },
     "execution_count": 8,
     "metadata": {},
     "output_type": "execute_result"
    },
    {
     "data": {
      "text/plain": [
       "Epoch   9: 80.6612% | 83.2335%\n"
      ]
     },
     "execution_count": 8,
     "metadata": {},
     "output_type": "execute_result"
    },
    {
     "data": {
      "text/plain": [
       "Epoch  10: 83.3510% | 85.4474%\n"
      ]
     },
     "execution_count": 8,
     "metadata": {},
     "output_type": "execute_result"
    },
    {
     "data": {
      "text/plain": [
       "Epoch  11: 85.3012% | 87.1398%\n"
      ]
     },
     "execution_count": 8,
     "metadata": {},
     "output_type": "execute_result"
    },
    {
     "data": {
      "text/plain": [
       "Epoch  12: 86.6591% | 88.0810%\n"
      ]
     },
     "execution_count": 8,
     "metadata": {},
     "output_type": "execute_result"
    },
    {
     "data": {
      "text/plain": [
       "Epoch  13: 87.5824% | 88.8324%\n"
      ]
     },
     "execution_count": 8,
     "metadata": {},
     "output_type": "execute_result"
    },
    {
     "data": {
      "text/plain": [
       "Epoch  14: 88.2953% | 89.4594%\n"
      ]
     },
     "execution_count": 8,
     "metadata": {},
     "output_type": "execute_result"
    },
    {
     "data": {
      "text/plain": [
       "Epoch  15: 88.8690% | 90.0338%\n"
      ]
     },
     "execution_count": 8,
     "metadata": {},
     "output_type": "execute_result"
    },
    {
     "data": {
      "text/plain": [
       "Epoch  16: 89.4193% | 90.4884%\n"
      ]
     },
     "execution_count": 8,
     "metadata": {},
     "output_type": "execute_result"
    },
    {
     "data": {
      "text/plain": [
       "Epoch  17: 89.8993% | 90.7318%\n"
      ]
     },
     "execution_count": 8,
     "metadata": {},
     "output_type": "execute_result"
    },
    {
     "data": {
      "text/plain": [
       "Epoch  18: 90.2792% | 91.1111%\n"
      ]
     },
     "execution_count": 8,
     "metadata": {},
     "output_type": "execute_result"
    },
    {
     "data": {
      "text/plain": [
       "Epoch  19: 90.5969% | 91.4518%\n"
      ]
     },
     "execution_count": 8,
     "metadata": {},
     "output_type": "execute_result"
    },
    {
     "data": {
      "text/plain": [
       "Epoch  20: 90.9161% | 91.7555%\n"
      ]
     },
     "execution_count": 8,
     "metadata": {},
     "output_type": "execute_result"
    },
    {
     "data": {
      "text/plain": [
       "Epoch  21: 91.2241% | 91.9687%\n"
      ]
     },
     "execution_count": 8,
     "metadata": {},
     "output_type": "execute_result"
    },
    {
     "data": {
      "text/plain": [
       "Epoch  22: 91.5065% | 92.1944%\n"
      ]
     },
     "execution_count": 8,
     "metadata": {},
     "output_type": "execute_result"
    },
    {
     "data": {
      "text/plain": [
       "Epoch  23: 91.7894% | 92.4633%\n"
      ]
     },
     "execution_count": 8,
     "metadata": {},
     "output_type": "execute_result"
    },
    {
     "data": {
      "text/plain": [
       "Epoch  24: 92.0089% | 92.6976%\n"
      ]
     },
     "execution_count": 8,
     "metadata": {},
     "output_type": "execute_result"
    },
    {
     "data": {
      "text/plain": [
       "Epoch  25: 92.2536% | 92.8437%\n"
      ]
     },
     "execution_count": 8,
     "metadata": {},
     "output_type": "execute_result"
    },
    {
     "data": {
      "text/plain": [
       "Epoch  26: 92.4417% | 92.9755%\n"
      ]
     },
     "execution_count": 8,
     "metadata": {},
     "output_type": "execute_result"
    },
    {
     "data": {
      "text/plain": [
       "Epoch  27: 92.6441% | 93.2463%\n"
      ]
     },
     "execution_count": 8,
     "metadata": {},
     "output_type": "execute_result"
    },
    {
     "data": {
      "text/plain": [
       "Epoch  28: 92.8236% | 93.3880%\n"
      ]
     },
     "execution_count": 8,
     "metadata": {},
     "output_type": "execute_result"
    },
    {
     "data": {
      "text/plain": [
       "Epoch  29: 93.0016% | 93.5379%\n"
      ]
     },
     "execution_count": 8,
     "metadata": {},
     "output_type": "execute_result"
    },
    {
     "data": {
      "text/plain": [
       "Epoch  30: 93.1623% | 93.7835%\n"
      ]
     },
     "execution_count": 8,
     "metadata": {},
     "output_type": "execute_result"
    },
    {
     "data": {
      "text/plain": [
       "Epoch  31: 93.3005% | 93.9044%\n"
      ]
     },
     "execution_count": 8,
     "metadata": {},
     "output_type": "execute_result"
    },
    {
     "data": {
      "text/plain": [
       "Epoch  32: 93.4847% | 94.0654%\n",
       "ConfusionMatrix:\n",
       "[[    5755       1      18      11       6      29      41       8      44      10]   97.164% \t[class: 1]\n",
       " [       0    6554      54      26      10      22       7      14      44      11]   97.212% \t[class: 2]\n",
       " [      41      31    5514      66      82      16      37      72      89      10]   92.548% \t[class: 3]\n",
       " [      20      39      94    5586       2     148      10      60     119      53]   91.111% \t[class: 4]\n",
       " [       6      18      35       4    5458       5      54      15      24     223]   93.427% \t[class: 5]\n",
       " [      47      36      22     118      43    4977      75       9      52      42]   91.810% \t[class: 6]\n",
       " [      28      30      16       1      39      62    5718       2      21       1]   96.620% \t[class: 7]\n",
       " [      27      32      90      18      56      10       0    5850      15     167]   93.376% \t[class: 8]\n",
       " [      20      92      63     116      29      69      44      10    5326      82]   91.027% \t[class: 9]\n",
       " [      30      27      16      87     146      21       2     188      45    5387]]  90.553% \t[class: 10]\n",
       " + average row correct: 93.484681844711% \n",
       " + average rowUcol correct (VOC measure): 87.847275137901% \n",
       " + global correct: 93.541666666667%\t\n",
       "ConfusionMatrix:\n",
       "[[     968       0       1       0       0       3       5       1       2       0]   98.776% \t[class: 1]\n",
       " [       0    1115       3       2       0       1       3       0      11       0]   98.238% \t[class: 2]\n",
       " [      13       1     952      10       9       2       8      15      21       1]   92.248% \t[class: 3]\n",
       " [       4       1      13     948       0      12       0      10      14       8]   93.861% \t[class: 4]\n",
       " [       1       1       4       0     915       0      11       2       5      43]   93.177% \t[class: 5]\n",
       " [       9       3       2      20       7     831       7       2       7       4]   93.161% \t[class: 6]\n",
       " [       8       4       2       0      10      19     913       0       2       0]   95.303% \t[class: 7]\n",
       " [       2       7      19       5       9       0       0     943       4      39]   91.732% \t[class: 8]\n",
       " [       5       3       4      17       9      13       8       9     895      11]   91.889% \t[class: 9]\n",
       " [      10       5       5       8      24      12       0       9       5     931]]  92.270% \t[class: 10]\n",
       " + average row correct: 94.065439105034% \n",
       " + average rowUcol correct (VOC measure): 88.842677474022% \n",
       " + global correct: 94.11%\t\n",
       "Cycling with threshold 0.7"
      ]
     },
     "execution_count": 8,
     "metadata": {},
     "output_type": "execute_result"
    },
    {
     "data": {
      "text/plain": [
       "Channel 1 mean: 25.509416422526 stdev: 70.180423838273\t\n"
      ]
     },
     "execution_count": 8,
     "metadata": {},
     "output_type": "execute_result"
    },
    {
     "data": {
      "text/plain": [
       "Channel 1 mean: 25.87140625 stdev: 70.739298703524\t\n"
      ]
     },
     "execution_count": 8,
     "metadata": {},
     "output_type": "execute_result"
    },
    {
     "data": {
      "text/plain": [
       "Epoch   1: 13.3015% | 23.2099%\n"
      ]
     },
     "execution_count": 8,
     "metadata": {},
     "output_type": "execute_result"
    },
    {
     "data": {
      "text/plain": [
       "Epoch   2: 33.9785% | 45.8012%\n"
      ]
     },
     "execution_count": 8,
     "metadata": {},
     "output_type": "execute_result"
    },
    {
     "data": {
      "text/plain": [
       "Epoch   3: 53.8702% | 61.2258%\n"
      ]
     },
     "execution_count": 8,
     "metadata": {},
     "output_type": "execute_result"
    },
    {
     "data": {
      "text/plain": [
       "Epoch   4: 63.2890% | 67.0691%\n"
      ]
     },
     "execution_count": 8,
     "metadata": {},
     "output_type": "execute_result"
    },
    {
     "data": {
      "text/plain": [
       "Epoch   5: 68.1213% | 71.7581%\n"
      ]
     },
     "execution_count": 8,
     "metadata": {},
     "output_type": "execute_result"
    },
    {
     "data": {
      "text/plain": [
       "Epoch   6: 73.5072% | 77.4981%\n"
      ]
     },
     "execution_count": 8,
     "metadata": {},
     "output_type": "execute_result"
    },
    {
     "data": {
      "text/plain": [
       "Epoch   7: 78.7607% | 81.5097%\n"
      ]
     },
     "execution_count": 8,
     "metadata": {},
     "output_type": "execute_result"
    },
    {
     "data": {
      "text/plain": [
       "Epoch   8: 82.0757% | 83.9161%\n"
      ]
     },
     "execution_count": 8,
     "metadata": {},
     "output_type": "execute_result"
    },
    {
     "data": {
      "text/plain": [
       "Epoch   9: 84.3076% | 85.7737%\n"
      ]
     },
     "execution_count": 8,
     "metadata": {},
     "output_type": "execute_result"
    },
    {
     "data": {
      "text/plain": [
       "Epoch  10: 85.8498% | 87.0067%\n"
      ]
     },
     "execution_count": 8,
     "metadata": {},
     "output_type": "execute_result"
    },
    {
     "data": {
      "text/plain": [
       "Epoch  11: 86.9856% | 88.0125%\n"
      ]
     },
     "execution_count": 8,
     "metadata": {},
     "output_type": "execute_result"
    },
    {
     "data": {
      "text/plain": [
       "Epoch  12: 87.8434% | 88.8253%\n"
      ]
     },
     "execution_count": 8,
     "metadata": {},
     "output_type": "execute_result"
    },
    {
     "data": {
      "text/plain": [
       "Epoch  13: 88.5652% | 89.5713%\n"
      ]
     },
     "execution_count": 8,
     "metadata": {},
     "output_type": "execute_result"
    },
    {
     "data": {
      "text/plain": [
       "Epoch  14: 89.1961% | 90.0695%\n"
      ]
     },
     "execution_count": 8,
     "metadata": {},
     "output_type": "execute_result"
    },
    {
     "data": {
      "text/plain": [
       "Epoch  15: 89.7317% | 90.5640%\n"
      ]
     },
     "execution_count": 8,
     "metadata": {},
     "output_type": "execute_result"
    },
    {
     "data": {
      "text/plain": [
       "Epoch  16: 90.1970% | 90.9185%\n"
      ]
     },
     "execution_count": 8,
     "metadata": {},
     "output_type": "execute_result"
    },
    {
     "data": {
      "text/plain": [
       "Epoch  17: 90.5853% | 91.2705%\n"
      ]
     },
     "execution_count": 8,
     "metadata": {},
     "output_type": "execute_result"
    },
    {
     "data": {
      "text/plain": [
       "Epoch  18: 90.9091% | 91.6003%\n"
      ]
     },
     "execution_count": 8,
     "metadata": {},
     "output_type": "execute_result"
    },
    {
     "data": {
      "text/plain": [
       "Epoch  19: 91.2674% | 91.9030%\n"
      ]
     },
     "execution_count": 8,
     "metadata": {},
     "output_type": "execute_result"
    },
    {
     "data": {
      "text/plain": [
       "Epoch  20: 91.6095% | 92.1553%\n"
      ]
     },
     "execution_count": 8,
     "metadata": {},
     "output_type": "execute_result"
    },
    {
     "data": {
      "text/plain": [
       "Epoch  21: 91.9059% | 92.4878%\n"
      ]
     },
     "execution_count": 8,
     "metadata": {},
     "output_type": "execute_result"
    },
    {
     "data": {
      "text/plain": [
       "Epoch  22: 92.1549% | 92.7267%\n"
      ]
     },
     "execution_count": 8,
     "metadata": {},
     "output_type": "execute_result"
    },
    {
     "data": {
      "text/plain": [
       "Epoch  23: 92.3999% | 93.0041%\n"
      ]
     },
     "execution_count": 8,
     "metadata": {},
     "output_type": "execute_result"
    },
    {
     "data": {
      "text/plain": [
       "Epoch  24: 92.6263% | 93.2984%\n"
      ]
     },
     "execution_count": 8,
     "metadata": {},
     "output_type": "execute_result"
    },
    {
     "data": {
      "text/plain": [
       "Epoch  25: 92.8650% | 93.5022%\n"
      ]
     },
     "execution_count": 8,
     "metadata": {},
     "output_type": "execute_result"
    },
    {
     "data": {
      "text/plain": [
       "Epoch  26: 93.0551% | 93.6479%\n"
      ]
     },
     "execution_count": 8,
     "metadata": {},
     "output_type": "execute_result"
    },
    {
     "data": {
      "text/plain": [
       "Epoch  27: 93.2708% | 93.7678%\n"
      ]
     },
     "execution_count": 8,
     "metadata": {},
     "output_type": "execute_result"
    },
    {
     "data": {
      "text/plain": [
       "Epoch  28: 93.4412% | 93.9112%\n"
      ]
     },
     "execution_count": 8,
     "metadata": {},
     "output_type": "execute_result"
    },
    {
     "data": {
      "text/plain": [
       "Epoch  29: 93.6326% | 94.0669%\n"
      ]
     },
     "execution_count": 8,
     "metadata": {},
     "output_type": "execute_result"
    },
    {
     "data": {
      "text/plain": [
       "Epoch  30: 93.7911% | 94.2268%\n"
      ]
     },
     "execution_count": 8,
     "metadata": {},
     "output_type": "execute_result"
    },
    {
     "data": {
      "text/plain": [
       "Epoch  31: 93.9461% | 94.4689%\n"
      ]
     },
     "execution_count": 8,
     "metadata": {},
     "output_type": "execute_result"
    },
    {
     "data": {
      "text/plain": [
       "Epoch  32: 94.0699% | 94.6322%\n",
       "ConfusionMatrix:\n",
       "[[    5744       3      19       7       8      25      47       4      62       4]   96.978% \t[class: 1]\n",
       " [       0    6580      44      30       7      21       6       8      40       6]   97.597% \t[class: 2]\n",
       " [      40      33    5545      75      56      11      44      58      80      16]   93.068% \t[class: 3]\n",
       " [      22      29     102    5618       3     152       6      67      87      45]   91.633% \t[class: 4]\n",
       " [       5      16      31       3    5479       2      64       8      24     210]   93.786% \t[class: 5]\n",
       " [      39      25      15     114      24    5055      65       7      43      34]   93.248% \t[class: 6]\n",
       " [      48      21      36       0      39      50    5707       0      17       0]   96.435% \t[class: 7]\n",
       " [      14      31      49      20      38       7       0    5938       8     160]   94.781% \t[class: 8]\n",
       " [      14      79      40     114      26      69      43      15    5370      81]   91.779% \t[class: 9]\n",
       " [      27      23      17      76     142      24       3     147      53    5437]]  91.394% \t[class: 10]\n",
       " + average row correct: 94.069855213165% \n",
       " + average rowUcol correct (VOC measure): 88.869065642357% \n",
       " + global correct: 94.121666666667%\t\n",
       "ConfusionMatrix:\n",
       "[[     965       0       1       1       0       2       7       1       3       0]   98.469% \t[class: 1]\n",
       " [       0    1115       4       2       1       1       3       0       9       0]   98.238% \t[class: 2]\n",
       " [      11       2     967      11       7       1       7       8      15       3]   93.702% \t[class: 3]\n",
       " [       2       1      13     947       0      20       0      13      11       3]   93.762% \t[class: 4]\n",
       " [       1       1       3       1     923       0      13       0       3      37]   93.992% \t[class: 5]\n",
       " [       8       2       2      20       3     839       5       2       7       4]   94.058% \t[class: 6]\n",
       " [      16       3       5       0       6      11     916       0       1       0]   95.616% \t[class: 7]\n",
       " [       1       8      23       6       4       0       0     947       4      35]   92.121% \t[class: 8]\n",
       " [       5       1       4      18       7      12       6       8     902      11]   92.608% \t[class: 9]\n",
       " [       9       7       2       8      15       5       0       8       9     946]]  93.756% \t[class: 10]\n",
       " + average row correct: 94.632182717323% \n",
       " + average rowUcol correct (VOC measure): 89.846197962761% \n",
       " + global correct: 94.67%\t\n",
       "Cycling with threshold 0.8"
      ]
     },
     "execution_count": 8,
     "metadata": {},
     "output_type": "execute_result"
    },
    {
     "data": {
      "text/plain": [
       "Channel 1 mean: 25.509416422526 stdev: 70.180423838273\t\n"
      ]
     },
     "execution_count": 8,
     "metadata": {},
     "output_type": "execute_result"
    },
    {
     "data": {
      "text/plain": [
       "Channel 1 mean: 25.87140625 stdev: 70.739298703524\t\n"
      ]
     },
     "execution_count": 8,
     "metadata": {},
     "output_type": "execute_result"
    },
    {
     "data": {
      "text/plain": [
       "Epoch   1: 14.0482% | 24.1726%\n"
      ]
     },
     "execution_count": 8,
     "metadata": {},
     "output_type": "execute_result"
    },
    {
     "data": {
      "text/plain": [
       "Epoch   2: 32.2212% | 43.5079%\n"
      ]
     },
     "execution_count": 8,
     "metadata": {},
     "output_type": "execute_result"
    },
    {
     "data": {
      "text/plain": [
       "Epoch   3: 47.3479% | 53.2097%\n"
      ]
     },
     "execution_count": 8,
     "metadata": {},
     "output_type": "execute_result"
    },
    {
     "data": {
      "text/plain": [
       "Epoch   4: 52.8581% | 55.5639%\n"
      ]
     },
     "execution_count": 8,
     "metadata": {},
     "output_type": "execute_result"
    },
    {
     "data": {
      "text/plain": [
       "Epoch   5: 55.1858% | 58.8556%\n"
      ]
     },
     "execution_count": 8,
     "metadata": {},
     "output_type": "execute_result"
    },
    {
     "data": {
      "text/plain": [
       "Epoch   6: 60.7136% | 66.1930%\n"
      ]
     },
     "execution_count": 8,
     "metadata": {},
     "output_type": "execute_result"
    },
    {
     "data": {
      "text/plain": [
       "Epoch   7: 68.5278% | 73.0385%\n"
      ]
     },
     "execution_count": 8,
     "metadata": {},
     "output_type": "execute_result"
    },
    {
     "data": {
      "text/plain": [
       "Epoch   8: 75.5343% | 79.4818%\n"
      ]
     },
     "execution_count": 8,
     "metadata": {},
     "output_type": "execute_result"
    },
    {
     "data": {
      "text/plain": [
       "Epoch   9: 80.5453% | 83.2161%\n"
      ]
     },
     "execution_count": 8,
     "metadata": {},
     "output_type": "execute_result"
    },
    {
     "data": {
      "text/plain": [
       "Epoch  10: 83.5803% | 85.8257%\n"
      ]
     },
     "execution_count": 8,
     "metadata": {},
     "output_type": "execute_result"
    },
    {
     "data": {
      "text/plain": [
       "Epoch  11: 85.4942% | 87.2199%\n"
      ]
     },
     "execution_count": 8,
     "metadata": {},
     "output_type": "execute_result"
    },
    {
     "data": {
      "text/plain": [
       "Epoch  12: 86.7857% | 88.2774%\n"
      ]
     },
     "execution_count": 8,
     "metadata": {},
     "output_type": "execute_result"
    },
    {
     "data": {
      "text/plain": [
       "Epoch  13: 87.7562% | 89.2032%\n"
      ]
     },
     "execution_count": 8,
     "metadata": {},
     "output_type": "execute_result"
    },
    {
     "data": {
      "text/plain": [
       "Epoch  14: 88.5559% | 89.8330%\n"
      ]
     },
     "execution_count": 8,
     "metadata": {},
     "output_type": "execute_result"
    },
    {
     "data": {
      "text/plain": [
       "Epoch  15: 89.2052% | 90.3776%\n"
      ]
     },
     "execution_count": 8,
     "metadata": {},
     "output_type": "execute_result"
    },
    {
     "data": {
      "text/plain": [
       "Epoch  16: 89.7092% | 90.8076%\n"
      ]
     },
     "execution_count": 8,
     "metadata": {},
     "output_type": "execute_result"
    },
    {
     "data": {
      "text/plain": [
       "Epoch  17: 90.1230% | 91.2664%\n"
      ]
     },
     "execution_count": 8,
     "metadata": {},
     "output_type": "execute_result"
    },
    {
     "data": {
      "text/plain": [
       "Epoch  18: 90.5162% | 91.5182%\n"
      ]
     },
     "execution_count": 8,
     "metadata": {},
     "output_type": "execute_result"
    },
    {
     "data": {
      "text/plain": [
       "Epoch  19: 90.8808% | 91.7727%\n"
      ]
     },
     "execution_count": 8,
     "metadata": {},
     "output_type": "execute_result"
    },
    {
     "data": {
      "text/plain": [
       "Epoch  20: 91.1531% | 92.0589%\n"
      ]
     },
     "execution_count": 8,
     "metadata": {},
     "output_type": "execute_result"
    },
    {
     "data": {
      "text/plain": [
       "Epoch  21: 91.4432% | 92.2545%\n"
      ]
     },
     "execution_count": 8,
     "metadata": {},
     "output_type": "execute_result"
    },
    {
     "data": {
      "text/plain": [
       "Epoch  22: 91.6939% | 92.4868%\n"
      ]
     },
     "execution_count": 8,
     "metadata": {},
     "output_type": "execute_result"
    },
    {
     "data": {
      "text/plain": [
       "Epoch  23: 91.9164% | 92.6617%\n"
      ]
     },
     "execution_count": 8,
     "metadata": {},
     "output_type": "execute_result"
    },
    {
     "data": {
      "text/plain": [
       "Epoch  24: 92.1435% | 92.8688%\n"
      ]
     },
     "execution_count": 8,
     "metadata": {},
     "output_type": "execute_result"
    },
    {
     "data": {
      "text/plain": [
       "Epoch  25: 92.3733% | 93.0790%\n"
      ]
     },
     "execution_count": 8,
     "metadata": {},
     "output_type": "execute_result"
    },
    {
     "data": {
      "text/plain": [
       "Epoch  26: 92.5770% | 93.2927%\n"
      ]
     },
     "execution_count": 8,
     "metadata": {},
     "output_type": "execute_result"
    },
    {
     "data": {
      "text/plain": [
       "Epoch  27: 92.7874% | 93.4242%\n"
      ]
     },
     "execution_count": 8,
     "metadata": {},
     "output_type": "execute_result"
    },
    {
     "data": {
      "text/plain": [
       "Epoch  28: 92.9797% | 93.6044%\n"
      ]
     },
     "execution_count": 8,
     "metadata": {},
     "output_type": "execute_result"
    },
    {
     "data": {
      "text/plain": [
       "Epoch  29: 93.1426% | 93.7247%\n"
      ]
     },
     "execution_count": 8,
     "metadata": {},
     "output_type": "execute_result"
    },
    {
     "data": {
      "text/plain": [
       "Epoch  30: 93.2908% | 93.8907%\n"
      ]
     },
     "execution_count": 8,
     "metadata": {},
     "output_type": "execute_result"
    },
    {
     "data": {
      "text/plain": [
       "Epoch  31: 93.4199% | 94.0199%\n"
      ]
     },
     "execution_count": 8,
     "metadata": {},
     "output_type": "execute_result"
    },
    {
     "data": {
      "text/plain": [
       "Epoch  32: 93.5803% | 94.1333%\n",
       "ConfusionMatrix:\n",
       "[[    5754       2      19      17       5      20      42       8      45      11]   97.147% \t[class: 1]\n",
       " [       1    6585      45      24      10      12      12      10      34       9]   97.671% \t[class: 2]\n",
       " [      34      28    5468      89      85      11      56      77      85      25]   91.776% \t[class: 3]\n",
       " [      21      29     120    5621       3     107      14      60     106      50]   91.682% \t[class: 4]\n",
       " [       5      18      26       1    5469       2      59      13      27     222]   93.615% \t[class: 5]\n",
       " [      34      32      25      88      22    5008      85       9      70      48]   92.381% \t[class: 6]\n",
       " [      35      21      28       0      54      67    5694       0      18       1]   96.215% \t[class: 7]\n",
       " [      19      26      88      12      35      11       0    5862      12     200]   93.567% \t[class: 8]\n",
       " [      23      62      58     133      25      81      36      14    5328      91]   91.061% \t[class: 9]\n",
       " [      30      23      27      81     148      27       2     162      54    5395]]  90.688% \t[class: 10]\n",
       " + average row correct: 93.580332994461% \n",
       " + average rowUcol correct (VOC measure): 88.027096986771% \n",
       " + global correct: 93.64%\t\n",
       "ConfusionMatrix:\n",
       "[[     965       0       1       2       0       3       5       1       3       0]   98.469% \t[class: 1]\n",
       " [       0    1113       3       2       0       1       5       0      11       0]   98.062% \t[class: 2]\n",
       " [      11       2     953      14      11       1      10      13      15       2]   92.345% \t[class: 3]\n",
       " [       1       1      14     954       0      10       0      13      14       3]   94.455% \t[class: 4]\n",
       " [       1       1       3       0     928       0       9       1       5      34]   94.501% \t[class: 5]\n",
       " [       9       3       2      16       3     834      10       1       9       5]   93.498% \t[class: 6]\n",
       " [       9       3       3       2       9      17     912       0       3       0]   95.198% \t[class: 7]\n",
       " [       2       6      27       4       3       1       0     935       3      47]   90.953% \t[class: 8]\n",
       " [       8       1       3      20       8      14       8       8     892      12]   91.581% \t[class: 9]\n",
       " [      12       6       4       9      21       6       0      11       9     931]]  92.270% \t[class: 10]\n",
       " + average row correct: 94.133256673813% \n",
       " + average rowUcol correct (VOC measure): 88.960282206535% \n",
       " + global correct: 94.17%\t\n",
       "Cycling with threshold 0.9"
      ]
     },
     "execution_count": 8,
     "metadata": {},
     "output_type": "execute_result"
    },
    {
     "data": {
      "text/plain": [
       "Channel 1 mean: 25.509416422526 stdev: 70.180423838273\t\n"
      ]
     },
     "execution_count": 8,
     "metadata": {},
     "output_type": "execute_result"
    },
    {
     "data": {
      "text/plain": [
       "Channel 1 mean: 25.87140625 stdev: 70.739298703524\t\n"
      ]
     },
     "execution_count": 8,
     "metadata": {},
     "output_type": "execute_result"
    },
    {
     "data": {
      "text/plain": [
       "Epoch   1: 9.3618% | 9.9535%\n"
      ]
     },
     "execution_count": 8,
     "metadata": {},
     "output_type": "execute_result"
    },
    {
     "data": {
      "text/plain": [
       "Epoch   2: 11.6769% | 14.1302%\n"
      ]
     },
     "execution_count": 8,
     "metadata": {},
     "output_type": "execute_result"
    },
    {
     "data": {
      "text/plain": [
       "Epoch   3: 19.5419% | 26.2190%\n"
      ]
     },
     "execution_count": 8,
     "metadata": {},
     "output_type": "execute_result"
    },
    {
     "data": {
      "text/plain": [
       "Epoch   4: 34.6779% | 42.2611%\n"
      ]
     },
     "execution_count": 8,
     "metadata": {},
     "output_type": "execute_result"
    },
    {
     "data": {
      "text/plain": [
       "Epoch   5: 49.3616% | 53.6748%\n"
      ]
     },
     "execution_count": 8,
     "metadata": {},
     "output_type": "execute_result"
    },
    {
     "data": {
      "text/plain": [
       "Epoch   6: 59.3881% | 62.0701%\n"
      ]
     },
     "execution_count": 8,
     "metadata": {},
     "output_type": "execute_result"
    },
    {
     "data": {
      "text/plain": [
       "Epoch   7: 64.6808% | 67.3826%\n"
      ]
     },
     "execution_count": 8,
     "metadata": {},
     "output_type": "execute_result"
    },
    {
     "data": {
      "text/plain": [
       "Epoch   8: 69.9164% | 74.5086%\n"
      ]
     },
     "execution_count": 8,
     "metadata": {},
     "output_type": "execute_result"
    },
    {
     "data": {
      "text/plain": [
       "Epoch   9: 77.1755% | 81.1424%\n"
      ]
     },
     "execution_count": 8,
     "metadata": {},
     "output_type": "execute_result"
    },
    {
     "data": {
      "text/plain": [
       "Epoch  10: 82.2572% | 84.8755%\n"
      ]
     },
     "execution_count": 8,
     "metadata": {},
     "output_type": "execute_result"
    },
    {
     "data": {
      "text/plain": [
       "Epoch  11: 85.1242% | 86.9819%\n"
      ]
     },
     "execution_count": 8,
     "metadata": {},
     "output_type": "execute_result"
    },
    {
     "data": {
      "text/plain": [
       "Epoch  12: 86.7937% | 88.4941%\n"
      ]
     },
     "execution_count": 8,
     "metadata": {},
     "output_type": "execute_result"
    },
    {
     "data": {
      "text/plain": [
       "Epoch  13: 88.0699% | 89.6803%\n"
      ]
     },
     "execution_count": 8,
     "metadata": {},
     "output_type": "execute_result"
    },
    {
     "data": {
      "text/plain": [
       "Epoch  14: 88.9782% | 90.4496%\n"
      ]
     },
     "execution_count": 8,
     "metadata": {},
     "output_type": "execute_result"
    },
    {
     "data": {
      "text/plain": [
       "Epoch  15: 89.6799% | 91.0611%\n"
      ]
     },
     "execution_count": 8,
     "metadata": {},
     "output_type": "execute_result"
    },
    {
     "data": {
      "text/plain": [
       "Epoch  16: 90.2549% | 91.4411%\n"
      ]
     },
     "execution_count": 8,
     "metadata": {},
     "output_type": "execute_result"
    },
    {
     "data": {
      "text/plain": [
       "Epoch  17: 90.7253% | 91.6851%\n"
      ]
     },
     "execution_count": 8,
     "metadata": {},
     "output_type": "execute_result"
    },
    {
     "data": {
      "text/plain": [
       "Epoch  18: 91.1226% | 92.1933%\n"
      ]
     },
     "execution_count": 8,
     "metadata": {},
     "output_type": "execute_result"
    },
    {
     "data": {
      "text/plain": [
       "Epoch  19: 91.4343% | 92.5768%\n"
      ]
     },
     "execution_count": 8,
     "metadata": {},
     "output_type": "execute_result"
    },
    {
     "data": {
      "text/plain": [
       "Epoch  20: 91.8070% | 92.9304%\n"
      ]
     },
     "execution_count": 8,
     "metadata": {},
     "output_type": "execute_result"
    },
    {
     "data": {
      "text/plain": [
       "Epoch  21: 92.1265% | 93.1957%\n"
      ]
     },
     "execution_count": 8,
     "metadata": {},
     "output_type": "execute_result"
    },
    {
     "data": {
      "text/plain": [
       "Epoch  22: 92.3721% | 93.4286%\n"
      ]
     },
     "execution_count": 8,
     "metadata": {},
     "output_type": "execute_result"
    },
    {
     "data": {
      "text/plain": [
       "Epoch  23: 92.5880% | 93.5923%\n"
      ]
     },
     "execution_count": 8,
     "metadata": {},
     "output_type": "execute_result"
    },
    {
     "data": {
      "text/plain": [
       "Epoch  24: 92.8607% | 93.8169%\n"
      ]
     },
     "execution_count": 8,
     "metadata": {},
     "output_type": "execute_result"
    },
    {
     "data": {
      "text/plain": [
       "Epoch  25: 93.0694% | 94.0351%\n"
      ]
     },
     "execution_count": 8,
     "metadata": {},
     "output_type": "execute_result"
    },
    {
     "data": {
      "text/plain": [
       "Epoch  26: 93.2741% | 94.2052%\n"
      ]
     },
     "execution_count": 8,
     "metadata": {},
     "output_type": "execute_result"
    },
    {
     "data": {
      "text/plain": [
       "Epoch  27: 93.4605% | 94.4427%\n"
      ]
     },
     "execution_count": 8,
     "metadata": {},
     "output_type": "execute_result"
    },
    {
     "data": {
      "text/plain": [
       "Epoch  28: 93.6598% | 94.5951%\n"
      ]
     },
     "execution_count": 8,
     "metadata": {},
     "output_type": "execute_result"
    },
    {
     "data": {
      "text/plain": [
       "Epoch  29: 93.8125% | 94.7210%\n"
      ]
     },
     "execution_count": 8,
     "metadata": {},
     "output_type": "execute_result"
    },
    {
     "data": {
      "text/plain": [
       "Epoch  30: 94.0040% | 94.8506%\n"
      ]
     },
     "execution_count": 8,
     "metadata": {},
     "output_type": "execute_result"
    },
    {
     "data": {
      "text/plain": [
       "Epoch  31: 94.1710% | 94.9410%\n"
      ]
     },
     "execution_count": 8,
     "metadata": {},
     "output_type": "execute_result"
    },
    {
     "data": {
      "text/plain": [
       "Epoch  32: 94.3170% | 95.0597%\n",
       "ConfusionMatrix:\n",
       "[[    5764       1      15      10       7      15      36      10      56       9]   97.316% \t[class: 1]\n",
       " [       0    6570      50      22      12      17       8      13      43       7]   97.449% \t[class: 2]\n",
       " [      36      36    5530      68      50      11      42      73      89      23]   92.816% \t[class: 3]\n",
       " [      22      23      87    5679       2     107      12      46     108      45]   92.628% \t[class: 4]\n",
       " [       6      24      28       3    5530       2      35      16      15     183]   94.659% \t[class: 5]\n",
       " [      37      33      18      78      19    5078      57       9      45      47]   93.673% \t[class: 6]\n",
       " [      38      22      15       0      37      59    5723       0      24       0]   96.705% \t[class: 7]\n",
       " [      16      29      74      17      38       6       0    5932      11     142]   94.685% \t[class: 8]\n",
       " [      14      74      65     106      20      65      28       9    5370     100]   91.779% \t[class: 9]\n",
       " [      30      26      25      86     122      25       1     147      46    5441]]  91.461% \t[class: 10]\n",
       " + average row correct: 94.317016601562% \n",
       " + average rowUcol correct (VOC measure): 89.318239688873% \n",
       " + global correct: 94.361666666667%\t\n",
       "ConfusionMatrix:\n",
       "[[     967       0       1       1       0       2       4       1       4       0]   98.673% \t[class: 1]\n",
       " [       0    1109       4       2       1       0       5       1      13       0]   97.709% \t[class: 2]\n",
       " [      15       1     961      10       6       0       4      12      18       5]   93.120% \t[class: 3]\n",
       " [       1       0       8     964       0      11       0       5      17       4]   95.446% \t[class: 4]\n",
       " [       1       3       3       1     936       0       8       2       2      26]   95.316% \t[class: 5]\n",
       " [       6       2       2      12       0     853       3       1       8       5]   95.628% \t[class: 6]\n",
       " [      12       3       3       0       6      13     919       0       2       0]   95.929% \t[class: 7]\n",
       " [       3       9      22       6       5       0       0     948       3      32]   92.218% \t[class: 8]\n",
       " [       7       0       6      15       4      13       5       5     901      18]   92.505% \t[class: 9]\n",
       " [       9       7       4       9      12       8       0       7       4     949]]  94.054% \t[class: 10]\n",
       " + average row correct: 95.059747695923% \n",
       " + average rowUcol correct (VOC measure): 90.604130625725% \n",
       " + global correct: 95.07%\t\n",
       "Cycling with threshold 1.0"
      ]
     },
     "execution_count": 8,
     "metadata": {},
     "output_type": "execute_result"
    },
    {
     "data": {
      "text/plain": [
       "Channel 1 mean: 25.509416422526 stdev: 70.180423838273\t\n"
      ]
     },
     "execution_count": 8,
     "metadata": {},
     "output_type": "execute_result"
    },
    {
     "data": {
      "text/plain": [
       "Channel 1 mean: 25.87140625 stdev: 70.739298703524\t\n"
      ]
     },
     "execution_count": 8,
     "metadata": {},
     "output_type": "execute_result"
    },
    {
     "data": {
      "text/plain": [
       "Epoch   1: 10.4814% | 12.4484%\n"
      ]
     },
     "execution_count": 8,
     "metadata": {},
     "output_type": "execute_result"
    },
    {
     "data": {
      "text/plain": [
       "Epoch   2: 19.3988% | 29.0566%\n"
      ]
     },
     "execution_count": 8,
     "metadata": {},
     "output_type": "execute_result"
    },
    {
     "data": {
      "text/plain": [
       "Epoch   3: 39.5024% | 49.6270%\n"
      ]
     },
     "execution_count": 8,
     "metadata": {},
     "output_type": "execute_result"
    },
    {
     "data": {
      "text/plain": [
       "Epoch   4: 54.4803% | 60.3361%\n"
      ]
     },
     "execution_count": 8,
     "metadata": {},
     "output_type": "execute_result"
    },
    {
     "data": {
      "text/plain": [
       "Epoch   5: 61.3966% | 66.5518%\n"
      ]
     },
     "execution_count": 8,
     "metadata": {},
     "output_type": "execute_result"
    },
    {
     "data": {
      "text/plain": [
       "Epoch   6: 69.0520% | 74.8452%\n"
      ]
     },
     "execution_count": 8,
     "metadata": {},
     "output_type": "execute_result"
    },
    {
     "data": {
      "text/plain": [
       "Epoch   7: 76.5115% | 80.2949%\n"
      ]
     },
     "execution_count": 8,
     "metadata": {},
     "output_type": "execute_result"
    },
    {
     "data": {
      "text/plain": [
       "Epoch   8: 81.0037% | 83.6242%\n"
      ]
     },
     "execution_count": 8,
     "metadata": {},
     "output_type": "execute_result"
    },
    {
     "data": {
      "text/plain": [
       "Epoch   9: 83.6956% | 85.9952%\n"
      ]
     },
     "execution_count": 8,
     "metadata": {},
     "output_type": "execute_result"
    },
    {
     "data": {
      "text/plain": [
       "Epoch  10: 85.3921% | 87.2089%\n"
      ]
     },
     "execution_count": 8,
     "metadata": {},
     "output_type": "execute_result"
    },
    {
     "data": {
      "text/plain": [
       "Epoch  11: 86.5362% | 88.2856%\n"
      ]
     },
     "execution_count": 8,
     "metadata": {},
     "output_type": "execute_result"
    },
    {
     "data": {
      "text/plain": [
       "Epoch  12: 87.5338% | 88.8501%\n"
      ]
     },
     "execution_count": 8,
     "metadata": {},
     "output_type": "execute_result"
    },
    {
     "data": {
      "text/plain": [
       "Epoch  13: 88.2861% | 89.6327%\n"
      ]
     },
     "execution_count": 8,
     "metadata": {},
     "output_type": "execute_result"
    },
    {
     "data": {
      "text/plain": [
       "Epoch  14: 88.8929% | 90.0299%\n"
      ]
     },
     "execution_count": 8,
     "metadata": {},
     "output_type": "execute_result"
    },
    {
     "data": {
      "text/plain": [
       "Epoch  15: 89.3678% | 90.3385%\n"
      ]
     },
     "execution_count": 8,
     "metadata": {},
     "output_type": "execute_result"
    },
    {
     "data": {
      "text/plain": [
       "Epoch  16: 89.7805% | 90.6190%\n"
      ]
     },
     "execution_count": 8,
     "metadata": {},
     "output_type": "execute_result"
    },
    {
     "data": {
      "text/plain": [
       "Epoch  17: 90.1460% | 91.0047%\n"
      ]
     },
     "execution_count": 8,
     "metadata": {},
     "output_type": "execute_result"
    },
    {
     "data": {
      "text/plain": [
       "Epoch  18: 90.4398% | 91.2803%\n"
      ]
     },
     "execution_count": 8,
     "metadata": {},
     "output_type": "execute_result"
    },
    {
     "data": {
      "text/plain": [
       "Epoch  19: 90.6685% | 91.5832%\n"
      ]
     },
     "execution_count": 8,
     "metadata": {},
     "output_type": "execute_result"
    },
    {
     "data": {
      "text/plain": [
       "Epoch  20: 90.9426% | 91.8064%\n"
      ]
     },
     "execution_count": 8,
     "metadata": {},
     "output_type": "execute_result"
    },
    {
     "data": {
      "text/plain": [
       "Epoch  21: 91.2186% | 92.0603%\n"
      ]
     },
     "execution_count": 8,
     "metadata": {},
     "output_type": "execute_result"
    },
    {
     "data": {
      "text/plain": [
       "Epoch  22: 91.4680% | 92.2817%\n"
      ]
     },
     "execution_count": 8,
     "metadata": {},
     "output_type": "execute_result"
    },
    {
     "data": {
      "text/plain": [
       "Epoch  23: 91.6909% | 92.4552%\n"
      ]
     },
     "execution_count": 8,
     "metadata": {},
     "output_type": "execute_result"
    },
    {
     "data": {
      "text/plain": [
       "Epoch  24: 91.9070% | 92.6283%\n"
      ]
     },
     "execution_count": 8,
     "metadata": {},
     "output_type": "execute_result"
    },
    {
     "data": {
      "text/plain": [
       "Epoch  25: 92.1245% | 92.7820%\n"
      ]
     },
     "execution_count": 8,
     "metadata": {},
     "output_type": "execute_result"
    },
    {
     "data": {
      "text/plain": [
       "Epoch  26: 92.2955% | 92.9979%\n"
      ]
     },
     "execution_count": 8,
     "metadata": {},
     "output_type": "execute_result"
    },
    {
     "data": {
      "text/plain": [
       "Epoch  27: 92.4595% | 93.2178%\n"
      ]
     },
     "execution_count": 8,
     "metadata": {},
     "output_type": "execute_result"
    },
    {
     "data": {
      "text/plain": [
       "Epoch  28: 92.6080% | 93.3937%\n"
      ]
     },
     "execution_count": 8,
     "metadata": {},
     "output_type": "execute_result"
    },
    {
     "data": {
      "text/plain": [
       "Epoch  29: 92.7675% | 93.5589%\n"
      ]
     },
     "execution_count": 8,
     "metadata": {},
     "output_type": "execute_result"
    },
    {
     "data": {
      "text/plain": [
       "Epoch  30: 92.9395% | 93.6719%\n"
      ]
     },
     "execution_count": 8,
     "metadata": {},
     "output_type": "execute_result"
    },
    {
     "data": {
      "text/plain": [
       "Epoch  31: 93.0954% | 93.8348%\n"
      ]
     },
     "execution_count": 8,
     "metadata": {},
     "output_type": "execute_result"
    },
    {
     "data": {
      "text/plain": [
       "Epoch  32: 93.2432% | 93.9328%\n",
       "ConfusionMatrix:\n",
       "[[    5743       2      17      16       6      32      39       9      43      16]   96.961% \t[class: 1]\n",
       " [       0    6559      44      19       7      22       6      15      60      10]   97.286% \t[class: 2]\n",
       " [      37      45    5502      67      81      11      53      89      63      10]   92.346% \t[class: 3]\n",
       " [      32      38      95    5574       1     149      21      63     103      55]   90.915% \t[class: 4]\n",
       " [       4      21      44       3    5429       2      64      10      22     243]   92.931% \t[class: 5]\n",
       " [      56      38      16     106      34    4952      98      14      56      51]   91.348% \t[class: 6]\n",
       " [      45      24      29       3      42      86    5670       0      18       1]   95.809% \t[class: 7]\n",
       " [      16      42      75      12      43      12       0    5887       8     170]   93.966% \t[class: 8]\n",
       " [      23      79      39     148      23      91      40      12    5307      89]   90.702% \t[class: 9]\n",
       " [      35      23      19      74     187      23       3     167      54    5364]]  90.166% \t[class: 10]\n",
       " + average row correct: 93.243180513382% \n",
       " + average rowUcol correct (VOC measure): 87.423701882362% \n",
       " + global correct: 93.311666666667%\t\n",
       "ConfusionMatrix:\n",
       "[[     965       0       1       1       0       5       5       1       2       0]   98.469% \t[class: 1]\n",
       " [       0    1108       4       2       0       1       4       0      16       0]   97.621% \t[class: 2]\n",
       " [       8       3     958      15      10       1       9      13      13       2]   92.829% \t[class: 3]\n",
       " [       2       2       9     949       0      18       0      13      14       3]   93.960% \t[class: 4]\n",
       " [       1       2       4       0     918       0      10       2       3      42]   93.483% \t[class: 5]\n",
       " [      10       3       2      16       4     833      10       2       7       5]   93.386% \t[class: 6]\n",
       " [      12       3       3       2       8      21     905       1       3       0]   94.468% \t[class: 7]\n",
       " [       3      13      24       3       5       0       0     937       3      40]   91.148% \t[class: 8]\n",
       " [       6       1       3      19       8      15       6       9     896      11]   91.992% \t[class: 9]\n",
       " [       8       6       3       8      27       9       0      13       7     928]]  91.972% \t[class: 10]\n",
       " + average row correct: 93.932826519012% \n",
       " + average rowUcol correct (VOC measure): 88.592574596405% \n",
       " + global correct: 93.97%\t\n"
      ]
     },
     "execution_count": 8,
     "metadata": {},
     "output_type": "execute_result"
    }
   ],
   "source": [
    "for _threshold = -1, 1, 0.1 do\n",
    "    cycle(_threshold)\n",
    "end"
   ]
  },
  {
   "cell_type": "code",
   "execution_count": null,
   "metadata": {
    "collapsed": true
   },
   "outputs": [],
   "source": []
  }
 ],
 "metadata": {
  "anaconda-cloud": {},
  "kernelspec": {
   "display_name": "iTorch",
   "language": "lua",
   "name": "itorch"
  },
  "language_info": {
   "name": "lua",
   "version": "5.1"
  }
 },
 "nbformat": 4,
 "nbformat_minor": 1
}
