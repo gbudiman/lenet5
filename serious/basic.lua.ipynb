{
 "cells": [
  {
   "cell_type": "code",
   "execution_count": 1,
   "metadata": {
    "collapsed": true
   },
   "outputs": [],
   "source": [
    "require 'nn'\n",
    "require 'optim'\n",
    "\n",
    "torch.manualSeed(0)\n",
    "torch.setnumthreads(4)"
   ]
  },
  {
   "cell_type": "code",
   "execution_count": 2,
   "metadata": {
    "collapsed": true
   },
   "outputs": [],
   "source": [
    "function setup() \n",
    "    classes = { 1, 2, 3, 4, 5, 6, 7, 8, 9, 10 }\n",
    "    geometry = { 32, 32 }\n",
    "\n",
    "    net = nn.Sequential()\n",
    "\n",
    "    net:add(nn.SpatialConvolution(1, 6, 5, 5))\n",
    "    net:add(nn.ReLU())\n",
    "    net:add(nn.SpatialMaxPooling(2, 2, 2, 2))\n",
    "\n",
    "    net:add(nn.SpatialConvolution(6, 16, 5, 5))\n",
    "    net:add(nn.ReLU())\n",
    "    net:add(nn.SpatialMaxPooling(2, 2, 2, 2))\n",
    "\n",
    "    net:add(nn.View(16*5*5))\n",
    "    net:add(nn.Linear(16*5*5, 120))\n",
    "    net:add(nn.ReLU())\n",
    "    net:add(nn.Linear(120, 84))\n",
    "    net:add(nn.ReLU())\n",
    "    net:add(nn.Linear(84, #classes))\n",
    "    net:add(nn.LogSoftMax())\n",
    "    \n",
    "    parameters, gradParameters = net:getParameters()\n",
    "    criterion = nn.ClassNLLCriterion()\n",
    "    confusion = optim.ConfusionMatrix(classes)\n",
    "end"
   ]
  },
  {
   "cell_type": "code",
   "execution_count": 3,
   "metadata": {
    "collapsed": true
   },
   "outputs": [],
   "source": [
    "function normalize(input, n_channels)\n",
    "    local mean = {}\n",
    "    local stdev = {}\n",
    "    \n",
    "    for channel = 1, n_channels do\n",
    "        mean[channel] = input.data[{ {}, {channel}, {}, {} }]:mean()\n",
    "        stdev[channel] = input.data[{ {}, {channel}, {}, {} }]:std()\n",
    "        \n",
    "        print('Channel ' .. channel .. ' mean: ' .. mean[channel] .. ' stdev: ' .. stdev[channel])\n",
    "        \n",
    "        input.data[{ {}, {channel}, {}, {} }]:add(-mean[channel])\n",
    "        input.data[{ {}, {channel}, {}, {} }]:div(stdev[channel])\n",
    "    end\n",
    "end"
   ]
  },
  {
   "cell_type": "code",
   "execution_count": 4,
   "metadata": {
    "collapsed": true
   },
   "outputs": [],
   "source": [
    "function load_data()    \n",
    "    train = torch.load('mnist-p1b-train.t7')\n",
    "    test = torch.load('mnist-p1b-test.t7')\n",
    "    \n",
    "    n_train = train.data:size()[1]\n",
    "    n_test = test.data:size()[1]\n",
    "    \n",
    "    train.data = train.data:double()\n",
    "    test.data = test.data:double()\n",
    "end"
   ]
  },
  {
   "cell_type": "code",
   "execution_count": 5,
   "metadata": {
    "collapsed": false
   },
   "outputs": [],
   "source": [
    "function exec_training(obj, n_channels, current_epoch) \n",
    "    confusion:zero()\n",
    "    \n",
    "    for t = 1, n_train, batch_size do\n",
    "        local limit = math.min(t + batch_size - 1, n_train)\n",
    "        \n",
    "        local limited_batch_size = limit - t + 1\n",
    "        local inputs = torch.Tensor(limited_batch_size, n_channels, geometry[1], geometry[2])\n",
    "        local targets = torch.Tensor(limited_batch_size)\n",
    "        local k = 1\n",
    "        \n",
    "        for i = t, limit do\n",
    "            local input = obj.data[i]:clone()\n",
    "            local target = obj.label[i]\n",
    "            \n",
    "            inputs[k] = input\n",
    "            targets[k] = target\n",
    "            k = k + 1\n",
    "        end\n",
    "        \n",
    "        local feval = function(x)\n",
    "            collectgarbage()\n",
    "            \n",
    "            if x ~= parameters then\n",
    "                parameters:copy(x)\n",
    "            end\n",
    "            gradParameters:zero()\n",
    "            \n",
    "            local outputs = net:forward(inputs)\n",
    "            local f = criterion:forward(outputs, targets)\n",
    "            local df_do = criterion:backward(outputs, targets)\n",
    "            net:backward(inputs, df_do)\n",
    "            \n",
    "            for i = 1, limited_batch_size do\n",
    "                confusion:add(outputs[i], targets[i])\n",
    "            end\n",
    "            \n",
    "            return f, gradParameters\n",
    "        end\n",
    "        \n",
    "        sgd_state = sgd_state or {\n",
    "            -- default parameter\n",
    "        }\n",
    "        optim.sgd(feval, parameters, sgd_state)\n",
    "    end\n",
    "    \n",
    "    confusion:updateValids()\n",
    "    return confusion.averageValid\n",
    "end"
   ]
  },
  {
   "cell_type": "code",
   "execution_count": 6,
   "metadata": {
    "collapsed": true
   },
   "outputs": [],
   "source": [
    "function exec_testing(obj, n_channels, current_epoch)\n",
    "    confusion:zero()\n",
    "    \n",
    "    for t = 1, n_test, batch_size do\n",
    "        local limit = math.min(t + batch_size - 1, n_test)\n",
    "        \n",
    "        local limited_batch_size = limit - t + 1\n",
    "        local inputs = torch.Tensor(limited_batch_size, n_channels, geometry[1], geometry[2])\n",
    "        local targets = torch.Tensor(limited_batch_size)\n",
    "        local k = 1\n",
    "        \n",
    "        for i = t, limit do\n",
    "            local input = obj.data[i]:clone()\n",
    "            local target = obj.label[i]\n",
    "            \n",
    "            inputs[k] = input\n",
    "            targets[k] = target\n",
    "            k = k + 1\n",
    "        end\n",
    "        \n",
    "        local preds = net:forward(inputs)\n",
    "        \n",
    "        for i = 1, limited_batch_size do\n",
    "            confusion:add(preds[i], targets[i])\n",
    "        end\n",
    "    end \n",
    "    \n",
    "    confusion:updateValids()\n",
    "    return confusion.averageValid\n",
    "end"
   ]
  },
  {
   "cell_type": "code",
   "execution_count": 7,
   "metadata": {
    "collapsed": false
   },
   "outputs": [
    {
     "data": {
      "text/plain": [
       "Channel 1 mean: 25.509416422526 stdev: 70.180423838273\t\n"
      ]
     },
     "execution_count": 7,
     "metadata": {},
     "output_type": "execute_result"
    },
    {
     "data": {
      "text/plain": [
       "Channel 1 mean: 25.87140625 stdev: 70.739298703524\t\n"
      ]
     },
     "execution_count": 7,
     "metadata": {},
     "output_type": "execute_result"
    },
    {
     "data": {
      "text/plain": [
       "Epoch   1: 10.2643% | 10.8571%\n"
      ]
     },
     "execution_count": 7,
     "metadata": {},
     "output_type": "execute_result"
    },
    {
     "data": {
      "text/plain": [
       "Epoch   2: 11.6346% | 12.7210%\n"
      ]
     },
     "execution_count": 7,
     "metadata": {},
     "output_type": "execute_result"
    },
    {
     "data": {
      "text/plain": [
       "Epoch   3: 14.1223% | 17.3499%\n"
      ]
     },
     "execution_count": 7,
     "metadata": {},
     "output_type": "execute_result"
    },
    {
     "data": {
      "text/plain": [
       "Epoch   4: 20.4657% | 24.3337%\n"
      ]
     },
     "execution_count": 7,
     "metadata": {},
     "output_type": "execute_result"
    },
    {
     "data": {
      "text/plain": [
       "Epoch   5: 26.0021% | 27.9034%\n"
      ]
     },
     "execution_count": 7,
     "metadata": {},
     "output_type": "execute_result"
    },
    {
     "data": {
      "text/plain": [
       "Epoch   6: 29.2847% | 30.9846%\n"
      ]
     },
     "execution_count": 7,
     "metadata": {},
     "output_type": "execute_result"
    },
    {
     "data": {
      "text/plain": [
       "Epoch   7: 33.2610% | 36.0922%\n"
      ]
     },
     "execution_count": 7,
     "metadata": {},
     "output_type": "execute_result"
    },
    {
     "data": {
      "text/plain": [
       "Epoch   8: 39.1443% | 43.0193%\n"
      ]
     },
     "execution_count": 7,
     "metadata": {},
     "output_type": "execute_result"
    },
    {
     "data": {
      "text/plain": [
       "Epoch   9: 46.6054% | 51.4180%\n"
      ]
     },
     "execution_count": 7,
     "metadata": {},
     "output_type": "execute_result"
    },
    {
     "data": {
      "text/plain": [
       "Epoch  10: 55.8640% | 61.8424%\n"
      ]
     },
     "execution_count": 7,
     "metadata": {},
     "output_type": "execute_result"
    },
    {
     "data": {
      "text/plain": [
       "Epoch  11: 65.2546% | 70.9439%\n"
      ]
     },
     "execution_count": 7,
     "metadata": {},
     "output_type": "execute_result"
    },
    {
     "data": {
      "text/plain": [
       "Epoch  12: 73.7239% | 78.8196%\n"
      ]
     },
     "execution_count": 7,
     "metadata": {},
     "output_type": "execute_result"
    },
    {
     "data": {
      "text/plain": [
       "Epoch  13: 78.9270% | 82.0469%\n"
      ]
     },
     "execution_count": 7,
     "metadata": {},
     "output_type": "execute_result"
    },
    {
     "data": {
      "text/plain": [
       "Epoch  14: 81.7246% | 83.9573%\n"
      ]
     },
     "execution_count": 7,
     "metadata": {},
     "output_type": "execute_result"
    },
    {
     "data": {
      "text/plain": [
       "Epoch  15: 83.5813% | 85.1635%\n"
      ]
     },
     "execution_count": 7,
     "metadata": {},
     "output_type": "execute_result"
    },
    {
     "data": {
      "text/plain": [
       "Epoch  16: 84.8827% | 86.2330%\n"
      ]
     },
     "execution_count": 7,
     "metadata": {},
     "output_type": "execute_result"
    },
    {
     "data": {
      "text/plain": [
       "Epoch  17: 85.9751% | 87.1243%\n"
      ]
     },
     "execution_count": 7,
     "metadata": {},
     "output_type": "execute_result"
    },
    {
     "data": {
      "text/plain": [
       "Epoch  18: 86.7504% | 87.7464%\n"
      ]
     },
     "execution_count": 7,
     "metadata": {},
     "output_type": "execute_result"
    },
    {
     "data": {
      "text/plain": [
       "Epoch  19: 87.4073% | 88.4504%\n"
      ]
     },
     "execution_count": 7,
     "metadata": {},
     "output_type": "execute_result"
    },
    {
     "data": {
      "text/plain": [
       "Epoch  20: 88.0097% | 88.9167%\n"
      ]
     },
     "execution_count": 7,
     "metadata": {},
     "output_type": "execute_result"
    },
    {
     "data": {
      "text/plain": [
       "Epoch  21: 88.5033% | 89.4261%\n"
      ]
     },
     "execution_count": 7,
     "metadata": {},
     "output_type": "execute_result"
    },
    {
     "data": {
      "text/plain": [
       "Epoch  22: 88.9600% | 89.8560%\n"
      ]
     },
     "execution_count": 7,
     "metadata": {},
     "output_type": "execute_result"
    },
    {
     "data": {
      "text/plain": [
       "Epoch  23: 89.4188% | 90.2861%\n"
      ]
     },
     "execution_count": 7,
     "metadata": {},
     "output_type": "execute_result"
    },
    {
     "data": {
      "text/plain": [
       "Epoch  24: 89.7933% | 90.6134%\n"
      ]
     },
     "execution_count": 7,
     "metadata": {},
     "output_type": "execute_result"
    },
    {
     "data": {
      "text/plain": [
       "Epoch  25: 90.0960% | 90.9752%\n"
      ]
     },
     "execution_count": 7,
     "metadata": {},
     "output_type": "execute_result"
    },
    {
     "data": {
      "text/plain": [
       "Epoch  26: 90.3860% | 91.2019%\n"
      ]
     },
     "execution_count": 7,
     "metadata": {},
     "output_type": "execute_result"
    },
    {
     "data": {
      "text/plain": [
       "Epoch  27: 90.6327% | 91.4346%\n"
      ]
     },
     "execution_count": 7,
     "metadata": {},
     "output_type": "execute_result"
    },
    {
     "data": {
      "text/plain": [
       "Epoch  28: 90.9199% | 91.7120%\n"
      ]
     },
     "execution_count": 7,
     "metadata": {},
     "output_type": "execute_result"
    },
    {
     "data": {
      "text/plain": [
       "Epoch  29: 91.1404% | 91.9135%\n"
      ]
     },
     "execution_count": 7,
     "metadata": {},
     "output_type": "execute_result"
    },
    {
     "data": {
      "text/plain": [
       "Epoch  30: 91.3843% | 92.1653%\n"
      ]
     },
     "execution_count": 7,
     "metadata": {},
     "output_type": "execute_result"
    },
    {
     "data": {
      "text/plain": [
       "Epoch  31: 91.6019% | 92.3194%\n"
      ]
     },
     "execution_count": 7,
     "metadata": {},
     "output_type": "execute_result"
    },
    {
     "data": {
      "text/plain": [
       "Epoch  32: 91.8077% | 92.5503%\n",
       "ConfusionMatrix:\n",
       "[[    5692       1      18       9       6      43      56       9      71      18]   96.100% \t[class: 1]\n",
       " [       0    6540      41      36       6      22       9       9      66      13]   97.004% \t[class: 2]\n",
       " [      50      40    5326      96     104      29      79      93     104      37]   89.392% \t[class: 3]\n",
       " [      15      46     128    5492       2     191      14      72     106      65]   89.578% \t[class: 4]\n",
       " [       7      24      36       3    5325       2     103      14      41     287]   91.150% \t[class: 5]\n",
       " [      43      39      38     151      29    4914      74      10      81      42]   90.647% \t[class: 6]\n",
       " [      49      39      53       0      62      72    5611       0      31       1]   94.812% \t[class: 7]\n",
       " [      27      43      94      20      49      12       0    5751      14     255]   91.796% \t[class: 8]\n",
       " [      25     131      59     130      32      78      45      25    5210     116]   89.045% \t[class: 9]\n",
       " [      39      32      34      86     217      25       3     178      67    5268]]  88.553% \t[class: 10]\n",
       " + average row correct: 91.807697415352% \n",
       " + average rowUcol correct (VOC measure): 84.976772665977% \n",
       " + global correct: 91.881666666667%\t\n",
       "ConfusionMatrix:\n",
       "[[     957       0       2       1       0       7       9       1       3       0]   97.653% \t[class: 1]\n",
       " [       0    1112       3       2       0       1       4       0      13       0]   97.974% \t[class: 2]\n",
       " [      13       3     929      14      14       4      11      14      22       8]   90.019% \t[class: 3]\n",
       " [       2       4      13     934       0      24       0       9      17       7]   92.475% \t[class: 4]\n",
       " [       1       2       3       0     893       0      19       1       7      56]   90.937% \t[class: 5]\n",
       " [       9       3       2      24       3     831       6       2       6       6]   93.161% \t[class: 6]\n",
       " [      12       4       3       2      11      18     906       1       1       0]   94.572% \t[class: 7]\n",
       " [       2      11      29       6       6       1       0     906       4      63]   88.132% \t[class: 8]\n",
       " [      10       8       4      26       8      14      12      11     864      17]   88.706% \t[class: 9]\n",
       " [      12       6       5       9      28       6       0       7       9     927]]  91.873% \t[class: 10]\n",
       " + average row correct: 92.550338506699% \n",
       " + average rowUcol correct (VOC measure): 86.203701496124% \n",
       " + global correct: 92.59%\t\n"
      ]
     },
     "execution_count": 7,
     "metadata": {},
     "output_type": "execute_result"
    }
   ],
   "source": [
    "setup()\n",
    "load_data()\n",
    "normalize(train, 1)\n",
    "normalize(test, 1)\n",
    "\n",
    "n_epoch = 32\n",
    "batch_size = 256\n",
    "local last_train_conf\n",
    "local last_test_conf\n",
    "for epoch = 1, n_epoch do\n",
    "    local acc_train = exec_training(train, 1, epoch)\n",
    "    \n",
    "    if (epoch == n_epoch) then\n",
    "        last_train_conf = confusion:__tostring__()\n",
    "    end\n",
    "    \n",
    "    local acc_test = exec_testing(test, 1, epoch)\n",
    "    \n",
    "    if (epoch == n_epoch) then\n",
    "        last_test_conf = confusion:__tostring__()\n",
    "    end\n",
    "    \n",
    "    io.write(string.format('Epoch %3d: %.4f%% | %.4f%%\\n', epoch, acc_train * 100, acc_test * 100))\n",
    "end\n",
    "\n",
    "print(last_train_conf)\n",
    "print(last_test_conf)"
   ]
  },
  {
   "cell_type": "code",
   "execution_count": null,
   "metadata": {
    "collapsed": true
   },
   "outputs": [],
   "source": []
  }
 ],
 "metadata": {
  "anaconda-cloud": {},
  "kernelspec": {
   "display_name": "iTorch",
   "language": "lua",
   "name": "itorch"
  },
  "language_info": {
   "name": "lua",
   "version": "5.1"
  }
 },
 "nbformat": 4,
 "nbformat_minor": 1
}
