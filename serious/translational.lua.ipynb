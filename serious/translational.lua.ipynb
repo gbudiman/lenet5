{
 "cells": [
  {
   "cell_type": "code",
   "execution_count": 41,
   "metadata": {
    "collapsed": true
   },
   "outputs": [],
   "source": [
    "-- Gloria Budiman\n",
    "-- EE569 HW4\n",
    "-- 6528-1836-50\n",
    "-- 11/25/2016\n",
    "\n",
    "require 'nn'\n",
    "require 'optim'\n",
    "\n",
    "torch.manualSeed(0)\n",
    "torch.setnumthreads(4)"
   ]
  },
  {
   "cell_type": "code",
   "execution_count": 42,
   "metadata": {
    "collapsed": true
   },
   "outputs": [],
   "source": [
    "function setup() \n",
    "    classes = { 1, 2, 3, 4, 5, 6, 7, 8, 9, 10 }\n",
    "    geometry = { 32, 32 }\n",
    "\n",
    "    net = nn.Sequential()\n",
    "\n",
    "    net:add(nn.SpatialConvolution(1, 6, 5, 5))\n",
    "    net:add(nn.ReLU())\n",
    "    net:add(nn.SpatialMaxPooling(2, 2, 2, 2))\n",
    "\n",
    "    net:add(nn.SpatialConvolution(6, 16, 5, 5))\n",
    "    net:add(nn.ReLU())\n",
    "    net:add(nn.SpatialMaxPooling(2, 2, 2, 2))\n",
    "\n",
    "    net:add(nn.View(16*5*5))\n",
    "    net:add(nn.Linear(16*5*5, 120))\n",
    "    net:add(nn.ReLU())\n",
    "    net:add(nn.Linear(120, 84))\n",
    "    net:add(nn.ReLU())\n",
    "    net:add(nn.Linear(84, #classes))\n",
    "    net:add(nn.LogSoftMax())\n",
    "    \n",
    "    parameters, gradParameters = net:getParameters()\n",
    "    criterion = nn.ClassNLLCriterion()\n",
    "    confusion = optim.ConfusionMatrix(classes)\n",
    "end"
   ]
  },
  {
   "cell_type": "code",
   "execution_count": 43,
   "metadata": {
    "collapsed": true
   },
   "outputs": [],
   "source": [
    "function random_translate(obj) \n",
    "    n = torch.Tensor(1, 40, 40):zero()\n",
    "    n[{ {1}, {5, 36}, {5, 36 }}] = obj\n",
    "    \n",
    "    rand_x = torch.random(-6, 6)\n",
    "    rand_y = torch.random(-6, 6)\n",
    "    \n",
    "    n = image.translate(n, rand_x, rand_y)\n",
    "    n = image.crop(n, 4, 4, 36, 36)\n",
    "    return n\n",
    "end"
   ]
  },
  {
   "cell_type": "code",
   "execution_count": 44,
   "metadata": {
    "collapsed": true
   },
   "outputs": [],
   "source": [
    "function normalize(input, n_channels)\n",
    "    local mean = {}\n",
    "    local stdev = {}\n",
    "    \n",
    "    for channel = 1, n_channels do\n",
    "        mean[channel] = input.data[{ {}, {channel}, {}, {} }]:mean()\n",
    "        stdev[channel] = input.data[{ {}, {channel}, {}, {} }]:std()\n",
    "        \n",
    "        print('Channel ' .. channel .. ' mean: ' .. mean[channel] .. ' stdev: ' .. stdev[channel])\n",
    "        \n",
    "        input.data[{ {}, {channel}, {}, {} }]:add(-mean[channel])\n",
    "        input.data[{ {}, {channel}, {}, {} }]:div(stdev[channel])\n",
    "    end\n",
    "end"
   ]
  },
  {
   "cell_type": "code",
   "execution_count": 45,
   "metadata": {
    "collapsed": true
   },
   "outputs": [],
   "source": [
    "function load_data()    \n",
    "    train = torch.load('mnist-p1b-train.t7')\n",
    "    test = torch.load('mnist-p1b-test.t7')\n",
    "    \n",
    "    n_train = train.data:size()[1]\n",
    "    n_test = test.data:size()[1]\n",
    "    \n",
    "    for i = 1, n_test do\n",
    "        test.data[i] = random_translate(test.data[i])\n",
    "    end\n",
    "    \n",
    "    train.data = train.data:double()\n",
    "    test.data = test.data:double()\n",
    "end"
   ]
  },
  {
   "cell_type": "code",
   "execution_count": 46,
   "metadata": {
    "collapsed": false
   },
   "outputs": [],
   "source": [
    "function exec_training(obj, n_channels, current_epoch) \n",
    "    confusion:zero()\n",
    "    \n",
    "    for t = 1, n_train, batch_size do\n",
    "        local limit = math.min(t + batch_size - 1, n_train)\n",
    "        \n",
    "        local limited_batch_size = limit - t + 1\n",
    "        local inputs = torch.Tensor(limited_batch_size, n_channels, geometry[1], geometry[2])\n",
    "        local targets = torch.Tensor(limited_batch_size)\n",
    "        local k = 1\n",
    "        \n",
    "        for i = t, limit do\n",
    "            local input = obj.data[i]:clone()\n",
    "            local target = obj.label[i]\n",
    "            \n",
    "            inputs[k] = input\n",
    "            targets[k] = target\n",
    "            k = k + 1\n",
    "        end\n",
    "        \n",
    "        local feval = function(x)\n",
    "            collectgarbage()\n",
    "            \n",
    "            if x ~= parameters then\n",
    "                parameters:copy(x)\n",
    "            end\n",
    "            gradParameters:zero()\n",
    "            \n",
    "            local outputs = net:forward(inputs)\n",
    "            local f = criterion:forward(outputs, targets)\n",
    "            local df_do = criterion:backward(outputs, targets)\n",
    "            net:backward(inputs, df_do)\n",
    "            \n",
    "            for i = 1, limited_batch_size do\n",
    "                confusion:add(outputs[i], targets[i])\n",
    "            end\n",
    "            \n",
    "            return f, gradParameters\n",
    "        end\n",
    "        \n",
    "        sgd_state = sgd_state or {\n",
    "            learningRate = 0.03,\n",
    "            learningRateDecay = 1e-7,\n",
    "            momentum = 0.5\n",
    "        }\n",
    "        optim.sgd(feval, parameters, sgd_state)\n",
    "    end\n",
    "    \n",
    "    confusion:updateValids()\n",
    "    return confusion.averageValid\n",
    "end"
   ]
  },
  {
   "cell_type": "code",
   "execution_count": 47,
   "metadata": {
    "collapsed": true
   },
   "outputs": [],
   "source": [
    "function exec_testing(obj, n_channels, current_epoch)\n",
    "    confusion:zero()\n",
    "    \n",
    "    for t = 1, n_test, batch_size do\n",
    "        local limit = math.min(t + batch_size - 1, n_test)\n",
    "        \n",
    "        local limited_batch_size = limit - t + 1\n",
    "        local inputs = torch.Tensor(limited_batch_size, n_channels, geometry[1], geometry[2])\n",
    "        local targets = torch.Tensor(limited_batch_size)\n",
    "        local k = 1\n",
    "        \n",
    "        for i = t, limit do\n",
    "            local input = obj.data[i]:clone()\n",
    "            local target = obj.label[i]\n",
    "            \n",
    "            inputs[k] = input\n",
    "            targets[k] = target\n",
    "            k = k + 1\n",
    "        end\n",
    "        \n",
    "        local preds = net:forward(inputs)\n",
    "        \n",
    "        for i = 1, limited_batch_size do\n",
    "            confusion:add(preds[i], targets[i])\n",
    "        end\n",
    "    end \n",
    "    \n",
    "    confusion:updateValids()\n",
    "    return confusion.averageValid\n",
    "end"
   ]
  },
  {
   "cell_type": "code",
   "execution_count": 49,
   "metadata": {
    "collapsed": false,
    "scrolled": false
   },
   "outputs": [
    {
     "data": {
      "text/plain": [
       "Channel 1 mean: 25.509416422526 stdev: 70.180423838273\t\n"
      ]
     },
     "execution_count": 49,
     "metadata": {},
     "output_type": "execute_result"
    },
    {
     "data": {
      "text/plain": [
       "Channel 1 mean: 25.78058671875 stdev: 70.643073560573\t\n"
      ]
     },
     "execution_count": 49,
     "metadata": {},
     "output_type": "execute_result"
    },
    {
     "data": {
      "text/plain": [
       "Epoch   1: 61.5291% | 23.8881%\n"
      ]
     },
     "execution_count": 49,
     "metadata": {},
     "output_type": "execute_result"
    },
    {
     "data": {
      "text/plain": [
       "Epoch   2: 91.3684% | 27.2515%\n"
      ]
     },
     "execution_count": 49,
     "metadata": {},
     "output_type": "execute_result"
    },
    {
     "data": {
      "text/plain": [
       "Epoch   3: 94.8469% | 30.8610%\n"
      ]
     },
     "execution_count": 49,
     "metadata": {},
     "output_type": "execute_result"
    },
    {
     "data": {
      "text/plain": [
       "Epoch   4: 96.3260% | 33.4993%\n"
      ]
     },
     "execution_count": 49,
     "metadata": {},
     "output_type": "execute_result"
    },
    {
     "data": {
      "text/plain": [
       "Epoch   5: 96.9991% | 35.9020%\n"
      ]
     },
     "execution_count": 49,
     "metadata": {},
     "output_type": "execute_result"
    },
    {
     "data": {
      "text/plain": [
       "Epoch   6: 97.4363% | 37.1939%\n"
      ]
     },
     "execution_count": 49,
     "metadata": {},
     "output_type": "execute_result"
    },
    {
     "data": {
      "text/plain": [
       "Epoch   7: 97.7295% | 38.0832%\n"
      ]
     },
     "execution_count": 49,
     "metadata": {},
     "output_type": "execute_result"
    },
    {
     "data": {
      "text/plain": [
       "Epoch   8: 97.9870% | 38.6535%\n"
      ]
     },
     "execution_count": 49,
     "metadata": {},
     "output_type": "execute_result"
    },
    {
     "data": {
      "text/plain": [
       "Epoch   9: 98.1791% | 38.9916%\n"
      ]
     },
     "execution_count": 49,
     "metadata": {},
     "output_type": "execute_result"
    },
    {
     "data": {
      "text/plain": [
       "Epoch  10: 98.3236% | 39.2808%\n"
      ]
     },
     "execution_count": 49,
     "metadata": {},
     "output_type": "execute_result"
    },
    {
     "data": {
      "text/plain": [
       "Epoch  11: 98.4577% | 39.7196%\n"
      ]
     },
     "execution_count": 49,
     "metadata": {},
     "output_type": "execute_result"
    },
    {
     "data": {
      "text/plain": [
       "Epoch  12: 98.5465% | 39.9856%\n"
      ]
     },
     "execution_count": 49,
     "metadata": {},
     "output_type": "execute_result"
    },
    {
     "data": {
      "text/plain": [
       "Epoch  13: 98.6659% | 40.2087%\n"
      ]
     },
     "execution_count": 49,
     "metadata": {},
     "output_type": "execute_result"
    },
    {
     "data": {
      "text/plain": [
       "Epoch  14: 98.7797% | 40.5015%\n"
      ]
     },
     "execution_count": 49,
     "metadata": {},
     "output_type": "execute_result"
    },
    {
     "data": {
      "text/plain": [
       "Epoch  15: 98.8656% | 40.6649%\n"
      ]
     },
     "execution_count": 49,
     "metadata": {},
     "output_type": "execute_result"
    },
    {
     "data": {
      "text/plain": [
       "Epoch  16: 98.9269% | 40.7620%\n"
      ]
     },
     "execution_count": 49,
     "metadata": {},
     "output_type": "execute_result"
    },
    {
     "data": {
      "text/plain": [
       "Epoch  17: 98.9877% | 40.6363%\n"
      ]
     },
     "execution_count": 49,
     "metadata": {},
     "output_type": "execute_result"
    },
    {
     "data": {
      "text/plain": [
       "Epoch  18: 99.0555% | 40.8299%\n"
      ]
     },
     "execution_count": 49,
     "metadata": {},
     "output_type": "execute_result"
    },
    {
     "data": {
      "text/plain": [
       "Epoch  19: 99.1026% | 40.8240%\n"
      ]
     },
     "execution_count": 49,
     "metadata": {},
     "output_type": "execute_result"
    },
    {
     "data": {
      "text/plain": [
       "Epoch  20: 99.1599% | 40.8590%\n"
      ]
     },
     "execution_count": 49,
     "metadata": {},
     "output_type": "execute_result"
    },
    {
     "data": {
      "text/plain": [
       "Epoch  21: 99.2084% | 40.7474%\n"
      ]
     },
     "execution_count": 49,
     "metadata": {},
     "output_type": "execute_result"
    },
    {
     "data": {
      "text/plain": [
       "Epoch  22: 99.2578% | 40.7781%\n"
      ]
     },
     "execution_count": 49,
     "metadata": {},
     "output_type": "execute_result"
    },
    {
     "data": {
      "text/plain": [
       "Epoch  23: 99.3015% | 40.7976%\n"
      ]
     },
     "execution_count": 49,
     "metadata": {},
     "output_type": "execute_result"
    },
    {
     "data": {
      "text/plain": [
       "Epoch  24: 99.3411% | 40.8145%\n"
      ]
     },
     "execution_count": 49,
     "metadata": {},
     "output_type": "execute_result"
    },
    {
     "data": {
      "text/plain": [
       "Epoch  25: 99.3783% | 40.8278%\n"
      ]
     },
     "execution_count": 49,
     "metadata": {},
     "output_type": "execute_result"
    },
    {
     "data": {
      "text/plain": [
       "Epoch  26: 99.4207% | 40.8116%\n"
      ]
     },
     "execution_count": 49,
     "metadata": {},
     "output_type": "execute_result"
    },
    {
     "data": {
      "text/plain": [
       "Epoch  27: 99.4630% | 40.8285%\n"
      ]
     },
     "execution_count": 49,
     "metadata": {},
     "output_type": "execute_result"
    },
    {
     "data": {
      "text/plain": [
       "Epoch  28: 99.4845% | 40.9736%\n"
      ]
     },
     "execution_count": 49,
     "metadata": {},
     "output_type": "execute_result"
    },
    {
     "data": {
      "text/plain": [
       "Epoch  29: 99.5169% | 40.8764%\n"
      ]
     },
     "execution_count": 49,
     "metadata": {},
     "output_type": "execute_result"
    },
    {
     "data": {
      "text/plain": [
       "Epoch  30: 99.5328% | 40.9341%\n"
      ]
     },
     "execution_count": 49,
     "metadata": {},
     "output_type": "execute_result"
    },
    {
     "data": {
      "text/plain": [
       "Epoch  31: 99.5868% | 40.9842%\n"
      ]
     },
     "execution_count": 49,
     "metadata": {},
     "output_type": "execute_result"
    },
    {
     "data": {
      "text/plain": [
       "Epoch  32: 99.5977% | 40.9668%\n",
       "ConfusionMatrix:\n",
       "[[    5917       1       0       0       1       0       3       0       0       1]   99.899% \t[class: 1]\n",
       " [       1    6723       0       0       0       0       2      11       3       2]   99.718% \t[class: 2]\n",
       " [       2       3    5947       1       1       0       1       2       1       0]   99.815% \t[class: 3]\n",
       " [       1       0       4    6099       0       7       0       2      15       3]   99.478% \t[class: 4]\n",
       " [       0       3       0       0    5822       0       2       1       2      12]   99.658% \t[class: 5]\n",
       " [       1       1       0       8       0    5395       8       1       7       0]   99.520% \t[class: 6]\n",
       " [       5       0       1       0       3       5    5902       0       2       0]   99.730% \t[class: 7]\n",
       " [       0       9       4       2       4       0       0    6241       1       4]   99.617% \t[class: 8]\n",
       " [       2       4       5      10       1       7       4       3    5809       6]   99.282% \t[class: 9]\n",
       " [       3       2       0       4      12       3       0      13       7    5905]]  99.260% \t[class: 10]\n",
       " + average row correct: 99.597746729851% \n",
       " + average rowUcol correct (VOC measure): 99.200845956802% \n",
       " + global correct: 99.6%\t\n",
       "ConfusionMatrix:\n",
       "[[     270      25     118      72      94      31     122      52     163      33]   27.551% \t[class: 1]\n",
       " [      22     479      21       0     430       2       8     108      44      21]   42.203% \t[class: 2]\n",
       " [      29      14     522      88     170      48      29      63      43      26]   50.581% \t[class: 3]\n",
       " [      36      14     254     495      47      59      21      27      46      11]   49.010% \t[class: 4]\n",
       " [      20      40     107      29     500      27      50      99     107       3]   50.916% \t[class: 5]\n",
       " [      12       5     124      88      26     428      46      20     119      24]   47.982% \t[class: 6]\n",
       " [      24      58      80       5     245      26     335      12     114      59]   34.969% \t[class: 7]\n",
       " [      31      48     155      49      89     106      23     457      52      18]   44.455% \t[class: 8]\n",
       " [      27      21     100      97     156      50      58      51     378      36]   38.809% \t[class: 9]\n",
       " [      30      27     130      58      81      72     108     108     161     234]]  23.191% \t[class: 10]\n",
       " + average row correct: 40.96677750349% \n",
       " + average rowUcol correct (VOC measure): 26.097192764282% \n",
       " + global correct: 40.98%\t\n"
      ]
     },
     "execution_count": 49,
     "metadata": {},
     "output_type": "execute_result"
    }
   ],
   "source": [
    "setup()\n",
    "load_data()\n",
    "normalize(train, 1)\n",
    "normalize(test, 1)\n",
    "\n",
    "n_epoch = 32\n",
    "batch_size = 256\n",
    "local last_train_conf\n",
    "local last_test_conf\n",
    "for epoch = 1, n_epoch do\n",
    "    local acc_train = exec_training(train, 1, epoch)\n",
    "    \n",
    "    if (epoch == n_epoch) then\n",
    "        last_train_conf = confusion:__tostring__()\n",
    "    end\n",
    "    \n",
    "    local acc_test = exec_testing(test, 1, epoch)\n",
    "    \n",
    "    if (epoch == n_epoch) then\n",
    "        last_test_conf = confusion:__tostring__()\n",
    "    end\n",
    "    \n",
    "    io.write(string.format('Epoch %3d: %.4f%% | %.4f%%\\n', epoch, acc_train * 100, acc_test * 100))\n",
    "end\n",
    "\n",
    "print(last_train_conf)\n",
    "print(last_test_conf)"
   ]
  },
  {
   "cell_type": "code",
   "execution_count": null,
   "metadata": {
    "collapsed": true
   },
   "outputs": [],
   "source": []
  }
 ],
 "metadata": {
  "anaconda-cloud": {},
  "kernelspec": {
   "display_name": "iTorch",
   "language": "lua",
   "name": "itorch"
  },
  "language_info": {
   "name": "lua",
   "version": "5.1"
  }
 },
 "nbformat": 4,
 "nbformat_minor": 1
}
